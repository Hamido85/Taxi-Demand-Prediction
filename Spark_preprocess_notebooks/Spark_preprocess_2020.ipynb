{
 "cells": [
  {
   "cell_type": "markdown",
   "id": "c165e221",
   "metadata": {},
   "source": [
    "# Preprocessing Stage\n",
    "### Processing 2020 Taxi data "
   ]
  },
  {
   "cell_type": "markdown",
   "id": "58e1c258",
   "metadata": {},
   "source": [
    "__This will include the following process:__\n",
    "\n",
    "1- Reading the Taxi data stored in AWS S3 bucket.\n",
    "\n",
    "2- Analyzing the data and cleaning the data.\n",
    "\n",
    "3- Grouping the data in Hourly basis and Make it ready for Modeling\n",
    "\n",
    "4- Saving the transformed data in S3 bucket\n",
    "\n",
    "\n",
    "\n",
    "===============================================================================================\n",
    "\n",
    "\n"
   ]
  },
  {
   "cell_type": "markdown",
   "id": "dd35be18",
   "metadata": {},
   "source": [
    "# 1- Loading the data"
   ]
  },
  {
   "cell_type": "code",
   "execution_count": null,
   "id": "1cd72915",
   "metadata": {},
   "outputs": [],
   "source": [
    "# starting pyspark session"
   ]
  },
  {
   "cell_type": "code",
   "execution_count": 1,
   "id": "81ff4586",
   "metadata": {},
   "outputs": [
    {
     "name": "stdout",
     "output_type": "stream",
     "text": [
      "Starting Spark application\n"
     ]
    },
    {
     "data": {
      "text/html": [
       "<table>\n",
       "<tr><th>ID</th><th>YARN Application ID</th><th>Kind</th><th>State</th><th>Spark UI</th><th>Driver log</th><th>User</th><th>Current session?</th></tr><tr><td>0</td><td>application_1662022518326_0001</td><td>pyspark</td><td>idle</td><td><a target=\"_blank\" href=\"http://ip-172-31-31-125.ec2.internal:20888/proxy/application_1662022518326_0001/\">Link</a></td><td><a target=\"_blank\" href=\"http://ip-172-31-31-212.ec2.internal:8042/node/containerlogs/container_1662022518326_0001_01_000001/livy\">Link</a></td><td>None</td><td>✔</td></tr></table>"
      ],
      "text/plain": [
       "<IPython.core.display.HTML object>"
      ]
     },
     "metadata": {},
     "output_type": "display_data"
    },
    {
     "data": {
      "application/vnd.jupyter.widget-view+json": {
       "model_id": "",
       "version_major": 2,
       "version_minor": 0
      },
      "text/plain": [
       "FloatProgress(value=0.0, bar_style='info', description='Progress:', layout=Layout(height='25px', width='50%'),…"
      ]
     },
     "metadata": {},
     "output_type": "display_data"
    },
    {
     "name": "stdout",
     "output_type": "stream",
     "text": [
      "SparkSession available as 'spark'.\n"
     ]
    },
    {
     "data": {
      "application/vnd.jupyter.widget-view+json": {
       "model_id": "",
       "version_major": 2,
       "version_minor": 0
      },
      "text/plain": [
       "FloatProgress(value=0.0, bar_style='info', description='Progress:', layout=Layout(height='25px', width='50%'),…"
      ]
     },
     "metadata": {},
     "output_type": "display_data"
    }
   ],
   "source": [
    "from pyspark.sql import SparkSession"
   ]
  },
  {
   "cell_type": "code",
   "execution_count": 2,
   "id": "08d94211",
   "metadata": {},
   "outputs": [
    {
     "data": {
      "application/vnd.jupyter.widget-view+json": {
       "model_id": "",
       "version_major": 2,
       "version_minor": 0
      },
      "text/plain": [
       "FloatProgress(value=0.0, bar_style='info', description='Progress:', layout=Layout(height='25px', width='50%'),…"
      ]
     },
     "metadata": {},
     "output_type": "display_data"
    }
   ],
   "source": [
    "spark = SparkSession.builder.appName('cleaning').getOrCreate()"
   ]
  },
  {
   "cell_type": "markdown",
   "id": "6c9413a0",
   "metadata": {},
   "source": [
    "* __2020 taxi consist of 12 parquet files, each file contain a month taxi records data. The files are uploaded in `taxi-project-thesis` AWS Bucket inside `taxi2020` folder. To read all the 12 parquet files together we will use `.coalesce(1)` function in pyspark__"
   ]
  },
  {
   "cell_type": "code",
   "execution_count": 3,
   "id": "f01a5a6e",
   "metadata": {},
   "outputs": [
    {
     "data": {
      "application/vnd.jupyter.widget-view+json": {
       "model_id": "",
       "version_major": 2,
       "version_minor": 0
      },
      "text/plain": [
       "FloatProgress(value=0.0, bar_style='info', description='Progress:', layout=Layout(height='25px', width='50%'),…"
      ]
     },
     "metadata": {},
     "output_type": "display_data"
    }
   ],
   "source": [
    "# reading 12 parquet files together\n",
    "df=spark.read.parquet(\"s3://taxi-project-thesis/taxi2020/*\").coalesce(1)"
   ]
  },
  {
   "cell_type": "code",
   "execution_count": 6,
   "id": "1b61cb03",
   "metadata": {},
   "outputs": [
    {
     "data": {
      "application/vnd.jupyter.widget-view+json": {
       "model_id": "",
       "version_major": 2,
       "version_minor": 0
      },
      "text/plain": [
       "FloatProgress(value=0.0, bar_style='info', description='Progress:', layout=Layout(height='25px', width='50%'),…"
      ]
     },
     "metadata": {},
     "output_type": "display_data"
    },
    {
     "name": "stdout",
     "output_type": "stream",
     "text": [
      "24649092"
     ]
    }
   ],
   "source": [
    "df.count()"
   ]
  },
  {
   "cell_type": "markdown",
   "id": "80d9de59",
   "metadata": {},
   "source": [
    "__The dataframe contains `24649092` taxi trips. Lets analyze these trips.__"
   ]
  },
  {
   "cell_type": "code",
   "execution_count": 7,
   "id": "5dbb3f3d",
   "metadata": {},
   "outputs": [
    {
     "data": {
      "application/vnd.jupyter.widget-view+json": {
       "model_id": "",
       "version_major": 2,
       "version_minor": 0
      },
      "text/plain": [
       "FloatProgress(value=0.0, bar_style='info', description='Progress:', layout=Layout(height='25px', width='50%'),…"
      ]
     },
     "metadata": {},
     "output_type": "display_data"
    },
    {
     "name": "stdout",
     "output_type": "stream",
     "text": [
      "root\n",
      " |-- VendorID: long (nullable = true)\n",
      " |-- tpep_pickup_datetime: timestamp (nullable = true)\n",
      " |-- tpep_dropoff_datetime: timestamp (nullable = true)\n",
      " |-- passenger_count: double (nullable = true)\n",
      " |-- trip_distance: double (nullable = true)\n",
      " |-- RatecodeID: double (nullable = true)\n",
      " |-- store_and_fwd_flag: string (nullable = true)\n",
      " |-- PULocationID: long (nullable = true)\n",
      " |-- DOLocationID: long (nullable = true)\n",
      " |-- payment_type: long (nullable = true)\n",
      " |-- fare_amount: double (nullable = true)\n",
      " |-- extra: double (nullable = true)\n",
      " |-- mta_tax: double (nullable = true)\n",
      " |-- tip_amount: double (nullable = true)\n",
      " |-- tolls_amount: double (nullable = true)\n",
      " |-- improvement_surcharge: double (nullable = true)\n",
      " |-- total_amount: double (nullable = true)\n",
      " |-- congestion_surcharge: double (nullable = true)\n",
      " |-- airport_fee: integer (nullable = true)"
     ]
    }
   ],
   "source": [
    "# checking the features schema\n",
    "df.printSchema()"
   ]
  },
  {
   "cell_type": "code",
   "execution_count": 8,
   "id": "8cfecab3",
   "metadata": {},
   "outputs": [
    {
     "data": {
      "application/vnd.jupyter.widget-view+json": {
       "model_id": "",
       "version_major": 2,
       "version_minor": 0
      },
      "text/plain": [
       "FloatProgress(value=0.0, bar_style='info', description='Progress:', layout=Layout(height='25px', width='50%'),…"
      ]
     },
     "metadata": {},
     "output_type": "display_data"
    }
   ],
   "source": [
    "from pyspark.sql.functions import substring, to_timestamp,hour,dayofyear,month,year,weekofyear,date_format"
   ]
  },
  {
   "cell_type": "markdown",
   "id": "4b4573ff",
   "metadata": {},
   "source": [
    "# 2- Analyzing  and cleaning the data\n",
    "## 2.1 Cleaning incorrect trips using pickup_datetime and dropoff_datetime"
   ]
  },
  {
   "cell_type": "markdown",
   "id": "c6b46bb1",
   "metadata": {},
   "source": [
    "__We need to check are all the trips in the dataframe belong to 2020 ?__\n",
    "\n",
    "* To do that, we will need to create new features from ` Pick-up year`,`Drop-off year`\n"
   ]
  },
  {
   "cell_type": "code",
   "execution_count": 9,
   "id": "f2957643",
   "metadata": {},
   "outputs": [
    {
     "data": {
      "application/vnd.jupyter.widget-view+json": {
       "model_id": "",
       "version_major": 2,
       "version_minor": 0
      },
      "text/plain": [
       "FloatProgress(value=0.0, bar_style='info', description='Progress:', layout=Layout(height='25px', width='50%'),…"
      ]
     },
     "metadata": {},
     "output_type": "display_data"
    }
   ],
   "source": [
    "# adding the pick-up year\n",
    "df_new=df.withColumn('Pick_Year',year(df['tpep_pickup_datetime']))"
   ]
  },
  {
   "cell_type": "code",
   "execution_count": 10,
   "id": "81183c5c",
   "metadata": {},
   "outputs": [
    {
     "data": {
      "application/vnd.jupyter.widget-view+json": {
       "model_id": "",
       "version_major": 2,
       "version_minor": 0
      },
      "text/plain": [
       "FloatProgress(value=0.0, bar_style='info', description='Progress:', layout=Layout(height='25px', width='50%'),…"
      ]
     },
     "metadata": {},
     "output_type": "display_data"
    }
   ],
   "source": [
    "# adding the drop-off year\n",
    "df_new=df_new.withColumn('Drop_Year',year(df_new['tpep_dropoff_datetime']))"
   ]
  },
  {
   "cell_type": "markdown",
   "id": "4ee4fcab",
   "metadata": {},
   "source": [
    "### Cleaning the trips using the pick-up year\n",
    "* We need to extract the unique pick year to see if there are trips available in the dataframe which belong to incorrect years"
   ]
  },
  {
   "cell_type": "code",
   "execution_count": 11,
   "id": "e970fc9f",
   "metadata": {},
   "outputs": [
    {
     "data": {
      "application/vnd.jupyter.widget-view+json": {
       "model_id": "",
       "version_major": 2,
       "version_minor": 0
      },
      "text/plain": [
       "FloatProgress(value=0.0, bar_style='info', description='Progress:', layout=Layout(height='25px', width='50%'),…"
      ]
     },
     "metadata": {},
     "output_type": "display_data"
    },
    {
     "name": "stdout",
     "output_type": "stream",
     "text": [
      "[Row(Pick_Year=2020), Row(Pick_Year=2009), Row(Pick_Year=2008), Row(Pick_Year=2019), Row(Pick_Year=2021), Row(Pick_Year=2003), Row(Pick_Year=2002)]"
     ]
    }
   ],
   "source": [
    "# collecting the distinct values availble in the pick-up year\n",
    "df_new.select('Pick_Year').distinct().collect()"
   ]
  },
  {
   "cell_type": "code",
   "execution_count": 14,
   "id": "81b960a5",
   "metadata": {},
   "outputs": [
    {
     "data": {
      "application/vnd.jupyter.widget-view+json": {
       "model_id": "",
       "version_major": 2,
       "version_minor": 0
      },
      "text/plain": [
       "FloatProgress(value=0.0, bar_style='info', description='Progress:', layout=Layout(height='25px', width='50%'),…"
      ]
     },
     "metadata": {},
     "output_type": "display_data"
    }
   ],
   "source": [
    "from pyspark.sql.functions import *"
   ]
  },
  {
   "cell_type": "code",
   "execution_count": 15,
   "id": "eb7620da",
   "metadata": {},
   "outputs": [
    {
     "data": {
      "application/vnd.jupyter.widget-view+json": {
       "model_id": "",
       "version_major": 2,
       "version_minor": 0
      },
      "text/plain": [
       "FloatProgress(value=0.0, bar_style='info', description='Progress:', layout=Layout(height='25px', width='50%'),…"
      ]
     },
     "metadata": {},
     "output_type": "display_data"
    }
   ],
   "source": [
    "# Saving these distinct values in list\n",
    "pick_year = df_new.select(collect_set('Pick_Year').alias('Pick_Year')).first()['Pick_Year']"
   ]
  },
  {
   "cell_type": "code",
   "execution_count": 16,
   "id": "65283292",
   "metadata": {},
   "outputs": [
    {
     "data": {
      "application/vnd.jupyter.widget-view+json": {
       "model_id": "",
       "version_major": 2,
       "version_minor": 0
      },
      "text/plain": [
       "FloatProgress(value=0.0, bar_style='info', description='Progress:', layout=Layout(height='25px', width='50%'),…"
      ]
     },
     "metadata": {},
     "output_type": "display_data"
    },
    {
     "name": "stdout",
     "output_type": "stream",
     "text": [
      "[2019, 2008, 2020, 2002, 2009, 2021, 2003]"
     ]
    }
   ],
   "source": [
    "pick_year"
   ]
  },
  {
   "cell_type": "markdown",
   "id": "70351ee2",
   "metadata": {},
   "source": [
    "__We have trips which occurred in diffrent years which is not correct. lets analyze these trips__\n",
    "\n",
    "lets see how many trips occured in each year found in the Pick-up column"
   ]
  },
  {
   "cell_type": "code",
   "execution_count": 17,
   "id": "a8cd4805",
   "metadata": {},
   "outputs": [
    {
     "data": {
      "application/vnd.jupyter.widget-view+json": {
       "model_id": "",
       "version_major": 2,
       "version_minor": 0
      },
      "text/plain": [
       "FloatProgress(value=0.0, bar_style='info', description='Progress:', layout=Layout(height='25px', width='50%'),…"
      ]
     },
     "metadata": {},
     "output_type": "display_data"
    },
    {
     "name": "stdout",
     "output_type": "stream",
     "text": [
      "year  2019 131\n",
      "year  2008 32\n",
      "year  2020 24648812\n",
      "year  2002 1\n",
      "year  2009 90\n",
      "year  2021 24\n",
      "year  2003 2"
     ]
    }
   ],
   "source": [
    "for i in (pick_year):\n",
    "    print('year ',i,df_new.filter(df_new['Pick_Year']==i).count())"
   ]
  },
  {
   "cell_type": "markdown",
   "id": "887d864c",
   "metadata": {},
   "source": [
    "__We will remove all the trips not occured in 2020. Its worth noting that there are some trips started in 2019 and ended in 2020. to understand this logic, there might be some trips picked in the last hours of 31-Dec-2019 and droped in first hour of january 2020. So we will keep 2019 trips and 2020 trips for the mean time and delete all the rest__"
   ]
  },
  {
   "cell_type": "code",
   "execution_count": 18,
   "id": "62088b5e",
   "metadata": {},
   "outputs": [
    {
     "data": {
      "application/vnd.jupyter.widget-view+json": {
       "model_id": "",
       "version_major": 2,
       "version_minor": 0
      },
      "text/plain": [
       "FloatProgress(value=0.0, bar_style='info', description='Progress:', layout=Layout(height='25px', width='50%'),…"
      ]
     },
     "metadata": {},
     "output_type": "display_data"
    }
   ],
   "source": [
    "# we will filter out the year 2020 and 2019\n",
    "year_list=[2019,2020]"
   ]
  },
  {
   "cell_type": "code",
   "execution_count": 19,
   "id": "7a2bd495",
   "metadata": {},
   "outputs": [
    {
     "data": {
      "application/vnd.jupyter.widget-view+json": {
       "model_id": "",
       "version_major": 2,
       "version_minor": 0
      },
      "text/plain": [
       "FloatProgress(value=0.0, bar_style='info', description='Progress:', layout=Layout(height='25px', width='50%'),…"
      ]
     },
     "metadata": {},
     "output_type": "display_data"
    }
   ],
   "source": [
    "#filtering only 2019,2020 trips data\n",
    "df_new=df_new.filter(df_new.Pick_Year.isin(year_list))"
   ]
  },
  {
   "cell_type": "code",
   "execution_count": 21,
   "id": "c40c36c2",
   "metadata": {},
   "outputs": [
    {
     "data": {
      "application/vnd.jupyter.widget-view+json": {
       "model_id": "",
       "version_major": 2,
       "version_minor": 0
      },
      "text/plain": [
       "FloatProgress(value=0.0, bar_style='info', description='Progress:', layout=Layout(height='25px', width='50%'),…"
      ]
     },
     "metadata": {},
     "output_type": "display_data"
    },
    {
     "name": "stdout",
     "output_type": "stream",
     "text": [
      "149"
     ]
    }
   ],
   "source": [
    "df.count()-df_new.count()"
   ]
  },
  {
   "cell_type": "markdown",
   "id": "c32f3f12",
   "metadata": {},
   "source": [
    "__There are 149 trips which have been deleted__"
   ]
  },
  {
   "cell_type": "code",
   "execution_count": 20,
   "id": "1b474cb6",
   "metadata": {},
   "outputs": [
    {
     "data": {
      "application/vnd.jupyter.widget-view+json": {
       "model_id": "",
       "version_major": 2,
       "version_minor": 0
      },
      "text/plain": [
       "FloatProgress(value=0.0, bar_style='info', description='Progress:', layout=Layout(height='25px', width='50%'),…"
      ]
     },
     "metadata": {},
     "output_type": "display_data"
    },
    {
     "name": "stdout",
     "output_type": "stream",
     "text": [
      "[Row(Pick_Year=2020), Row(Pick_Year=2019)]"
     ]
    }
   ],
   "source": [
    "# now lets confirm the pick up year in our dataframe\n",
    "df_new.select('Pick_Year').distinct().collect()"
   ]
  },
  {
   "cell_type": "markdown",
   "id": "44b24af9",
   "metadata": {},
   "source": [
    "### Cleaning the trips using the drop-off year\n",
    "\n",
    "The assumption that all the trips should be dropped in 2020 and 2021 is similar to the one mentioned above. Since there are some trips that might be picked during the last hour of the year, they should be dropped in the first hour of 2021.\n",
    "\n",
    "* We need to extract the unique drop year to see if there are incorrect years"
   ]
  },
  {
   "cell_type": "code",
   "execution_count": 22,
   "id": "5f30ace9",
   "metadata": {},
   "outputs": [
    {
     "data": {
      "application/vnd.jupyter.widget-view+json": {
       "model_id": "",
       "version_major": 2,
       "version_minor": 0
      },
      "text/plain": [
       "FloatProgress(value=0.0, bar_style='info', description='Progress:', layout=Layout(height='25px', width='50%'),…"
      ]
     },
     "metadata": {},
     "output_type": "display_data"
    },
    {
     "name": "stdout",
     "output_type": "stream",
     "text": [
      "[Row(Drop_Year=2020), Row(Drop_Year=2019), Row(Drop_Year=2021)]"
     ]
    }
   ],
   "source": [
    "# checking the distinct values in the drop year column\n",
    "df_new.select('Drop_Year').distinct().collect()"
   ]
  },
  {
   "cell_type": "markdown",
   "id": "ba44a63c",
   "metadata": {},
   "source": [
    "__So we have observations which been dropped in 2019. This is incorrect__ only trips which been dropped in 2020 and 2021 should be kept. "
   ]
  },
  {
   "cell_type": "code",
   "execution_count": 23,
   "id": "d7f94ed0",
   "metadata": {},
   "outputs": [
    {
     "data": {
      "application/vnd.jupyter.widget-view+json": {
       "model_id": "",
       "version_major": 2,
       "version_minor": 0
      },
      "text/plain": [
       "FloatProgress(value=0.0, bar_style='info', description='Progress:', layout=Layout(height='25px', width='50%'),…"
      ]
     },
     "metadata": {},
     "output_type": "display_data"
    },
    {
     "name": "stdout",
     "output_type": "stream",
     "text": [
      "70"
     ]
    }
   ],
   "source": [
    "# we will remove the trips which been dropped in 2019\n",
    "df_new.filter(df_new['Drop_Year']==2019).count()"
   ]
  },
  {
   "cell_type": "markdown",
   "id": "3aaf7889",
   "metadata": {},
   "source": [
    "__Now lets check the trips dropped in 2021, is our assumption is correct?__\n",
    "* To do that we will create pick-up month column from `tpep_pickup_datetime` and create Drop-off month column from `tpep_dropoff_datetime`"
   ]
  },
  {
   "cell_type": "code",
   "execution_count": 25,
   "id": "f6a228c2",
   "metadata": {},
   "outputs": [
    {
     "data": {
      "application/vnd.jupyter.widget-view+json": {
       "model_id": "",
       "version_major": 2,
       "version_minor": 0
      },
      "text/plain": [
       "FloatProgress(value=0.0, bar_style='info', description='Progress:', layout=Layout(height='25px', width='50%'),…"
      ]
     },
     "metadata": {},
     "output_type": "display_data"
    },
    {
     "name": "stdout",
     "output_type": "stream",
     "text": [
      "181"
     ]
    }
   ],
   "source": [
    "# checking how many trips have been dropped in 2021\n",
    "df_new.filter((df_new['Pick_Year']==2020) & (df_new['Drop_Year']==2021)).count()"
   ]
  },
  {
   "cell_type": "markdown",
   "id": "778925cb",
   "metadata": {},
   "source": [
    "So there are trips happened in Dec 2020 and dropped in start of Jan 2021"
   ]
  },
  {
   "cell_type": "code",
   "execution_count": 26,
   "id": "c56851a1",
   "metadata": {},
   "outputs": [
    {
     "data": {
      "application/vnd.jupyter.widget-view+json": {
       "model_id": "",
       "version_major": 2,
       "version_minor": 0
      },
      "text/plain": [
       "FloatProgress(value=0.0, bar_style='info', description='Progress:', layout=Layout(height='25px', width='50%'),…"
      ]
     },
     "metadata": {},
     "output_type": "display_data"
    }
   ],
   "source": [
    "# adding pick up month\n",
    "df_new=df_new.withColumn('Pick_month',month(df_new['tpep_pickup_datetime']))"
   ]
  },
  {
   "cell_type": "code",
   "execution_count": 27,
   "id": "3a3118c8",
   "metadata": {},
   "outputs": [
    {
     "data": {
      "application/vnd.jupyter.widget-view+json": {
       "model_id": "",
       "version_major": 2,
       "version_minor": 0
      },
      "text/plain": [
       "FloatProgress(value=0.0, bar_style='info', description='Progress:', layout=Layout(height='25px', width='50%'),…"
      ]
     },
     "metadata": {},
     "output_type": "display_data"
    }
   ],
   "source": [
    "# adding drop month\n",
    "df_new=df_new.withColumn('drop_month',month(df_new['tpep_dropoff_datetime']))"
   ]
  },
  {
   "cell_type": "code",
   "execution_count": 29,
   "id": "30449564",
   "metadata": {},
   "outputs": [
    {
     "data": {
      "application/vnd.jupyter.widget-view+json": {
       "model_id": "",
       "version_major": 2,
       "version_minor": 0
      },
      "text/plain": [
       "FloatProgress(value=0.0, bar_style='info', description='Progress:', layout=Layout(height='25px', width='50%'),…"
      ]
     },
     "metadata": {},
     "output_type": "display_data"
    },
    {
     "name": "stdout",
     "output_type": "stream",
     "text": [
      "+----------+----------+\n",
      "|Pick_month|drop_month|\n",
      "+----------+----------+\n",
      "|        12|         1|\n",
      "|        12|         1|\n",
      "|        12|         1|\n",
      "|        12|         1|\n",
      "|        12|         1|\n",
      "|        12|         1|\n",
      "|        12|         1|\n",
      "|        12|         1|\n",
      "|        12|         1|\n",
      "|        12|         1|\n",
      "|        12|         1|\n",
      "|        12|         1|\n",
      "|        12|         1|\n",
      "|        12|         1|\n",
      "|        12|         1|\n",
      "|        12|         1|\n",
      "|        12|         1|\n",
      "|        12|         1|\n",
      "|        12|         1|\n",
      "|        12|         1|\n",
      "+----------+----------+\n",
      "only showing top 20 rows"
     ]
    }
   ],
   "source": [
    "df_new.filter((df_new['Pick_Year']==2020) & (df_new['Drop_Year']==2021)).select(['Pick_month','drop_month']).show(n=20)"
   ]
  },
  {
   "cell_type": "markdown",
   "id": "e368d02f",
   "metadata": {},
   "source": [
    "__SO our assumption is correct, we will keep these trips.__\n",
    "\n",
    "Now we will remove the incorrect trips which dropped in 2019"
   ]
  },
  {
   "cell_type": "code",
   "execution_count": 30,
   "id": "d11b38da",
   "metadata": {},
   "outputs": [
    {
     "data": {
      "application/vnd.jupyter.widget-view+json": {
       "model_id": "",
       "version_major": 2,
       "version_minor": 0
      },
      "text/plain": [
       "FloatProgress(value=0.0, bar_style='info', description='Progress:', layout=Layout(height='25px', width='50%'),…"
      ]
     },
     "metadata": {},
     "output_type": "display_data"
    }
   ],
   "source": [
    "year_list=[2020,2021]"
   ]
  },
  {
   "cell_type": "code",
   "execution_count": 31,
   "id": "09ab7350",
   "metadata": {},
   "outputs": [
    {
     "data": {
      "application/vnd.jupyter.widget-view+json": {
       "model_id": "",
       "version_major": 2,
       "version_minor": 0
      },
      "text/plain": [
       "FloatProgress(value=0.0, bar_style='info', description='Progress:', layout=Layout(height='25px', width='50%'),…"
      ]
     },
     "metadata": {},
     "output_type": "display_data"
    }
   ],
   "source": [
    "df_new=df_new.filter(df_new.Drop_Year.isin(year_list))"
   ]
  },
  {
   "cell_type": "code",
   "execution_count": 32,
   "id": "c15de6a0",
   "metadata": {},
   "outputs": [
    {
     "data": {
      "application/vnd.jupyter.widget-view+json": {
       "model_id": "",
       "version_major": 2,
       "version_minor": 0
      },
      "text/plain": [
       "FloatProgress(value=0.0, bar_style='info', description='Progress:', layout=Layout(height='25px', width='50%'),…"
      ]
     },
     "metadata": {},
     "output_type": "display_data"
    },
    {
     "name": "stdout",
     "output_type": "stream",
     "text": [
      "[Row(Drop_Year=2020), Row(Drop_Year=2021)]"
     ]
    }
   ],
   "source": [
    "#check the drop year after filtering\n",
    "df_new.select('Drop_Year').distinct().collect()"
   ]
  },
  {
   "cell_type": "code",
   "execution_count": 33,
   "id": "eb2d8d72",
   "metadata": {},
   "outputs": [
    {
     "data": {
      "application/vnd.jupyter.widget-view+json": {
       "model_id": "",
       "version_major": 2,
       "version_minor": 0
      },
      "text/plain": [
       "FloatProgress(value=0.0, bar_style='info', description='Progress:', layout=Layout(height='25px', width='50%'),…"
      ]
     },
     "metadata": {},
     "output_type": "display_data"
    },
    {
     "name": "stdout",
     "output_type": "stream",
     "text": [
      "63"
     ]
    }
   ],
   "source": [
    "df_new.filter(df_new['Pick_Year']==2019).count()"
   ]
  },
  {
   "cell_type": "markdown",
   "id": "fa56dd33",
   "metadata": {},
   "source": [
    "63 trips have been removed. these trips are the trips dropped in 2019"
   ]
  },
  {
   "cell_type": "markdown",
   "id": "11e4f002",
   "metadata": {},
   "source": [
    "__Now lets check the trips picked in 2019 and dropped in 2020__"
   ]
  },
  {
   "cell_type": "code",
   "execution_count": 34,
   "id": "fc8a72d8",
   "metadata": {},
   "outputs": [
    {
     "data": {
      "application/vnd.jupyter.widget-view+json": {
       "model_id": "",
       "version_major": 2,
       "version_minor": 0
      },
      "text/plain": [
       "FloatProgress(value=0.0, bar_style='info', description='Progress:', layout=Layout(height='25px', width='50%'),…"
      ]
     },
     "metadata": {},
     "output_type": "display_data"
    },
    {
     "name": "stdout",
     "output_type": "stream",
     "text": [
      "+----------+----------+\n",
      "|Pick_month|drop_month|\n",
      "+----------+----------+\n",
      "|        12|         1|\n",
      "|        12|         1|\n",
      "|        12|         1|\n",
      "|        12|         1|\n",
      "|        12|         1|\n",
      "|        12|         1|\n",
      "|        12|         1|\n",
      "|        12|         1|\n",
      "|        12|         1|\n",
      "|        12|         1|\n",
      "|        12|         1|\n",
      "|        12|         1|\n",
      "|        12|         1|\n",
      "|        12|         1|\n",
      "|        12|         1|\n",
      "|        12|         1|\n",
      "|        12|         1|\n",
      "|        12|         1|\n",
      "|        12|         1|\n",
      "|        12|         1|\n",
      "|        12|         1|\n",
      "|        12|         1|\n",
      "|        12|         1|\n",
      "|        12|         1|\n",
      "|        12|         1|\n",
      "|        12|         1|\n",
      "|        12|         1|\n",
      "|        12|         1|\n",
      "|        12|         1|\n",
      "|        12|         1|\n",
      "|        12|         1|\n",
      "|        12|         1|\n",
      "|        12|         1|\n",
      "|        12|         1|\n",
      "|        12|         1|\n",
      "|        12|         1|\n",
      "|        12|         1|\n",
      "|        12|         1|\n",
      "|        12|         1|\n",
      "|        12|         1|\n",
      "|        12|         1|\n",
      "|        12|         1|\n",
      "|        12|         1|\n",
      "|        12|         1|\n",
      "|        12|         1|\n",
      "|        12|         1|\n",
      "|        12|         1|\n",
      "|        12|         1|\n",
      "|        12|         1|\n",
      "|        12|         1|\n",
      "|        12|         1|\n",
      "|        12|         1|\n",
      "|        12|         1|\n",
      "|        12|         1|\n",
      "|        12|         1|\n",
      "|        12|         1|\n",
      "|        12|         1|\n",
      "|        12|         1|\n",
      "|        12|         1|\n",
      "|        12|         1|\n",
      "|        12|         1|\n",
      "|        12|         1|\n",
      "|        12|         1|\n",
      "+----------+----------+"
     ]
    }
   ],
   "source": [
    "df_new.filter((df_new['Pick_Year']==2019) & (df_new['Drop_Year']==2020)).select(['Pick_month','drop_month']).show(n=100)"
   ]
  },
  {
   "cell_type": "code",
   "execution_count": 35,
   "id": "a6c031d9",
   "metadata": {},
   "outputs": [
    {
     "data": {
      "application/vnd.jupyter.widget-view+json": {
       "model_id": "",
       "version_major": 2,
       "version_minor": 0
      },
      "text/plain": [
       "FloatProgress(value=0.0, bar_style='info', description='Progress:', layout=Layout(height='25px', width='50%'),…"
      ]
     },
     "metadata": {},
     "output_type": "display_data"
    },
    {
     "name": "stdout",
     "output_type": "stream",
     "text": [
      "63"
     ]
    }
   ],
   "source": [
    "# to make sure these 63 observations are trips picked in dec 2019 and dropped in jun 2020\n",
    "df_new.filter((df_new['Pick_Year']==2019) & (df_new['Drop_Year']==2020)).select(['Pick_month','drop_month']).count()"
   ]
  },
  {
   "cell_type": "markdown",
   "id": "0917f7a9",
   "metadata": {},
   "source": [
    "## 2.2 Analyzing and cleaning the trip distance\n"
   ]
  },
  {
   "cell_type": "markdown",
   "id": "de1a5ef7",
   "metadata": {},
   "source": [
    "Checking the trips that have zore trip distance"
   ]
  },
  {
   "cell_type": "code",
   "execution_count": 38,
   "id": "a11c61ce",
   "metadata": {},
   "outputs": [
    {
     "data": {
      "application/vnd.jupyter.widget-view+json": {
       "model_id": "",
       "version_major": 2,
       "version_minor": 0
      },
      "text/plain": [
       "FloatProgress(value=0.0, bar_style='info', description='Progress:', layout=Layout(height='25px', width='50%'),…"
      ]
     },
     "metadata": {},
     "output_type": "display_data"
    },
    {
     "name": "stdout",
     "output_type": "stream",
     "text": [
      "330082"
     ]
    }
   ],
   "source": [
    "df_new.filter(df_new['trip_distance']==0).count()"
   ]
  },
  {
   "cell_type": "markdown",
   "id": "30e1ade5",
   "metadata": {},
   "source": [
    "__We have `330082` trips with zero trip distance which is 0.13 % of our data__\n",
    "\n",
    "lets analyze these trips further. we will have a look on `passenger_count` ,`trip_distance`,`fare_amount` to see if its correct or not"
   ]
  },
  {
   "cell_type": "code",
   "execution_count": 40,
   "id": "cef0160a",
   "metadata": {},
   "outputs": [
    {
     "data": {
      "application/vnd.jupyter.widget-view+json": {
       "model_id": "",
       "version_major": 2,
       "version_minor": 0
      },
      "text/plain": [
       "FloatProgress(value=0.0, bar_style='info', description='Progress:', layout=Layout(height='25px', width='50%'),…"
      ]
     },
     "metadata": {},
     "output_type": "display_data"
    },
    {
     "name": "stdout",
     "output_type": "stream",
     "text": [
      "+--------------------+---------------------+---------------+-------------+-----------+\n",
      "|tpep_pickup_datetime|tpep_dropoff_datetime|passenger_count|trip_distance|fare_amount|\n",
      "+--------------------+---------------------+---------------+-------------+-----------+\n",
      "| 2020-04-01 00:33:50|  2020-04-01 00:34:00|            1.0|          0.0|       10.3|\n",
      "| 2020-04-01 00:48:16|  2020-04-01 00:48:19|            1.0|          0.0|       12.8|\n",
      "| 2020-04-01 00:48:51|  2020-04-01 00:49:15|            1.0|          0.0|       20.2|\n",
      "| 2020-04-01 00:45:37|  2020-04-01 00:47:05|            1.0|          0.0|        3.0|\n",
      "| 2020-04-01 00:48:41|  2020-04-01 00:49:06|            0.0|          0.0|        2.5|\n",
      "| 2020-04-01 00:19:56|  2020-04-01 00:25:36|            1.0|          0.0|     -43.46|\n",
      "| 2020-04-01 00:19:56|  2020-04-01 00:25:36|            1.0|          0.0|      43.46|\n",
      "| 2020-04-01 00:07:31|  2020-04-01 00:23:51|            1.0|          0.0|       30.2|\n",
      "| 2020-04-01 00:38:51|  2020-04-01 00:52:12|            1.0|          0.0|       22.2|\n",
      "| 2020-03-07 14:03:21|  2020-03-07 14:03:25|            1.0|          0.0|        2.5|\n",
      "| 2020-04-01 04:20:34|  2020-04-01 04:34:29|            1.0|          0.0|       19.2|\n",
      "| 2020-04-01 04:43:35|  2020-04-01 04:54:10|            1.0|          0.0|       14.2|\n",
      "| 2020-04-01 04:14:22|  2020-04-01 04:31:46|            1.0|          0.0|       26.2|\n",
      "| 2020-04-01 04:48:11|  2020-04-01 04:49:08|            1.0|          0.0|        2.5|\n",
      "| 2020-04-01 05:10:16|  2020-04-01 05:19:11|            1.0|          0.0|       14.2|\n",
      "| 2020-04-01 05:36:58|  2020-04-01 06:12:11|            1.0|          0.0|       46.2|\n",
      "| 2020-04-01 05:56:03|  2020-04-01 06:18:02|            1.0|          0.0|       27.2|\n",
      "| 2020-04-01 05:32:21|  2020-04-01 05:44:23|            1.0|          0.0|       22.2|\n",
      "| 2020-04-01 05:44:34|  2020-04-01 06:21:02|            1.0|          0.0|       20.5|\n",
      "| 2020-04-01 05:11:58|  2020-04-01 05:37:20|            1.0|          0.0|       32.2|\n",
      "| 2020-04-01 05:58:11|  2020-04-01 06:22:14|            1.0|          0.0|       30.2|\n",
      "| 2020-04-01 06:19:14|  2020-04-01 06:21:04|            1.0|          0.0|        2.5|\n",
      "| 2020-04-01 06:18:19|  2020-04-01 06:40:56|            1.0|          0.0|       32.2|\n",
      "| 2020-04-01 06:18:33|  2020-04-01 06:42:20|            1.0|          0.0|      27.83|\n",
      "| 2020-04-01 06:08:24|  2020-04-01 06:47:23|            1.0|          0.0|       24.2|\n",
      "| 2020-04-01 06:43:04|  2020-04-01 07:07:06|            1.0|          0.0|       39.2|\n",
      "| 2020-04-01 06:42:08|  2020-04-01 07:04:39|            1.0|          0.0|       28.2|\n",
      "| 2020-04-01 06:02:23|  2020-04-01 06:27:08|            1.0|          0.0|       34.2|\n",
      "| 2020-04-01 06:41:24|  2020-04-01 07:00:50|            1.0|          0.0|       20.2|\n",
      "| 2020-04-01 06:24:04|  2020-04-01 06:24:49|            1.0|          0.0|        5.8|\n",
      "| 2020-04-01 06:56:25|  2020-04-01 07:14:07|            1.0|          0.0|       20.2|\n",
      "| 2020-04-01 06:41:25|  2020-04-01 06:49:52|            1.0|          0.0|        7.7|\n",
      "| 2020-04-01 07:25:56|  2020-04-01 07:26:30|            1.0|          0.0|       -2.5|\n",
      "| 2020-04-01 07:25:56|  2020-04-01 07:26:30|            1.0|          0.0|        2.5|\n",
      "| 2020-04-01 07:29:50|  2020-04-01 07:47:53|            1.0|          0.0|      27.83|\n",
      "| 2020-04-01 07:03:36|  2020-04-01 07:29:53|            1.0|          0.0|       28.2|\n",
      "| 2020-04-01 07:54:24|  2020-04-01 08:06:08|            1.0|          0.0|        0.0|\n",
      "| 2020-04-01 07:28:11|  2020-04-01 07:57:01|            1.0|          0.0|       42.2|\n",
      "| 2020-04-01 07:52:52|  2020-04-01 08:28:48|            1.0|          0.0|       36.2|\n",
      "| 2020-04-01 07:17:20|  2020-04-01 07:37:41|            1.0|          0.0|       24.2|\n",
      "| 2020-04-01 07:40:52|  2020-04-01 08:07:47|            1.0|          0.0|       22.2|\n",
      "| 2020-04-01 07:28:27|  2020-04-01 07:28:31|            1.0|          0.0|        2.5|\n",
      "| 2020-04-01 07:16:41|  2020-04-01 07:33:47|            1.0|          0.0|       24.2|\n",
      "| 2020-04-01 07:14:26|  2020-04-01 07:42:27|            1.0|          0.0|       38.2|\n",
      "| 2020-04-01 07:18:23|  2020-04-01 07:32:44|            1.0|          0.0|       24.2|\n",
      "| 2020-04-01 07:50:25|  2020-04-01 08:01:17|            1.0|          0.0|       11.2|\n",
      "| 2020-04-01 07:21:17|  2020-04-01 07:45:00|            1.0|          0.0|       28.2|\n",
      "| 2020-04-01 07:27:19|  2020-04-01 07:47:08|            1.0|          0.0|       20.2|\n",
      "| 2020-04-01 07:39:20|  2020-04-01 08:18:18|            1.0|          0.0|       58.2|\n",
      "| 2020-04-01 07:32:41|  2020-04-01 07:48:38|            1.0|          0.0|       17.2|\n",
      "| 2020-04-01 07:20:30|  2020-04-01 07:36:03|            1.0|          0.0|       14.2|\n",
      "| 2020-04-01 07:14:05|  2020-04-01 07:20:25|            1.0|          0.0|       17.2|\n",
      "| 2020-04-01 07:41:01|  2020-04-01 07:46:25|            1.0|          0.0|       11.2|\n",
      "| 2020-04-01 07:23:04|  2020-04-01 07:35:04|            1.0|          0.0|        9.2|\n",
      "| 2020-04-01 07:57:49|  2020-04-02 00:00:00|            0.0|          0.0|        0.0|\n",
      "| 2020-04-01 08:00:46|  2020-04-01 08:00:49|            1.0|          0.0|       18.0|\n",
      "| 2020-04-01 07:02:22|  2020-04-01 07:13:53|            1.0|          0.0|        6.7|\n",
      "| 2020-04-01 07:32:38|  2020-04-01 07:54:04|            1.0|          0.0|       28.2|\n",
      "| 2020-04-01 08:09:43|  2020-04-01 08:34:09|            1.0|          0.0|       32.2|\n",
      "| 2020-04-01 08:46:42|  2020-04-01 09:00:59|            1.0|          0.0|       19.2|\n",
      "| 2020-04-01 08:21:15|  2020-04-01 08:38:10|            1.0|          0.0|       24.2|\n",
      "| 2020-04-01 08:56:33|  2020-04-01 09:14:12|            1.0|          0.0|       19.2|\n",
      "| 2020-04-01 08:21:44|  2020-04-01 08:36:09|            1.0|          0.0|       20.2|\n",
      "| 2020-04-01 08:10:00|  2020-04-01 08:10:43|            1.0|          0.0|        2.5|\n",
      "| 2020-04-01 08:51:29|  2020-04-01 09:20:39|            1.0|          0.0|       22.2|\n",
      "| 2020-04-01 08:17:59|  2020-04-01 08:42:10|            1.0|          0.0|       28.2|\n",
      "| 2020-04-01 08:59:18|  2020-04-01 09:18:51|            1.0|          0.0|       22.2|\n",
      "| 2020-04-01 08:45:37|  2020-04-01 08:57:11|            1.0|          0.0|       17.2|\n",
      "| 2020-04-01 08:06:35|  2020-04-01 08:30:29|            1.0|          0.0|       26.2|\n",
      "| 2020-04-01 08:42:00|  2020-04-01 09:06:32|            1.0|          0.0|       28.2|\n",
      "| 2020-04-01 08:09:45|  2020-04-01 08:34:06|            1.0|          0.0|       28.2|\n",
      "| 2020-04-01 08:20:35|  2020-04-01 08:26:22|            1.0|          0.0|        5.7|\n",
      "| 2020-04-01 08:02:05|  2020-04-01 08:24:42|            1.0|          0.0|       28.2|\n",
      "| 2020-04-01 08:48:19|  2020-04-01 08:53:34|            1.0|          0.0|       11.2|\n",
      "| 2020-04-01 08:39:52|  2020-04-01 09:22:25|            1.0|          0.0|       56.2|\n",
      "| 2020-04-01 08:43:32|  2020-04-01 09:04:01|            1.0|          0.0|       21.7|\n",
      "| 2020-04-01 08:36:50|  2020-04-01 09:05:45|            1.0|          0.0|       28.2|\n",
      "| 2020-04-01 08:09:19|  2020-04-01 08:25:00|            1.0|          0.0|       24.2|\n",
      "| 2020-04-01 08:40:29|  2020-04-01 08:51:16|            1.0|          0.0|       11.2|\n",
      "| 2020-04-01 08:29:10|  2020-04-01 08:52:07|            1.0|          0.0|       26.2|\n",
      "| 2020-04-01 08:12:58|  2020-04-01 08:35:13|            1.0|          0.0|       22.2|\n",
      "| 2020-04-01 08:59:35|  2020-04-01 09:17:45|            1.0|          0.0|       26.2|\n",
      "| 2020-04-01 08:20:47|  2020-04-01 08:45:28|            1.0|          0.0|       30.2|\n",
      "| 2020-04-01 08:04:15|  2020-04-01 08:14:51|            1.0|          0.0|       14.2|\n",
      "| 2020-04-01 08:27:15|  2020-04-01 08:36:22|            1.0|          0.0|       19.2|\n",
      "| 2020-04-01 08:50:07|  2020-04-01 08:50:12|            1.0|          0.0|        2.5|\n",
      "| 2020-04-01 08:53:11|  2020-04-01 09:12:50|            1.0|          0.0|       32.2|\n",
      "| 2020-04-01 08:00:38|  2020-04-01 08:18:27|            1.0|          0.0|       20.2|\n",
      "| 2020-04-01 08:53:16|  2020-04-01 09:18:10|            1.0|          0.0|       42.2|\n",
      "| 2020-04-01 08:30:50|  2020-04-01 09:06:00|            1.0|          0.0|       49.2|\n",
      "| 2020-04-01 09:58:38|  2020-04-01 10:16:37|            1.0|          0.0|       24.2|\n",
      "| 2020-04-01 09:24:15|  2020-04-01 09:52:20|            1.0|          0.0|       28.2|\n",
      "| 2020-04-01 09:27:23|  2020-04-01 09:41:34|            1.0|          0.0|       17.2|\n",
      "| 2020-04-01 09:32:02|  2020-04-01 09:55:13|            1.0|          0.0|       20.2|\n",
      "| 2020-04-01 09:33:07|  2020-04-01 09:42:46|            1.0|          0.0|       17.2|\n",
      "| 2020-04-01 09:21:00|  2020-04-01 09:46:14|            1.0|          0.0|       26.2|\n",
      "| 2020-04-01 09:17:10|  2020-04-01 09:20:01|            1.0|          0.0|        3.5|\n",
      "| 2020-04-01 09:17:48|  2020-04-01 09:32:27|            1.0|          0.0|       14.2|\n",
      "| 2020-04-01 09:59:12|  2020-04-01 10:11:33|            1.0|          0.0|       20.2|\n",
      "| 2020-04-01 09:19:27|  2020-04-01 09:52:10|            1.0|          0.0|       30.2|\n",
      "| 2020-04-01 09:12:17|  2020-04-01 09:26:12|            1.0|          0.0|       22.2|\n",
      "| 2020-04-01 09:57:57|  2020-04-01 10:14:32|            1.0|          0.0|       26.2|\n",
      "| 2020-04-01 09:27:23|  2020-04-01 10:00:36|            1.0|          0.0|       40.2|\n",
      "| 2020-04-01 09:47:41|  2020-04-01 10:00:36|            1.0|          0.0|       19.2|\n",
      "| 2020-04-01 09:55:30|  2020-04-01 10:18:08|            1.0|          0.0|       17.2|\n",
      "| 2020-04-01 09:17:38|  2020-04-01 09:29:36|            1.0|          0.0|       14.2|\n",
      "| 2020-04-01 09:10:44|  2020-04-01 09:19:37|            1.0|          0.0|       14.2|\n",
      "| 2020-04-01 09:56:42|  2020-04-01 10:08:52|            1.0|          0.0|        9.2|\n",
      "| 2020-04-01 09:43:14|  2020-04-01 10:19:26|            1.0|          0.0|       46.2|\n",
      "| 2020-04-01 09:02:13|  2020-04-01 09:19:18|            1.0|          0.0|       22.2|\n",
      "| 2020-04-01 09:36:27|  2020-04-01 09:44:04|            1.0|          0.0|       11.2|\n",
      "| 2020-04-01 09:56:56|  2020-04-01 10:08:33|            1.0|          0.0|       17.2|\n",
      "| 2020-04-01 09:34:05|  2020-04-01 09:55:07|            1.0|          0.0|       17.2|\n",
      "| 2020-04-01 08:47:34|  2020-04-01 08:47:42|            2.0|          0.0|        2.5|\n",
      "| 2020-04-01 09:04:56|  2020-04-01 09:21:45|            1.0|          0.0|       28.2|\n",
      "| 2020-04-01 09:58:30|  2020-04-01 10:24:34|            1.0|          0.0|       34.2|\n",
      "| 2020-04-01 09:23:30|  2020-04-01 09:51:42|            1.0|          0.0|       32.2|\n",
      "| 2020-04-01 09:01:29|  2020-04-01 09:10:20|            1.0|          0.0|       11.2|\n",
      "| 2020-04-01 09:24:36|  2020-04-01 09:35:47|            1.0|          0.0|       19.2|\n",
      "| 2020-04-01 09:55:13|  2020-04-01 10:09:13|            1.0|          0.0|       20.2|\n",
      "| 2020-04-01 09:34:48|  2020-04-01 09:47:15|            1.0|          0.0|       22.2|\n",
      "| 2020-04-01 10:20:34|  2020-04-01 10:20:53|            1.0|          0.0|        2.5|\n",
      "| 2020-04-01 10:23:24|  2020-04-01 10:23:38|            1.0|          0.0|        2.5|\n",
      "| 2020-04-01 10:08:26|  2020-04-01 10:22:46|            1.0|          0.0|       14.2|\n",
      "| 2020-04-01 10:13:42|  2020-04-01 10:46:59|            1.0|          0.0|       28.2|\n",
      "| 2020-04-01 10:37:39|  2020-04-02 09:07:41|            1.0|          0.0|        7.5|\n",
      "| 2020-04-01 10:02:08|  2020-04-01 10:17:29|            1.0|          0.0|       22.2|\n",
      "| 2020-04-01 10:45:27|  2020-04-01 10:57:32|            1.0|          0.0|       22.2|\n",
      "| 2020-04-01 10:02:51|  2020-04-01 10:32:01|            1.0|          0.0|       19.2|\n",
      "| 2020-04-01 10:12:35|  2020-04-01 10:25:43|            1.0|          0.0|       14.2|\n",
      "| 2020-04-01 10:58:18|  2020-04-01 11:03:47|            1.0|          0.0|        9.2|\n",
      "| 2020-04-01 10:35:07|  2020-04-01 10:59:45|            1.0|          0.0|       28.2|\n",
      "| 2020-04-01 10:03:24|  2020-04-01 10:29:36|            1.0|          0.0|       36.2|\n",
      "| 2020-04-01 10:31:18|  2020-04-01 10:43:01|            1.0|          0.0|       22.2|\n",
      "| 2020-04-01 10:12:21|  2020-04-01 10:52:00|            1.0|          0.0|       58.2|\n",
      "| 2020-04-01 10:41:37|  2020-04-01 10:42:05|            1.0|          0.0|        2.5|\n",
      "| 2020-04-01 10:05:52|  2020-04-01 10:45:06|            1.0|          0.0|       42.2|\n",
      "| 2020-04-01 10:29:32|  2020-04-01 10:46:05|            1.0|          0.0|       14.2|\n",
      "| 2020-04-01 10:12:29|  2020-04-01 10:34:40|            1.0|          0.0|       30.2|\n",
      "| 2020-04-01 10:57:38|  2020-04-01 11:09:43|            1.0|          0.0|       14.2|\n",
      "| 2020-04-01 10:00:31|  2020-04-01 10:18:20|            1.0|          0.0|       28.2|\n",
      "| 2020-04-01 10:46:51|  2020-04-01 11:04:07|            1.0|          0.0|       22.2|\n",
      "| 2020-04-01 10:06:31|  2020-04-01 10:27:36|            1.0|          0.0|       22.2|\n",
      "| 2020-04-01 10:51:42|  2020-04-01 11:00:12|            1.0|          0.0|       11.2|\n",
      "| 2020-04-01 10:24:13|  2020-04-01 10:37:45|            1.0|          0.0|       14.2|\n",
      "| 2020-04-01 10:18:29|  2020-04-01 10:26:31|            1.0|          0.0|       14.2|\n",
      "| 2020-04-01 10:40:30|  2020-04-01 11:06:40|            1.0|          0.0|       28.2|\n",
      "| 2020-04-01 10:17:40|  2020-04-01 10:26:41|            1.0|          0.0|       11.2|\n",
      "| 2020-04-01 10:40:22|  2020-04-01 11:08:35|            1.0|          0.0|      32.43|\n",
      "| 2020-04-01 10:11:18|  2020-04-01 10:18:23|            1.0|          0.0|       11.2|\n",
      "| 2020-04-01 10:50:08|  2020-04-01 11:04:28|            1.0|          0.0|       14.2|\n",
      "| 2020-04-01 10:27:11|  2020-04-01 10:50:42|            1.0|          0.0|       28.2|\n",
      "| 2020-04-01 10:29:55|  2020-04-01 10:57:06|            1.0|          0.0|       39.2|\n",
      "| 2020-04-01 10:18:49|  2020-04-01 10:25:17|            1.0|          0.0|       11.2|\n",
      "| 2020-04-01 10:55:30|  2020-04-01 11:08:58|            1.0|          0.0|       20.2|\n",
      "| 2020-04-01 10:48:00|  2020-04-01 10:48:14|            1.0|          0.0|       52.0|\n",
      "| 2020-04-01 10:38:40|  2020-04-01 10:44:26|            1.0|          0.0|      23.23|\n",
      "| 2020-04-01 10:26:54|  2020-04-01 10:41:17|            1.0|          0.0|       17.2|\n",
      "| 2020-04-01 10:18:15|  2020-04-01 10:18:21|            1.0|          0.0|        2.5|\n",
      "| 2020-04-01 10:30:06|  2020-04-01 10:30:21|            1.0|          0.0|        2.5|\n",
      "| 2020-04-01 11:01:14|  2020-04-01 11:21:38|            1.0|          0.0|       30.2|\n",
      "| 2020-04-01 11:56:16|  2020-04-01 11:57:15|            1.0|          0.0|        2.5|\n",
      "| 2020-04-01 11:15:09|  2020-04-01 11:47:35|            1.0|          0.0|       34.2|\n",
      "| 2020-04-01 11:19:02|  2020-04-01 11:31:48|            1.0|          0.0|       17.2|\n",
      "| 2020-04-01 11:06:33|  2020-04-01 11:16:58|            1.0|          0.0|       19.2|\n",
      "| 2020-04-01 12:11:36|  2020-04-01 12:47:39|            1.0|          0.0|       39.2|\n",
      "| 2020-04-01 12:58:35|  2020-04-01 12:59:55|            0.0|          0.0|        2.5|\n",
      "| 2020-04-01 12:34:50|  2020-04-01 12:35:11|            1.0|          0.0|        9.7|\n",
      "| 2020-04-01 12:35:41|  2020-04-01 12:35:48|            1.0|          0.0|       69.0|\n",
      "| 2020-04-01 12:51:15|  2020-04-01 13:09:20|            1.0|          0.0|        9.7|\n",
      "| 2020-04-01 12:09:06|  2020-04-01 12:33:07|            1.0|          0.0|       20.2|\n",
      "| 2020-04-01 12:29:45|  2020-04-01 12:52:16|            1.0|          0.0|       22.2|\n",
      "| 2020-04-01 13:00:34|  2020-04-01 13:01:02|            1.0|          0.0|       10.8|\n",
      "| 2020-04-01 13:24:45|  2020-04-01 13:24:58|            5.0|          0.0|        2.5|\n",
      "| 2020-04-01 13:59:28|  2020-04-01 14:25:50|            1.0|          0.0|       30.2|\n",
      "| 2020-04-01 13:50:17|  2020-04-01 13:50:21|            1.0|          0.0|       13.3|\n",
      "| 2020-04-01 13:52:49|  2020-04-01 13:53:34|            1.0|          0.0|       13.3|\n",
      "| 2020-04-01 13:46:36|  2020-04-01 13:46:47|            1.0|          0.0|        2.5|\n",
      "| 2020-04-01 13:04:06|  2020-04-01 13:04:42|            0.0|          0.0|        2.5|\n",
      "| 2020-04-01 13:06:12|  2020-04-01 13:54:33|            1.0|          0.0|       52.2|\n",
      "| 2020-04-01 13:32:35|  2020-04-01 13:32:52|            1.0|          0.0|       70.0|\n",
      "| 2020-04-01 14:01:49|  2020-04-01 14:02:28|            1.0|          0.0|        2.5|\n",
      "| 2020-04-01 14:59:13|  2020-04-01 15:20:20|            1.0|          0.0|        2.5|\n",
      "| 2020-04-01 14:07:09|  2020-04-01 14:17:14|            1.0|          0.0|        6.2|\n",
      "| 2020-04-01 14:39:52|  2020-04-01 14:39:57|            1.0|          0.0|        2.5|\n",
      "| 2020-04-01 14:08:29|  2020-04-01 14:35:08|            1.0|          0.0|       24.2|\n",
      "| 2020-04-01 14:38:40|  2020-04-01 14:38:47|            1.0|          0.0|        2.5|\n",
      "| 2020-04-01 14:14:10|  2020-04-01 14:14:31|            1.0|          0.0|       -2.5|\n",
      "| 2020-04-01 14:14:10|  2020-04-01 14:14:31|            1.0|          0.0|        2.5|\n",
      "| 2020-04-01 14:33:35|  2020-04-01 14:50:41|            1.0|          0.0|       13.7|\n",
      "| 2020-04-01 14:37:53|  2020-04-01 14:37:53|            1.0|          0.0|        2.5|\n",
      "| 2020-04-01 14:59:42|  2020-04-01 15:25:57|            1.0|          0.0|       32.2|\n",
      "| 2020-04-01 15:07:24|  2020-04-01 15:07:44|            1.0|          0.0|        2.5|\n",
      "| 2020-04-01 15:08:33|  2020-04-01 15:09:31|            1.0|          0.0|        2.5|\n",
      "| 2020-04-01 15:10:00|  2020-04-01 15:10:19|            2.0|          0.0|        2.5|\n",
      "| 2020-04-01 15:10:55|  2020-04-01 15:11:44|            1.0|          0.0|       52.0|\n",
      "| 2020-04-01 15:57:05|  2020-04-01 15:57:40|            2.0|          0.0|      105.0|\n",
      "| 2020-04-01 15:22:24|  2020-04-01 15:23:51|            1.0|          0.0|        2.5|\n",
      "| 2020-04-01 15:03:14|  2020-04-01 15:03:33|            1.0|          0.0|        2.5|\n",
      "| 2020-04-01 15:39:44|  2020-04-01 15:44:05|            1.0|          0.0|        5.7|\n",
      "+--------------------+---------------------+---------------+-------------+-----------+\n",
      "only showing top 200 rows"
     ]
    }
   ],
   "source": [
    "df_new.filter(df_new['trip_distance']==0).select(['tpep_pickup_datetime',\n",
    "                                                  'tpep_dropoff_datetime','passenger_count','trip_distance',\n",
    "                                                  'fare_amount']).show(200)"
   ]
  },
  {
   "cell_type": "markdown",
   "id": "c59869e5",
   "metadata": {},
   "source": [
    "__These are the zero distance trips,  as we can see its paid trips and there are passengers. how to find the incorrect trips ?__\n",
    "\n",
    "\n",
    "* My assumption is if the drop location ID is silimar to pick location ID, then we assume there was congustion and the taxi didnt move that much or it was very short trip. so these trips are normal. On the other hand, if the drop location is different than the pick-up location, then its impossible that these trips can have zero distance and these trips are incorrect.\n",
    "\n",
    "Lets create dataframe that only have zero distance trips"
   ]
  },
  {
   "cell_type": "code",
   "execution_count": 41,
   "id": "aab6b8ff",
   "metadata": {
    "scrolled": true
   },
   "outputs": [
    {
     "data": {
      "application/vnd.jupyter.widget-view+json": {
       "model_id": "",
       "version_major": 2,
       "version_minor": 0
      },
      "text/plain": [
       "FloatProgress(value=0.0, bar_style='info', description='Progress:', layout=Layout(height='25px', width='50%'),…"
      ]
     },
     "metadata": {},
     "output_type": "display_data"
    }
   ],
   "source": [
    "zero_distance=df_new.filter(df_new['trip_distance']==0)"
   ]
  },
  {
   "cell_type": "code",
   "execution_count": 42,
   "id": "ec97eaa9",
   "metadata": {},
   "outputs": [
    {
     "data": {
      "application/vnd.jupyter.widget-view+json": {
       "model_id": "",
       "version_major": 2,
       "version_minor": 0
      },
      "text/plain": [
       "FloatProgress(value=0.0, bar_style='info', description='Progress:', layout=Layout(height='25px', width='50%'),…"
      ]
     },
     "metadata": {},
     "output_type": "display_data"
    },
    {
     "name": "stdout",
     "output_type": "stream",
     "text": [
      "Number of trips with zero trip distance  330082  trips"
     ]
    }
   ],
   "source": [
    "print('Number of trips with zero trip distance ',zero_distance.count(),' trips')"
   ]
  },
  {
   "cell_type": "code",
   "execution_count": 43,
   "id": "09891efb",
   "metadata": {},
   "outputs": [
    {
     "data": {
      "application/vnd.jupyter.widget-view+json": {
       "model_id": "",
       "version_major": 2,
       "version_minor": 0
      },
      "text/plain": [
       "FloatProgress(value=0.0, bar_style='info', description='Progress:', layout=Layout(height='25px', width='50%'),…"
      ]
     },
     "metadata": {},
     "output_type": "display_data"
    },
    {
     "name": "stdout",
     "output_type": "stream",
     "text": [
      "157730"
     ]
    }
   ],
   "source": [
    "# trips which have zero distance and pick location is similir to drop location\n",
    "zero_distance.filter(zero_distance['PULocationID']==zero_distance['DOLocationID']).count()"
   ]
  },
  {
   "cell_type": "markdown",
   "id": "192af571",
   "metadata": {},
   "source": [
    "__So we have 157730 trips in which the pick location is similir to drop location. We will  remove the trips which have zero trip distance and the pick location is different than drop location__"
   ]
  },
  {
   "cell_type": "code",
   "execution_count": 45,
   "id": "1624b76a",
   "metadata": {},
   "outputs": [
    {
     "data": {
      "application/vnd.jupyter.widget-view+json": {
       "model_id": "",
       "version_major": 2,
       "version_minor": 0
      },
      "text/plain": [
       "FloatProgress(value=0.0, bar_style='info', description='Progress:', layout=Layout(height='25px', width='50%'),…"
      ]
     },
     "metadata": {},
     "output_type": "display_data"
    },
    {
     "name": "stdout",
     "output_type": "stream",
     "text": [
      "172352"
     ]
    }
   ],
   "source": [
    "# trips which have zero distance and pick location is different than drop location\n",
    "zero_distance.filter(zero_distance['PULocationID']!=zero_distance['DOLocationID']).count()"
   ]
  },
  {
   "cell_type": "code",
   "execution_count": 47,
   "id": "aca685c0",
   "metadata": {},
   "outputs": [
    {
     "data": {
      "application/vnd.jupyter.widget-view+json": {
       "model_id": "",
       "version_major": 2,
       "version_minor": 0
      },
      "text/plain": [
       "FloatProgress(value=0.0, bar_style='info', description='Progress:', layout=Layout(height='25px', width='50%'),…"
      ]
     },
     "metadata": {},
     "output_type": "display_data"
    },
    {
     "name": "stdout",
     "output_type": "stream",
     "text": [
      "172352"
     ]
    }
   ],
   "source": [
    "df_new.filter((df_new['trip_distance']==0) & (df_new['PULocationID']!=df_new['DOLocationID'])).count()"
   ]
  },
  {
   "cell_type": "code",
   "execution_count": 48,
   "id": "55d1b0c0",
   "metadata": {},
   "outputs": [
    {
     "data": {
      "application/vnd.jupyter.widget-view+json": {
       "model_id": "",
       "version_major": 2,
       "version_minor": 0
      },
      "text/plain": [
       "FloatProgress(value=0.0, bar_style='info', description='Progress:', layout=Layout(height='25px', width='50%'),…"
      ]
     },
     "metadata": {},
     "output_type": "display_data"
    },
    {
     "name": "stdout",
     "output_type": "stream",
     "text": [
      "24476521"
     ]
    }
   ],
   "source": [
    "# our dataset should have this count\n",
    "df_new.count() - 172352"
   ]
  },
  {
   "cell_type": "markdown",
   "id": "4d444c5f",
   "metadata": {},
   "source": [
    "### Steps to remove these `172352` trips:\n",
    "\n",
    "* We will create data having zero distance trips (already done above).\n",
    "\n",
    "* We will create dataframe that dont have zero distance trips.(`no_zero_distance`)\n",
    "\n",
    "\n",
    "* We will filter out the trips that have zero distance and the pick up location is different than the drop locations from the zero dataframe.\n",
    "\n",
    "* Then we will merge the zero dataframe with the non-zero-distance dataframe"
   ]
  },
  {
   "cell_type": "code",
   "execution_count": 49,
   "id": "c7f012c7",
   "metadata": {},
   "outputs": [
    {
     "data": {
      "application/vnd.jupyter.widget-view+json": {
       "model_id": "",
       "version_major": 2,
       "version_minor": 0
      },
      "text/plain": [
       "FloatProgress(value=0.0, bar_style='info', description='Progress:', layout=Layout(height='25px', width='50%'),…"
      ]
     },
     "metadata": {},
     "output_type": "display_data"
    }
   ],
   "source": [
    "# 1- we will remove the trips contains zero distance\n",
    "no_zero_distance=df_new.filter(df_new['trip_distance']!=0)"
   ]
  },
  {
   "cell_type": "code",
   "execution_count": 50,
   "id": "4c397436",
   "metadata": {},
   "outputs": [
    {
     "data": {
      "application/vnd.jupyter.widget-view+json": {
       "model_id": "",
       "version_major": 2,
       "version_minor": 0
      },
      "text/plain": [
       "FloatProgress(value=0.0, bar_style='info', description='Progress:', layout=Layout(height='25px', width='50%'),…"
      ]
     },
     "metadata": {},
     "output_type": "display_data"
    },
    {
     "name": "stdout",
     "output_type": "stream",
     "text": [
      "24318791"
     ]
    }
   ],
   "source": [
    "no_zero_distance.count()"
   ]
  },
  {
   "cell_type": "code",
   "execution_count": 51,
   "id": "69c2013a",
   "metadata": {},
   "outputs": [
    {
     "data": {
      "application/vnd.jupyter.widget-view+json": {
       "model_id": "",
       "version_major": 2,
       "version_minor": 0
      },
      "text/plain": [
       "FloatProgress(value=0.0, bar_style='info', description='Progress:', layout=Layout(height='25px', width='50%'),…"
      ]
     },
     "metadata": {},
     "output_type": "display_data"
    },
    {
     "name": "stdout",
     "output_type": "stream",
     "text": [
      "0"
     ]
    }
   ],
   "source": [
    "#check there is no zero distance trips\n",
    "no_zero_distance.filter('trip_distance=0').count()"
   ]
  },
  {
   "cell_type": "code",
   "execution_count": 52,
   "id": "ff6d10a5",
   "metadata": {},
   "outputs": [
    {
     "data": {
      "application/vnd.jupyter.widget-view+json": {
       "model_id": "",
       "version_major": 2,
       "version_minor": 0
      },
      "text/plain": [
       "FloatProgress(value=0.0, bar_style='info', description='Progress:', layout=Layout(height='25px', width='50%'),…"
      ]
     },
     "metadata": {},
     "output_type": "display_data"
    },
    {
     "name": "stdout",
     "output_type": "stream",
     "text": [
      "330082"
     ]
    }
   ],
   "source": [
    "# we will create data having zero which we already created before\n",
    "zero_distance.count()"
   ]
  },
  {
   "cell_type": "code",
   "execution_count": 53,
   "id": "4a3a10b6",
   "metadata": {},
   "outputs": [
    {
     "data": {
      "application/vnd.jupyter.widget-view+json": {
       "model_id": "",
       "version_major": 2,
       "version_minor": 0
      },
      "text/plain": [
       "FloatProgress(value=0.0, bar_style='info', description='Progress:', layout=Layout(height='25px', width='50%'),…"
      ]
     },
     "metadata": {},
     "output_type": "display_data"
    },
    {
     "name": "stdout",
     "output_type": "stream",
     "text": [
      "172352"
     ]
    }
   ],
   "source": [
    "#checking the count of the trips with zero distance and pick location is different than drop location\n",
    "zero_distance.filter(zero_distance['PULocationID']!=zero_distance['DOLocationID']).count()"
   ]
  },
  {
   "cell_type": "code",
   "execution_count": 54,
   "id": "ab6f0f0a",
   "metadata": {},
   "outputs": [
    {
     "data": {
      "application/vnd.jupyter.widget-view+json": {
       "model_id": "",
       "version_major": 2,
       "version_minor": 0
      },
      "text/plain": [
       "FloatProgress(value=0.0, bar_style='info', description='Progress:', layout=Layout(height='25px', width='50%'),…"
      ]
     },
     "metadata": {},
     "output_type": "display_data"
    }
   ],
   "source": [
    "#3 - we will remove the trips that have zero distance and the pick up location is different than the drop locations\n",
    "# here we will filter only the trips with similar pick and drop location\n",
    "Zero_distance_cleared=zero_distance.filter(zero_distance['PULocationID']==zero_distance['DOLocationID'])"
   ]
  },
  {
   "cell_type": "code",
   "execution_count": 55,
   "id": "9781a3d2",
   "metadata": {},
   "outputs": [
    {
     "data": {
      "application/vnd.jupyter.widget-view+json": {
       "model_id": "",
       "version_major": 2,
       "version_minor": 0
      },
      "text/plain": [
       "FloatProgress(value=0.0, bar_style='info', description='Progress:', layout=Layout(height='25px', width='50%'),…"
      ]
     },
     "metadata": {},
     "output_type": "display_data"
    },
    {
     "name": "stdout",
     "output_type": "stream",
     "text": [
      "157730"
     ]
    }
   ],
   "source": [
    "Zero_distance_cleared.count()"
   ]
  },
  {
   "cell_type": "code",
   "execution_count": 56,
   "id": "ae820ecc",
   "metadata": {},
   "outputs": [
    {
     "data": {
      "application/vnd.jupyter.widget-view+json": {
       "model_id": "",
       "version_major": 2,
       "version_minor": 0
      },
      "text/plain": [
       "FloatProgress(value=0.0, bar_style='info', description='Progress:', layout=Layout(height='25px', width='50%'),…"
      ]
     },
     "metadata": {},
     "output_type": "display_data"
    },
    {
     "name": "stdout",
     "output_type": "stream",
     "text": [
      "24476521"
     ]
    }
   ],
   "source": [
    "# to varify the correct number\n",
    "no_zero_distance.count() +Zero_distance_cleared.count()"
   ]
  },
  {
   "cell_type": "code",
   "execution_count": 57,
   "id": "ab5962cb",
   "metadata": {},
   "outputs": [
    {
     "data": {
      "application/vnd.jupyter.widget-view+json": {
       "model_id": "",
       "version_major": 2,
       "version_minor": 0
      },
      "text/plain": [
       "FloatProgress(value=0.0, bar_style='info', description='Progress:', layout=Layout(height='25px', width='50%'),…"
      ]
     },
     "metadata": {},
     "output_type": "display_data"
    }
   ],
   "source": [
    "# we will merge the trips that have no zero distance with the trips that have zero distance and simlar pick and drop locations\n",
    "df_new_1 = no_zero_distance.union(Zero_distance_cleared)"
   ]
  },
  {
   "cell_type": "code",
   "execution_count": 58,
   "id": "caeabd91",
   "metadata": {},
   "outputs": [
    {
     "data": {
      "application/vnd.jupyter.widget-view+json": {
       "model_id": "",
       "version_major": 2,
       "version_minor": 0
      },
      "text/plain": [
       "FloatProgress(value=0.0, bar_style='info', description='Progress:', layout=Layout(height='25px', width='50%'),…"
      ]
     },
     "metadata": {},
     "output_type": "display_data"
    },
    {
     "name": "stdout",
     "output_type": "stream",
     "text": [
      "24476521"
     ]
    }
   ],
   "source": [
    "# this dataset contain all the observation except with zero distance and drop location is different than pick location\n",
    "df_new_1.count()"
   ]
  },
  {
   "cell_type": "code",
   "execution_count": 59,
   "id": "f1bd7c41",
   "metadata": {},
   "outputs": [
    {
     "data": {
      "application/vnd.jupyter.widget-view+json": {
       "model_id": "",
       "version_major": 2,
       "version_minor": 0
      },
      "text/plain": [
       "FloatProgress(value=0.0, bar_style='info', description='Progress:', layout=Layout(height='25px', width='50%'),…"
      ]
     },
     "metadata": {},
     "output_type": "display_data"
    },
    {
     "name": "stdout",
     "output_type": "stream",
     "text": [
      "0"
     ]
    }
   ],
   "source": [
    "#Check if we have trips with zero distance and diffrent drop and pick locations\n",
    "df_new_1.filter((df_new_1['trip_distance']==0) & (df_new_1['PULocationID']!=df_new_1['DOLocationID'])).count()"
   ]
  },
  {
   "cell_type": "markdown",
   "id": "92bed4f1",
   "metadata": {},
   "source": [
    "__Now we cleaned the trips that have zero distance and pick-up location is different than the drop-off location__\n",
    "\n",
    "Lets move on to check the statistical summary of `trip_distance` column"
   ]
  },
  {
   "cell_type": "code",
   "execution_count": 60,
   "id": "538a174a",
   "metadata": {},
   "outputs": [
    {
     "data": {
      "application/vnd.jupyter.widget-view+json": {
       "model_id": "",
       "version_major": 2,
       "version_minor": 0
      },
      "text/plain": [
       "FloatProgress(value=0.0, bar_style='info', description='Progress:', layout=Layout(height='25px', width='50%'),…"
      ]
     },
     "metadata": {},
     "output_type": "display_data"
    },
    {
     "name": "stdout",
     "output_type": "stream",
     "text": [
      "+-------+------------------+\n",
      "|summary|     trip_distance|\n",
      "+-------+------------------+\n",
      "|  count|          24476521|\n",
      "|   mean|3.5519427744656715|\n",
      "| stddev| 326.1756239822378|\n",
      "|    min|            -30.62|\n",
      "|    max|         350914.89|\n",
      "+-------+------------------+"
     ]
    }
   ],
   "source": [
    "df_new_1.select('trip_distance').describe().show()"
   ]
  },
  {
   "cell_type": "markdown",
   "id": "bc5ee57a",
   "metadata": {},
   "source": [
    "We have negative trip distance which is incorrect, lets analyze the count and remove this trips."
   ]
  },
  {
   "cell_type": "code",
   "execution_count": 61,
   "id": "7b041548",
   "metadata": {},
   "outputs": [
    {
     "data": {
      "application/vnd.jupyter.widget-view+json": {
       "model_id": "",
       "version_major": 2,
       "version_minor": 0
      },
      "text/plain": [
       "FloatProgress(value=0.0, bar_style='info', description='Progress:', layout=Layout(height='25px', width='50%'),…"
      ]
     },
     "metadata": {},
     "output_type": "display_data"
    },
    {
     "name": "stdout",
     "output_type": "stream",
     "text": [
      "2338"
     ]
    }
   ],
   "source": [
    "df_new_1.filter(df_new_1['trip_distance']<0).count()"
   ]
  },
  {
   "cell_type": "code",
   "execution_count": 62,
   "id": "23826718",
   "metadata": {},
   "outputs": [
    {
     "data": {
      "application/vnd.jupyter.widget-view+json": {
       "model_id": "",
       "version_major": 2,
       "version_minor": 0
      },
      "text/plain": [
       "FloatProgress(value=0.0, bar_style='info', description='Progress:', layout=Layout(height='25px', width='50%'),…"
      ]
     },
     "metadata": {},
     "output_type": "display_data"
    }
   ],
   "source": [
    "# We will remove these trips\n",
    "df_new_1=df_new_1.filter(df_new_1['trip_distance']>=0)"
   ]
  },
  {
   "cell_type": "markdown",
   "id": "523735b1",
   "metadata": {},
   "source": [
    "__Checking the outliers__"
   ]
  },
  {
   "cell_type": "code",
   "execution_count": 63,
   "id": "9b426ea8",
   "metadata": {},
   "outputs": [
    {
     "data": {
      "application/vnd.jupyter.widget-view+json": {
       "model_id": "",
       "version_major": 2,
       "version_minor": 0
      },
      "text/plain": [
       "FloatProgress(value=0.0, bar_style='info', description='Progress:', layout=Layout(height='25px', width='50%'),…"
      ]
     },
     "metadata": {},
     "output_type": "display_data"
    }
   ],
   "source": [
    " # Q1 : First Quartile ., Q3 : Third Quartile\n",
    "Q1 = df_new_1.approxQuantile('trip_distance',[0.25],relativeError=0.05)\n",
    "Q3 = df_new_1.approxQuantile('trip_distance',[0.75],relativeError=0.05)"
   ]
  },
  {
   "cell_type": "code",
   "execution_count": 64,
   "id": "10ca75bd",
   "metadata": {},
   "outputs": [
    {
     "data": {
      "application/vnd.jupyter.widget-view+json": {
       "model_id": "",
       "version_major": 2,
       "version_minor": 0
      },
      "text/plain": [
       "FloatProgress(value=0.0, bar_style='info', description='Progress:', layout=Layout(height='25px', width='50%'),…"
      ]
     },
     "metadata": {},
     "output_type": "display_data"
    },
    {
     "name": "stdout",
     "output_type": "stream",
     "text": [
      "Q1:  [1.0] Q3:  [2.8]"
     ]
    }
   ],
   "source": [
    "print('Q1: ',Q1, 'Q3: ',Q3)"
   ]
  },
  {
   "cell_type": "code",
   "execution_count": 65,
   "id": "741543ee",
   "metadata": {},
   "outputs": [
    {
     "data": {
      "application/vnd.jupyter.widget-view+json": {
       "model_id": "",
       "version_major": 2,
       "version_minor": 0
      },
      "text/plain": [
       "FloatProgress(value=0.0, bar_style='info', description='Progress:', layout=Layout(height='25px', width='50%'),…"
      ]
     },
     "metadata": {},
     "output_type": "display_data"
    },
    {
     "name": "stdout",
     "output_type": "stream",
     "text": [
      "24474183"
     ]
    }
   ],
   "source": [
    "df_new_1.count()"
   ]
  },
  {
   "cell_type": "code",
   "execution_count": 66,
   "id": "eb9a2e9d",
   "metadata": {},
   "outputs": [
    {
     "data": {
      "application/vnd.jupyter.widget-view+json": {
       "model_id": "",
       "version_major": 2,
       "version_minor": 0
      },
      "text/plain": [
       "FloatProgress(value=0.0, bar_style='info', description='Progress:', layout=Layout(height='25px', width='50%'),…"
      ]
     },
     "metadata": {},
     "output_type": "display_data"
    },
    {
     "name": "stdout",
     "output_type": "stream",
     "text": [
      "6672306"
     ]
    }
   ],
   "source": [
    "df_new_1.filter(df_new_1['trip_distance']>2.8).count()"
   ]
  },
  {
   "cell_type": "markdown",
   "id": "3fa3b429",
   "metadata": {},
   "source": [
    "__We have 75% of our trips have trip distance below 2.8 mile__"
   ]
  },
  {
   "cell_type": "code",
   "execution_count": 67,
   "id": "6a52cdf7",
   "metadata": {},
   "outputs": [
    {
     "data": {
      "application/vnd.jupyter.widget-view+json": {
       "model_id": "",
       "version_major": 2,
       "version_minor": 0
      },
      "text/plain": [
       "FloatProgress(value=0.0, bar_style='info', description='Progress:', layout=Layout(height='25px', width='50%'),…"
      ]
     },
     "metadata": {},
     "output_type": "display_data"
    }
   ],
   "source": [
    "#IQR : Inter Quantile Range\n",
    "#We need to define the index [0], as Q1 & Q3 are a set of lists\n",
    "IQR = Q3[0] - Q1[0]"
   ]
  },
  {
   "cell_type": "code",
   "execution_count": 68,
   "id": "fdf094d4",
   "metadata": {},
   "outputs": [
    {
     "data": {
      "application/vnd.jupyter.widget-view+json": {
       "model_id": "",
       "version_major": 2,
       "version_minor": 0
      },
      "text/plain": [
       "FloatProgress(value=0.0, bar_style='info', description='Progress:', layout=Layout(height='25px', width='50%'),…"
      ]
     },
     "metadata": {},
     "output_type": "display_data"
    }
   ],
   "source": [
    "#selecting the data, with -1.5*IQR to + 1.5*IQR., where param = 1.5 default value\n",
    "less_Q1 =  Q1[0] - 1.5*IQR\n",
    "more_Q3 =  Q3[0] + 1.5*IQR"
   ]
  },
  {
   "cell_type": "code",
   "execution_count": 69,
   "id": "3cc5c486",
   "metadata": {},
   "outputs": [
    {
     "data": {
      "application/vnd.jupyter.widget-view+json": {
       "model_id": "",
       "version_major": 2,
       "version_minor": 0
      },
      "text/plain": [
       "FloatProgress(value=0.0, bar_style='info', description='Progress:', layout=Layout(height='25px', width='50%'),…"
      ]
     },
     "metadata": {},
     "output_type": "display_data"
    },
    {
     "name": "stdout",
     "output_type": "stream",
     "text": [
      "5.5"
     ]
    }
   ],
   "source": [
    "more_Q3"
   ]
  },
  {
   "cell_type": "code",
   "execution_count": 70,
   "id": "87d376b9",
   "metadata": {},
   "outputs": [
    {
     "data": {
      "application/vnd.jupyter.widget-view+json": {
       "model_id": "",
       "version_major": 2,
       "version_minor": 0
      },
      "text/plain": [
       "FloatProgress(value=0.0, bar_style='info', description='Progress:', layout=Layout(height='25px', width='50%'),…"
      ]
     },
     "metadata": {},
     "output_type": "display_data"
    },
    {
     "name": "stdout",
     "output_type": "stream",
     "text": [
      "2970967"
     ]
    }
   ],
   "source": [
    "df_new_1.filter(df_new_1['trip_distance']>more_Q3).count()"
   ]
  },
  {
   "cell_type": "markdown",
   "id": "5e4dad4b",
   "metadata": {},
   "source": [
    "__Statistically, any trip have more than 5.5 mile trip distance is an outlier. We have around 12% of our data contains trips above 5.5 mile. But in reality trips more than 5.5 doesnt sound like incorrect. and outliers will not affect our model since we are going to aggregate the counts of trips. so we will just remove the unrealistic values__"
   ]
  },
  {
   "cell_type": "code",
   "execution_count": 71,
   "id": "4550fbdc",
   "metadata": {
    "scrolled": true
   },
   "outputs": [
    {
     "data": {
      "application/vnd.jupyter.widget-view+json": {
       "model_id": "",
       "version_major": 2,
       "version_minor": 0
      },
      "text/plain": [
       "FloatProgress(value=0.0, bar_style='info', description='Progress:', layout=Layout(height='25px', width='50%'),…"
      ]
     },
     "metadata": {},
     "output_type": "display_data"
    },
    {
     "name": "stdout",
     "output_type": "stream",
     "text": [
      "+-------------+-----+\n",
      "|trip_distance|count|\n",
      "+-------------+-----+\n",
      "|    350914.89|    1|\n",
      "|    350814.14|    1|\n",
      "|     350793.6|    1|\n",
      "|    350722.34|    1|\n",
      "|    350696.98|    1|\n",
      "|    350104.58|    1|\n",
      "|    349987.05|    1|\n",
      "|     349692.3|    1|\n",
      "|    297004.51|    1|\n",
      "|    275196.59|    1|\n",
      "|    269803.73|    1|\n",
      "|    256305.74|    1|\n",
      "|    256069.13|    1|\n",
      "|    239679.02|    1|\n",
      "|    231147.49|    1|\n",
      "|    222795.31|    1|\n",
      "|    220386.23|    1|\n",
      "|    210240.07|    1|\n",
      "|    210148.62|    1|\n",
      "|    180827.51|    1|\n",
      "|    178867.75|    1|\n",
      "|     176229.2|    1|\n",
      "|    175262.86|    1|\n",
      "|    174549.75|    1|\n",
      "|    172457.25|    1|\n",
      "|    167329.45|    1|\n",
      "|    166143.17|    1|\n",
      "|    165818.42|    1|\n",
      "|    161653.36|    1|\n",
      "|     161646.2|    1|\n",
      "|    148411.45|    1|\n",
      "|    148342.26|    1|\n",
      "|    138953.37|    1|\n",
      "|    138384.62|    1|\n",
      "|    136619.47|    1|\n",
      "|    130587.13|    1|\n",
      "|    128870.92|    1|\n",
      "|    127377.15|    1|\n",
      "|    126501.77|    1|\n",
      "|     125405.4|    1|\n",
      "|     120206.7|    1|\n",
      "|    118274.34|    1|\n",
      "|    117175.07|    1|\n",
      "|    111364.72|    1|\n",
      "|    105246.73|    1|\n",
      "|    104952.37|    1|\n",
      "|    104922.05|    1|\n",
      "|     104896.6|    1|\n",
      "|     103307.4|    1|\n",
      "|    102854.97|    1|\n",
      "+-------------+-----+\n",
      "only showing top 50 rows"
     ]
    }
   ],
   "source": [
    "df_new_1.groupBy('trip_distance').count().orderBy(df_new_1['trip_distance'].desc()).show(50)"
   ]
  },
  {
   "cell_type": "markdown",
   "id": "0391ea46",
   "metadata": {},
   "source": [
    "These all looks like unrealistic trips, lets check the percentile values"
   ]
  },
  {
   "cell_type": "code",
   "execution_count": 72,
   "id": "c95cd541",
   "metadata": {},
   "outputs": [
    {
     "data": {
      "application/vnd.jupyter.widget-view+json": {
       "model_id": "",
       "version_major": 2,
       "version_minor": 0
      },
      "text/plain": [
       "FloatProgress(value=0.0, bar_style='info', description='Progress:', layout=Layout(height='25px', width='50%'),…"
      ]
     },
     "metadata": {},
     "output_type": "display_data"
    },
    {
     "name": "stdout",
     "output_type": "stream",
     "text": [
      "The 90th percentile of trip distance is:  5.91"
     ]
    }
   ],
   "source": [
    "print('The 90th percentile of trip distance is: ',df_new_1.approxQuantile('trip_distance',[0.90],relativeError=0.05)[0])"
   ]
  },
  {
   "cell_type": "code",
   "execution_count": 73,
   "id": "f30e1114",
   "metadata": {},
   "outputs": [
    {
     "data": {
      "application/vnd.jupyter.widget-view+json": {
       "model_id": "",
       "version_major": 2,
       "version_minor": 0
      },
      "text/plain": [
       "FloatProgress(value=0.0, bar_style='info', description='Progress:', layout=Layout(height='25px', width='50%'),…"
      ]
     },
     "metadata": {},
     "output_type": "display_data"
    },
    {
     "name": "stdout",
     "output_type": "stream",
     "text": [
      "The 94th percentile of trip distance is:  8.76"
     ]
    }
   ],
   "source": [
    "print('The 94th percentile of trip distance is: ',df_new_1.approxQuantile('trip_distance',[0.94],relativeError=0.05)[0])"
   ]
  },
  {
   "cell_type": "code",
   "execution_count": 74,
   "id": "07c8a981",
   "metadata": {},
   "outputs": [
    {
     "data": {
      "application/vnd.jupyter.widget-view+json": {
       "model_id": "",
       "version_major": 2,
       "version_minor": 0
      },
      "text/plain": [
       "FloatProgress(value=0.0, bar_style='info', description='Progress:', layout=Layout(height='25px', width='50%'),…"
      ]
     },
     "metadata": {},
     "output_type": "display_data"
    },
    {
     "name": "stdout",
     "output_type": "stream",
     "text": [
      "1644659"
     ]
    }
   ],
   "source": [
    "df_new_1.filter(df_new_1['trip_distance']>8.76).count()"
   ]
  },
  {
   "cell_type": "markdown",
   "id": "b8e9c932",
   "metadata": {},
   "source": [
    "Around 6 % from the trips is above 8.76 miles . but still 8.76 mile per trip is realistic. we will just try to remove the unrealistic trips by removing `any trip above 1000 mile`"
   ]
  },
  {
   "cell_type": "code",
   "execution_count": 75,
   "id": "ae07b655",
   "metadata": {},
   "outputs": [
    {
     "data": {
      "application/vnd.jupyter.widget-view+json": {
       "model_id": "",
       "version_major": 2,
       "version_minor": 0
      },
      "text/plain": [
       "FloatProgress(value=0.0, bar_style='info', description='Progress:', layout=Layout(height='25px', width='50%'),…"
      ]
     },
     "metadata": {},
     "output_type": "display_data"
    },
    {
     "name": "stdout",
     "output_type": "stream",
     "text": [
      "190"
     ]
    }
   ],
   "source": [
    "# Number of trips above or equal 1000 miles\n",
    "df_new_1.filter(df_new_1['trip_distance']>=1000).count()"
   ]
  },
  {
   "cell_type": "code",
   "execution_count": 76,
   "id": "d4823f50",
   "metadata": {},
   "outputs": [
    {
     "data": {
      "application/vnd.jupyter.widget-view+json": {
       "model_id": "",
       "version_major": 2,
       "version_minor": 0
      },
      "text/plain": [
       "FloatProgress(value=0.0, bar_style='info', description='Progress:', layout=Layout(height='25px', width='50%'),…"
      ]
     },
     "metadata": {},
     "output_type": "display_data"
    }
   ],
   "source": [
    "df_new_1=df_new_1.filter(df_new_1['trip_distance']<1000)"
   ]
  },
  {
   "cell_type": "code",
   "execution_count": 77,
   "id": "68087f56",
   "metadata": {},
   "outputs": [
    {
     "data": {
      "application/vnd.jupyter.widget-view+json": {
       "model_id": "",
       "version_major": 2,
       "version_minor": 0
      },
      "text/plain": [
       "FloatProgress(value=0.0, bar_style='info', description='Progress:', layout=Layout(height='25px', width='50%'),…"
      ]
     },
     "metadata": {},
     "output_type": "display_data"
    },
    {
     "name": "stdout",
     "output_type": "stream",
     "text": [
      "24473993"
     ]
    }
   ],
   "source": [
    "df_new_1.count()"
   ]
  },
  {
   "cell_type": "markdown",
   "id": "88cd018d",
   "metadata": {},
   "source": [
    "## 2.3 Fare amount\n",
    "As per https://www1.nyc.gov/site/tlc/passengers/taxi-fare.page the min fare amount is $2.50 initial charge. so we will analyze the fare amount"
   ]
  },
  {
   "cell_type": "code",
   "execution_count": 78,
   "id": "bc3c8ba6",
   "metadata": {},
   "outputs": [
    {
     "data": {
      "application/vnd.jupyter.widget-view+json": {
       "model_id": "",
       "version_major": 2,
       "version_minor": 0
      },
      "text/plain": [
       "FloatProgress(value=0.0, bar_style='info', description='Progress:', layout=Layout(height='25px', width='50%'),…"
      ]
     },
     "metadata": {},
     "output_type": "display_data"
    },
    {
     "name": "stdout",
     "output_type": "stream",
     "text": [
      "104476"
     ]
    }
   ],
   "source": [
    "# count of trips that have fare amount less than 2.5 dollars \n",
    "df_new_1.filter(df_new_1['fare_amount']<2.5).count()"
   ]
  },
  {
   "cell_type": "code",
   "execution_count": 79,
   "id": "ef708696",
   "metadata": {},
   "outputs": [
    {
     "data": {
      "application/vnd.jupyter.widget-view+json": {
       "model_id": "",
       "version_major": 2,
       "version_minor": 0
      },
      "text/plain": [
       "FloatProgress(value=0.0, bar_style='info', description='Progress:', layout=Layout(height='25px', width='50%'),…"
      ]
     },
     "metadata": {},
     "output_type": "display_data"
    }
   ],
   "source": [
    "#removing the trips that have fare amount less than 2.5\n",
    "df_new_1=df_new_1.filter(df_new_1['fare_amount']>=2.5)"
   ]
  },
  {
   "cell_type": "code",
   "execution_count": 80,
   "id": "68535dee",
   "metadata": {},
   "outputs": [
    {
     "data": {
      "application/vnd.jupyter.widget-view+json": {
       "model_id": "",
       "version_major": 2,
       "version_minor": 0
      },
      "text/plain": [
       "FloatProgress(value=0.0, bar_style='info', description='Progress:', layout=Layout(height='25px', width='50%'),…"
      ]
     },
     "metadata": {},
     "output_type": "display_data"
    },
    {
     "name": "stdout",
     "output_type": "stream",
     "text": [
      "+-------+------------------+\n",
      "|summary|       fare_amount|\n",
      "+-------+------------------+\n",
      "|  count|          24369517|\n",
      "|   mean|12.669900323806095|\n",
      "| stddev|263.56079833086795|\n",
      "|    min|               2.5|\n",
      "|    max|         998310.03|\n",
      "+-------+------------------+"
     ]
    }
   ],
   "source": [
    "df_new_1.select('fare_amount').describe().show()"
   ]
  },
  {
   "cell_type": "markdown",
   "id": "592f92ff",
   "metadata": {},
   "source": [
    "As we can see, the average fare amount is 12.6 $ but we have unrealistic fare_amount which need to be removed."
   ]
  },
  {
   "cell_type": "code",
   "execution_count": 81,
   "id": "591e6dee",
   "metadata": {
    "scrolled": true
   },
   "outputs": [
    {
     "data": {
      "application/vnd.jupyter.widget-view+json": {
       "model_id": "",
       "version_major": 2,
       "version_minor": 0
      },
      "text/plain": [
       "FloatProgress(value=0.0, bar_style='info', description='Progress:', layout=Layout(height='25px', width='50%'),…"
      ]
     },
     "metadata": {},
     "output_type": "display_data"
    },
    {
     "name": "stdout",
     "output_type": "stream",
     "text": [
      "+-----------+-----+\n",
      "|fare_amount|count|\n",
      "+-----------+-----+\n",
      "|  998310.03|    1|\n",
      "|  671100.14|    1|\n",
      "|  429496.72|    1|\n",
      "|  187438.96|    1|\n",
      "|  151504.45|    1|\n",
      "|     6964.0|    1|\n",
      "|     6052.0|    1|\n",
      "|     4265.0|    1|\n",
      "|     3014.5|    1|\n",
      "|     1718.5|    1|\n",
      "|     1333.0|    1|\n",
      "|     1259.0|    1|\n",
      "|     1238.0|    1|\n",
      "|     1091.0|    1|\n",
      "|     999.08|    1|\n",
      "|      960.5|    1|\n",
      "|      950.0|    3|\n",
      "|      941.5|    1|\n",
      "|      900.0|    1|\n",
      "|      850.0|    1|\n",
      "|      820.5|    1|\n",
      "|      819.5|    1|\n",
      "|      804.0|    1|\n",
      "|      801.5|    1|\n",
      "|      800.0|    4|\n",
      "|      780.0|    1|\n",
      "|      771.0|    1|\n",
      "|      765.5|    1|\n",
      "|      750.0|    3|\n",
      "|      740.0|    1|\n",
      "|      735.5|    1|\n",
      "|      730.0|    1|\n",
      "|      708.5|    1|\n",
      "|      703.5|    1|\n",
      "|      700.0|    9|\n",
      "|      699.5|    1|\n",
      "|      656.5|    1|\n",
      "|     655.35|    4|\n",
      "|      652.5|    1|\n",
      "|      651.5|    1|\n",
      "|      650.0|    3|\n",
      "|      641.5|    1|\n",
      "|     639.23|    1|\n",
      "|      632.5|    1|\n",
      "|      631.0|    1|\n",
      "|      616.0|    1|\n",
      "|      615.0|    1|\n",
      "|      614.0|    1|\n",
      "|      610.0|    1|\n",
      "|      609.5|    1|\n",
      "+-----------+-----+\n",
      "only showing top 50 rows"
     ]
    }
   ],
   "source": [
    "df_new_1.groupBy('fare_amount').count().orderBy(df_new_1['fare_amount'].desc()).show(50)"
   ]
  },
  {
   "cell_type": "markdown",
   "id": "2122dc59",
   "metadata": {},
   "source": [
    "__Checking the outliers__"
   ]
  },
  {
   "cell_type": "code",
   "execution_count": 82,
   "id": "bad888c4",
   "metadata": {},
   "outputs": [
    {
     "data": {
      "application/vnd.jupyter.widget-view+json": {
       "model_id": "",
       "version_major": 2,
       "version_minor": 0
      },
      "text/plain": [
       "FloatProgress(value=0.0, bar_style='info', description='Progress:', layout=Layout(height='25px', width='50%'),…"
      ]
     },
     "metadata": {},
     "output_type": "display_data"
    }
   ],
   "source": [
    " # Q1 : First Quartile ., Q3 : Third Quartile\n",
    "Q1 = df_new_1.approxQuantile('fare_amount',[0.25],relativeError=0.05)\n",
    "Q3 = df_new_1.approxQuantile('fare_amount',[0.75],relativeError=0.05)"
   ]
  },
  {
   "cell_type": "code",
   "execution_count": 83,
   "id": "b1958a37",
   "metadata": {},
   "outputs": [
    {
     "data": {
      "application/vnd.jupyter.widget-view+json": {
       "model_id": "",
       "version_major": 2,
       "version_minor": 0
      },
      "text/plain": [
       "FloatProgress(value=0.0, bar_style='info', description='Progress:', layout=Layout(height='25px', width='50%'),…"
      ]
     },
     "metadata": {},
     "output_type": "display_data"
    }
   ],
   "source": [
    "#IQR : Inter Quantile Range\n",
    "#We need to define the index [0], as Q1 & Q3 are a set of lists\n",
    "IQR = Q3[0] - Q1[0]"
   ]
  },
  {
   "cell_type": "code",
   "execution_count": 84,
   "id": "49911600",
   "metadata": {},
   "outputs": [
    {
     "data": {
      "application/vnd.jupyter.widget-view+json": {
       "model_id": "",
       "version_major": 2,
       "version_minor": 0
      },
      "text/plain": [
       "FloatProgress(value=0.0, bar_style='info', description='Progress:', layout=Layout(height='25px', width='50%'),…"
      ]
     },
     "metadata": {},
     "output_type": "display_data"
    }
   ],
   "source": [
    "#selecting the data, with -1.5*IQR to + 1.5*IQR., where param = 1.5 default value\n",
    "less_Q1 =  Q1[0] - 1.5*IQR\n",
    "more_Q3 =  Q3[0] + 1.5*IQR"
   ]
  },
  {
   "cell_type": "code",
   "execution_count": 85,
   "id": "6d1ca54b",
   "metadata": {},
   "outputs": [
    {
     "data": {
      "application/vnd.jupyter.widget-view+json": {
       "model_id": "",
       "version_major": 2,
       "version_minor": 0
      },
      "text/plain": [
       "FloatProgress(value=0.0, bar_style='info', description='Progress:', layout=Layout(height='25px', width='50%'),…"
      ]
     },
     "metadata": {},
     "output_type": "display_data"
    },
    {
     "name": "stdout",
     "output_type": "stream",
     "text": [
      "22.75"
     ]
    }
   ],
   "source": [
    "more_Q3"
   ]
  },
  {
   "cell_type": "code",
   "execution_count": 86,
   "id": "54e3f8fe",
   "metadata": {},
   "outputs": [
    {
     "data": {
      "application/vnd.jupyter.widget-view+json": {
       "model_id": "",
       "version_major": 2,
       "version_minor": 0
      },
      "text/plain": [
       "FloatProgress(value=0.0, bar_style='info', description='Progress:', layout=Layout(height='25px', width='50%'),…"
      ]
     },
     "metadata": {},
     "output_type": "display_data"
    },
    {
     "name": "stdout",
     "output_type": "stream",
     "text": [
      "2661686"
     ]
    }
   ],
   "source": [
    "df_new_1.filter(df_new_1['fare_amount']>more_Q3).count()"
   ]
  },
  {
   "cell_type": "markdown",
   "id": "838b2157",
   "metadata": {},
   "source": [
    "We have 9.6% of our trips have fare amount 22.75 dollars and considered as outliers. but still we will keep them and remove the unrealistic values"
   ]
  },
  {
   "cell_type": "code",
   "execution_count": 87,
   "id": "ff90e9c7",
   "metadata": {},
   "outputs": [
    {
     "data": {
      "application/vnd.jupyter.widget-view+json": {
       "model_id": "",
       "version_major": 2,
       "version_minor": 0
      },
      "text/plain": [
       "FloatProgress(value=0.0, bar_style='info', description='Progress:', layout=Layout(height='25px', width='50%'),…"
      ]
     },
     "metadata": {},
     "output_type": "display_data"
    },
    {
     "name": "stdout",
     "output_type": "stream",
     "text": [
      "113"
     ]
    }
   ],
   "source": [
    "df_new_1.filter(df_new_1['fare_amount']>500).count()"
   ]
  },
  {
   "cell_type": "markdown",
   "id": "c4afbd6b",
   "metadata": {},
   "source": [
    "__we will remove the trips `above 500 dollars` since its not realistic in my point of view and only 113 trips which will not affect our data__"
   ]
  },
  {
   "cell_type": "code",
   "execution_count": 88,
   "id": "7b9fb7a4",
   "metadata": {},
   "outputs": [
    {
     "data": {
      "application/vnd.jupyter.widget-view+json": {
       "model_id": "",
       "version_major": 2,
       "version_minor": 0
      },
      "text/plain": [
       "FloatProgress(value=0.0, bar_style='info', description='Progress:', layout=Layout(height='25px', width='50%'),…"
      ]
     },
     "metadata": {},
     "output_type": "display_data"
    }
   ],
   "source": [
    "df_new_1=df_new_1.filter(df_new_1['fare_amount']<=500)"
   ]
  },
  {
   "cell_type": "code",
   "execution_count": 89,
   "id": "5f8e4448",
   "metadata": {},
   "outputs": [
    {
     "data": {
      "application/vnd.jupyter.widget-view+json": {
       "model_id": "",
       "version_major": 2,
       "version_minor": 0
      },
      "text/plain": [
       "FloatProgress(value=0.0, bar_style='info', description='Progress:', layout=Layout(height='25px', width='50%'),…"
      ]
     },
     "metadata": {},
     "output_type": "display_data"
    },
    {
     "name": "stdout",
     "output_type": "stream",
     "text": [
      "24369404"
     ]
    }
   ],
   "source": [
    "df_new_1.count()"
   ]
  },
  {
   "cell_type": "markdown",
   "id": "550a262c",
   "metadata": {},
   "source": [
    "## 2.4 Passenger\n",
    "\n",
    "The number of passengers in the vehicle.\n",
    "This is a driver-entered value."
   ]
  },
  {
   "cell_type": "code",
   "execution_count": 90,
   "id": "cfce75b3",
   "metadata": {},
   "outputs": [
    {
     "data": {
      "application/vnd.jupyter.widget-view+json": {
       "model_id": "",
       "version_major": 2,
       "version_minor": 0
      },
      "text/plain": [
       "FloatProgress(value=0.0, bar_style='info', description='Progress:', layout=Layout(height='25px', width='50%'),…"
      ]
     },
     "metadata": {},
     "output_type": "display_data"
    },
    {
     "name": "stdout",
     "output_type": "stream",
     "text": [
      "+-------+------------------+\n",
      "|summary|   passenger_count|\n",
      "+-------+------------------+\n",
      "|  count|          23572450|\n",
      "|   mean|1.4709482467880937|\n",
      "| stddev|1.1158997023789476|\n",
      "|    min|               0.0|\n",
      "|    max|               9.0|\n",
      "+-------+------------------+"
     ]
    }
   ],
   "source": [
    "df_new_1.select('passenger_count').describe().show()"
   ]
  },
  {
   "cell_type": "code",
   "execution_count": 91,
   "id": "d7dcc5fb",
   "metadata": {},
   "outputs": [
    {
     "data": {
      "application/vnd.jupyter.widget-view+json": {
       "model_id": "",
       "version_major": 2,
       "version_minor": 0
      },
      "text/plain": [
       "FloatProgress(value=0.0, bar_style='info', description='Progress:', layout=Layout(height='25px', width='50%'),…"
      ]
     },
     "metadata": {},
     "output_type": "display_data"
    },
    {
     "name": "stdout",
     "output_type": "stream",
     "text": [
      "487096"
     ]
    }
   ],
   "source": [
    "df_new_1.filter(df_new_1['passenger_count']==0).count()"
   ]
  },
  {
   "cell_type": "markdown",
   "id": "edd73997",
   "metadata": {},
   "source": [
    "Since its the taxi driver entry, maybe its was written by mistake. so will not remove the trips with zero passenger count"
   ]
  },
  {
   "cell_type": "markdown",
   "id": "121487dc",
   "metadata": {},
   "source": [
    "## 2.5 Trip duration\n",
    "As per NYC Taxi & Limousine Commision Regulations, the maximum duration taxi driver can drive per day is 12 hours, so we will assume that the max trip duration could be 12 hours and remove and records axceed 12 hours\n",
    "\n",
    "Steps to remove the trips above 12 hours:\n",
    "\n",
    "* We will create new column that contain the trip duration by second `trip_duration_seconds` (just subtract the UNIX pickup time from the UNIX drop time)\n",
    "\n",
    "* We will create trip_duration in hours from the newly created `trip_duration_seconds`\n",
    "\n",
    "* Then filterout and remove any trip above 12 hours"
   ]
  },
  {
   "cell_type": "code",
   "execution_count": 92,
   "id": "e8b9bf8d",
   "metadata": {},
   "outputs": [
    {
     "data": {
      "application/vnd.jupyter.widget-view+json": {
       "model_id": "",
       "version_major": 2,
       "version_minor": 0
      },
      "text/plain": [
       "FloatProgress(value=0.0, bar_style='info', description='Progress:', layout=Layout(height='25px', width='50%'),…"
      ]
     },
     "metadata": {},
     "output_type": "display_data"
    },
    {
     "name": "stdout",
     "output_type": "stream",
     "text": [
      "+--------------------+---------------------+---------------------+\n",
      "|tpep_pickup_datetime|tpep_dropoff_datetime|trip_duration_seconds|\n",
      "+--------------------+---------------------+---------------------+\n",
      "| 2020-04-01 00:41:22|  2020-04-01 01:01:53|                 1231|\n",
      "| 2020-04-01 00:56:00|  2020-04-01 01:09:25|                  805|\n",
      "| 2020-04-01 00:00:26|  2020-04-01 00:09:25|                  539|\n",
      "| 2020-04-01 00:24:38|  2020-04-01 00:34:38|                  600|\n",
      "| 2020-04-01 00:13:24|  2020-04-01 00:18:26|                  302|\n",
      "| 2020-04-01 00:24:36|  2020-04-01 00:33:09|                  513|\n",
      "| 2020-04-01 00:56:56|  2020-04-01 01:09:13|                  737|\n",
      "| 2020-04-01 00:06:56|  2020-04-01 00:14:15|                  439|\n",
      "| 2020-04-01 00:50:05|  2020-04-01 01:08:54|                 1129|\n",
      "| 2020-04-01 00:07:10|  2020-04-01 00:18:45|                  695|\n",
      "| 2020-04-01 00:37:21|  2020-04-01 00:46:00|                  519|\n",
      "| 2020-04-01 00:19:44|  2020-04-01 00:22:27|                  163|\n",
      "| 2020-04-01 00:13:15|  2020-04-01 00:18:30|                  315|\n",
      "| 2020-04-01 00:34:54|  2020-04-01 01:04:55|                 1801|\n",
      "| 2020-04-01 00:03:53|  2020-04-01 00:12:10|                  497|\n",
      "| 2020-04-01 00:26:37|  2020-04-01 00:37:13|                  636|\n",
      "| 2020-04-01 00:20:11|  2020-04-01 00:45:10|                 1499|\n",
      "| 2020-04-01 00:27:35|  2020-04-01 00:38:50|                  675|\n",
      "| 2020-04-01 00:20:26|  2020-04-01 00:27:09|                  403|\n",
      "| 2020-04-01 00:50:10|  2020-04-01 00:57:24|                  434|\n",
      "+--------------------+---------------------+---------------------+\n",
      "only showing top 20 rows"
     ]
    }
   ],
   "source": [
    "# Create new coloumn trip_duration_seconds\n",
    "df_new_1.withColumn('trip_duration_seconds',unix_timestamp(\"tpep_dropoff_datetime\") - unix_timestamp('tpep_pickup_datetime'))\\\n",
    ".select(['tpep_pickup_datetime','tpep_dropoff_datetime','trip_duration_seconds']).show(20)"
   ]
  },
  {
   "cell_type": "code",
   "execution_count": 93,
   "id": "4b45ab82",
   "metadata": {},
   "outputs": [
    {
     "data": {
      "application/vnd.jupyter.widget-view+json": {
       "model_id": "",
       "version_major": 2,
       "version_minor": 0
      },
      "text/plain": [
       "FloatProgress(value=0.0, bar_style='info', description='Progress:', layout=Layout(height='25px', width='50%'),…"
      ]
     },
     "metadata": {},
     "output_type": "display_data"
    }
   ],
   "source": [
    "df_new_1=df_new_1.withColumn('trip_duration_seconds',unix_timestamp(\"tpep_dropoff_datetime\") - unix_timestamp('tpep_pickup_datetime'))"
   ]
  },
  {
   "cell_type": "code",
   "execution_count": 94,
   "id": "31d39ca9",
   "metadata": {},
   "outputs": [
    {
     "data": {
      "application/vnd.jupyter.widget-view+json": {
       "model_id": "",
       "version_major": 2,
       "version_minor": 0
      },
      "text/plain": [
       "FloatProgress(value=0.0, bar_style='info', description='Progress:', layout=Layout(height='25px', width='50%'),…"
      ]
     },
     "metadata": {},
     "output_type": "display_data"
    }
   ],
   "source": [
    "#We will create trip duration in hour which is the `trip_duration_seconds / 3600`\n",
    "df_new_1=df_new_1.withColumn('duration_In_Hours',round(col('trip_duration_seconds')/3600,1))"
   ]
  },
  {
   "cell_type": "code",
   "execution_count": 95,
   "id": "7ee00b49",
   "metadata": {},
   "outputs": [
    {
     "data": {
      "application/vnd.jupyter.widget-view+json": {
       "model_id": "",
       "version_major": 2,
       "version_minor": 0
      },
      "text/plain": [
       "FloatProgress(value=0.0, bar_style='info', description='Progress:', layout=Layout(height='25px', width='50%'),…"
      ]
     },
     "metadata": {},
     "output_type": "display_data"
    },
    {
     "name": "stdout",
     "output_type": "stream",
     "text": [
      "45406"
     ]
    }
   ],
   "source": [
    "df_new_1.filter(df_new_1['duration_In_Hours']>12).count()"
   ]
  },
  {
   "cell_type": "code",
   "execution_count": 96,
   "id": "a93a3df1",
   "metadata": {},
   "outputs": [
    {
     "data": {
      "application/vnd.jupyter.widget-view+json": {
       "model_id": "",
       "version_major": 2,
       "version_minor": 0
      },
      "text/plain": [
       "FloatProgress(value=0.0, bar_style='info', description='Progress:', layout=Layout(height='25px', width='50%'),…"
      ]
     },
     "metadata": {},
     "output_type": "display_data"
    }
   ],
   "source": [
    "df_new_1=df_new_1.filter(df_new_1['duration_In_Hours']<=12)"
   ]
  },
  {
   "cell_type": "code",
   "execution_count": 97,
   "id": "6a7c49a4",
   "metadata": {},
   "outputs": [
    {
     "data": {
      "application/vnd.jupyter.widget-view+json": {
       "model_id": "",
       "version_major": 2,
       "version_minor": 0
      },
      "text/plain": [
       "FloatProgress(value=0.0, bar_style='info', description='Progress:', layout=Layout(height='25px', width='50%'),…"
      ]
     },
     "metadata": {},
     "output_type": "display_data"
    },
    {
     "name": "stdout",
     "output_type": "stream",
     "text": [
      "0"
     ]
    }
   ],
   "source": [
    "df_new_1.filter(df_new_1['duration_In_Hours']>12).count()"
   ]
  },
  {
   "cell_type": "markdown",
   "id": "2bf68873",
   "metadata": {},
   "source": [
    "## 2.6 Check the trips in each month\n",
    "\n",
    "The trips in each month shpuld be dropped in the same month and some trips in the next month. for example january trips will have pick-up trips occurred in january and the drop of these trips must be in january and some of them will be dropped in february, following the assumption that some trips have been picked during the last hour in 31-Jan and it might been dropped in the first hour during the february first."
   ]
  },
  {
   "cell_type": "code",
   "execution_count": 99,
   "id": "074ff52b",
   "metadata": {},
   "outputs": [
    {
     "data": {
      "application/vnd.jupyter.widget-view+json": {
       "model_id": "",
       "version_major": 2,
       "version_minor": 0
      },
      "text/plain": [
       "FloatProgress(value=0.0, bar_style='info', description='Progress:', layout=Layout(height='25px', width='50%'),…"
      ]
     },
     "metadata": {},
     "output_type": "display_data"
    },
    {
     "name": "stdout",
     "output_type": "stream",
     "text": [
      "Pick up month  1 [Row(drop_month=1), Row(drop_month=2)]\n",
      "Pick up month  2 [Row(drop_month=3), Row(drop_month=2)]\n",
      "Pick up month  3 [Row(drop_month=3), Row(drop_month=4), Row(drop_month=2)]\n",
      "Pick up month  4 [Row(drop_month=4), Row(drop_month=5)]\n",
      "Pick up month  5 [Row(drop_month=6), Row(drop_month=5)]\n",
      "Pick up month  6 [Row(drop_month=6), Row(drop_month=7)]\n",
      "Pick up month  7 [Row(drop_month=8), Row(drop_month=7)]\n",
      "Pick up month  8 [Row(drop_month=8), Row(drop_month=9)]\n",
      "Pick up month  9 [Row(drop_month=9), Row(drop_month=10)]\n",
      "Pick up month  10 [Row(drop_month=11), Row(drop_month=10)]\n",
      "Pick up month  11 [Row(drop_month=12), Row(drop_month=11)]\n",
      "Pick up month  12 [Row(drop_month=12), Row(drop_month=1)]"
     ]
    }
   ],
   "source": [
    "for i in range(1,13):\n",
    "    print('Pick up month ',i,df_new_1.filter(df_new_1['Pick_month']==i).select('drop_month').distinct().collect())"
   ]
  },
  {
   "cell_type": "markdown",
   "id": "8002def8",
   "metadata": {},
   "source": [
    "__We notice that in March trips we have trips dropped in feb which is incorrect. lets view this data__"
   ]
  },
  {
   "cell_type": "code",
   "execution_count": 100,
   "id": "89b2ab0f",
   "metadata": {},
   "outputs": [
    {
     "data": {
      "application/vnd.jupyter.widget-view+json": {
       "model_id": "",
       "version_major": 2,
       "version_minor": 0
      },
      "text/plain": [
       "FloatProgress(value=0.0, bar_style='info', description='Progress:', layout=Layout(height='25px', width='50%'),…"
      ]
     },
     "metadata": {},
     "output_type": "display_data"
    },
    {
     "name": "stdout",
     "output_type": "stream",
     "text": [
      "1"
     ]
    }
   ],
   "source": [
    "df_new_1.filter((df_new_1['Pick_month']==3) & (df_new_1['drop_month']==2)).count()"
   ]
  },
  {
   "cell_type": "code",
   "execution_count": 101,
   "id": "de30491c",
   "metadata": {},
   "outputs": [
    {
     "data": {
      "application/vnd.jupyter.widget-view+json": {
       "model_id": "",
       "version_major": 2,
       "version_minor": 0
      },
      "text/plain": [
       "FloatProgress(value=0.0, bar_style='info', description='Progress:', layout=Layout(height='25px', width='50%'),…"
      ]
     },
     "metadata": {},
     "output_type": "display_data"
    },
    {
     "name": "stdout",
     "output_type": "stream",
     "text": [
      "+--------------------+---------------------+\n",
      "|tpep_pickup_datetime|tpep_dropoff_datetime|\n",
      "+--------------------+---------------------+\n",
      "| 2020-03-13 06:20:37|  2020-02-09 07:18:00|\n",
      "+--------------------+---------------------+"
     ]
    }
   ],
   "source": [
    "df_new_1.filter((df_new_1['Pick_month']==3) & (df_new_1['drop_month']==2)).select(['tpep_pickup_datetime','tpep_dropoff_datetime']).show()"
   ]
  },
  {
   "cell_type": "markdown",
   "id": "aa798121",
   "metadata": {},
   "source": [
    "its wrong trip which should be removed"
   ]
  },
  {
   "cell_type": "markdown",
   "id": "bb4a63db",
   "metadata": {},
   "source": [
    "__Steps to remove this trip:__\n",
    "\n",
    "* create dataset without march\n",
    "\n",
    "* create dataframe only for March trips\n",
    "\n",
    "* filter out this row and union the two dataframe"
   ]
  },
  {
   "cell_type": "code",
   "execution_count": 103,
   "id": "865f3f80",
   "metadata": {},
   "outputs": [
    {
     "data": {
      "application/vnd.jupyter.widget-view+json": {
       "model_id": "",
       "version_major": 2,
       "version_minor": 0
      },
      "text/plain": [
       "FloatProgress(value=0.0, bar_style='info', description='Progress:', layout=Layout(height='25px', width='50%'),…"
      ]
     },
     "metadata": {},
     "output_type": "display_data"
    },
    {
     "name": "stdout",
     "output_type": "stream",
     "text": [
      "24323998"
     ]
    }
   ],
   "source": [
    "df_new_1.count()"
   ]
  },
  {
   "cell_type": "code",
   "execution_count": 104,
   "id": "6d99b92a",
   "metadata": {},
   "outputs": [
    {
     "data": {
      "application/vnd.jupyter.widget-view+json": {
       "model_id": "",
       "version_major": 2,
       "version_minor": 0
      },
      "text/plain": [
       "FloatProgress(value=0.0, bar_style='info', description='Progress:', layout=Layout(height='25px', width='50%'),…"
      ]
     },
     "metadata": {},
     "output_type": "display_data"
    },
    {
     "name": "stdout",
     "output_type": "stream",
     "text": [
      "2976075"
     ]
    }
   ],
   "source": [
    "df_new_1.filter(df_new_1['Pick_month']==3).count()"
   ]
  },
  {
   "cell_type": "code",
   "execution_count": 105,
   "id": "c0e1192f",
   "metadata": {},
   "outputs": [
    {
     "data": {
      "application/vnd.jupyter.widget-view+json": {
       "model_id": "",
       "version_major": 2,
       "version_minor": 0
      },
      "text/plain": [
       "FloatProgress(value=0.0, bar_style='info', description='Progress:', layout=Layout(height='25px', width='50%'),…"
      ]
     },
     "metadata": {},
     "output_type": "display_data"
    },
    {
     "name": "stdout",
     "output_type": "stream",
     "text": [
      "21347923"
     ]
    }
   ],
   "source": [
    "df_new_1.filter(df_new_1['Pick_month']!=3).count()"
   ]
  },
  {
   "cell_type": "code",
   "execution_count": 106,
   "id": "09768631",
   "metadata": {},
   "outputs": [
    {
     "data": {
      "application/vnd.jupyter.widget-view+json": {
       "model_id": "",
       "version_major": 2,
       "version_minor": 0
      },
      "text/plain": [
       "FloatProgress(value=0.0, bar_style='info', description='Progress:', layout=Layout(height='25px', width='50%'),…"
      ]
     },
     "metadata": {},
     "output_type": "display_data"
    }
   ],
   "source": [
    "# create march_df\n",
    "march=df_new_1.filter(df_new_1['Pick_month']==3)"
   ]
  },
  {
   "cell_type": "code",
   "execution_count": 107,
   "id": "55d2a8ac",
   "metadata": {},
   "outputs": [
    {
     "data": {
      "application/vnd.jupyter.widget-view+json": {
       "model_id": "",
       "version_major": 2,
       "version_minor": 0
      },
      "text/plain": [
       "FloatProgress(value=0.0, bar_style='info', description='Progress:', layout=Layout(height='25px', width='50%'),…"
      ]
     },
     "metadata": {},
     "output_type": "display_data"
    }
   ],
   "source": [
    "# create no_march_df\n",
    "no_march_df = df_new_1.filter(df_new_1['Pick_month']!=3)"
   ]
  },
  {
   "cell_type": "code",
   "execution_count": 108,
   "id": "289c67a3",
   "metadata": {},
   "outputs": [
    {
     "data": {
      "application/vnd.jupyter.widget-view+json": {
       "model_id": "",
       "version_major": 2,
       "version_minor": 0
      },
      "text/plain": [
       "FloatProgress(value=0.0, bar_style='info', description='Progress:', layout=Layout(height='25px', width='50%'),…"
      ]
     },
     "metadata": {},
     "output_type": "display_data"
    },
    {
     "name": "stdout",
     "output_type": "stream",
     "text": [
      "1"
     ]
    }
   ],
   "source": [
    "# filter out the feb drop row\n",
    "march.filter(march['drop_month']==2).count()"
   ]
  },
  {
   "cell_type": "code",
   "execution_count": 109,
   "id": "a7b92562",
   "metadata": {},
   "outputs": [
    {
     "data": {
      "application/vnd.jupyter.widget-view+json": {
       "model_id": "",
       "version_major": 2,
       "version_minor": 0
      },
      "text/plain": [
       "FloatProgress(value=0.0, bar_style='info', description='Progress:', layout=Layout(height='25px', width='50%'),…"
      ]
     },
     "metadata": {},
     "output_type": "display_data"
    }
   ],
   "source": [
    "march=march.filter(march['drop_month']!=2)"
   ]
  },
  {
   "cell_type": "code",
   "execution_count": 110,
   "id": "51a60b15",
   "metadata": {},
   "outputs": [
    {
     "data": {
      "application/vnd.jupyter.widget-view+json": {
       "model_id": "",
       "version_major": 2,
       "version_minor": 0
      },
      "text/plain": [
       "FloatProgress(value=0.0, bar_style='info', description='Progress:', layout=Layout(height='25px', width='50%'),…"
      ]
     },
     "metadata": {},
     "output_type": "display_data"
    },
    {
     "name": "stdout",
     "output_type": "stream",
     "text": [
      "[Row(drop_month=3), Row(drop_month=4)]"
     ]
    }
   ],
   "source": [
    "march.select('drop_month').distinct().collect()"
   ]
  },
  {
   "cell_type": "code",
   "execution_count": 111,
   "id": "74322be1",
   "metadata": {},
   "outputs": [
    {
     "data": {
      "application/vnd.jupyter.widget-view+json": {
       "model_id": "",
       "version_major": 2,
       "version_minor": 0
      },
      "text/plain": [
       "FloatProgress(value=0.0, bar_style='info', description='Progress:', layout=Layout(height='25px', width='50%'),…"
      ]
     },
     "metadata": {},
     "output_type": "display_data"
    }
   ],
   "source": [
    "df_new_final = march.union(no_march_df)"
   ]
  },
  {
   "cell_type": "code",
   "execution_count": 112,
   "id": "98f57583",
   "metadata": {},
   "outputs": [
    {
     "data": {
      "application/vnd.jupyter.widget-view+json": {
       "model_id": "",
       "version_major": 2,
       "version_minor": 0
      },
      "text/plain": [
       "FloatProgress(value=0.0, bar_style='info', description='Progress:', layout=Layout(height='25px', width='50%'),…"
      ]
     },
     "metadata": {},
     "output_type": "display_data"
    },
    {
     "name": "stdout",
     "output_type": "stream",
     "text": [
      "24323997"
     ]
    }
   ],
   "source": [
    "df_new_final.count()"
   ]
  },
  {
   "cell_type": "code",
   "execution_count": 113,
   "id": "8979b39b",
   "metadata": {},
   "outputs": [
    {
     "data": {
      "application/vnd.jupyter.widget-view+json": {
       "model_id": "",
       "version_major": 2,
       "version_minor": 0
      },
      "text/plain": [
       "FloatProgress(value=0.0, bar_style='info', description='Progress:', layout=Layout(height='25px', width='50%'),…"
      ]
     },
     "metadata": {},
     "output_type": "display_data"
    },
    {
     "name": "stdout",
     "output_type": "stream",
     "text": [
      "1"
     ]
    }
   ],
   "source": [
    "df_new_1.count() - df_new_final.count()"
   ]
  },
  {
   "cell_type": "code",
   "execution_count": 114,
   "id": "fc0b70d3",
   "metadata": {},
   "outputs": [
    {
     "data": {
      "application/vnd.jupyter.widget-view+json": {
       "model_id": "",
       "version_major": 2,
       "version_minor": 0
      },
      "text/plain": [
       "FloatProgress(value=0.0, bar_style='info', description='Progress:', layout=Layout(height='25px', width='50%'),…"
      ]
     },
     "metadata": {},
     "output_type": "display_data"
    },
    {
     "name": "stdout",
     "output_type": "stream",
     "text": [
      "[Row(Drop_Year=2020), Row(Drop_Year=2021)]"
     ]
    }
   ],
   "source": [
    "# check the drop year for the trips happened in Dec 2020\n",
    "df_new_final.filter(df_new_final['Pick_month']==12).select('Drop_Year').distinct().collect()"
   ]
  },
  {
   "cell_type": "markdown",
   "id": "d31a647f",
   "metadata": {},
   "source": [
    "__Everything look cleaned now__\n",
    "\n",
    "we will move to group and aggregate the trips data"
   ]
  },
  {
   "cell_type": "markdown",
   "id": "511331b4",
   "metadata": {},
   "source": [
    "# 3- Grouping the data per location ID in Hourly basis and Make it ready for Modeling"
   ]
  },
  {
   "cell_type": "markdown",
   "id": "3a490fd3",
   "metadata": {},
   "source": [
    "__We will need to groupby and aggregate the count of the taxi trips per location ID  to be in hourly basis__\n",
    "\n",
    "Lets have look how the data look like"
   ]
  },
  {
   "cell_type": "code",
   "execution_count": 115,
   "id": "1be925d2",
   "metadata": {},
   "outputs": [
    {
     "data": {
      "application/vnd.jupyter.widget-view+json": {
       "model_id": "",
       "version_major": 2,
       "version_minor": 0
      },
      "text/plain": [
       "FloatProgress(value=0.0, bar_style='info', description='Progress:', layout=Layout(height='25px', width='50%'),…"
      ]
     },
     "metadata": {},
     "output_type": "display_data"
    },
    {
     "name": "stdout",
     "output_type": "stream",
     "text": [
      "+--------------------+------------+\n",
      "|tpep_pickup_datetime|PULocationID|\n",
      "+--------------------+------------+\n",
      "| 2020-03-16 06:17:14|          24|\n",
      "| 2020-03-04 10:12:32|          43|\n",
      "| 2020-03-25 18:51:29|          43|\n",
      "| 2020-03-25 19:24:19|         230|\n",
      "| 2020-03-26 04:02:21|         137|\n",
      "| 2020-03-07 12:35:20|          79|\n",
      "| 2020-03-07 13:06:13|         107|\n",
      "| 2020-03-07 13:40:17|         264|\n",
      "| 2020-03-07 13:41:34|         236|\n",
      "| 2020-03-07 14:11:24|         230|\n",
      "| 2020-03-07 14:29:23|         239|\n",
      "| 2020-03-07 14:46:16|         230|\n",
      "| 2020-03-07 15:49:30|         170|\n",
      "| 2020-03-07 16:53:56|         261|\n",
      "| 2020-03-08 06:02:16|         114|\n",
      "| 2020-03-08 06:23:47|         142|\n",
      "| 2020-03-08 07:00:15|         186|\n",
      "| 2020-03-08 08:05:36|         170|\n",
      "| 2020-03-08 09:21:57|         148|\n",
      "| 2020-03-08 10:10:08|          13|\n",
      "+--------------------+------------+\n",
      "only showing top 20 rows"
     ]
    }
   ],
   "source": [
    "df_new_final.select(['tpep_pickup_datetime','PULocationID']).show()"
   ]
  },
  {
   "cell_type": "markdown",
   "id": "2becab3d",
   "metadata": {},
   "source": [
    "__Lets check how many Location ID available in our dataframe__"
   ]
  },
  {
   "cell_type": "code",
   "execution_count": 116,
   "id": "f3b8e57d",
   "metadata": {},
   "outputs": [
    {
     "data": {
      "application/vnd.jupyter.widget-view+json": {
       "model_id": "",
       "version_major": 2,
       "version_minor": 0
      },
      "text/plain": [
       "FloatProgress(value=0.0, bar_style='info', description='Progress:', layout=Layout(height='25px', width='50%'),…"
      ]
     },
     "metadata": {},
     "output_type": "display_data"
    },
    {
     "name": "stdout",
     "output_type": "stream",
     "text": [
      "+----------------------------+\n",
      "|count(DISTINCT PULocationID)|\n",
      "+----------------------------+\n",
      "|                         262|\n",
      "+----------------------------+"
     ]
    }
   ],
   "source": [
    "df_new_final.select(countDistinct(\"PULocationID\")).show()"
   ]
  },
  {
   "cell_type": "markdown",
   "id": "885688a3",
   "metadata": {},
   "source": [
    "__We have 262 location ID, so when we will aggregate the the taxi trips in hourly basis, we should have `366 X 24 X 262 = 2301408 rows`__\n",
    "\n",
    "- 366 days in 2020\n",
    "\n",
    "- 24 hours per day\n",
    "\n",
    "- 262 location ID"
   ]
  },
  {
   "cell_type": "markdown",
   "id": "9e267f74",
   "metadata": {},
   "source": [
    "### Steps:\n",
    "We will change the timestamp to this format `\"yyyy-MM-dd HH:00\"` to be able to group the trips hourly"
   ]
  },
  {
   "cell_type": "code",
   "execution_count": 117,
   "id": "97ed2624",
   "metadata": {},
   "outputs": [
    {
     "data": {
      "application/vnd.jupyter.widget-view+json": {
       "model_id": "",
       "version_major": 2,
       "version_minor": 0
      },
      "text/plain": [
       "FloatProgress(value=0.0, bar_style='info', description='Progress:', layout=Layout(height='25px', width='50%'),…"
      ]
     },
     "metadata": {},
     "output_type": "display_data"
    }
   ],
   "source": [
    "df_new_final=df_new_final.withColumn(\"Pickup_datetime_hourly\", date_format(col(\"tpep_pickup_datetime\").cast(\"timestamp\"), \"yyyy-MM-dd HH:00\"))"
   ]
  },
  {
   "cell_type": "code",
   "execution_count": 122,
   "id": "a20e37ac",
   "metadata": {},
   "outputs": [
    {
     "data": {
      "application/vnd.jupyter.widget-view+json": {
       "model_id": "",
       "version_major": 2,
       "version_minor": 0
      },
      "text/plain": [
       "FloatProgress(value=0.0, bar_style='info', description='Progress:', layout=Layout(height='25px', width='50%'),…"
      ]
     },
     "metadata": {},
     "output_type": "display_data"
    },
    {
     "name": "stdout",
     "output_type": "stream",
     "text": [
      "+--------------------+----------------------+------------+\n",
      "|tpep_pickup_datetime|Pickup_datetime_hourly|PULocationID|\n",
      "+--------------------+----------------------+------------+\n",
      "| 2020-03-16 06:17:14|      2020-03-16 06:00|          24|\n",
      "| 2020-03-04 10:12:32|      2020-03-04 10:00|          43|\n",
      "| 2020-03-25 18:51:29|      2020-03-25 18:00|          43|\n",
      "| 2020-03-25 19:24:19|      2020-03-25 19:00|         230|\n",
      "| 2020-03-26 04:02:21|      2020-03-26 04:00|         137|\n",
      "| 2020-03-07 12:35:20|      2020-03-07 12:00|          79|\n",
      "| 2020-03-07 13:06:13|      2020-03-07 13:00|         107|\n",
      "| 2020-03-07 13:40:17|      2020-03-07 13:00|         264|\n",
      "| 2020-03-07 13:41:34|      2020-03-07 13:00|         236|\n",
      "| 2020-03-07 14:11:24|      2020-03-07 14:00|         230|\n",
      "| 2020-03-07 14:29:23|      2020-03-07 14:00|         239|\n",
      "| 2020-03-07 14:46:16|      2020-03-07 14:00|         230|\n",
      "| 2020-03-07 15:49:30|      2020-03-07 15:00|         170|\n",
      "| 2020-03-07 16:53:56|      2020-03-07 16:00|         261|\n",
      "| 2020-03-08 06:02:16|      2020-03-08 06:00|         114|\n",
      "| 2020-03-08 06:23:47|      2020-03-08 06:00|         142|\n",
      "| 2020-03-08 07:00:15|      2020-03-08 07:00|         186|\n",
      "| 2020-03-08 08:05:36|      2020-03-08 08:00|         170|\n",
      "| 2020-03-08 09:21:57|      2020-03-08 09:00|         148|\n",
      "| 2020-03-08 10:10:08|      2020-03-08 10:00|          13|\n",
      "+--------------------+----------------------+------------+\n",
      "only showing top 20 rows"
     ]
    }
   ],
   "source": [
    "df_new_final.select(['tpep_pickup_datetime','Pickup_datetime_hourly','PULocationID']).show()"
   ]
  },
  {
   "cell_type": "markdown",
   "id": "e3883698",
   "metadata": {},
   "source": [
    "__we will create trip count column__"
   ]
  },
  {
   "cell_type": "code",
   "execution_count": 118,
   "id": "07836bfc",
   "metadata": {},
   "outputs": [
    {
     "data": {
      "application/vnd.jupyter.widget-view+json": {
       "model_id": "",
       "version_major": 2,
       "version_minor": 0
      },
      "text/plain": [
       "FloatProgress(value=0.0, bar_style='info', description='Progress:', layout=Layout(height='25px', width='50%'),…"
      ]
     },
     "metadata": {},
     "output_type": "display_data"
    }
   ],
   "source": [
    "# we will create trip count column\n",
    "df_new_final=df_new_final.withColumn(\"Trip_count\", lit(1))"
   ]
  },
  {
   "cell_type": "markdown",
   "id": "10f47727",
   "metadata": {},
   "source": [
    "### Now lets groupby and aggregate the trips per location in hourly basis"
   ]
  },
  {
   "cell_type": "code",
   "execution_count": 119,
   "id": "6f7ac7bc",
   "metadata": {},
   "outputs": [
    {
     "data": {
      "application/vnd.jupyter.widget-view+json": {
       "model_id": "",
       "version_major": 2,
       "version_minor": 0
      },
      "text/plain": [
       "FloatProgress(value=0.0, bar_style='info', description='Progress:', layout=Layout(height='25px', width='50%'),…"
      ]
     },
     "metadata": {},
     "output_type": "display_data"
    }
   ],
   "source": [
    "hourly_aggregated=df_new_final.groupby(['Pickup_datetime_hourly','PULocationID']).agg({'Trip_count':'count'})\\\n",
    ".withColumnRenamed(\"count(Trip_count)\", \"Trips_count\")"
   ]
  },
  {
   "cell_type": "code",
   "execution_count": 120,
   "id": "f1af4751",
   "metadata": {},
   "outputs": [
    {
     "data": {
      "application/vnd.jupyter.widget-view+json": {
       "model_id": "",
       "version_major": 2,
       "version_minor": 0
      },
      "text/plain": [
       "FloatProgress(value=0.0, bar_style='info', description='Progress:', layout=Layout(height='25px', width='50%'),…"
      ]
     },
     "metadata": {},
     "output_type": "display_data"
    },
    {
     "name": "stdout",
     "output_type": "stream",
     "text": [
      "+----------------------+------------+-----------+\n",
      "|Pickup_datetime_hourly|PULocationID|Trips_count|\n",
      "+----------------------+------------+-----------+\n",
      "|      2020-04-01 19:00|         186|          4|\n",
      "|      2020-04-02 13:00|          33|          1|\n",
      "|      2020-04-03 07:00|          79|         17|\n",
      "|      2020-04-03 07:00|         233|          3|\n",
      "|      2020-04-03 14:00|          74|         14|\n",
      "|      2020-04-06 15:00|         264|          4|\n",
      "|      2020-04-07 00:00|         256|          1|\n",
      "|      2020-04-08 21:00|          87|          2|\n",
      "|      2020-04-09 10:00|         237|         20|\n",
      "|      2020-04-10 19:00|         164|          3|\n",
      "|      2020-04-12 12:00|         236|         12|\n",
      "|      2020-04-12 12:00|          79|          5|\n",
      "|      2020-04-12 17:00|         181|          1|\n",
      "|      2020-04-12 22:00|         229|          2|\n",
      "|      2020-04-13 13:00|          74|         10|\n",
      "|      2020-04-13 17:00|         213|          1|\n",
      "|      2020-04-14 07:00|         166|          5|\n",
      "|      2020-04-15 07:00|         148|          3|\n",
      "|      2020-04-16 22:00|         234|          1|\n",
      "|      2020-04-18 07:00|         107|          7|\n",
      "+----------------------+------------+-----------+\n",
      "only showing top 20 rows"
     ]
    }
   ],
   "source": [
    "hourly_aggregated.show()"
   ]
  },
  {
   "cell_type": "code",
   "execution_count": 121,
   "id": "5d930aa5",
   "metadata": {},
   "outputs": [
    {
     "data": {
      "application/vnd.jupyter.widget-view+json": {
       "model_id": "",
       "version_major": 2,
       "version_minor": 0
      },
      "text/plain": [
       "FloatProgress(value=0.0, bar_style='info', description='Progress:', layout=Layout(height='25px', width='50%'),…"
      ]
     },
     "metadata": {},
     "output_type": "display_data"
    },
    {
     "name": "stdout",
     "output_type": "stream",
     "text": [
      "910784"
     ]
    }
   ],
   "source": [
    "hourly_aggregated.count()"
   ]
  },
  {
   "cell_type": "markdown",
   "id": "17acdb48",
   "metadata": {},
   "source": [
    "__The aggregated trips have `910784` rows and it should be `2301408`, and I think the issue is there are no pick-up records in certain hours. So when I gourpby and aggregate the data, it will not show the missing hours. \n",
    "\n",
    "#### To solve this problem:\n",
    "- we need to create dataframe with timestamp coloumn started from 1-1-2020 till 1-1-2021. `(8784 rows)`.\n",
    "- We will use the timestamp dataframe which we create in the first step and use it to generate dataframe that contains timestamp column and another coloumn per location ID and then merge all of them. in this case we will have `(2301408)` rows and two columns, timestamp and LocationID.\n",
    "- Create unique column that contain the __timestamp plus the locationID__ in both `hourly_aggregated` and ` generated timestamp dataframe` (the dataframe we created in the previous step) so we can join them.\n",
    "- Then left join the generated timestamp dataframe with our hourly aggregated dataframe."
   ]
  },
  {
   "cell_type": "markdown",
   "id": "49e4faaf",
   "metadata": {},
   "source": [
    "### 1- Creating unique coloum in hourly_aggregated\n",
    "The unique column will merge the timestamp with the locationID. we need to convert the locationID from integer to string then we will use `concat_ws` to merge the string values together"
   ]
  },
  {
   "cell_type": "code",
   "execution_count": 127,
   "id": "903a6d03",
   "metadata": {},
   "outputs": [
    {
     "data": {
      "application/vnd.jupyter.widget-view+json": {
       "model_id": "",
       "version_major": 2,
       "version_minor": 0
      },
      "text/plain": [
       "FloatProgress(value=0.0, bar_style='info', description='Progress:', layout=Layout(height='25px', width='50%'),…"
      ]
     },
     "metadata": {},
     "output_type": "display_data"
    },
    {
     "name": "stdout",
     "output_type": "stream",
     "text": [
      "root\n",
      " |-- Pickup_datetime_hourly: string (nullable = true)\n",
      " |-- PULocationID: long (nullable = true)\n",
      " |-- Trips_count: long (nullable = false)"
     ]
    }
   ],
   "source": [
    "hourly_aggregated.printSchema()"
   ]
  },
  {
   "cell_type": "code",
   "execution_count": 128,
   "id": "63262965",
   "metadata": {},
   "outputs": [
    {
     "data": {
      "application/vnd.jupyter.widget-view+json": {
       "model_id": "",
       "version_major": 2,
       "version_minor": 0
      },
      "text/plain": [
       "FloatProgress(value=0.0, bar_style='info', description='Progress:', layout=Layout(height='25px', width='50%'),…"
      ]
     },
     "metadata": {},
     "output_type": "display_data"
    }
   ],
   "source": [
    "from pyspark.sql.types import TimestampType,StructField,StringType,IntegerType,StructType"
   ]
  },
  {
   "cell_type": "code",
   "execution_count": 129,
   "id": "637e1619",
   "metadata": {},
   "outputs": [
    {
     "data": {
      "application/vnd.jupyter.widget-view+json": {
       "model_id": "",
       "version_major": 2,
       "version_minor": 0
      },
      "text/plain": [
       "FloatProgress(value=0.0, bar_style='info', description='Progress:', layout=Layout(height='25px', width='50%'),…"
      ]
     },
     "metadata": {},
     "output_type": "display_data"
    }
   ],
   "source": [
    "#Create new column which convert the location ID to string\n",
    "hourly_aggregated= hourly_aggregated.withColumn(\"PULocationID_string\", hourly_aggregated[\"PULocationID\"].cast(StringType()))"
   ]
  },
  {
   "cell_type": "code",
   "execution_count": 130,
   "id": "59dde953",
   "metadata": {},
   "outputs": [
    {
     "data": {
      "application/vnd.jupyter.widget-view+json": {
       "model_id": "",
       "version_major": 2,
       "version_minor": 0
      },
      "text/plain": [
       "FloatProgress(value=0.0, bar_style='info', description='Progress:', layout=Layout(height='25px', width='50%'),…"
      ]
     },
     "metadata": {},
     "output_type": "display_data"
    }
   ],
   "source": [
    "#Create the unique column using concat_ws\n",
    "hourly_aggregated=hourly_aggregated.select(concat_ws('_',hourly_aggregated.Pickup_datetime_hourly,\n",
    "                                   hourly_aggregated.PULocationID_string).alias(\"UniqueColumn\"),\"Pickup_datetime_hourly\",\"PULocationID\",\"Trips_count\")"
   ]
  },
  {
   "cell_type": "code",
   "execution_count": 131,
   "id": "4664119d",
   "metadata": {},
   "outputs": [
    {
     "data": {
      "application/vnd.jupyter.widget-view+json": {
       "model_id": "",
       "version_major": 2,
       "version_minor": 0
      },
      "text/plain": [
       "FloatProgress(value=0.0, bar_style='info', description='Progress:', layout=Layout(height='25px', width='50%'),…"
      ]
     },
     "metadata": {},
     "output_type": "display_data"
    },
    {
     "name": "stdout",
     "output_type": "stream",
     "text": [
      "+--------------------+----------------------+------------+-----------+\n",
      "|        UniqueColumn|Pickup_datetime_hourly|PULocationID|Trips_count|\n",
      "+--------------------+----------------------+------------+-----------+\n",
      "|2020-04-01 19:00_186|      2020-04-01 19:00|         186|          4|\n",
      "| 2020-04-02 13:00_33|      2020-04-02 13:00|          33|          1|\n",
      "| 2020-04-03 07:00_79|      2020-04-03 07:00|          79|         17|\n",
      "|2020-04-03 07:00_233|      2020-04-03 07:00|         233|          3|\n",
      "| 2020-04-03 14:00_74|      2020-04-03 14:00|          74|         14|\n",
      "+--------------------+----------------------+------------+-----------+\n",
      "only showing top 5 rows"
     ]
    }
   ],
   "source": [
    "hourly_aggregated.show(5)"
   ]
  },
  {
   "cell_type": "code",
   "execution_count": 132,
   "id": "2b8cf0b1",
   "metadata": {},
   "outputs": [
    {
     "data": {
      "application/vnd.jupyter.widget-view+json": {
       "model_id": "",
       "version_major": 2,
       "version_minor": 0
      },
      "text/plain": [
       "FloatProgress(value=0.0, bar_style='info', description='Progress:', layout=Layout(height='25px', width='50%'),…"
      ]
     },
     "metadata": {},
     "output_type": "display_data"
    },
    {
     "name": "stdout",
     "output_type": "stream",
     "text": [
      "root\n",
      " |-- UniqueColumn: string (nullable = false)\n",
      " |-- Pickup_datetime_hourly: string (nullable = true)\n",
      " |-- PULocationID: long (nullable = true)\n",
      " |-- Trips_count: long (nullable = false)"
     ]
    }
   ],
   "source": [
    "hourly_aggregated.printSchema()"
   ]
  },
  {
   "cell_type": "markdown",
   "id": "135e3534",
   "metadata": {},
   "source": [
    "### 2- Generate timestamp dataframe from 1-1-2020 till 1-1-2021\n",
    "The below function will generate spark timestamp dataframe "
   ]
  },
  {
   "cell_type": "code",
   "execution_count": 133,
   "id": "21ad4a22",
   "metadata": {},
   "outputs": [
    {
     "data": {
      "application/vnd.jupyter.widget-view+json": {
       "model_id": "",
       "version_major": 2,
       "version_minor": 0
      },
      "text/plain": [
       "FloatProgress(value=0.0, bar_style='info', description='Progress:', layout=Layout(height='25px', width='50%'),…"
      ]
     },
     "metadata": {},
     "output_type": "display_data"
    }
   ],
   "source": [
    "def generate_series(start, stop, interval):\n",
    "    \"\"\"\n",
    "    :param start  - lower bound, inclusive\n",
    "    :param stop   - upper bound, exclusive\n",
    "    :interval int - increment interval in seconds\n",
    "    \"\"\"\n",
    "    start, stop = spark.createDataFrame(\n",
    "        [(start, stop)], (\"start\", \"stop\")\n",
    "    ).select(\n",
    "        [col(c).cast(\"timestamp\").cast(\"long\") for c in (\"start\", \"stop\")\n",
    "    ]).first()\n",
    "    # Create range with increments and cast to timestamp\n",
    "    return spark.range(start, stop, interval).select(\n",
    "        col(\"id\").cast(\"timestamp\").alias(\"timestamp\")\n",
    "    )"
   ]
  },
  {
   "cell_type": "code",
   "execution_count": 134,
   "id": "215d82f8",
   "metadata": {},
   "outputs": [
    {
     "data": {
      "application/vnd.jupyter.widget-view+json": {
       "model_id": "",
       "version_major": 2,
       "version_minor": 0
      },
      "text/plain": [
       "FloatProgress(value=0.0, bar_style='info', description='Progress:', layout=Layout(height='25px', width='50%'),…"
      ]
     },
     "metadata": {},
     "output_type": "display_data"
    }
   ],
   "source": [
    "# we will multiply by 60*60 to change the timestamp to hour\n",
    "timestamp_df=generate_series(\"2020-01-01\", \"2021-01-01\", 60 * 60)"
   ]
  },
  {
   "cell_type": "markdown",
   "id": "debe2844",
   "metadata": {},
   "source": [
    "__We will change the generated timestamp to the same format in `hourly_aggregated`__"
   ]
  },
  {
   "cell_type": "code",
   "execution_count": 135,
   "id": "2e483123",
   "metadata": {},
   "outputs": [
    {
     "data": {
      "application/vnd.jupyter.widget-view+json": {
       "model_id": "",
       "version_major": 2,
       "version_minor": 0
      },
      "text/plain": [
       "FloatProgress(value=0.0, bar_style='info', description='Progress:', layout=Layout(height='25px', width='50%'),…"
      ]
     },
     "metadata": {},
     "output_type": "display_data"
    }
   ],
   "source": [
    "timestamp_df=timestamp_df.withColumn(\"hourly_timestamp\", date_format(col(\"timestamp\").cast(\"timestamp\"), \"yyyy-MM-dd HH:00\"))"
   ]
  },
  {
   "cell_type": "code",
   "execution_count": 136,
   "id": "37fbb430",
   "metadata": {},
   "outputs": [
    {
     "data": {
      "application/vnd.jupyter.widget-view+json": {
       "model_id": "",
       "version_major": 2,
       "version_minor": 0
      },
      "text/plain": [
       "FloatProgress(value=0.0, bar_style='info', description='Progress:', layout=Layout(height='25px', width='50%'),…"
      ]
     },
     "metadata": {},
     "output_type": "display_data"
    },
    {
     "name": "stdout",
     "output_type": "stream",
     "text": [
      "root\n",
      " |-- timestamp: timestamp (nullable = false)\n",
      " |-- hourly_timestamp: string (nullable = false)"
     ]
    }
   ],
   "source": [
    "timestamp_df.printSchema()"
   ]
  },
  {
   "cell_type": "code",
   "execution_count": 137,
   "id": "edb72571",
   "metadata": {},
   "outputs": [
    {
     "data": {
      "application/vnd.jupyter.widget-view+json": {
       "model_id": "",
       "version_major": 2,
       "version_minor": 0
      },
      "text/plain": [
       "FloatProgress(value=0.0, bar_style='info', description='Progress:', layout=Layout(height='25px', width='50%'),…"
      ]
     },
     "metadata": {},
     "output_type": "display_data"
    },
    {
     "name": "stdout",
     "output_type": "stream",
     "text": [
      "8784"
     ]
    }
   ],
   "source": [
    "timestamp_df.count()"
   ]
  },
  {
   "cell_type": "markdown",
   "id": "650ab2e6",
   "metadata": {},
   "source": [
    "__Now this dataframe contain hourly timestamp for 2020. so we need to create the same rows for each location ID exist in `hourly_aggregated`__\n",
    "\n",
    "Lets extract the location ID from the hourly_aggregated and save them into list"
   ]
  },
  {
   "cell_type": "code",
   "execution_count": 138,
   "id": "830cd4c5",
   "metadata": {},
   "outputs": [
    {
     "data": {
      "application/vnd.jupyter.widget-view+json": {
       "model_id": "",
       "version_major": 2,
       "version_minor": 0
      },
      "text/plain": [
       "FloatProgress(value=0.0, bar_style='info', description='Progress:', layout=Layout(height='25px', width='50%'),…"
      ]
     },
     "metadata": {},
     "output_type": "display_data"
    }
   ],
   "source": [
    "# extract the pickup location id from the dataset and save it in list\n",
    "Pick_up_LocationID = df_new_final.select(collect_set('PULocationID').alias('locationID_list')).first()['locationID_list']"
   ]
  },
  {
   "cell_type": "code",
   "execution_count": 139,
   "id": "3ca1e950",
   "metadata": {},
   "outputs": [
    {
     "data": {
      "application/vnd.jupyter.widget-view+json": {
       "model_id": "",
       "version_major": 2,
       "version_minor": 0
      },
      "text/plain": [
       "FloatProgress(value=0.0, bar_style='info', description='Progress:', layout=Layout(height='25px', width='50%'),…"
      ]
     },
     "metadata": {},
     "output_type": "display_data"
    },
    {
     "name": "stdout",
     "output_type": "stream",
     "text": [
      "262"
     ]
    }
   ],
   "source": [
    "len(Pick_up_LocationID)"
   ]
  },
  {
   "cell_type": "markdown",
   "id": "efca1cb9",
   "metadata": {},
   "source": [
    "__We have 262 location ID, we will aggregate the trips in hourly basis. so we should have `366 X 24 X 262 = 2301408` rows.__\n",
    "\n",
    "To do so, we need to iterate generated timestamp for each locationID (for loop) and append the result to an empty spark dataframe. in this case, we will have 2 columns and 2301408 rows."
   ]
  },
  {
   "cell_type": "markdown",
   "id": "560bad86",
   "metadata": {},
   "source": [
    "__Define function that will help us to add the location ID column to the generated timestamp__"
   ]
  },
  {
   "cell_type": "code",
   "execution_count": 141,
   "id": "b19da8ae",
   "metadata": {},
   "outputs": [
    {
     "data": {
      "application/vnd.jupyter.widget-view+json": {
       "model_id": "",
       "version_major": 2,
       "version_minor": 0
      },
      "text/plain": [
       "FloatProgress(value=0.0, bar_style='info', description='Progress:', layout=Layout(height='25px', width='50%'),…"
      ]
     },
     "metadata": {},
     "output_type": "display_data"
    }
   ],
   "source": [
    "def locations_timestampGenerator(dataframe,locationID):\n",
    "    dataframe=dataframe.withColumn(\"locationID\", lit(locationID))\n",
    "    return dataframe"
   ]
  },
  {
   "cell_type": "markdown",
   "id": "1f7dbe2d",
   "metadata": {},
   "source": [
    "__Now lets create an empty spark dataframe contains two columns `timestamp` and `locationID`__"
   ]
  },
  {
   "cell_type": "code",
   "execution_count": 142,
   "id": "9f6aa125",
   "metadata": {},
   "outputs": [
    {
     "data": {
      "application/vnd.jupyter.widget-view+json": {
       "model_id": "",
       "version_major": 2,
       "version_minor": 0
      },
      "text/plain": [
       "FloatProgress(value=0.0, bar_style='info', description='Progress:', layout=Layout(height='25px', width='50%'),…"
      ]
     },
     "metadata": {},
     "output_type": "display_data"
    }
   ],
   "source": [
    "data_schema = [StructField(\"timestamp\",TimestampType(), True),StructField(\"hourly_timestamp\", StringType(), True),\n",
    "               StructField(\"locationID\", IntegerType(), True)]"
   ]
  },
  {
   "cell_type": "code",
   "execution_count": 143,
   "id": "2b8a7739",
   "metadata": {},
   "outputs": [
    {
     "data": {
      "application/vnd.jupyter.widget-view+json": {
       "model_id": "",
       "version_major": 2,
       "version_minor": 0
      },
      "text/plain": [
       "FloatProgress(value=0.0, bar_style='info', description='Progress:', layout=Layout(height='25px', width='50%'),…"
      ]
     },
     "metadata": {},
     "output_type": "display_data"
    }
   ],
   "source": [
    "final_struct = StructType(fields=data_schema)"
   ]
  },
  {
   "cell_type": "code",
   "execution_count": 144,
   "id": "dbf1be3d",
   "metadata": {},
   "outputs": [
    {
     "data": {
      "application/vnd.jupyter.widget-view+json": {
       "model_id": "",
       "version_major": 2,
       "version_minor": 0
      },
      "text/plain": [
       "FloatProgress(value=0.0, bar_style='info', description='Progress:', layout=Layout(height='25px', width='50%'),…"
      ]
     },
     "metadata": {},
     "output_type": "display_data"
    }
   ],
   "source": [
    "ID_plus_timestamp = spark.createDataFrame([], schema=final_struct)"
   ]
  },
  {
   "cell_type": "code",
   "execution_count": 145,
   "id": "ee9d3ca3",
   "metadata": {},
   "outputs": [
    {
     "data": {
      "application/vnd.jupyter.widget-view+json": {
       "model_id": "",
       "version_major": 2,
       "version_minor": 0
      },
      "text/plain": [
       "FloatProgress(value=0.0, bar_style='info', description='Progress:', layout=Layout(height='25px', width='50%'),…"
      ]
     },
     "metadata": {},
     "output_type": "display_data"
    }
   ],
   "source": [
    "# iterate generated timestamp for each locationID (for loop) \n",
    "for i in Pick_up_LocationID:\n",
    "    dataframe=locations_timestampGenerator(timestamp_df,i)\n",
    "    ID_plus_timestamp = ID_plus_timestamp.union(dataframe)"
   ]
  },
  {
   "cell_type": "code",
   "execution_count": 146,
   "id": "3040d087",
   "metadata": {},
   "outputs": [
    {
     "data": {
      "application/vnd.jupyter.widget-view+json": {
       "model_id": "",
       "version_major": 2,
       "version_minor": 0
      },
      "text/plain": [
       "FloatProgress(value=0.0, bar_style='info', description='Progress:', layout=Layout(height='25px', width='50%'),…"
      ]
     },
     "metadata": {},
     "output_type": "display_data"
    },
    {
     "name": "stdout",
     "output_type": "stream",
     "text": [
      "2301408"
     ]
    }
   ],
   "source": [
    "ID_plus_timestamp.count()"
   ]
  },
  {
   "cell_type": "markdown",
   "id": "7d13235b",
   "metadata": {},
   "source": [
    "__Now lets make sure that all the locationID created by the `for loop` is matching the existing locationID in the original aggregated dataset__\n",
    "\n",
    "We will extract the distinct location ID from `ID_plus_timestamp` and check with the location ID in `Hourly_aggregated`"
   ]
  },
  {
   "cell_type": "code",
   "execution_count": 147,
   "id": "a8238fac",
   "metadata": {},
   "outputs": [
    {
     "data": {
      "application/vnd.jupyter.widget-view+json": {
       "model_id": "",
       "version_major": 2,
       "version_minor": 0
      },
      "text/plain": [
       "FloatProgress(value=0.0, bar_style='info', description='Progress:', layout=Layout(height='25px', width='50%'),…"
      ]
     },
     "metadata": {},
     "output_type": "display_data"
    }
   ],
   "source": [
    "# extract the distinct location ID from ID_plus_timestamp\n",
    "location_ID_list2=ID_plus_timestamp.select(collect_set('locationID').alias('locationID_list')).first()['locationID_list']"
   ]
  },
  {
   "cell_type": "markdown",
   "id": "bc912cac",
   "metadata": {},
   "source": [
    "__Remember we already extracted the location ID from Hourly_aggregated `Pick_up_LocationID`, so we dont need to do it again__\n",
    "\n",
    "now if there is any location ID in `ID_plus_timestamp`dataframe not exist in `Hourly_aggregated` it will append it to the empty list"
   ]
  },
  {
   "cell_type": "code",
   "execution_count": 148,
   "id": "30e1f4a8",
   "metadata": {},
   "outputs": [
    {
     "data": {
      "application/vnd.jupyter.widget-view+json": {
       "model_id": "",
       "version_major": 2,
       "version_minor": 0
      },
      "text/plain": [
       "FloatProgress(value=0.0, bar_style='info', description='Progress:', layout=Layout(height='25px', width='50%'),…"
      ]
     },
     "metadata": {},
     "output_type": "display_data"
    }
   ],
   "source": [
    "unique_list = []\n",
    " \n",
    "for item in location_ID_list2: \n",
    "    if item not in Pick_up_LocationID: \n",
    "        unique_list.append(item)"
   ]
  },
  {
   "cell_type": "code",
   "execution_count": 149,
   "id": "9d7d04ff",
   "metadata": {},
   "outputs": [
    {
     "data": {
      "application/vnd.jupyter.widget-view+json": {
       "model_id": "",
       "version_major": 2,
       "version_minor": 0
      },
      "text/plain": [
       "FloatProgress(value=0.0, bar_style='info', description='Progress:', layout=Layout(height='25px', width='50%'),…"
      ]
     },
     "metadata": {},
     "output_type": "display_data"
    },
    {
     "name": "stdout",
     "output_type": "stream",
     "text": [
      "[]"
     ]
    }
   ],
   "source": [
    "# Should be empty\n",
    "unique_list"
   ]
  },
  {
   "cell_type": "markdown",
   "id": "741d01ac",
   "metadata": {},
   "source": [
    "#### Last step, We will need to create unique column that contain the __timestamp plus the locationID__ in `ID_plus_timestamp` so we can join it to `hourly_aggregated`."
   ]
  },
  {
   "cell_type": "code",
   "execution_count": 150,
   "id": "fe0e598a",
   "metadata": {},
   "outputs": [
    {
     "data": {
      "application/vnd.jupyter.widget-view+json": {
       "model_id": "",
       "version_major": 2,
       "version_minor": 0
      },
      "text/plain": [
       "FloatProgress(value=0.0, bar_style='info', description='Progress:', layout=Layout(height='25px', width='50%'),…"
      ]
     },
     "metadata": {},
     "output_type": "display_data"
    }
   ],
   "source": [
    "# Change the location ID from integer to string\n",
    "ID_plus_timestamp= ID_plus_timestamp.withColumn(\"locationID_string\", ID_plus_timestamp[\"locationID\"].cast(StringType()))"
   ]
  },
  {
   "cell_type": "code",
   "execution_count": 151,
   "id": "3caf4b5d",
   "metadata": {},
   "outputs": [
    {
     "data": {
      "application/vnd.jupyter.widget-view+json": {
       "model_id": "",
       "version_major": 2,
       "version_minor": 0
      },
      "text/plain": [
       "FloatProgress(value=0.0, bar_style='info', description='Progress:', layout=Layout(height='25px', width='50%'),…"
      ]
     },
     "metadata": {},
     "output_type": "display_data"
    }
   ],
   "source": [
    "# Create the unique column using concat_ws\n",
    "ID_plus_timestamp=ID_plus_timestamp.select(concat_ws('_',ID_plus_timestamp.hourly_timestamp,\n",
    "                                   ID_plus_timestamp.locationID_string).alias(\"UniqueColumn_G\"),\"timestamp\",\"hourly_timestamp\",\"locationID\")"
   ]
  },
  {
   "cell_type": "code",
   "execution_count": 152,
   "id": "104db3a2",
   "metadata": {},
   "outputs": [
    {
     "data": {
      "application/vnd.jupyter.widget-view+json": {
       "model_id": "",
       "version_major": 2,
       "version_minor": 0
      },
      "text/plain": [
       "FloatProgress(value=0.0, bar_style='info', description='Progress:', layout=Layout(height='25px', width='50%'),…"
      ]
     },
     "metadata": {},
     "output_type": "display_data"
    },
    {
     "name": "stdout",
     "output_type": "stream",
     "text": [
      "+--------------------+-------------------+----------------+----------+\n",
      "|      UniqueColumn_G|          timestamp|hourly_timestamp|locationID|\n",
      "+--------------------+-------------------+----------------+----------+\n",
      "|2020-01-01 00:00_256|2020-01-01 00:00:00|2020-01-01 00:00|       256|\n",
      "|2020-01-01 01:00_256|2020-01-01 01:00:00|2020-01-01 01:00|       256|\n",
      "|2020-01-01 02:00_256|2020-01-01 02:00:00|2020-01-01 02:00|       256|\n",
      "+--------------------+-------------------+----------------+----------+\n",
      "only showing top 3 rows"
     ]
    }
   ],
   "source": [
    "ID_plus_timestamp.show(3)"
   ]
  },
  {
   "cell_type": "markdown",
   "id": "be18d7d1",
   "metadata": {},
   "source": [
    "#### Now joining both dataframes using the `unique column`"
   ]
  },
  {
   "cell_type": "code",
   "execution_count": 153,
   "id": "cdb1993a",
   "metadata": {},
   "outputs": [
    {
     "data": {
      "application/vnd.jupyter.widget-view+json": {
       "model_id": "",
       "version_major": 2,
       "version_minor": 0
      },
      "text/plain": [
       "FloatProgress(value=0.0, bar_style='info', description='Progress:', layout=Layout(height='25px', width='50%'),…"
      ]
     },
     "metadata": {},
     "output_type": "display_data"
    }
   ],
   "source": [
    "# join both dataframes using the unique column\n",
    "Pick_aggregated=hourly_aggregated.join(ID_plus_timestamp,hourly_aggregated.UniqueColumn ==  ID_plus_timestamp.UniqueColumn_G,\"right\")"
   ]
  },
  {
   "cell_type": "markdown",
   "id": "bb72a4b8",
   "metadata": {},
   "source": [
    "__Now after we joined the dataframes, we will need to replace null values in PULocationID and count(Trip_count) columns of dataframe hourly_aggregated_final with 0.__\n",
    "\n",
    "Assume  PULocationID of missing data to be 0"
   ]
  },
  {
   "cell_type": "code",
   "execution_count": 154,
   "id": "534bc1f1",
   "metadata": {},
   "outputs": [
    {
     "data": {
      "application/vnd.jupyter.widget-view+json": {
       "model_id": "",
       "version_major": 2,
       "version_minor": 0
      },
      "text/plain": [
       "FloatProgress(value=0.0, bar_style='info', description='Progress:', layout=Layout(height='25px', width='50%'),…"
      ]
     },
     "metadata": {},
     "output_type": "display_data"
    }
   ],
   "source": [
    "Pick_aggregated=Pick_aggregated.na.fill(0,subset=[\"PULocationID\"])"
   ]
  },
  {
   "cell_type": "code",
   "execution_count": 155,
   "id": "c943803b",
   "metadata": {},
   "outputs": [
    {
     "data": {
      "application/vnd.jupyter.widget-view+json": {
       "model_id": "",
       "version_major": 2,
       "version_minor": 0
      },
      "text/plain": [
       "FloatProgress(value=0.0, bar_style='info', description='Progress:', layout=Layout(height='25px', width='50%'),…"
      ]
     },
     "metadata": {},
     "output_type": "display_data"
    }
   ],
   "source": [
    "Pick_aggregated=Pick_aggregated.na.fill(0,subset=[\"Trips_count\"])"
   ]
  },
  {
   "cell_type": "markdown",
   "id": "73930654",
   "metadata": {},
   "source": [
    "#### Now lets select the columns we need : `timestamp`, `locationID` ,` Trips_count` and the `UniqueColumn_G`\n",
    "I have selected `UniqueColumn_G` to be the unique identifier and to join it with the dropped aggregated dataframe"
   ]
  },
  {
   "cell_type": "code",
   "execution_count": 156,
   "id": "cf70a19e",
   "metadata": {},
   "outputs": [
    {
     "data": {
      "application/vnd.jupyter.widget-view+json": {
       "model_id": "",
       "version_major": 2,
       "version_minor": 0
      },
      "text/plain": [
       "FloatProgress(value=0.0, bar_style='info', description='Progress:', layout=Layout(height='25px', width='50%'),…"
      ]
     },
     "metadata": {},
     "output_type": "display_data"
    }
   ],
   "source": [
    "Pick_aggregated=Pick_aggregated.select(['timestamp','hourly_timestamp','locationID','Trips_count','UniqueColumn_G'])"
   ]
  },
  {
   "cell_type": "code",
   "execution_count": 157,
   "id": "efd308cf",
   "metadata": {},
   "outputs": [
    {
     "data": {
      "application/vnd.jupyter.widget-view+json": {
       "model_id": "",
       "version_major": 2,
       "version_minor": 0
      },
      "text/plain": [
       "FloatProgress(value=0.0, bar_style='info', description='Progress:', layout=Layout(height='25px', width='50%'),…"
      ]
     },
     "metadata": {},
     "output_type": "display_data"
    },
    {
     "name": "stdout",
     "output_type": "stream",
     "text": [
      "+-------------------+----------------+----------+-----------+--------------------+\n",
      "|          timestamp|hourly_timestamp|locationID|Trips_count|      UniqueColumn_G|\n",
      "+-------------------+----------------+----------+-----------+--------------------+\n",
      "|2020-01-01 00:00:00|2020-01-01 00:00|       150|          0|2020-01-01 00:00_150|\n",
      "|2020-01-01 00:00:00|2020-01-01 00:00|       189|         10|2020-01-01 00:00_189|\n",
      "|2020-01-01 00:00:00|2020-01-01 00:00|       195|          0|2020-01-01 00:00_195|\n",
      "|2020-01-01 00:00:00|2020-01-01 00:00|       233|        118|2020-01-01 00:00_233|\n",
      "|2020-01-01 00:00:00|2020-01-01 00:00|       241|          1|2020-01-01 00:00_241|\n",
      "|2020-01-01 00:00:00|2020-01-01 00:00|        95|          1| 2020-01-01 00:00_95|\n",
      "|2020-01-01 01:00:00|2020-01-01 01:00|       119|          0|2020-01-01 01:00_119|\n",
      "|2020-01-01 01:00:00|2020-01-01 01:00|       124|          0|2020-01-01 01:00_124|\n",
      "|2020-01-01 01:00:00|2020-01-01 01:00|        13|         65| 2020-01-01 01:00_13|\n",
      "|2020-01-01 01:00:00|2020-01-01 01:00|       130|          1|2020-01-01 01:00_130|\n",
      "|2020-01-01 01:00:00|2020-01-01 01:00|       131|          0|2020-01-01 01:00_131|\n",
      "|2020-01-01 01:00:00|2020-01-01 01:00|       135|          1|2020-01-01 01:00_135|\n",
      "|2020-01-01 01:00:00|2020-01-01 01:00|       188|          5|2020-01-01 01:00_188|\n",
      "|2020-01-01 01:00:00|2020-01-01 01:00|       208|          0|2020-01-01 01:00_208|\n",
      "|2020-01-01 01:00:00|2020-01-01 01:00|       241|          1|2020-01-01 01:00_241|\n",
      "|2020-01-01 01:00:00|2020-01-01 01:00|       245|          0|2020-01-01 01:00_245|\n",
      "|2020-01-01 01:00:00|2020-01-01 01:00|       256|         67|2020-01-01 01:00_256|\n",
      "|2020-01-01 01:00:00|2020-01-01 01:00|       262|        149|2020-01-01 01:00_262|\n",
      "|2020-01-01 01:00:00|2020-01-01 01:00|        40|         15| 2020-01-01 01:00_40|\n",
      "|2020-01-01 01:00:00|2020-01-01 01:00|        46|          0| 2020-01-01 01:00_46|\n",
      "+-------------------+----------------+----------+-----------+--------------------+\n",
      "only showing top 20 rows"
     ]
    }
   ],
   "source": [
    "Pick_aggregated.show()"
   ]
  },
  {
   "cell_type": "markdown",
   "id": "3f69970d",
   "metadata": {},
   "source": [
    "## Aggregating the drop trips per location ID in hourly basis\n",
    "\n",
    "- We will follow the same steps how we aggregate the pick-up trips above, but now for the drop-off so we will have hourly count per location ID for the pick-up trips and drop-off trips"
   ]
  },
  {
   "cell_type": "code",
   "execution_count": 158,
   "id": "0fbc0b84",
   "metadata": {},
   "outputs": [
    {
     "data": {
      "application/vnd.jupyter.widget-view+json": {
       "model_id": "",
       "version_major": 2,
       "version_minor": 0
      },
      "text/plain": [
       "FloatProgress(value=0.0, bar_style='info', description='Progress:', layout=Layout(height='25px', width='50%'),…"
      ]
     },
     "metadata": {},
     "output_type": "display_data"
    },
    {
     "name": "stdout",
     "output_type": "stream",
     "text": [
      "+----------------------------+\n",
      "|count(DISTINCT DOLocationID)|\n",
      "+----------------------------+\n",
      "|                         263|\n",
      "+----------------------------+"
     ]
    }
   ],
   "source": [
    "df_new_final.select(countDistinct(\"DOLocationID\")).show()"
   ]
  },
  {
   "cell_type": "markdown",
   "id": "4d8f9ac0",
   "metadata": {},
   "source": [
    "__We have 263 drop location ID, and we have 262 pick-up location ID, we will remove the drop trips which belong to the extra location ID__"
   ]
  },
  {
   "cell_type": "code",
   "execution_count": 159,
   "id": "3ad4ac49",
   "metadata": {},
   "outputs": [
    {
     "data": {
      "application/vnd.jupyter.widget-view+json": {
       "model_id": "",
       "version_major": 2,
       "version_minor": 0
      },
      "text/plain": [
       "FloatProgress(value=0.0, bar_style='info', description='Progress:', layout=Layout(height='25px', width='50%'),…"
      ]
     },
     "metadata": {},
     "output_type": "display_data"
    }
   ],
   "source": [
    "# extract the pickup location id from the dataset and save it in list\n",
    "Drop_LocationID = df_new_final.select(collect_set('DOLocationID').alias('DOLocationID')).first()['DOLocationID']"
   ]
  },
  {
   "cell_type": "code",
   "execution_count": 160,
   "id": "2a17c24e",
   "metadata": {},
   "outputs": [
    {
     "data": {
      "application/vnd.jupyter.widget-view+json": {
       "model_id": "",
       "version_major": 2,
       "version_minor": 0
      },
      "text/plain": [
       "FloatProgress(value=0.0, bar_style='info', description='Progress:', layout=Layout(height='25px', width='50%'),…"
      ]
     },
     "metadata": {},
     "output_type": "display_data"
    }
   ],
   "source": [
    "unique_list = []\n",
    " \n",
    "for item in Drop_LocationID: \n",
    "    if item not in Pick_up_LocationID: \n",
    "        unique_list.append(item)"
   ]
  },
  {
   "cell_type": "code",
   "execution_count": 161,
   "id": "61b330b0",
   "metadata": {},
   "outputs": [
    {
     "data": {
      "application/vnd.jupyter.widget-view+json": {
       "model_id": "",
       "version_major": 2,
       "version_minor": 0
      },
      "text/plain": [
       "FloatProgress(value=0.0, bar_style='info', description='Progress:', layout=Layout(height='25px', width='50%'),…"
      ]
     },
     "metadata": {},
     "output_type": "display_data"
    },
    {
     "name": "stdout",
     "output_type": "stream",
     "text": [
      "[104]"
     ]
    }
   ],
   "source": [
    "unique_list"
   ]
  },
  {
   "cell_type": "markdown",
   "id": "03aeb3bc",
   "metadata": {},
   "source": [
    "so we will remove the drop trips for location ID = 104"
   ]
  },
  {
   "cell_type": "code",
   "execution_count": 162,
   "id": "08083c25",
   "metadata": {},
   "outputs": [
    {
     "data": {
      "application/vnd.jupyter.widget-view+json": {
       "model_id": "",
       "version_major": 2,
       "version_minor": 0
      },
      "text/plain": [
       "FloatProgress(value=0.0, bar_style='info', description='Progress:', layout=Layout(height='25px', width='50%'),…"
      ]
     },
     "metadata": {},
     "output_type": "display_data"
    }
   ],
   "source": [
    "Drop_df=df_new_final.filter(df_new_final['DOLocationID']!=104)"
   ]
  },
  {
   "cell_type": "markdown",
   "id": "57d2452f",
   "metadata": {},
   "source": [
    "#### Now we are going to aggregate the data based on hourly drop count per locationID.\n",
    "We will change the timestamp to this format `\"yyyy-MM-dd HH:00\"` to be able to group the trips hourly"
   ]
  },
  {
   "cell_type": "code",
   "execution_count": 163,
   "id": "d8fa90d9",
   "metadata": {},
   "outputs": [
    {
     "data": {
      "application/vnd.jupyter.widget-view+json": {
       "model_id": "",
       "version_major": 2,
       "version_minor": 0
      },
      "text/plain": [
       "FloatProgress(value=0.0, bar_style='info', description='Progress:', layout=Layout(height='25px', width='50%'),…"
      ]
     },
     "metadata": {},
     "output_type": "display_data"
    }
   ],
   "source": [
    "Drop_df=Drop_df.withColumn(\"Drop_datetime_hourly\", date_format(col(\"tpep_dropoff_datetime\").cast(\"timestamp\"), \"yyyy-MM-dd HH:00\"))"
   ]
  },
  {
   "cell_type": "code",
   "execution_count": 164,
   "id": "aeb7135c",
   "metadata": {},
   "outputs": [
    {
     "data": {
      "application/vnd.jupyter.widget-view+json": {
       "model_id": "",
       "version_major": 2,
       "version_minor": 0
      },
      "text/plain": [
       "FloatProgress(value=0.0, bar_style='info', description='Progress:', layout=Layout(height='25px', width='50%'),…"
      ]
     },
     "metadata": {},
     "output_type": "display_data"
    }
   ],
   "source": [
    "# Grouping and aggregating the dropped trips\n",
    "drop_aggregated = Drop_df.groupby(['Drop_datetime_hourly','DOLocationID']).agg({'Trip_count':'count'})\\\n",
    ".withColumnRenamed(\"count(Trip_count)\", \"Drop_Trips_count\")"
   ]
  },
  {
   "cell_type": "code",
   "execution_count": 165,
   "id": "c6704ba6",
   "metadata": {},
   "outputs": [
    {
     "data": {
      "application/vnd.jupyter.widget-view+json": {
       "model_id": "",
       "version_major": 2,
       "version_minor": 0
      },
      "text/plain": [
       "FloatProgress(value=0.0, bar_style='info', description='Progress:', layout=Layout(height='25px', width='50%'),…"
      ]
     },
     "metadata": {},
     "output_type": "display_data"
    },
    {
     "name": "stdout",
     "output_type": "stream",
     "text": [
      "+--------------------+------------+----------------+\n",
      "|Drop_datetime_hourly|DOLocationID|Drop_Trips_count|\n",
      "+--------------------+------------+----------------+\n",
      "|    2020-04-01 19:00|         186|               1|\n",
      "|    2020-04-03 06:00|         125|               1|\n",
      "|    2020-04-03 07:00|         233|               9|\n",
      "|    2020-04-03 07:00|          79|               4|\n",
      "|    2020-04-03 13:00|          66|               3|\n",
      "|    2020-04-03 14:00|          74|              23|\n",
      "|    2020-04-03 16:00|         220|               1|\n",
      "|    2020-04-04 02:00|          72|               1|\n",
      "|    2020-04-06 15:00|         264|               3|\n",
      "|    2020-04-06 23:00|          47|               1|\n",
      "|    2020-04-07 00:00|         256|               1|\n",
      "|    2020-04-07 20:00|         226|               2|\n",
      "|    2020-04-08 15:00|         127|               1|\n",
      "|    2020-04-09 10:00|         237|              23|\n",
      "|    2020-04-09 22:00|         125|               1|\n",
      "|    2020-04-10 05:00|         164|               2|\n",
      "|    2020-04-10 19:00|         164|               3|\n",
      "|    2020-04-11 08:00|         265|               2|\n",
      "|    2020-04-12 12:00|          79|               8|\n",
      "|    2020-04-12 12:00|         236|              15|\n",
      "+--------------------+------------+----------------+\n",
      "only showing top 20 rows"
     ]
    }
   ],
   "source": [
    "drop_aggregated.show()"
   ]
  },
  {
   "cell_type": "markdown",
   "id": "37df82cd",
   "metadata": {},
   "source": [
    "__Create unique column that contain the timestamp plus the locationID in ID_plus_timestamp so we can join it to Pick_aggregated__\n",
    "\n",
    "Convert the DOLocationID to string type"
   ]
  },
  {
   "cell_type": "code",
   "execution_count": 169,
   "id": "be95f443",
   "metadata": {},
   "outputs": [
    {
     "data": {
      "application/vnd.jupyter.widget-view+json": {
       "model_id": "",
       "version_major": 2,
       "version_minor": 0
      },
      "text/plain": [
       "FloatProgress(value=0.0, bar_style='info', description='Progress:', layout=Layout(height='25px', width='50%'),…"
      ]
     },
     "metadata": {},
     "output_type": "display_data"
    }
   ],
   "source": [
    "drop_aggregated=drop_aggregated.withColumn(\"DOLocationID_string\", drop_aggregated[\"DOLocationID\"].cast(StringType()))"
   ]
  },
  {
   "cell_type": "code",
   "execution_count": 170,
   "id": "2db42304",
   "metadata": {},
   "outputs": [
    {
     "data": {
      "application/vnd.jupyter.widget-view+json": {
       "model_id": "",
       "version_major": 2,
       "version_minor": 0
      },
      "text/plain": [
       "FloatProgress(value=0.0, bar_style='info', description='Progress:', layout=Layout(height='25px', width='50%'),…"
      ]
     },
     "metadata": {},
     "output_type": "display_data"
    }
   ],
   "source": [
    "# Create the unique column using `concat_ws`\n",
    "drop_aggregated=drop_aggregated.select(concat_ws('_',drop_aggregated.Drop_datetime_hourly,\n",
    "                                   drop_aggregated.DOLocationID_string).alias(\"UniqueColumn\"),\"Drop_datetime_hourly\",\"Drop_datetime_hourly\",\"DOLocationID\",\"Drop_Trips_count\")"
   ]
  },
  {
   "cell_type": "markdown",
   "id": "0732c02d",
   "metadata": {},
   "source": [
    "### Joining Pick_aggregated & drop_aggregated dataframes using the UniqueColumn"
   ]
  },
  {
   "cell_type": "code",
   "execution_count": 171,
   "id": "6a807279",
   "metadata": {},
   "outputs": [
    {
     "data": {
      "application/vnd.jupyter.widget-view+json": {
       "model_id": "",
       "version_major": 2,
       "version_minor": 0
      },
      "text/plain": [
       "FloatProgress(value=0.0, bar_style='info', description='Progress:', layout=Layout(height='25px', width='50%'),…"
      ]
     },
     "metadata": {},
     "output_type": "display_data"
    }
   ],
   "source": [
    "final_df=drop_aggregated.join(Pick_aggregated,drop_aggregated.UniqueColumn == Pick_aggregated.UniqueColumn_G,\"right\")"
   ]
  },
  {
   "cell_type": "code",
   "execution_count": 172,
   "id": "80bf6f49",
   "metadata": {},
   "outputs": [
    {
     "data": {
      "application/vnd.jupyter.widget-view+json": {
       "model_id": "",
       "version_major": 2,
       "version_minor": 0
      },
      "text/plain": [
       "FloatProgress(value=0.0, bar_style='info', description='Progress:', layout=Layout(height='25px', width='50%'),…"
      ]
     },
     "metadata": {},
     "output_type": "display_data"
    }
   ],
   "source": [
    "# Filling the null Drop_Trips_count with zero\n",
    "final_df=final_df.na.fill(0,subset=[\"Drop_Trips_count\"])"
   ]
  },
  {
   "cell_type": "markdown",
   "id": "1ec8872e",
   "metadata": {},
   "source": [
    "### Now we will just select the columns we  want:\n",
    "\n",
    "`hourly timestamp`, `locationID`, `Pick_Trips_count` and `Drop_Trips_count`"
   ]
  },
  {
   "cell_type": "code",
   "execution_count": 173,
   "id": "65a8092b",
   "metadata": {},
   "outputs": [
    {
     "data": {
      "application/vnd.jupyter.widget-view+json": {
       "model_id": "",
       "version_major": 2,
       "version_minor": 0
      },
      "text/plain": [
       "FloatProgress(value=0.0, bar_style='info', description='Progress:', layout=Layout(height='25px', width='50%'),…"
      ]
     },
     "metadata": {},
     "output_type": "display_data"
    }
   ],
   "source": [
    "final_df=final_df.select(['timestamp','hourly_timestamp','locationID','Trips_count','Drop_Trips_count'])"
   ]
  },
  {
   "cell_type": "code",
   "execution_count": 174,
   "id": "333a18e0",
   "metadata": {},
   "outputs": [
    {
     "data": {
      "application/vnd.jupyter.widget-view+json": {
       "model_id": "",
       "version_major": 2,
       "version_minor": 0
      },
      "text/plain": [
       "FloatProgress(value=0.0, bar_style='info', description='Progress:', layout=Layout(height='25px', width='50%'),…"
      ]
     },
     "metadata": {},
     "output_type": "display_data"
    }
   ],
   "source": [
    "final_df=final_df.withColumnRenamed('Trips_count','Pick_Trips_count')"
   ]
  },
  {
   "cell_type": "code",
   "execution_count": 175,
   "id": "34a3fd55",
   "metadata": {},
   "outputs": [
    {
     "data": {
      "application/vnd.jupyter.widget-view+json": {
       "model_id": "",
       "version_major": 2,
       "version_minor": 0
      },
      "text/plain": [
       "FloatProgress(value=0.0, bar_style='info', description='Progress:', layout=Layout(height='25px', width='50%'),…"
      ]
     },
     "metadata": {},
     "output_type": "display_data"
    },
    {
     "name": "stdout",
     "output_type": "stream",
     "text": [
      "+-------------------+----------------+----------+----------------+----------------+\n",
      "|          timestamp|hourly_timestamp|locationID|Pick_Trips_count|Drop_Trips_count|\n",
      "+-------------------+----------------+----------+----------------+----------------+\n",
      "|2020-01-01 00:00:00|2020-01-01 00:00|       150|               0|               0|\n",
      "|2020-01-01 00:00:00|2020-01-01 00:00|       189|              10|              16|\n",
      "|2020-01-01 00:00:00|2020-01-01 00:00|       195|               0|               2|\n",
      "|2020-01-01 00:00:00|2020-01-01 00:00|       233|             118|             173|\n",
      "|2020-01-01 00:00:00|2020-01-01 00:00|       241|               1|               2|\n",
      "|2020-01-01 00:00:00|2020-01-01 00:00|        95|               1|              16|\n",
      "|2020-01-01 01:00:00|2020-01-01 01:00|       119|               0|              11|\n",
      "|2020-01-01 01:00:00|2020-01-01 01:00|       124|               0|               1|\n",
      "|2020-01-01 01:00:00|2020-01-01 01:00|        13|              65|             109|\n",
      "|2020-01-01 01:00:00|2020-01-01 01:00|       130|               1|               1|\n",
      "|2020-01-01 01:00:00|2020-01-01 01:00|       131|               0|               3|\n",
      "|2020-01-01 01:00:00|2020-01-01 01:00|       135|               1|               3|\n",
      "|2020-01-01 01:00:00|2020-01-01 01:00|       188|               5|              12|\n",
      "|2020-01-01 01:00:00|2020-01-01 01:00|       208|               0|               5|\n",
      "|2020-01-01 01:00:00|2020-01-01 01:00|       241|               1|               8|\n",
      "|2020-01-01 01:00:00|2020-01-01 01:00|       245|               0|               1|\n",
      "|2020-01-01 01:00:00|2020-01-01 01:00|       256|              67|              71|\n",
      "|2020-01-01 01:00:00|2020-01-01 01:00|       262|             149|             318|\n",
      "|2020-01-01 01:00:00|2020-01-01 01:00|        40|              15|              27|\n",
      "|2020-01-01 01:00:00|2020-01-01 01:00|        46|               0|               0|\n",
      "+-------------------+----------------+----------+----------------+----------------+\n",
      "only showing top 20 rows"
     ]
    }
   ],
   "source": [
    "final_df.show()"
   ]
  },
  {
   "cell_type": "markdown",
   "id": "36742e6c",
   "metadata": {},
   "source": [
    "# Feature Engineering\n",
    "\n",
    "Now the dataframe is ready for modeling, final step is just to create some features such as month, day, year, hour and dayofweek\n"
   ]
  },
  {
   "cell_type": "code",
   "execution_count": 176,
   "id": "4bb82faa",
   "metadata": {},
   "outputs": [
    {
     "data": {
      "application/vnd.jupyter.widget-view+json": {
       "model_id": "",
       "version_major": 2,
       "version_minor": 0
      },
      "text/plain": [
       "FloatProgress(value=0.0, bar_style='info', description='Progress:', layout=Layout(height='25px', width='50%'),…"
      ]
     },
     "metadata": {},
     "output_type": "display_data"
    }
   ],
   "source": [
    "# Create Year column\n",
    "final_df=final_df.withColumn('Year',year(final_df['timestamp']))"
   ]
  },
  {
   "cell_type": "code",
   "execution_count": 177,
   "id": "48e84d2a",
   "metadata": {},
   "outputs": [
    {
     "data": {
      "application/vnd.jupyter.widget-view+json": {
       "model_id": "",
       "version_major": 2,
       "version_minor": 0
      },
      "text/plain": [
       "FloatProgress(value=0.0, bar_style='info', description='Progress:', layout=Layout(height='25px', width='50%'),…"
      ]
     },
     "metadata": {},
     "output_type": "display_data"
    }
   ],
   "source": [
    "# Create Month column\n",
    "final_df=final_df.withColumn('Month',month(final_df['timestamp']))"
   ]
  },
  {
   "cell_type": "code",
   "execution_count": 178,
   "id": "ef10ed36",
   "metadata": {},
   "outputs": [
    {
     "data": {
      "application/vnd.jupyter.widget-view+json": {
       "model_id": "",
       "version_major": 2,
       "version_minor": 0
      },
      "text/plain": [
       "FloatProgress(value=0.0, bar_style='info', description='Progress:', layout=Layout(height='25px', width='50%'),…"
      ]
     },
     "metadata": {},
     "output_type": "display_data"
    }
   ],
   "source": [
    "# create day of month column\n",
    "final_df=final_df.withColumn('DayOfMonth',dayofmonth(final_df['timestamp']))"
   ]
  },
  {
   "cell_type": "code",
   "execution_count": 179,
   "id": "72753817",
   "metadata": {},
   "outputs": [
    {
     "data": {
      "application/vnd.jupyter.widget-view+json": {
       "model_id": "",
       "version_major": 2,
       "version_minor": 0
      },
      "text/plain": [
       "FloatProgress(value=0.0, bar_style='info', description='Progress:', layout=Layout(height='25px', width='50%'),…"
      ]
     },
     "metadata": {},
     "output_type": "display_data"
    }
   ],
   "source": [
    "# Create hour column\n",
    "final_df=final_df.withColumn('Hour',hour(final_df['timestamp']))"
   ]
  },
  {
   "cell_type": "code",
   "execution_count": 180,
   "id": "fa13e6ce",
   "metadata": {},
   "outputs": [
    {
     "data": {
      "application/vnd.jupyter.widget-view+json": {
       "model_id": "",
       "version_major": 2,
       "version_minor": 0
      },
      "text/plain": [
       "FloatProgress(value=0.0, bar_style='info', description='Progress:', layout=Layout(height='25px', width='50%'),…"
      ]
     },
     "metadata": {},
     "output_type": "display_data"
    }
   ],
   "source": [
    "# Create Day of week column\n",
    "final_df=final_df.withColumn(\"dayofweek\", dayofweek(col(\"timestamp\")))"
   ]
  },
  {
   "cell_type": "code",
   "execution_count": 181,
   "id": "ff115889",
   "metadata": {},
   "outputs": [
    {
     "data": {
      "application/vnd.jupyter.widget-view+json": {
       "model_id": "",
       "version_major": 2,
       "version_minor": 0
      },
      "text/plain": [
       "FloatProgress(value=0.0, bar_style='info', description='Progress:', layout=Layout(height='25px', width='50%'),…"
      ]
     },
     "metadata": {},
     "output_type": "display_data"
    },
    {
     "name": "stdout",
     "output_type": "stream",
     "text": [
      "+-------------------+----------------+----------+----------------+----------------+----+-----+----------+----+---------+\n",
      "|          timestamp|hourly_timestamp|locationID|Pick_Trips_count|Drop_Trips_count|Year|Month|DayOfMonth|Hour|dayofweek|\n",
      "+-------------------+----------------+----------+----------------+----------------+----+-----+----------+----+---------+\n",
      "|2020-01-01 00:00:00|2020-01-01 00:00|       150|               0|               0|2020|    1|         1|   0|        4|\n",
      "|2020-01-01 00:00:00|2020-01-01 00:00|       189|              10|              16|2020|    1|         1|   0|        4|\n",
      "|2020-01-01 00:00:00|2020-01-01 00:00|       195|               0|               2|2020|    1|         1|   0|        4|\n",
      "|2020-01-01 00:00:00|2020-01-01 00:00|       233|             118|             173|2020|    1|         1|   0|        4|\n",
      "|2020-01-01 00:00:00|2020-01-01 00:00|       241|               1|               2|2020|    1|         1|   0|        4|\n",
      "|2020-01-01 00:00:00|2020-01-01 00:00|        95|               1|              16|2020|    1|         1|   0|        4|\n",
      "|2020-01-01 01:00:00|2020-01-01 01:00|       119|               0|              11|2020|    1|         1|   1|        4|\n",
      "|2020-01-01 01:00:00|2020-01-01 01:00|       124|               0|               1|2020|    1|         1|   1|        4|\n",
      "|2020-01-01 01:00:00|2020-01-01 01:00|        13|              65|             109|2020|    1|         1|   1|        4|\n",
      "|2020-01-01 01:00:00|2020-01-01 01:00|       130|               1|               1|2020|    1|         1|   1|        4|\n",
      "|2020-01-01 01:00:00|2020-01-01 01:00|       131|               0|               3|2020|    1|         1|   1|        4|\n",
      "|2020-01-01 01:00:00|2020-01-01 01:00|       135|               1|               3|2020|    1|         1|   1|        4|\n",
      "|2020-01-01 01:00:00|2020-01-01 01:00|       188|               5|              12|2020|    1|         1|   1|        4|\n",
      "|2020-01-01 01:00:00|2020-01-01 01:00|       208|               0|               5|2020|    1|         1|   1|        4|\n",
      "|2020-01-01 01:00:00|2020-01-01 01:00|       241|               1|               8|2020|    1|         1|   1|        4|\n",
      "|2020-01-01 01:00:00|2020-01-01 01:00|       245|               0|               1|2020|    1|         1|   1|        4|\n",
      "|2020-01-01 01:00:00|2020-01-01 01:00|       256|              67|              71|2020|    1|         1|   1|        4|\n",
      "|2020-01-01 01:00:00|2020-01-01 01:00|       262|             149|             318|2020|    1|         1|   1|        4|\n",
      "|2020-01-01 01:00:00|2020-01-01 01:00|        40|              15|              27|2020|    1|         1|   1|        4|\n",
      "|2020-01-01 01:00:00|2020-01-01 01:00|        46|               0|               0|2020|    1|         1|   1|        4|\n",
      "+-------------------+----------------+----------+----------------+----------------+----+-----+----------+----+---------+\n",
      "only showing top 20 rows"
     ]
    }
   ],
   "source": [
    "final_df.show()"
   ]
  },
  {
   "cell_type": "markdown",
   "id": "2ac066ee",
   "metadata": {},
   "source": [
    "### Save the final dataframe as parquet file in S3\n",
    "\n",
    "__Now we will save this spark dataframe to S3 bucket inside `EMR-project folder`__"
   ]
  },
  {
   "cell_type": "code",
   "execution_count": 182,
   "id": "9bfed1c7",
   "metadata": {},
   "outputs": [
    {
     "data": {
      "application/vnd.jupyter.widget-view+json": {
       "model_id": "",
       "version_major": 2,
       "version_minor": 0
      },
      "text/plain": [
       "FloatProgress(value=0.0, bar_style='info', description='Progress:', layout=Layout(height='25px', width='50%'),…"
      ]
     },
     "metadata": {},
     "output_type": "display_data"
    }
   ],
   "source": [
    "final_df.coalesce(1).write.parquet(\"s3://taxi-project-thesis/EMR-project/final_2020\")"
   ]
  },
  {
   "cell_type": "code",
   "execution_count": 1,
   "id": "2e763eed",
   "metadata": {},
   "outputs": [],
   "source": [
    "# CHeck if we can load the final_2020 dataframe "
   ]
  },
  {
   "cell_type": "code",
   "execution_count": 184,
   "id": "3794bae9",
   "metadata": {},
   "outputs": [
    {
     "data": {
      "application/vnd.jupyter.widget-view+json": {
       "model_id": "",
       "version_major": 2,
       "version_minor": 0
      },
      "text/plain": [
       "FloatProgress(value=0.0, bar_style='info', description='Progress:', layout=Layout(height='25px', width='50%'),…"
      ]
     },
     "metadata": {},
     "output_type": "display_data"
    }
   ],
   "source": [
    "### Load the final dataframe from S3\n",
    "df_taxi=spark.read.parquet(\"s3://taxi-project-thesis/EMR-project/final_2020/part-00000-6b94e604-fe74-416d-a81c-d4efd46dd9cb-c000.snappy.parquet\")"
   ]
  },
  {
   "cell_type": "code",
   "execution_count": 185,
   "id": "7b0326fd",
   "metadata": {
    "scrolled": true
   },
   "outputs": [
    {
     "data": {
      "application/vnd.jupyter.widget-view+json": {
       "model_id": "",
       "version_major": 2,
       "version_minor": 0
      },
      "text/plain": [
       "FloatProgress(value=0.0, bar_style='info', description='Progress:', layout=Layout(height='25px', width='50%'),…"
      ]
     },
     "metadata": {},
     "output_type": "display_data"
    },
    {
     "name": "stdout",
     "output_type": "stream",
     "text": [
      "+-------------------+----------------+----------+----------------+----------------+----+-----+----------+----+---------+\n",
      "|          timestamp|hourly_timestamp|locationID|Pick_Trips_count|Drop_Trips_count|Year|Month|DayOfMonth|Hour|dayofweek|\n",
      "+-------------------+----------------+----------+----------------+----------------+----+-----+----------+----+---------+\n",
      "|2020-01-01 00:00:00|2020-01-01 00:00|       150|               0|               0|2020|    1|         1|   0|        4|\n",
      "|2020-01-01 00:00:00|2020-01-01 00:00|       189|              10|              16|2020|    1|         1|   0|        4|\n",
      "|2020-01-01 00:00:00|2020-01-01 00:00|       195|               0|               2|2020|    1|         1|   0|        4|\n",
      "|2020-01-01 00:00:00|2020-01-01 00:00|       233|             118|             173|2020|    1|         1|   0|        4|\n",
      "|2020-01-01 00:00:00|2020-01-01 00:00|       241|               1|               2|2020|    1|         1|   0|        4|\n",
      "+-------------------+----------------+----------+----------------+----------------+----+-----+----------+----+---------+\n",
      "only showing top 5 rows"
     ]
    }
   ],
   "source": [
    "df_taxi.show(5)"
   ]
  },
  {
   "cell_type": "code",
   "execution_count": 186,
   "id": "fc7b3d95",
   "metadata": {},
   "outputs": [
    {
     "data": {
      "application/vnd.jupyter.widget-view+json": {
       "model_id": "",
       "version_major": 2,
       "version_minor": 0
      },
      "text/plain": [
       "FloatProgress(value=0.0, bar_style='info', description='Progress:', layout=Layout(height='25px', width='50%'),…"
      ]
     },
     "metadata": {},
     "output_type": "display_data"
    },
    {
     "name": "stdout",
     "output_type": "stream",
     "text": [
      "2301408"
     ]
    }
   ],
   "source": [
    "df_taxi.count()"
   ]
  },
  {
   "cell_type": "markdown",
   "id": "148d6d39",
   "metadata": {},
   "source": [
    "DONE !"
   ]
  },
  {
   "cell_type": "code",
   "execution_count": null,
   "id": "40e088d1",
   "metadata": {},
   "outputs": [],
   "source": []
  }
 ],
 "metadata": {
  "kernelspec": {
   "display_name": "Python 3 (ipykernel)",
   "language": "python",
   "name": "python3"
  },
  "language_info": {
   "codemirror_mode": {
    "name": "ipython",
    "version": 3
   },
   "file_extension": ".py",
   "mimetype": "text/x-python",
   "name": "python",
   "nbconvert_exporter": "python",
   "pygments_lexer": "ipython3",
   "version": "3.9.7"
  }
 },
 "nbformat": 4,
 "nbformat_minor": 5
}
