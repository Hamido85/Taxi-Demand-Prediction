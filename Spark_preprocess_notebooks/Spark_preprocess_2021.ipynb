{
 "cells": [
  {
   "cell_type": "markdown",
   "id": "5d422b9d",
   "metadata": {},
   "source": [
    "# We Will follow the same steps we did in the 2020 taxi data. If you want to understand the steps please review `Spark_preprocess_2020`"
   ]
  },
  {
   "cell_type": "markdown",
   "id": "696eb2c6",
   "metadata": {},
   "source": [
    "# Preprocessing Stage\n",
    "### Processing 2021 Taxi data "
   ]
  },
  {
   "cell_type": "markdown",
   "id": "4c899d26",
   "metadata": {},
   "source": [
    "__This will include the following process:__\n",
    "\n",
    "1- Reading the Taxi data stored in AWS S3 bucket.\n",
    "\n",
    "2- Analyzing the data and cleaning the data.\n",
    "\n",
    "3- Grouping the data in Hourly basis and Make it ready for Modeling\n",
    "\n",
    "4- Saving the transformed data in S3 bucket\n",
    "\n",
    "\n",
    "\n",
    "===============================================================================================\n",
    "\n",
    "\n"
   ]
  },
  {
   "cell_type": "markdown",
   "id": "40b640dd",
   "metadata": {},
   "source": [
    "# 1- Loading the data"
   ]
  },
  {
   "cell_type": "code",
   "execution_count": 1,
   "id": "bcac2ae1",
   "metadata": {},
   "outputs": [
    {
     "name": "stdout",
     "output_type": "stream",
     "text": [
      "Starting Spark application\n"
     ]
    },
    {
     "data": {
      "text/html": [
       "<table>\n",
       "<tr><th>ID</th><th>YARN Application ID</th><th>Kind</th><th>State</th><th>Spark UI</th><th>Driver log</th><th>User</th><th>Current session?</th></tr><tr><td>1</td><td>application_1662022518326_0002</td><td>pyspark</td><td>idle</td><td></td><td></td><td>None</td><td>✔</td></tr></table>"
      ],
      "text/plain": [
       "<IPython.core.display.HTML object>"
      ]
     },
     "metadata": {},
     "output_type": "display_data"
    },
    {
     "data": {
      "application/vnd.jupyter.widget-view+json": {
       "model_id": "",
       "version_major": 2,
       "version_minor": 0
      },
      "text/plain": [
       "FloatProgress(value=0.0, bar_style='info', description='Progress:', layout=Layout(height='25px', width='50%'),…"
      ]
     },
     "metadata": {},
     "output_type": "display_data"
    },
    {
     "name": "stdout",
     "output_type": "stream",
     "text": [
      "SparkSession available as 'spark'.\n"
     ]
    },
    {
     "data": {
      "application/vnd.jupyter.widget-view+json": {
       "model_id": "",
       "version_major": 2,
       "version_minor": 0
      },
      "text/plain": [
       "FloatProgress(value=0.0, bar_style='info', description='Progress:', layout=Layout(height='25px', width='50%'),…"
      ]
     },
     "metadata": {},
     "output_type": "display_data"
    }
   ],
   "source": [
    "from pyspark.sql import SparkSession"
   ]
  },
  {
   "cell_type": "code",
   "execution_count": 2,
   "id": "e268380e",
   "metadata": {},
   "outputs": [
    {
     "data": {
      "application/vnd.jupyter.widget-view+json": {
       "model_id": "",
       "version_major": 2,
       "version_minor": 0
      },
      "text/plain": [
       "FloatProgress(value=0.0, bar_style='info', description='Progress:', layout=Layout(height='25px', width='50%'),…"
      ]
     },
     "metadata": {},
     "output_type": "display_data"
    }
   ],
   "source": [
    "spark = SparkSession.builder.appName('cleaning').getOrCreate()"
   ]
  },
  {
   "cell_type": "markdown",
   "id": "590ec79b",
   "metadata": {},
   "source": [
    "* __2021 taxi consist of 12 parquet files, each file contain a month taxi records data. The files are uploaded in `taxi-project-thesis` AWS Bucket inside `taxi2021` folder. To read all the 12 parquet files together we will use `.coalesce(1)` function in pyspark__"
   ]
  },
  {
   "cell_type": "code",
   "execution_count": 50,
   "id": "d2b38fcd",
   "metadata": {},
   "outputs": [
    {
     "data": {
      "application/vnd.jupyter.widget-view+json": {
       "model_id": "",
       "version_major": 2,
       "version_minor": 0
      },
      "text/plain": [
       "FloatProgress(value=0.0, bar_style='info', description='Progress:', layout=Layout(height='25px', width='50%'),…"
      ]
     },
     "metadata": {},
     "output_type": "display_data"
    }
   ],
   "source": [
    "df=spark.read.parquet(\"s3://taxi-project-thesis/taxi2021/*\").coalesce(1)"
   ]
  },
  {
   "cell_type": "code",
   "execution_count": 51,
   "id": "3e16e35c",
   "metadata": {},
   "outputs": [
    {
     "data": {
      "application/vnd.jupyter.widget-view+json": {
       "model_id": "",
       "version_major": 2,
       "version_minor": 0
      },
      "text/plain": [
       "FloatProgress(value=0.0, bar_style='info', description='Progress:', layout=Layout(height='25px', width='50%'),…"
      ]
     },
     "metadata": {},
     "output_type": "display_data"
    },
    {
     "name": "stdout",
     "output_type": "stream",
     "text": [
      "30904308"
     ]
    }
   ],
   "source": [
    "df.count()"
   ]
  },
  {
   "cell_type": "markdown",
   "id": "ee624c40",
   "metadata": {},
   "source": [
    "__The dataframe contains `30904308` taxi trips. Lets analyze these trips.__"
   ]
  },
  {
   "cell_type": "code",
   "execution_count": 52,
   "id": "54fc650e",
   "metadata": {},
   "outputs": [
    {
     "data": {
      "application/vnd.jupyter.widget-view+json": {
       "model_id": "",
       "version_major": 2,
       "version_minor": 0
      },
      "text/plain": [
       "FloatProgress(value=0.0, bar_style='info', description='Progress:', layout=Layout(height='25px', width='50%'),…"
      ]
     },
     "metadata": {},
     "output_type": "display_data"
    }
   ],
   "source": [
    "from pyspark.sql.functions import *"
   ]
  },
  {
   "cell_type": "markdown",
   "id": "a08faf27",
   "metadata": {},
   "source": [
    "# 2- Analyzing  and cleaning the data\n",
    "## 2.1 Cleaning incorrect trips using pickup_datetime and dropoff_datetime"
   ]
  },
  {
   "cell_type": "markdown",
   "id": "f236e49d",
   "metadata": {},
   "source": [
    "### Cleaning the trips using the pick-up year\n",
    "* We need to extract the unique pick year to see if there are trips available in the dataframe which belong to incorrect years"
   ]
  },
  {
   "cell_type": "code",
   "execution_count": 53,
   "id": "f8b1764c",
   "metadata": {},
   "outputs": [
    {
     "data": {
      "application/vnd.jupyter.widget-view+json": {
       "model_id": "",
       "version_major": 2,
       "version_minor": 0
      },
      "text/plain": [
       "FloatProgress(value=0.0, bar_style='info', description='Progress:', layout=Layout(height='25px', width='50%'),…"
      ]
     },
     "metadata": {},
     "output_type": "display_data"
    }
   ],
   "source": [
    "# adding the pick up year\n",
    "df_new=df.withColumn('Pick_Year',year(df['tpep_pickup_datetime']))"
   ]
  },
  {
   "cell_type": "code",
   "execution_count": 54,
   "id": "0bc15953",
   "metadata": {},
   "outputs": [
    {
     "data": {
      "application/vnd.jupyter.widget-view+json": {
       "model_id": "",
       "version_major": 2,
       "version_minor": 0
      },
      "text/plain": [
       "FloatProgress(value=0.0, bar_style='info', description='Progress:', layout=Layout(height='25px', width='50%'),…"
      ]
     },
     "metadata": {},
     "output_type": "display_data"
    }
   ],
   "source": [
    "# adding the drop up year\n",
    "df_new=df_new.withColumn('Drop_Year',year(df_new['tpep_dropoff_datetime']))"
   ]
  },
  {
   "cell_type": "code",
   "execution_count": 55,
   "id": "f17dd7bc",
   "metadata": {},
   "outputs": [
    {
     "data": {
      "application/vnd.jupyter.widget-view+json": {
       "model_id": "",
       "version_major": 2,
       "version_minor": 0
      },
      "text/plain": [
       "FloatProgress(value=0.0, bar_style='info', description='Progress:', layout=Layout(height='25px', width='50%'),…"
      ]
     },
     "metadata": {},
     "output_type": "display_data"
    },
    {
     "name": "stdout",
     "output_type": "stream",
     "text": [
      "[Row(Pick_Year=2021), Row(Pick_Year=2009), Row(Pick_Year=2003), Row(Pick_Year=2008), Row(Pick_Year=2022), Row(Pick_Year=2020), Row(Pick_Year=2098), Row(Pick_Year=2028), Row(Pick_Year=2004), Row(Pick_Year=2002), Row(Pick_Year=2029), Row(Pick_Year=2011), Row(Pick_Year=2070)]"
     ]
    }
   ],
   "source": [
    "# check the pick-up year\n",
    "df_new.select('Pick_Year').distinct().collect()"
   ]
  },
  {
   "cell_type": "code",
   "execution_count": 56,
   "id": "854e6be9",
   "metadata": {},
   "outputs": [
    {
     "data": {
      "application/vnd.jupyter.widget-view+json": {
       "model_id": "",
       "version_major": 2,
       "version_minor": 0
      },
      "text/plain": [
       "FloatProgress(value=0.0, bar_style='info', description='Progress:', layout=Layout(height='25px', width='50%'),…"
      ]
     },
     "metadata": {},
     "output_type": "display_data"
    }
   ],
   "source": [
    "# adding pick up month\n",
    "df_new=df_new.withColumn('Pick_month',month(df_new['tpep_pickup_datetime']))"
   ]
  },
  {
   "cell_type": "code",
   "execution_count": 57,
   "id": "8c2a140f",
   "metadata": {},
   "outputs": [
    {
     "data": {
      "application/vnd.jupyter.widget-view+json": {
       "model_id": "",
       "version_major": 2,
       "version_minor": 0
      },
      "text/plain": [
       "FloatProgress(value=0.0, bar_style='info', description='Progress:', layout=Layout(height='25px', width='50%'),…"
      ]
     },
     "metadata": {},
     "output_type": "display_data"
    }
   ],
   "source": [
    "# adding drop month\n",
    "df_new=df_new.withColumn('drop_month',month(df_new['tpep_dropoff_datetime']))"
   ]
  },
  {
   "cell_type": "code",
   "execution_count": 58,
   "id": "6eeff8f3",
   "metadata": {},
   "outputs": [
    {
     "data": {
      "application/vnd.jupyter.widget-view+json": {
       "model_id": "",
       "version_major": 2,
       "version_minor": 0
      },
      "text/plain": [
       "FloatProgress(value=0.0, bar_style='info', description='Progress:', layout=Layout(height='25px', width='50%'),…"
      ]
     },
     "metadata": {},
     "output_type": "display_data"
    }
   ],
   "source": [
    "#We need to extract the pick year to see if there are incorrect years\n",
    "pick_year = df_new.select(collect_set('Pick_Year').alias('Pick_Year')).first()['Pick_Year']"
   ]
  },
  {
   "cell_type": "code",
   "execution_count": 10,
   "id": "2f5f6561",
   "metadata": {},
   "outputs": [
    {
     "data": {
      "application/vnd.jupyter.widget-view+json": {
       "model_id": "",
       "version_major": 2,
       "version_minor": 0
      },
      "text/plain": [
       "FloatProgress(value=0.0, bar_style='info', description='Progress:', layout=Layout(height='25px', width='50%'),…"
      ]
     },
     "metadata": {},
     "output_type": "display_data"
    },
    {
     "name": "stdout",
     "output_type": "stream",
     "text": [
      "year  2022 49\n",
      "year  2004 1\n",
      "year  2070 1\n",
      "year  2008 86\n",
      "year  2020 16\n",
      "year  2002 1\n",
      "year  2009 203\n",
      "year  2021 30903934\n",
      "year  2003 10\n",
      "year  2028 1\n",
      "year  2029 1\n",
      "year  2098 1\n",
      "year  2011 4"
     ]
    }
   ],
   "source": [
    "for i in (pick_year):\n",
    "    print('year ',i,df_new.filter(df_new['Pick_Year']==i).count())"
   ]
  },
  {
   "cell_type": "code",
   "execution_count": 59,
   "id": "13f57f75",
   "metadata": {},
   "outputs": [
    {
     "data": {
      "application/vnd.jupyter.widget-view+json": {
       "model_id": "",
       "version_major": 2,
       "version_minor": 0
      },
      "text/plain": [
       "FloatProgress(value=0.0, bar_style='info', description='Progress:', layout=Layout(height='25px', width='50%'),…"
      ]
     },
     "metadata": {},
     "output_type": "display_data"
    }
   ],
   "source": [
    "# we will filter out the year 2020 and 2021\n",
    "year_list=[2020,2021]"
   ]
  },
  {
   "cell_type": "code",
   "execution_count": 60,
   "id": "c48b0ca5",
   "metadata": {},
   "outputs": [
    {
     "data": {
      "application/vnd.jupyter.widget-view+json": {
       "model_id": "",
       "version_major": 2,
       "version_minor": 0
      },
      "text/plain": [
       "FloatProgress(value=0.0, bar_style='info', description='Progress:', layout=Layout(height='25px', width='50%'),…"
      ]
     },
     "metadata": {},
     "output_type": "display_data"
    }
   ],
   "source": [
    "df_new=df_new.filter(df_new.Pick_Year.isin(year_list))"
   ]
  },
  {
   "cell_type": "code",
   "execution_count": 61,
   "id": "d82d8981",
   "metadata": {},
   "outputs": [
    {
     "data": {
      "application/vnd.jupyter.widget-view+json": {
       "model_id": "",
       "version_major": 2,
       "version_minor": 0
      },
      "text/plain": [
       "FloatProgress(value=0.0, bar_style='info', description='Progress:', layout=Layout(height='25px', width='50%'),…"
      ]
     },
     "metadata": {},
     "output_type": "display_data"
    },
    {
     "name": "stdout",
     "output_type": "stream",
     "text": [
      "358"
     ]
    }
   ],
   "source": [
    "df.count()-df_new.count()"
   ]
  },
  {
   "cell_type": "code",
   "execution_count": 62,
   "id": "afe99a2d",
   "metadata": {},
   "outputs": [
    {
     "data": {
      "application/vnd.jupyter.widget-view+json": {
       "model_id": "",
       "version_major": 2,
       "version_minor": 0
      },
      "text/plain": [
       "FloatProgress(value=0.0, bar_style='info', description='Progress:', layout=Layout(height='25px', width='50%'),…"
      ]
     },
     "metadata": {},
     "output_type": "display_data"
    },
    {
     "name": "stdout",
     "output_type": "stream",
     "text": [
      "[Row(Pick_Year=2021), Row(Pick_Year=2020)]"
     ]
    }
   ],
   "source": [
    "# to check the pick up year in our dataframe\n",
    "df_new.select('Pick_Year').distinct().collect()"
   ]
  },
  {
   "cell_type": "markdown",
   "id": "9a3ced9a",
   "metadata": {},
   "source": [
    "### Cleaning the trips using the drop-off year\n",
    "\n",
    "* We need to extract the unique drop year to see if there are incorrect years"
   ]
  },
  {
   "cell_type": "code",
   "execution_count": 63,
   "id": "a7404c17",
   "metadata": {},
   "outputs": [
    {
     "data": {
      "application/vnd.jupyter.widget-view+json": {
       "model_id": "",
       "version_major": 2,
       "version_minor": 0
      },
      "text/plain": [
       "FloatProgress(value=0.0, bar_style='info', description='Progress:', layout=Layout(height='25px', width='50%'),…"
      ]
     },
     "metadata": {},
     "output_type": "display_data"
    },
    {
     "name": "stdout",
     "output_type": "stream",
     "text": [
      "[Row(Drop_Year=2021), Row(Drop_Year=2020), Row(Drop_Year=2022)]"
     ]
    }
   ],
   "source": [
    "df_new.select('Drop_Year').distinct().collect()"
   ]
  },
  {
   "cell_type": "markdown",
   "id": "e229cef9",
   "metadata": {},
   "source": [
    "We have drop year in 2020 should be removed"
   ]
  },
  {
   "cell_type": "code",
   "execution_count": 64,
   "id": "107bb339",
   "metadata": {},
   "outputs": [
    {
     "data": {
      "application/vnd.jupyter.widget-view+json": {
       "model_id": "",
       "version_major": 2,
       "version_minor": 0
      },
      "text/plain": [
       "FloatProgress(value=0.0, bar_style='info', description='Progress:', layout=Layout(height='25px', width='50%'),…"
      ]
     },
     "metadata": {},
     "output_type": "display_data"
    },
    {
     "name": "stdout",
     "output_type": "stream",
     "text": [
      "10"
     ]
    }
   ],
   "source": [
    "# we will remove the rows which the drop year in 2019\n",
    "df_new.filter(df_new['Drop_Year']==2020).count()"
   ]
  },
  {
   "cell_type": "code",
   "execution_count": 65,
   "id": "f47bce54",
   "metadata": {},
   "outputs": [
    {
     "data": {
      "application/vnd.jupyter.widget-view+json": {
       "model_id": "",
       "version_major": 2,
       "version_minor": 0
      },
      "text/plain": [
       "FloatProgress(value=0.0, bar_style='info', description='Progress:', layout=Layout(height='25px', width='50%'),…"
      ]
     },
     "metadata": {},
     "output_type": "display_data"
    }
   ],
   "source": [
    "year_list=[2021,2022]"
   ]
  },
  {
   "cell_type": "code",
   "execution_count": 66,
   "id": "836d1642",
   "metadata": {},
   "outputs": [
    {
     "data": {
      "application/vnd.jupyter.widget-view+json": {
       "model_id": "",
       "version_major": 2,
       "version_minor": 0
      },
      "text/plain": [
       "FloatProgress(value=0.0, bar_style='info', description='Progress:', layout=Layout(height='25px', width='50%'),…"
      ]
     },
     "metadata": {},
     "output_type": "display_data"
    }
   ],
   "source": [
    "df_new=df_new.filter(df_new.Drop_Year.isin(year_list))"
   ]
  },
  {
   "cell_type": "code",
   "execution_count": 67,
   "id": "b712f44b",
   "metadata": {},
   "outputs": [
    {
     "data": {
      "application/vnd.jupyter.widget-view+json": {
       "model_id": "",
       "version_major": 2,
       "version_minor": 0
      },
      "text/plain": [
       "FloatProgress(value=0.0, bar_style='info', description='Progress:', layout=Layout(height='25px', width='50%'),…"
      ]
     },
     "metadata": {},
     "output_type": "display_data"
    },
    {
     "name": "stdout",
     "output_type": "stream",
     "text": [
      "[Row(Drop_Year=2021), Row(Drop_Year=2022)]"
     ]
    }
   ],
   "source": [
    "#check the drop year after filtering\n",
    "df_new.select('Drop_Year').distinct().collect()"
   ]
  },
  {
   "cell_type": "markdown",
   "id": "896b249f",
   "metadata": {},
   "source": [
    "## 2.2 Analyzing and cleaning the trip distance\n"
   ]
  },
  {
   "cell_type": "code",
   "execution_count": 68,
   "id": "813c96c9",
   "metadata": {},
   "outputs": [
    {
     "data": {
      "application/vnd.jupyter.widget-view+json": {
       "model_id": "",
       "version_major": 2,
       "version_minor": 0
      },
      "text/plain": [
       "FloatProgress(value=0.0, bar_style='info', description='Progress:', layout=Layout(height='25px', width='50%'),…"
      ]
     },
     "metadata": {},
     "output_type": "display_data"
    },
    {
     "name": "stdout",
     "output_type": "stream",
     "text": [
      "407780"
     ]
    }
   ],
   "source": [
    "#Checking the trips that have zore trip distance\n",
    "df_new.filter('trip_distance=0').count()"
   ]
  },
  {
   "cell_type": "markdown",
   "id": "1d18e5a0",
   "metadata": {},
   "source": [
    "lets do further analysis. if the drop location is silimar to pick location, then we assume there was congustion or any other reason and the passenger left from the taxi"
   ]
  },
  {
   "cell_type": "code",
   "execution_count": 69,
   "id": "9673bb2a",
   "metadata": {},
   "outputs": [
    {
     "data": {
      "application/vnd.jupyter.widget-view+json": {
       "model_id": "",
       "version_major": 2,
       "version_minor": 0
      },
      "text/plain": [
       "FloatProgress(value=0.0, bar_style='info', description='Progress:', layout=Layout(height='25px', width='50%'),…"
      ]
     },
     "metadata": {},
     "output_type": "display_data"
    }
   ],
   "source": [
    "zero_distance=df_new.filter(df_new['trip_distance']==0)"
   ]
  },
  {
   "cell_type": "code",
   "execution_count": 70,
   "id": "9bcba097",
   "metadata": {},
   "outputs": [
    {
     "data": {
      "application/vnd.jupyter.widget-view+json": {
       "model_id": "",
       "version_major": 2,
       "version_minor": 0
      },
      "text/plain": [
       "FloatProgress(value=0.0, bar_style='info', description='Progress:', layout=Layout(height='25px', width='50%'),…"
      ]
     },
     "metadata": {},
     "output_type": "display_data"
    },
    {
     "name": "stdout",
     "output_type": "stream",
     "text": [
      "Number of trips with zero trip distance  407780  trips"
     ]
    }
   ],
   "source": [
    "print('Number of trips with zero trip distance ',zero_distance.count(),' trips')"
   ]
  },
  {
   "cell_type": "code",
   "execution_count": 71,
   "id": "914d0ac6",
   "metadata": {},
   "outputs": [
    {
     "data": {
      "application/vnd.jupyter.widget-view+json": {
       "model_id": "",
       "version_major": 2,
       "version_minor": 0
      },
      "text/plain": [
       "FloatProgress(value=0.0, bar_style='info', description='Progress:', layout=Layout(height='25px', width='50%'),…"
      ]
     },
     "metadata": {},
     "output_type": "display_data"
    },
    {
     "name": "stdout",
     "output_type": "stream",
     "text": [
      "197671"
     ]
    }
   ],
   "source": [
    "# trips which have zero distance and pick location is similir to drop location\n",
    "zero_distance.filter(zero_distance['PULocationID']==zero_distance['DOLocationID']).count()"
   ]
  },
  {
   "cell_type": "markdown",
   "id": "ff9a1b18",
   "metadata": {},
   "source": [
    "__So we will try to remove the trips which have zero trip distance and is pick location is different than drop location__"
   ]
  },
  {
   "cell_type": "code",
   "execution_count": 72,
   "id": "9eedb7b4",
   "metadata": {},
   "outputs": [
    {
     "data": {
      "application/vnd.jupyter.widget-view+json": {
       "model_id": "",
       "version_major": 2,
       "version_minor": 0
      },
      "text/plain": [
       "FloatProgress(value=0.0, bar_style='info', description='Progress:', layout=Layout(height='25px', width='50%'),…"
      ]
     },
     "metadata": {},
     "output_type": "display_data"
    },
    {
     "name": "stdout",
     "output_type": "stream",
     "text": [
      "210109"
     ]
    }
   ],
   "source": [
    "# trips which have zero distance and pick location is different than drop location\n",
    "zero_distance.filter(zero_distance['PULocationID']!=zero_distance['DOLocationID']).count()"
   ]
  },
  {
   "cell_type": "code",
   "execution_count": 73,
   "id": "e7ea9d00",
   "metadata": {},
   "outputs": [
    {
     "data": {
      "application/vnd.jupyter.widget-view+json": {
       "model_id": "",
       "version_major": 2,
       "version_minor": 0
      },
      "text/plain": [
       "FloatProgress(value=0.0, bar_style='info', description='Progress:', layout=Layout(height='25px', width='50%'),…"
      ]
     },
     "metadata": {},
     "output_type": "display_data"
    },
    {
     "name": "stdout",
     "output_type": "stream",
     "text": [
      "30693831"
     ]
    }
   ],
   "source": [
    "# our dataset should have this count\n",
    "df_new.count() - 210109"
   ]
  },
  {
   "cell_type": "markdown",
   "id": "5f33b192",
   "metadata": {},
   "source": [
    "### Steps:\n",
    "\n",
    "* We will create data having zero distance trips (already done above).\n",
    "\n",
    "* We will create dataframe that dont have zero distance trips.(`no_zero_distance`)\n",
    "\n",
    "\n",
    "* We will filter out the trips that have zero distance and the pick up location is different than the drop locations from the zero dataframe.\n",
    "\n",
    "* Then we will merge the zero dataframe with the non-zero-distance dataframe"
   ]
  },
  {
   "cell_type": "code",
   "execution_count": 74,
   "id": "45e1c38d",
   "metadata": {},
   "outputs": [
    {
     "data": {
      "application/vnd.jupyter.widget-view+json": {
       "model_id": "",
       "version_major": 2,
       "version_minor": 0
      },
      "text/plain": [
       "FloatProgress(value=0.0, bar_style='info', description='Progress:', layout=Layout(height='25px', width='50%'),…"
      ]
     },
     "metadata": {},
     "output_type": "display_data"
    }
   ],
   "source": [
    "# 1- we will remove the trips contains zero\n",
    "no_zero_distance=df_new.filter(df_new['trip_distance']!=0)"
   ]
  },
  {
   "cell_type": "code",
   "execution_count": 75,
   "id": "4f3e76f8",
   "metadata": {},
   "outputs": [
    {
     "data": {
      "application/vnd.jupyter.widget-view+json": {
       "model_id": "",
       "version_major": 2,
       "version_minor": 0
      },
      "text/plain": [
       "FloatProgress(value=0.0, bar_style='info', description='Progress:', layout=Layout(height='25px', width='50%'),…"
      ]
     },
     "metadata": {},
     "output_type": "display_data"
    },
    {
     "name": "stdout",
     "output_type": "stream",
     "text": [
      "407780"
     ]
    }
   ],
   "source": [
    "# we will create data having zero which we already created before\n",
    "zero_distance.count()"
   ]
  },
  {
   "cell_type": "code",
   "execution_count": 76,
   "id": "654c7fcd",
   "metadata": {},
   "outputs": [
    {
     "data": {
      "application/vnd.jupyter.widget-view+json": {
       "model_id": "",
       "version_major": 2,
       "version_minor": 0
      },
      "text/plain": [
       "FloatProgress(value=0.0, bar_style='info', description='Progress:', layout=Layout(height='25px', width='50%'),…"
      ]
     },
     "metadata": {},
     "output_type": "display_data"
    },
    {
     "name": "stdout",
     "output_type": "stream",
     "text": [
      "210109"
     ]
    }
   ],
   "source": [
    "#checking the count of the trips with zero distance and pick location is different than drop location\n",
    "zero_distance.filter(zero_distance['PULocationID']!=zero_distance['DOLocationID']).count()"
   ]
  },
  {
   "cell_type": "code",
   "execution_count": 77,
   "id": "aad40148",
   "metadata": {},
   "outputs": [
    {
     "data": {
      "application/vnd.jupyter.widget-view+json": {
       "model_id": "",
       "version_major": 2,
       "version_minor": 0
      },
      "text/plain": [
       "FloatProgress(value=0.0, bar_style='info', description='Progress:', layout=Layout(height='25px', width='50%'),…"
      ]
     },
     "metadata": {},
     "output_type": "display_data"
    }
   ],
   "source": [
    "#3 - we will filter out the trips that have zero and different pick and drop locations\n",
    "# here we will filter only the trips with similar pick and drop location\n",
    "Zero_distance_cleared=zero_distance.filter(zero_distance['PULocationID']==zero_distance['DOLocationID'])"
   ]
  },
  {
   "cell_type": "code",
   "execution_count": 78,
   "id": "400a6be2",
   "metadata": {},
   "outputs": [
    {
     "data": {
      "application/vnd.jupyter.widget-view+json": {
       "model_id": "",
       "version_major": 2,
       "version_minor": 0
      },
      "text/plain": [
       "FloatProgress(value=0.0, bar_style='info', description='Progress:', layout=Layout(height='25px', width='50%'),…"
      ]
     },
     "metadata": {},
     "output_type": "display_data"
    },
    {
     "name": "stdout",
     "output_type": "stream",
     "text": [
      "30693831"
     ]
    }
   ],
   "source": [
    "# to varify the correct number\n",
    "no_zero_distance.count() +Zero_distance_cleared.count()"
   ]
  },
  {
   "cell_type": "code",
   "execution_count": 79,
   "id": "f0a54f1c",
   "metadata": {},
   "outputs": [
    {
     "data": {
      "application/vnd.jupyter.widget-view+json": {
       "model_id": "",
       "version_major": 2,
       "version_minor": 0
      },
      "text/plain": [
       "FloatProgress(value=0.0, bar_style='info', description='Progress:', layout=Layout(height='25px', width='50%'),…"
      ]
     },
     "metadata": {},
     "output_type": "display_data"
    }
   ],
   "source": [
    "# we will merge the trips that have no zero distance with the trips that have zero distance and simlar pick and drop locations\n",
    "df_new_1 = no_zero_distance.union(Zero_distance_cleared)"
   ]
  },
  {
   "cell_type": "code",
   "execution_count": 80,
   "id": "7fd25435",
   "metadata": {},
   "outputs": [
    {
     "data": {
      "application/vnd.jupyter.widget-view+json": {
       "model_id": "",
       "version_major": 2,
       "version_minor": 0
      },
      "text/plain": [
       "FloatProgress(value=0.0, bar_style='info', description='Progress:', layout=Layout(height='25px', width='50%'),…"
      ]
     },
     "metadata": {},
     "output_type": "display_data"
    },
    {
     "name": "stdout",
     "output_type": "stream",
     "text": [
      "30693831"
     ]
    }
   ],
   "source": [
    "# this dataset contain all the observation except with zero distance and drop location is different than pick location\n",
    "df_new_1.count()"
   ]
  },
  {
   "cell_type": "code",
   "execution_count": 81,
   "id": "265b848b",
   "metadata": {},
   "outputs": [
    {
     "data": {
      "application/vnd.jupyter.widget-view+json": {
       "model_id": "",
       "version_major": 2,
       "version_minor": 0
      },
      "text/plain": [
       "FloatProgress(value=0.0, bar_style='info', description='Progress:', layout=Layout(height='25px', width='50%'),…"
      ]
     },
     "metadata": {},
     "output_type": "display_data"
    },
    {
     "name": "stdout",
     "output_type": "stream",
     "text": [
      "0"
     ]
    }
   ],
   "source": [
    "#Check if we have trips with zero distance and diffrent drop and pick locations\n",
    "df_new_1.filter((df_new_1['trip_distance']==0) & (df_new_1['PULocationID']!=df_new_1['DOLocationID'])).count()"
   ]
  },
  {
   "cell_type": "code",
   "execution_count": 82,
   "id": "9f4abcd9",
   "metadata": {},
   "outputs": [
    {
     "data": {
      "application/vnd.jupyter.widget-view+json": {
       "model_id": "",
       "version_major": 2,
       "version_minor": 0
      },
      "text/plain": [
       "FloatProgress(value=0.0, bar_style='info', description='Progress:', layout=Layout(height='25px', width='50%'),…"
      ]
     },
     "metadata": {},
     "output_type": "display_data"
    },
    {
     "name": "stdout",
     "output_type": "stream",
     "text": [
      "+-------+-----------------+\n",
      "|summary|    trip_distance|\n",
      "+-------+-----------------+\n",
      "|  count|         30693831|\n",
      "|   mean|6.970119250021118|\n",
      "| stddev|700.7701268807028|\n",
      "|    min|              0.0|\n",
      "|    max|        351613.36|\n",
      "+-------+-----------------+"
     ]
    }
   ],
   "source": [
    "df_new_1.select('trip_distance').describe().show()"
   ]
  },
  {
   "cell_type": "code",
   "execution_count": 83,
   "id": "e52fda99",
   "metadata": {},
   "outputs": [
    {
     "data": {
      "application/vnd.jupyter.widget-view+json": {
       "model_id": "",
       "version_major": 2,
       "version_minor": 0
      },
      "text/plain": [
       "FloatProgress(value=0.0, bar_style='info', description='Progress:', layout=Layout(height='25px', width='50%'),…"
      ]
     },
     "metadata": {},
     "output_type": "display_data"
    },
    {
     "name": "stdout",
     "output_type": "stream",
     "text": [
      "1405"
     ]
    }
   ],
   "source": [
    "# Number of trips above or equal 1000 miles\n",
    "df_new_1.filter(df_new_1['trip_distance']>=1000).count()"
   ]
  },
  {
   "cell_type": "markdown",
   "id": "3441b973",
   "metadata": {},
   "source": [
    "__we will just try to remove the unrealistic trips by removing any trip above 1000 mile__"
   ]
  },
  {
   "cell_type": "code",
   "execution_count": 84,
   "id": "20d824f3",
   "metadata": {},
   "outputs": [
    {
     "data": {
      "application/vnd.jupyter.widget-view+json": {
       "model_id": "",
       "version_major": 2,
       "version_minor": 0
      },
      "text/plain": [
       "FloatProgress(value=0.0, bar_style='info', description='Progress:', layout=Layout(height='25px', width='50%'),…"
      ]
     },
     "metadata": {},
     "output_type": "display_data"
    }
   ],
   "source": [
    "df_new_1=df_new_1.filter(df_new_1['trip_distance']<1000)"
   ]
  },
  {
   "cell_type": "code",
   "execution_count": 85,
   "id": "271ab3f6",
   "metadata": {},
   "outputs": [
    {
     "data": {
      "application/vnd.jupyter.widget-view+json": {
       "model_id": "",
       "version_major": 2,
       "version_minor": 0
      },
      "text/plain": [
       "FloatProgress(value=0.0, bar_style='info', description='Progress:', layout=Layout(height='25px', width='50%'),…"
      ]
     },
     "metadata": {},
     "output_type": "display_data"
    },
    {
     "name": "stdout",
     "output_type": "stream",
     "text": [
      "30692426"
     ]
    }
   ],
   "source": [
    "df_new_1.count()"
   ]
  },
  {
   "cell_type": "markdown",
   "id": "5a663a04",
   "metadata": {},
   "source": [
    "## 2.3 Fare amount\n",
    "As per https://www1.nyc.gov/site/tlc/passengers/taxi-fare.page the min fare amount is $2.50 initial charge. so we will analyze the fare amount"
   ]
  },
  {
   "cell_type": "code",
   "execution_count": 86,
   "id": "9b6cd037",
   "metadata": {},
   "outputs": [
    {
     "data": {
      "application/vnd.jupyter.widget-view+json": {
       "model_id": "",
       "version_major": 2,
       "version_minor": 0
      },
      "text/plain": [
       "FloatProgress(value=0.0, bar_style='info', description='Progress:', layout=Layout(height='25px', width='50%'),…"
      ]
     },
     "metadata": {},
     "output_type": "display_data"
    }
   ],
   "source": [
    "#removing the trips that have fare amount less than 2.5\n",
    "df_new_1=df_new_1.filter(df_new_1['fare_amount']>=2.5)"
   ]
  },
  {
   "cell_type": "code",
   "execution_count": 87,
   "id": "3ac1262b",
   "metadata": {},
   "outputs": [
    {
     "data": {
      "application/vnd.jupyter.widget-view+json": {
       "model_id": "",
       "version_major": 2,
       "version_minor": 0
      },
      "text/plain": [
       "FloatProgress(value=0.0, bar_style='info', description='Progress:', layout=Layout(height='25px', width='50%'),…"
      ]
     },
     "metadata": {},
     "output_type": "display_data"
    }
   ],
   "source": [
    "# we will remove the trips above 500 dollars since its not realistic in my point of view and only 113 trips which will not affect our data\n",
    "df_new_1=df_new_1.filter(df_new_1['fare_amount']<=500)"
   ]
  },
  {
   "cell_type": "code",
   "execution_count": 88,
   "id": "3683ada2",
   "metadata": {},
   "outputs": [
    {
     "data": {
      "application/vnd.jupyter.widget-view+json": {
       "model_id": "",
       "version_major": 2,
       "version_minor": 0
      },
      "text/plain": [
       "FloatProgress(value=0.0, bar_style='info', description='Progress:', layout=Layout(height='25px', width='50%'),…"
      ]
     },
     "metadata": {},
     "output_type": "display_data"
    },
    {
     "name": "stdout",
     "output_type": "stream",
     "text": [
      "30538443"
     ]
    }
   ],
   "source": [
    "df_new_1.count()"
   ]
  },
  {
   "cell_type": "markdown",
   "id": "48bb8768",
   "metadata": {},
   "source": [
    "## 2.4 Trip duration\n",
    "As per NYC Taxi & Limousine Commision Regulations, the maximum duration taxi driver can drive per day is 12 hours, so we will assume that the max trip duration could be 12 hours and remove and records axceed 12 hours\n",
    "\n",
    "Steps to remove the trips above 12 hours:\n",
    "\n",
    "* We will create new column that contain the trip duration by second `trip_duration_seconds` (just subtract the UNIX pickup time from the UNIX drop time)\n",
    "\n",
    "* We will create trip_duration in hours from the newly created `trip_duration_seconds`\n",
    "\n",
    "* Then filterout and remove any trip above 12 hours"
   ]
  },
  {
   "cell_type": "code",
   "execution_count": 89,
   "id": "caeea752",
   "metadata": {},
   "outputs": [
    {
     "data": {
      "application/vnd.jupyter.widget-view+json": {
       "model_id": "",
       "version_major": 2,
       "version_minor": 0
      },
      "text/plain": [
       "FloatProgress(value=0.0, bar_style='info', description='Progress:', layout=Layout(height='25px', width='50%'),…"
      ]
     },
     "metadata": {},
     "output_type": "display_data"
    },
    {
     "name": "stdout",
     "output_type": "stream",
     "text": [
      "+--------------------+---------------------+---------------------+\n",
      "|tpep_pickup_datetime|tpep_dropoff_datetime|trip_duration_seconds|\n",
      "+--------------------+---------------------+---------------------+\n",
      "| 2021-11-01 00:34:15|  2021-11-01 00:57:21|                 1386|\n",
      "| 2021-11-01 00:00:29|  2021-11-01 00:14:13|                  824|\n",
      "| 2021-11-01 00:27:51|  2021-11-01 00:34:21|                  390|\n",
      "| 2021-11-01 00:01:56|  2021-11-01 00:25:18|                 1402|\n",
      "| 2021-11-01 00:10:44|  2021-11-01 00:29:06|                 1102|\n",
      "| 2021-11-01 00:36:21|  2021-11-01 00:54:46|                 1105|\n",
      "| 2021-11-01 00:12:05|  2021-11-01 00:31:06|                 1141|\n",
      "| 2021-11-01 00:49:43|  2021-11-01 00:59:38|                  595|\n",
      "| 2021-11-01 00:10:05|  2021-11-01 00:37:59|                 1674|\n",
      "| 2021-11-01 00:26:13|  2021-11-01 00:37:37|                  684|\n",
      "| 2021-11-01 00:41:44|  2021-11-01 00:46:21|                  277|\n",
      "| 2021-11-01 00:24:21|  2021-11-01 00:33:56|                  575|\n",
      "| 2021-11-01 00:36:22|  2021-11-01 01:00:14|                 1432|\n",
      "| 2021-11-01 00:47:14|  2021-11-01 00:50:50|                  216|\n",
      "| 2021-11-01 00:00:19|  2021-11-01 00:17:40|                 1041|\n",
      "| 2021-11-01 00:15:27|  2021-11-01 00:43:16|                 1669|\n",
      "| 2021-11-01 00:58:53|  2021-11-01 01:04:19|                  326|\n",
      "| 2021-11-01 00:06:15|  2021-11-01 00:14:40|                  505|\n",
      "| 2021-11-01 00:42:05|  2021-11-01 01:07:57|                 1552|\n",
      "| 2021-11-01 17:51:18|  2021-11-01 18:23:41|                 1943|\n",
      "+--------------------+---------------------+---------------------+\n",
      "only showing top 20 rows"
     ]
    }
   ],
   "source": [
    "df_new_1.withColumn('trip_duration_seconds',unix_timestamp(\"tpep_dropoff_datetime\") - unix_timestamp('tpep_pickup_datetime'))\\\n",
    ".select(['tpep_pickup_datetime','tpep_dropoff_datetime','trip_duration_seconds']).show(20)"
   ]
  },
  {
   "cell_type": "code",
   "execution_count": 90,
   "id": "ecd3f833",
   "metadata": {},
   "outputs": [
    {
     "data": {
      "application/vnd.jupyter.widget-view+json": {
       "model_id": "",
       "version_major": 2,
       "version_minor": 0
      },
      "text/plain": [
       "FloatProgress(value=0.0, bar_style='info', description='Progress:', layout=Layout(height='25px', width='50%'),…"
      ]
     },
     "metadata": {},
     "output_type": "display_data"
    }
   ],
   "source": [
    "df_new_1=df_new_1.withColumn('trip_duration_seconds',unix_timestamp(\"tpep_dropoff_datetime\") - unix_timestamp('tpep_pickup_datetime'))"
   ]
  },
  {
   "cell_type": "code",
   "execution_count": 91,
   "id": "bd8f2109",
   "metadata": {},
   "outputs": [
    {
     "data": {
      "application/vnd.jupyter.widget-view+json": {
       "model_id": "",
       "version_major": 2,
       "version_minor": 0
      },
      "text/plain": [
       "FloatProgress(value=0.0, bar_style='info', description='Progress:', layout=Layout(height='25px', width='50%'),…"
      ]
     },
     "metadata": {},
     "output_type": "display_data"
    }
   ],
   "source": [
    "# We will create trip duration in hour which is the `trip_duration_seconds / 3600`\n",
    "df_new_1=df_new_1.withColumn('duration_In_Hours',round(col('trip_duration_seconds')/3600,1))"
   ]
  },
  {
   "cell_type": "code",
   "execution_count": 92,
   "id": "1dd25cf7",
   "metadata": {},
   "outputs": [
    {
     "data": {
      "application/vnd.jupyter.widget-view+json": {
       "model_id": "",
       "version_major": 2,
       "version_minor": 0
      },
      "text/plain": [
       "FloatProgress(value=0.0, bar_style='info', description='Progress:', layout=Layout(height='25px', width='50%'),…"
      ]
     },
     "metadata": {},
     "output_type": "display_data"
    }
   ],
   "source": [
    "df_new_1=df_new_1.filter(df_new_1['duration_In_Hours']<=12)"
   ]
  },
  {
   "cell_type": "code",
   "execution_count": 93,
   "id": "7ecd5d43",
   "metadata": {},
   "outputs": [
    {
     "data": {
      "application/vnd.jupyter.widget-view+json": {
       "model_id": "",
       "version_major": 2,
       "version_minor": 0
      },
      "text/plain": [
       "FloatProgress(value=0.0, bar_style='info', description='Progress:', layout=Layout(height='25px', width='50%'),…"
      ]
     },
     "metadata": {},
     "output_type": "display_data"
    },
    {
     "name": "stdout",
     "output_type": "stream",
     "text": [
      "0"
     ]
    }
   ],
   "source": [
    "df_new_1.filter(df_new_1['duration_In_Hours']>12).count()"
   ]
  },
  {
   "cell_type": "markdown",
   "id": "01d8c90c",
   "metadata": {},
   "source": [
    "## 2.5 Check the trips in each month\n",
    "\n",
    "The trips in each month shpuld be dropped in the same month and some trips in the next month. for example january trips will have pick-up trips occurred in january and the drop of these trips must be in january and some of them will be dropped in february, following the assumption that some trips have been picked during the last hour in 31-Jan and it might been dropped in the first hour during the february first."
   ]
  },
  {
   "cell_type": "code",
   "execution_count": 94,
   "id": "1992c6f8",
   "metadata": {},
   "outputs": [
    {
     "data": {
      "application/vnd.jupyter.widget-view+json": {
       "model_id": "",
       "version_major": 2,
       "version_minor": 0
      },
      "text/plain": [
       "FloatProgress(value=0.0, bar_style='info', description='Progress:', layout=Layout(height='25px', width='50%'),…"
      ]
     },
     "metadata": {},
     "output_type": "display_data"
    }
   ],
   "source": [
    "# adding pick up month\n",
    "df_new=df_new.withColumn('Pick_month',month(df_new['tpep_pickup_datetime']))"
   ]
  },
  {
   "cell_type": "code",
   "execution_count": 95,
   "id": "43dc9551",
   "metadata": {},
   "outputs": [
    {
     "data": {
      "application/vnd.jupyter.widget-view+json": {
       "model_id": "",
       "version_major": 2,
       "version_minor": 0
      },
      "text/plain": [
       "FloatProgress(value=0.0, bar_style='info', description='Progress:', layout=Layout(height='25px', width='50%'),…"
      ]
     },
     "metadata": {},
     "output_type": "display_data"
    },
    {
     "name": "stdout",
     "output_type": "stream",
     "text": [
      "Pick up month  1 [Row(drop_month=1), Row(drop_month=2)]\n",
      "Pick up month  2 [Row(drop_month=3), Row(drop_month=2)]\n",
      "Pick up month  3 [Row(drop_month=3), Row(drop_month=4)]\n",
      "Pick up month  4 [Row(drop_month=4), Row(drop_month=5)]\n",
      "Pick up month  5 [Row(drop_month=6), Row(drop_month=5)]\n",
      "Pick up month  6 [Row(drop_month=6), Row(drop_month=7)]\n",
      "Pick up month  7 [Row(drop_month=8), Row(drop_month=7)]\n",
      "Pick up month  8 [Row(drop_month=8), Row(drop_month=7), Row(drop_month=9)]\n",
      "Pick up month  9 [Row(drop_month=9), Row(drop_month=10)]\n",
      "Pick up month  10 [Row(drop_month=11), Row(drop_month=10)]\n",
      "Pick up month  11 [Row(drop_month=12), Row(drop_month=11)]\n",
      "Pick up month  12 [Row(drop_month=12), Row(drop_month=1), Row(drop_month=10)]"
     ]
    }
   ],
   "source": [
    "for i in range(1,13):\n",
    "    print('Pick up month ',i,df_new_1.filter(df_new_1['Pick_month']==i).select('drop_month').distinct().collect())"
   ]
  },
  {
   "cell_type": "markdown",
   "id": "ba6fee57",
   "metadata": {},
   "source": [
    "__We notice that in Augest trips we have trips dropped in Jully which is incorrect. Also in December. lets view this data__"
   ]
  },
  {
   "cell_type": "code",
   "execution_count": 96,
   "id": "de969268",
   "metadata": {},
   "outputs": [
    {
     "data": {
      "application/vnd.jupyter.widget-view+json": {
       "model_id": "",
       "version_major": 2,
       "version_minor": 0
      },
      "text/plain": [
       "FloatProgress(value=0.0, bar_style='info', description='Progress:', layout=Layout(height='25px', width='50%'),…"
      ]
     },
     "metadata": {},
     "output_type": "display_data"
    },
    {
     "name": "stdout",
     "output_type": "stream",
     "text": [
      "1"
     ]
    }
   ],
   "source": [
    "df_new_1.filter((df_new_1['Pick_month']==8) & (df_new_1['drop_month']==7)).count()"
   ]
  },
  {
   "cell_type": "code",
   "execution_count": 97,
   "id": "f2e56b83",
   "metadata": {},
   "outputs": [
    {
     "data": {
      "application/vnd.jupyter.widget-view+json": {
       "model_id": "",
       "version_major": 2,
       "version_minor": 0
      },
      "text/plain": [
       "FloatProgress(value=0.0, bar_style='info', description='Progress:', layout=Layout(height='25px', width='50%'),…"
      ]
     },
     "metadata": {},
     "output_type": "display_data"
    },
    {
     "name": "stdout",
     "output_type": "stream",
     "text": [
      "+--------------------+---------------------+\n",
      "|tpep_pickup_datetime|tpep_dropoff_datetime|\n",
      "+--------------------+---------------------+\n",
      "| 2021-08-01 01:51:44|  2021-07-28 02:00:53|\n",
      "+--------------------+---------------------+"
     ]
    }
   ],
   "source": [
    "df_new_1.filter((df_new_1['Pick_month']==8) & (df_new_1['drop_month']==7)).select(['tpep_pickup_datetime','tpep_dropoff_datetime']).show()"
   ]
  },
  {
   "cell_type": "markdown",
   "id": "a3138b7e",
   "metadata": {},
   "source": [
    "its wrong trip which should be removed"
   ]
  },
  {
   "cell_type": "markdown",
   "id": "deff3aff",
   "metadata": {},
   "source": [
    "__For Augest:__"
   ]
  },
  {
   "cell_type": "markdown",
   "id": "831384da",
   "metadata": {},
   "source": [
    "__Steps to remove this trip:__\n",
    "\n",
    "\n",
    "* Create dataset without Augest\n",
    "\n",
    "* create dataframe only for Jully trips\n",
    "\n",
    "* filter out this row and union the two dataframe"
   ]
  },
  {
   "cell_type": "code",
   "execution_count": 99,
   "id": "b5c22419",
   "metadata": {},
   "outputs": [
    {
     "data": {
      "application/vnd.jupyter.widget-view+json": {
       "model_id": "",
       "version_major": 2,
       "version_minor": 0
      },
      "text/plain": [
       "FloatProgress(value=0.0, bar_style='info', description='Progress:', layout=Layout(height='25px', width='50%'),…"
      ]
     },
     "metadata": {},
     "output_type": "display_data"
    },
    {
     "name": "stdout",
     "output_type": "stream",
     "text": [
      "30485517"
     ]
    }
   ],
   "source": [
    "df_new_1.count()"
   ]
  },
  {
   "cell_type": "code",
   "execution_count": 100,
   "id": "be31457c",
   "metadata": {},
   "outputs": [
    {
     "data": {
      "application/vnd.jupyter.widget-view+json": {
       "model_id": "",
       "version_major": 2,
       "version_minor": 0
      },
      "text/plain": [
       "FloatProgress(value=0.0, bar_style='info', description='Progress:', layout=Layout(height='25px', width='50%'),…"
      ]
     },
     "metadata": {},
     "output_type": "display_data"
    },
    {
     "name": "stdout",
     "output_type": "stream",
     "text": [
      "2750378"
     ]
    }
   ],
   "source": [
    "# Augest trips count\n",
    "df_new_1.filter(df_new_1['Pick_month']==8).count()"
   ]
  },
  {
   "cell_type": "code",
   "execution_count": 101,
   "id": "f6d30106",
   "metadata": {},
   "outputs": [
    {
     "data": {
      "application/vnd.jupyter.widget-view+json": {
       "model_id": "",
       "version_major": 2,
       "version_minor": 0
      },
      "text/plain": [
       "FloatProgress(value=0.0, bar_style='info', description='Progress:', layout=Layout(height='25px', width='50%'),…"
      ]
     },
     "metadata": {},
     "output_type": "display_data"
    },
    {
     "name": "stdout",
     "output_type": "stream",
     "text": [
      "27735139"
     ]
    }
   ],
   "source": [
    "# the whole year without Augest\n",
    "df_new_1.filter(df_new_1['Pick_month']!=8).count()"
   ]
  },
  {
   "cell_type": "code",
   "execution_count": 108,
   "id": "92058ea4",
   "metadata": {},
   "outputs": [
    {
     "data": {
      "application/vnd.jupyter.widget-view+json": {
       "model_id": "",
       "version_major": 2,
       "version_minor": 0
      },
      "text/plain": [
       "FloatProgress(value=0.0, bar_style='info', description='Progress:', layout=Layout(height='25px', width='50%'),…"
      ]
     },
     "metadata": {},
     "output_type": "display_data"
    }
   ],
   "source": [
    "# create Aug_df\n",
    "Aug_df=df_new_1.filter(df_new_1['Pick_month']==8)"
   ]
  },
  {
   "cell_type": "code",
   "execution_count": 109,
   "id": "3151186a",
   "metadata": {},
   "outputs": [
    {
     "data": {
      "application/vnd.jupyter.widget-view+json": {
       "model_id": "",
       "version_major": 2,
       "version_minor": 0
      },
      "text/plain": [
       "FloatProgress(value=0.0, bar_style='info', description='Progress:', layout=Layout(height='25px', width='50%'),…"
      ]
     },
     "metadata": {},
     "output_type": "display_data"
    }
   ],
   "source": [
    "# create no_aug_df\n",
    "no_aug_df = df_new_1.filter(df_new_1['Pick_month']!=8)"
   ]
  },
  {
   "cell_type": "code",
   "execution_count": 105,
   "id": "29ac08fa",
   "metadata": {},
   "outputs": [
    {
     "data": {
      "application/vnd.jupyter.widget-view+json": {
       "model_id": "",
       "version_major": 2,
       "version_minor": 0
      },
      "text/plain": [
       "FloatProgress(value=0.0, bar_style='info', description='Progress:', layout=Layout(height='25px', width='50%'),…"
      ]
     },
     "metadata": {},
     "output_type": "display_data"
    },
    {
     "name": "stdout",
     "output_type": "stream",
     "text": [
      "1"
     ]
    }
   ],
   "source": [
    "# filter out the feb drop row\n",
    "Aug_df.filter(Aug_df['drop_month']==7).count()"
   ]
  },
  {
   "cell_type": "code",
   "execution_count": 111,
   "id": "5403e530",
   "metadata": {},
   "outputs": [
    {
     "data": {
      "application/vnd.jupyter.widget-view+json": {
       "model_id": "",
       "version_major": 2,
       "version_minor": 0
      },
      "text/plain": [
       "FloatProgress(value=0.0, bar_style='info', description='Progress:', layout=Layout(height='25px', width='50%'),…"
      ]
     },
     "metadata": {},
     "output_type": "display_data"
    }
   ],
   "source": [
    "Aug_df=Aug_df.filter(Aug_df['drop_month']!=7)"
   ]
  },
  {
   "cell_type": "code",
   "execution_count": 112,
   "id": "5120a392",
   "metadata": {},
   "outputs": [
    {
     "data": {
      "application/vnd.jupyter.widget-view+json": {
       "model_id": "",
       "version_major": 2,
       "version_minor": 0
      },
      "text/plain": [
       "FloatProgress(value=0.0, bar_style='info', description='Progress:', layout=Layout(height='25px', width='50%'),…"
      ]
     },
     "metadata": {},
     "output_type": "display_data"
    },
    {
     "name": "stdout",
     "output_type": "stream",
     "text": [
      "[Row(drop_month=8), Row(drop_month=9)]"
     ]
    }
   ],
   "source": [
    "Aug_df.select('drop_month').distinct().collect()"
   ]
  },
  {
   "cell_type": "code",
   "execution_count": 113,
   "id": "5f9c9df4",
   "metadata": {},
   "outputs": [
    {
     "data": {
      "application/vnd.jupyter.widget-view+json": {
       "model_id": "",
       "version_major": 2,
       "version_minor": 0
      },
      "text/plain": [
       "FloatProgress(value=0.0, bar_style='info', description='Progress:', layout=Layout(height='25px', width='50%'),…"
      ]
     },
     "metadata": {},
     "output_type": "display_data"
    }
   ],
   "source": [
    "df_new_final = Aug_df.union(no_aug_df)"
   ]
  },
  {
   "cell_type": "code",
   "execution_count": 114,
   "id": "29f33d8c",
   "metadata": {},
   "outputs": [
    {
     "data": {
      "application/vnd.jupyter.widget-view+json": {
       "model_id": "",
       "version_major": 2,
       "version_minor": 0
      },
      "text/plain": [
       "FloatProgress(value=0.0, bar_style='info', description='Progress:', layout=Layout(height='25px', width='50%'),…"
      ]
     },
     "metadata": {},
     "output_type": "display_data"
    },
    {
     "name": "stdout",
     "output_type": "stream",
     "text": [
      "30485516"
     ]
    }
   ],
   "source": [
    "df_new_final.count()"
   ]
  },
  {
   "cell_type": "markdown",
   "id": "643949f1",
   "metadata": {},
   "source": [
    "__For December__"
   ]
  },
  {
   "cell_type": "markdown",
   "id": "67f8011f",
   "metadata": {},
   "source": [
    "__Steps to remove this trip:__\n",
    "\n",
    "\n",
    "* Create dataset without December\n",
    "\n",
    "* create dataframe only for December trips\n",
    "\n",
    "* filter out this row and union the two dataframe"
   ]
  },
  {
   "cell_type": "code",
   "execution_count": 115,
   "id": "e76cc5ec",
   "metadata": {},
   "outputs": [
    {
     "data": {
      "application/vnd.jupyter.widget-view+json": {
       "model_id": "",
       "version_major": 2,
       "version_minor": 0
      },
      "text/plain": [
       "FloatProgress(value=0.0, bar_style='info', description='Progress:', layout=Layout(height='25px', width='50%'),…"
      ]
     },
     "metadata": {},
     "output_type": "display_data"
    },
    {
     "name": "stdout",
     "output_type": "stream",
     "text": [
      "1"
     ]
    }
   ],
   "source": [
    "df_new_final.filter((df_new_final['Pick_month']==12) & (df_new_final['drop_month']==10)).count()"
   ]
  },
  {
   "cell_type": "code",
   "execution_count": 116,
   "id": "58a97460",
   "metadata": {},
   "outputs": [
    {
     "data": {
      "application/vnd.jupyter.widget-view+json": {
       "model_id": "",
       "version_major": 2,
       "version_minor": 0
      },
      "text/plain": [
       "FloatProgress(value=0.0, bar_style='info', description='Progress:', layout=Layout(height='25px', width='50%'),…"
      ]
     },
     "metadata": {},
     "output_type": "display_data"
    },
    {
     "name": "stdout",
     "output_type": "stream",
     "text": [
      "+--------------------+---------------------+\n",
      "|tpep_pickup_datetime|tpep_dropoff_datetime|\n",
      "+--------------------+---------------------+\n",
      "| 2021-12-19 01:14:43|  2021-10-07 12:02:08|\n",
      "+--------------------+---------------------+"
     ]
    }
   ],
   "source": [
    "df_new_final.filter((df_new_final['Pick_month']==12) & (df_new_final['drop_month']==10)).select(['tpep_pickup_datetime','tpep_dropoff_datetime']).show()"
   ]
  },
  {
   "cell_type": "markdown",
   "id": "600c75be",
   "metadata": {},
   "source": [
    "its wrong trip which should be removed"
   ]
  },
  {
   "cell_type": "code",
   "execution_count": 124,
   "id": "7e4c86cf",
   "metadata": {},
   "outputs": [
    {
     "data": {
      "application/vnd.jupyter.widget-view+json": {
       "model_id": "",
       "version_major": 2,
       "version_minor": 0
      },
      "text/plain": [
       "FloatProgress(value=0.0, bar_style='info', description='Progress:', layout=Layout(height='25px', width='50%'),…"
      ]
     },
     "metadata": {},
     "output_type": "display_data"
    }
   ],
   "source": [
    "# create Dec_df\n",
    "Dec_df=df_new_final.filter(df_new_1['Pick_month']==12)"
   ]
  },
  {
   "cell_type": "code",
   "execution_count": 125,
   "id": "8150a1b5",
   "metadata": {},
   "outputs": [
    {
     "data": {
      "application/vnd.jupyter.widget-view+json": {
       "model_id": "",
       "version_major": 2,
       "version_minor": 0
      },
      "text/plain": [
       "FloatProgress(value=0.0, bar_style='info', description='Progress:', layout=Layout(height='25px', width='50%'),…"
      ]
     },
     "metadata": {},
     "output_type": "display_data"
    }
   ],
   "source": [
    "# create no_dec_df\n",
    "no_dec_df = df_new_final.filter(df_new_1['Pick_month']!=12)"
   ]
  },
  {
   "cell_type": "code",
   "execution_count": 126,
   "id": "bf25123f",
   "metadata": {},
   "outputs": [
    {
     "data": {
      "application/vnd.jupyter.widget-view+json": {
       "model_id": "",
       "version_major": 2,
       "version_minor": 0
      },
      "text/plain": [
       "FloatProgress(value=0.0, bar_style='info', description='Progress:', layout=Layout(height='25px', width='50%'),…"
      ]
     },
     "metadata": {},
     "output_type": "display_data"
    },
    {
     "name": "stdout",
     "output_type": "stream",
     "text": [
      "1"
     ]
    }
   ],
   "source": [
    "# filter out the feb drop row\n",
    "Dec_df.filter(Dec_df['drop_month']==10).count()"
   ]
  },
  {
   "cell_type": "code",
   "execution_count": 127,
   "id": "351b4516",
   "metadata": {},
   "outputs": [
    {
     "data": {
      "application/vnd.jupyter.widget-view+json": {
       "model_id": "",
       "version_major": 2,
       "version_minor": 0
      },
      "text/plain": [
       "FloatProgress(value=0.0, bar_style='info', description='Progress:', layout=Layout(height='25px', width='50%'),…"
      ]
     },
     "metadata": {},
     "output_type": "display_data"
    }
   ],
   "source": [
    "Dec_df=Dec_df.filter(Aug_df['drop_month']!=10)"
   ]
  },
  {
   "cell_type": "code",
   "execution_count": 128,
   "id": "f6efe9b3",
   "metadata": {},
   "outputs": [
    {
     "data": {
      "application/vnd.jupyter.widget-view+json": {
       "model_id": "",
       "version_major": 2,
       "version_minor": 0
      },
      "text/plain": [
       "FloatProgress(value=0.0, bar_style='info', description='Progress:', layout=Layout(height='25px', width='50%'),…"
      ]
     },
     "metadata": {},
     "output_type": "display_data"
    },
    {
     "name": "stdout",
     "output_type": "stream",
     "text": [
      "[Row(drop_month=12), Row(drop_month=1)]"
     ]
    }
   ],
   "source": [
    "Dec_df.select('drop_month').distinct().collect()"
   ]
  },
  {
   "cell_type": "code",
   "execution_count": 129,
   "id": "ec2e4f96",
   "metadata": {},
   "outputs": [
    {
     "data": {
      "application/vnd.jupyter.widget-view+json": {
       "model_id": "",
       "version_major": 2,
       "version_minor": 0
      },
      "text/plain": [
       "FloatProgress(value=0.0, bar_style='info', description='Progress:', layout=Layout(height='25px', width='50%'),…"
      ]
     },
     "metadata": {},
     "output_type": "display_data"
    }
   ],
   "source": [
    "df_new_final = Dec_df.union(no_dec_df)"
   ]
  },
  {
   "cell_type": "code",
   "execution_count": 130,
   "id": "7d1c6c66",
   "metadata": {},
   "outputs": [
    {
     "data": {
      "application/vnd.jupyter.widget-view+json": {
       "model_id": "",
       "version_major": 2,
       "version_minor": 0
      },
      "text/plain": [
       "FloatProgress(value=0.0, bar_style='info', description='Progress:', layout=Layout(height='25px', width='50%'),…"
      ]
     },
     "metadata": {},
     "output_type": "display_data"
    },
    {
     "name": "stdout",
     "output_type": "stream",
     "text": [
      "30485515"
     ]
    }
   ],
   "source": [
    "df_new_final.count()"
   ]
  },
  {
   "cell_type": "markdown",
   "id": "6d7754c6",
   "metadata": {},
   "source": [
    "# 3- Grouping the data per location ID in Hourly basis and Make it ready for Modeling"
   ]
  },
  {
   "cell_type": "markdown",
   "id": "20300fc5",
   "metadata": {},
   "source": [
    "__We will need to groupby and aggregate the count of the taxi trips per location ID  to be in hourly basis__\n"
   ]
  },
  {
   "cell_type": "code",
   "execution_count": 132,
   "id": "5e48e21f",
   "metadata": {},
   "outputs": [
    {
     "data": {
      "application/vnd.jupyter.widget-view+json": {
       "model_id": "",
       "version_major": 2,
       "version_minor": 0
      },
      "text/plain": [
       "FloatProgress(value=0.0, bar_style='info', description='Progress:', layout=Layout(height='25px', width='50%'),…"
      ]
     },
     "metadata": {},
     "output_type": "display_data"
    },
    {
     "name": "stdout",
     "output_type": "stream",
     "text": [
      "+----------------------------+\n",
      "|count(DISTINCT PULocationID)|\n",
      "+----------------------------+\n",
      "|                         263|\n",
      "+----------------------------+"
     ]
    }
   ],
   "source": [
    "df_new_final.select(countDistinct(\"PULocationID\")).show()"
   ]
  },
  {
   "cell_type": "code",
   "execution_count": 137,
   "id": "11a15748",
   "metadata": {},
   "outputs": [
    {
     "data": {
      "application/vnd.jupyter.widget-view+json": {
       "model_id": "",
       "version_major": 2,
       "version_minor": 0
      },
      "text/plain": [
       "FloatProgress(value=0.0, bar_style='info', description='Progress:', layout=Layout(height='25px', width='50%'),…"
      ]
     },
     "metadata": {},
     "output_type": "display_data"
    }
   ],
   "source": [
    "# Saving the distinct location ID in a list\n",
    "LocationID2021 = df_new_final.select(collect_set('PULocationID').alias('locationID_list')).first()['locationID_list']"
   ]
  },
  {
   "cell_type": "code",
   "execution_count": 138,
   "id": "98063c69",
   "metadata": {},
   "outputs": [
    {
     "data": {
      "application/vnd.jupyter.widget-view+json": {
       "model_id": "",
       "version_major": 2,
       "version_minor": 0
      },
      "text/plain": [
       "FloatProgress(value=0.0, bar_style='info', description='Progress:', layout=Layout(height='25px', width='50%'),…"
      ]
     },
     "metadata": {},
     "output_type": "display_data"
    },
    {
     "name": "stdout",
     "output_type": "stream",
     "text": [
      "263"
     ]
    }
   ],
   "source": [
    "len(LocationID2021)"
   ]
  },
  {
   "cell_type": "markdown",
   "id": "2b314d4f",
   "metadata": {},
   "source": [
    "We have 263 location ID, and we have in 2020 262 locations, we will filter out the extra location"
   ]
  },
  {
   "cell_type": "code",
   "execution_count": 133,
   "id": "ad4a9b95",
   "metadata": {},
   "outputs": [
    {
     "data": {
      "application/vnd.jupyter.widget-view+json": {
       "model_id": "",
       "version_major": 2,
       "version_minor": 0
      },
      "text/plain": [
       "FloatProgress(value=0.0, bar_style='info', description='Progress:', layout=Layout(height='25px', width='50%'),…"
      ]
     },
     "metadata": {},
     "output_type": "display_data"
    }
   ],
   "source": [
    "df=spark.read.parquet(\"s3://taxi-project-thesis/taxi2020/*\").coalesce(1)"
   ]
  },
  {
   "cell_type": "code",
   "execution_count": 135,
   "id": "5022b4ed",
   "metadata": {},
   "outputs": [
    {
     "data": {
      "application/vnd.jupyter.widget-view+json": {
       "model_id": "",
       "version_major": 2,
       "version_minor": 0
      },
      "text/plain": [
       "FloatProgress(value=0.0, bar_style='info', description='Progress:', layout=Layout(height='25px', width='50%'),…"
      ]
     },
     "metadata": {},
     "output_type": "display_data"
    }
   ],
   "source": [
    "LocationID2020 = df.select(collect_set('PULocationID').alias('locationID_list')).first()['locationID_list']"
   ]
  },
  {
   "cell_type": "code",
   "execution_count": 136,
   "id": "95a88d1c",
   "metadata": {},
   "outputs": [
    {
     "data": {
      "application/vnd.jupyter.widget-view+json": {
       "model_id": "",
       "version_major": 2,
       "version_minor": 0
      },
      "text/plain": [
       "FloatProgress(value=0.0, bar_style='info', description='Progress:', layout=Layout(height='25px', width='50%'),…"
      ]
     },
     "metadata": {},
     "output_type": "display_data"
    },
    {
     "name": "stdout",
     "output_type": "stream",
     "text": [
      "262"
     ]
    }
   ],
   "source": [
    "len(LocationID2020)"
   ]
  },
  {
   "cell_type": "code",
   "execution_count": 139,
   "id": "51fcb445",
   "metadata": {},
   "outputs": [
    {
     "data": {
      "application/vnd.jupyter.widget-view+json": {
       "model_id": "",
       "version_major": 2,
       "version_minor": 0
      },
      "text/plain": [
       "FloatProgress(value=0.0, bar_style='info', description='Progress:', layout=Layout(height='25px', width='50%'),…"
      ]
     },
     "metadata": {},
     "output_type": "display_data"
    }
   ],
   "source": [
    "unique_list = []\n",
    " \n",
    "for item in LocationID2021: \n",
    "    if item not in LocationID2020: \n",
    "        unique_list.append(item)"
   ]
  },
  {
   "cell_type": "code",
   "execution_count": 140,
   "id": "4faa26f0",
   "metadata": {},
   "outputs": [
    {
     "data": {
      "application/vnd.jupyter.widget-view+json": {
       "model_id": "",
       "version_major": 2,
       "version_minor": 0
      },
      "text/plain": [
       "FloatProgress(value=0.0, bar_style='info', description='Progress:', layout=Layout(height='25px', width='50%'),…"
      ]
     },
     "metadata": {},
     "output_type": "display_data"
    },
    {
     "name": "stdout",
     "output_type": "stream",
     "text": [
      "[110]"
     ]
    }
   ],
   "source": [
    "unique_list"
   ]
  },
  {
   "cell_type": "code",
   "execution_count": 146,
   "id": "ae8c09c9",
   "metadata": {},
   "outputs": [
    {
     "data": {
      "application/vnd.jupyter.widget-view+json": {
       "model_id": "",
       "version_major": 2,
       "version_minor": 0
      },
      "text/plain": [
       "FloatProgress(value=0.0, bar_style='info', description='Progress:', layout=Layout(height='25px', width='50%'),…"
      ]
     },
     "metadata": {},
     "output_type": "display_data"
    },
    {
     "name": "stdout",
     "output_type": "stream",
     "text": [
      "1"
     ]
    }
   ],
   "source": [
    "df_new_final.filter((df_new_final['PULocationID']==unique_list[0])).count()"
   ]
  },
  {
   "cell_type": "code",
   "execution_count": 147,
   "id": "a087e7e8",
   "metadata": {},
   "outputs": [
    {
     "data": {
      "application/vnd.jupyter.widget-view+json": {
       "model_id": "",
       "version_major": 2,
       "version_minor": 0
      },
      "text/plain": [
       "FloatProgress(value=0.0, bar_style='info', description='Progress:', layout=Layout(height='25px', width='50%'),…"
      ]
     },
     "metadata": {},
     "output_type": "display_data"
    }
   ],
   "source": [
    "df_new_final=df_new_final.filter(df_new_final['PULocationID']!=unique_list[0])"
   ]
  },
  {
   "cell_type": "code",
   "execution_count": 148,
   "id": "0942b85e",
   "metadata": {},
   "outputs": [
    {
     "data": {
      "application/vnd.jupyter.widget-view+json": {
       "model_id": "",
       "version_major": 2,
       "version_minor": 0
      },
      "text/plain": [
       "FloatProgress(value=0.0, bar_style='info', description='Progress:', layout=Layout(height='25px', width='50%'),…"
      ]
     },
     "metadata": {},
     "output_type": "display_data"
    },
    {
     "name": "stdout",
     "output_type": "stream",
     "text": [
      "0"
     ]
    }
   ],
   "source": [
    "df_new_final.filter((df_new_final['PULocationID']==unique_list[0])).count()"
   ]
  },
  {
   "cell_type": "markdown",
   "id": "66efda87",
   "metadata": {},
   "source": [
    "__We have 262 location ID, so when we will aggregate the the taxi trips in hourly basis, we should have `365 X 24 X 262 = 2295120 rows`__\n",
    "\n",
    "- 365 days in 2021\n",
    "\n",
    "- 24 hours per day\n",
    "\n",
    "- 262 location ID"
   ]
  },
  {
   "cell_type": "markdown",
   "id": "3fe24454",
   "metadata": {},
   "source": [
    "### Steps:\n",
    "We will change the timestamp to this format `\"yyyy-MM-dd HH:00\"` to be able to group the trips hourly"
   ]
  },
  {
   "cell_type": "code",
   "execution_count": 149,
   "id": "c4bbe35f",
   "metadata": {},
   "outputs": [
    {
     "data": {
      "application/vnd.jupyter.widget-view+json": {
       "model_id": "",
       "version_major": 2,
       "version_minor": 0
      },
      "text/plain": [
       "FloatProgress(value=0.0, bar_style='info', description='Progress:', layout=Layout(height='25px', width='50%'),…"
      ]
     },
     "metadata": {},
     "output_type": "display_data"
    }
   ],
   "source": [
    "df_new_final=df_new_final.withColumn(\"Pickup_datetime_hourly\", date_format(col(\"tpep_pickup_datetime\").cast(\"timestamp\"), \"yyyy-MM-dd HH:00\"))"
   ]
  },
  {
   "cell_type": "markdown",
   "id": "3c5ffe4c",
   "metadata": {},
   "source": [
    "__we will create trip count column__"
   ]
  },
  {
   "cell_type": "code",
   "execution_count": 150,
   "id": "e64cbfce",
   "metadata": {},
   "outputs": [
    {
     "data": {
      "application/vnd.jupyter.widget-view+json": {
       "model_id": "",
       "version_major": 2,
       "version_minor": 0
      },
      "text/plain": [
       "FloatProgress(value=0.0, bar_style='info', description='Progress:', layout=Layout(height='25px', width='50%'),…"
      ]
     },
     "metadata": {},
     "output_type": "display_data"
    }
   ],
   "source": [
    "# we will create trip count column\n",
    "df_new_final=df_new_final.withColumn(\"Trip_count\", lit(1))"
   ]
  },
  {
   "cell_type": "markdown",
   "id": "17c673ed",
   "metadata": {},
   "source": [
    "### Now lets groupby and aggregate the trips per location in hourly basis"
   ]
  },
  {
   "cell_type": "code",
   "execution_count": 154,
   "id": "68d29641",
   "metadata": {},
   "outputs": [
    {
     "data": {
      "application/vnd.jupyter.widget-view+json": {
       "model_id": "",
       "version_major": 2,
       "version_minor": 0
      },
      "text/plain": [
       "FloatProgress(value=0.0, bar_style='info', description='Progress:', layout=Layout(height='25px', width='50%'),…"
      ]
     },
     "metadata": {},
     "output_type": "display_data"
    }
   ],
   "source": [
    "hourly_aggregated=df_new_final.groupby(['Pickup_datetime_hourly','PULocationID']).agg({'Trip_count':'count'})\\\n",
    ".withColumnRenamed(\"count(Trip_count)\", \"Trips_count\")"
   ]
  },
  {
   "cell_type": "code",
   "execution_count": 155,
   "id": "c8077431",
   "metadata": {},
   "outputs": [
    {
     "data": {
      "application/vnd.jupyter.widget-view+json": {
       "model_id": "",
       "version_major": 2,
       "version_minor": 0
      },
      "text/plain": [
       "FloatProgress(value=0.0, bar_style='info', description='Progress:', layout=Layout(height='25px', width='50%'),…"
      ]
     },
     "metadata": {},
     "output_type": "display_data"
    },
    {
     "name": "stdout",
     "output_type": "stream",
     "text": [
      "+----------------------+------------+-----------+\n",
      "|Pickup_datetime_hourly|PULocationID|Trips_count|\n",
      "+----------------------+------------+-----------+\n",
      "|      2021-08-01 03:00|         140|         10|\n",
      "|      2021-08-01 04:00|         179|          1|\n",
      "|      2021-08-01 16:00|         142|        153|\n",
      "|      2021-08-01 21:00|          75|         13|\n",
      "|      2021-08-02 10:00|         144|         10|\n",
      "|      2021-08-02 13:00|          65|          1|\n",
      "|      2021-08-04 17:00|         143|         87|\n",
      "|      2021-08-05 21:00|         181|          3|\n",
      "|      2021-08-06 22:00|         130|          2|\n",
      "|      2021-08-07 13:00|           4|          7|\n",
      "|      2021-08-07 19:00|         114|         89|\n",
      "|      2021-08-07 21:00|          49|          4|\n",
      "|      2021-08-09 10:00|         148|         14|\n",
      "|      2021-08-10 15:00|         237|        444|\n",
      "|      2021-08-12 07:00|         144|          7|\n",
      "|      2021-08-13 06:00|         230|         21|\n",
      "|      2021-08-14 03:00|         141|         19|\n",
      "|      2021-08-14 11:00|          70|         13|\n",
      "|      2021-08-14 18:00|          43|        100|\n",
      "|      2021-08-15 05:00|         164|         18|\n",
      "+----------------------+------------+-----------+\n",
      "only showing top 20 rows"
     ]
    }
   ],
   "source": [
    "hourly_aggregated.show()"
   ]
  },
  {
   "cell_type": "code",
   "execution_count": 156,
   "id": "4e8c00d4",
   "metadata": {},
   "outputs": [
    {
     "data": {
      "application/vnd.jupyter.widget-view+json": {
       "model_id": "",
       "version_major": 2,
       "version_minor": 0
      },
      "text/plain": [
       "FloatProgress(value=0.0, bar_style='info', description='Progress:', layout=Layout(height='25px', width='50%'),…"
      ]
     },
     "metadata": {},
     "output_type": "display_data"
    },
    {
     "name": "stdout",
     "output_type": "stream",
     "text": [
      "955052"
     ]
    }
   ],
   "source": [
    "hourly_aggregated.count()"
   ]
  },
  {
   "cell_type": "markdown",
   "id": "c32c432e",
   "metadata": {},
   "source": [
    "The aggregated trips have 955052 rows and it should be 2295120, and I think the issue is there are no pick-up records in certain hours. So when I aggregate the data, it will not show the missing hours. \n",
    "\n",
    "#### To solve this problem:\n",
    "- we need to create dataframe with timestamp started from 1-1-2021 till 1-1-2022. (8760 rows).\n",
    "- generate dataframe for each locationID and merge all of them. (2295120)\n",
    "- Create unique column that contain the __timestamp plus the locationID__ in both of them so we can join them.\n",
    "- left join the generated dataframe with our hourly aggregated dataframe."
   ]
  },
  {
   "cell_type": "markdown",
   "id": "7f2c07fb",
   "metadata": {},
   "source": [
    "### 1- Creating unique coloum in hourly_aggregated\n",
    "The unique column will merge the timestamp with the locationID. we need to convert the locationID from integer to string then we will use `concat_ws` to merge the string values together"
   ]
  },
  {
   "cell_type": "code",
   "execution_count": 162,
   "id": "86d71c69",
   "metadata": {},
   "outputs": [
    {
     "data": {
      "application/vnd.jupyter.widget-view+json": {
       "model_id": "",
       "version_major": 2,
       "version_minor": 0
      },
      "text/plain": [
       "FloatProgress(value=0.0, bar_style='info', description='Progress:', layout=Layout(height='25px', width='50%'),…"
      ]
     },
     "metadata": {},
     "output_type": "display_data"
    },
    {
     "name": "stdout",
     "output_type": "stream",
     "text": [
      "root\n",
      " |-- Pickup_datetime_hourly: string (nullable = true)\n",
      " |-- PULocationID: long (nullable = true)\n",
      " |-- Trips_count: long (nullable = false)"
     ]
    }
   ],
   "source": [
    "hourly_aggregated.printSchema()"
   ]
  },
  {
   "cell_type": "code",
   "execution_count": 163,
   "id": "5c3410d3",
   "metadata": {},
   "outputs": [
    {
     "data": {
      "application/vnd.jupyter.widget-view+json": {
       "model_id": "",
       "version_major": 2,
       "version_minor": 0
      },
      "text/plain": [
       "FloatProgress(value=0.0, bar_style='info', description='Progress:', layout=Layout(height='25px', width='50%'),…"
      ]
     },
     "metadata": {},
     "output_type": "display_data"
    }
   ],
   "source": [
    "from pyspark.sql.types import TimestampType,StructField,StringType,IntegerType,StructType"
   ]
  },
  {
   "cell_type": "code",
   "execution_count": 164,
   "id": "03cf9bd9",
   "metadata": {},
   "outputs": [
    {
     "data": {
      "application/vnd.jupyter.widget-view+json": {
       "model_id": "",
       "version_major": 2,
       "version_minor": 0
      },
      "text/plain": [
       "FloatProgress(value=0.0, bar_style='info', description='Progress:', layout=Layout(height='25px', width='50%'),…"
      ]
     },
     "metadata": {},
     "output_type": "display_data"
    }
   ],
   "source": [
    "#Create new column which convert the location ID to string\n",
    "hourly_aggregated= hourly_aggregated.withColumn(\"PULocationID_string\", hourly_aggregated[\"PULocationID\"].cast(StringType()))"
   ]
  },
  {
   "cell_type": "code",
   "execution_count": 165,
   "id": "328394b0",
   "metadata": {},
   "outputs": [
    {
     "data": {
      "application/vnd.jupyter.widget-view+json": {
       "model_id": "",
       "version_major": 2,
       "version_minor": 0
      },
      "text/plain": [
       "FloatProgress(value=0.0, bar_style='info', description='Progress:', layout=Layout(height='25px', width='50%'),…"
      ]
     },
     "metadata": {},
     "output_type": "display_data"
    }
   ],
   "source": [
    "#Create the unique column using concat_ws\n",
    "hourly_aggregated=hourly_aggregated.select(concat_ws('_',hourly_aggregated.Pickup_datetime_hourly,\n",
    "                                   hourly_aggregated.PULocationID_string).alias(\"UniqueColumn\"),\"Pickup_datetime_hourly\",\"PULocationID\",\"Trips_count\")"
   ]
  },
  {
   "cell_type": "code",
   "execution_count": 166,
   "id": "2038b7bc",
   "metadata": {},
   "outputs": [
    {
     "data": {
      "application/vnd.jupyter.widget-view+json": {
       "model_id": "",
       "version_major": 2,
       "version_minor": 0
      },
      "text/plain": [
       "FloatProgress(value=0.0, bar_style='info', description='Progress:', layout=Layout(height='25px', width='50%'),…"
      ]
     },
     "metadata": {},
     "output_type": "display_data"
    },
    {
     "name": "stdout",
     "output_type": "stream",
     "text": [
      "+--------------------+----------------------+------------+-----------+\n",
      "|        UniqueColumn|Pickup_datetime_hourly|PULocationID|Trips_count|\n",
      "+--------------------+----------------------+------------+-----------+\n",
      "|2021-08-01 03:00_140|      2021-08-01 03:00|         140|         10|\n",
      "|2021-08-01 04:00_179|      2021-08-01 04:00|         179|          1|\n",
      "|2021-08-01 16:00_142|      2021-08-01 16:00|         142|        153|\n",
      "| 2021-08-01 21:00_75|      2021-08-01 21:00|          75|         13|\n",
      "|2021-08-02 10:00_144|      2021-08-02 10:00|         144|         10|\n",
      "+--------------------+----------------------+------------+-----------+\n",
      "only showing top 5 rows"
     ]
    }
   ],
   "source": [
    "hourly_aggregated.show(5)"
   ]
  },
  {
   "cell_type": "code",
   "execution_count": 167,
   "id": "b01ded09",
   "metadata": {},
   "outputs": [
    {
     "data": {
      "application/vnd.jupyter.widget-view+json": {
       "model_id": "",
       "version_major": 2,
       "version_minor": 0
      },
      "text/plain": [
       "FloatProgress(value=0.0, bar_style='info', description='Progress:', layout=Layout(height='25px', width='50%'),…"
      ]
     },
     "metadata": {},
     "output_type": "display_data"
    },
    {
     "name": "stdout",
     "output_type": "stream",
     "text": [
      "root\n",
      " |-- UniqueColumn: string (nullable = false)\n",
      " |-- Pickup_datetime_hourly: string (nullable = true)\n",
      " |-- PULocationID: long (nullable = true)\n",
      " |-- Trips_count: long (nullable = false)"
     ]
    }
   ],
   "source": [
    "hourly_aggregated.printSchema()"
   ]
  },
  {
   "cell_type": "markdown",
   "id": "9bbca3a4",
   "metadata": {},
   "source": [
    "### 2- Generate timestamp dataframe from 1-1-2021 till 1-1-2022\n",
    "The below function will generate timestamp spark dataframe"
   ]
  },
  {
   "cell_type": "code",
   "execution_count": 168,
   "id": "2784c368",
   "metadata": {},
   "outputs": [
    {
     "data": {
      "application/vnd.jupyter.widget-view+json": {
       "model_id": "",
       "version_major": 2,
       "version_minor": 0
      },
      "text/plain": [
       "FloatProgress(value=0.0, bar_style='info', description='Progress:', layout=Layout(height='25px', width='50%'),…"
      ]
     },
     "metadata": {},
     "output_type": "display_data"
    }
   ],
   "source": [
    "def generate_series(start, stop, interval):\n",
    "    \"\"\"\n",
    "    :param start  - lower bound, inclusive\n",
    "    :param stop   - upper bound, exclusive\n",
    "    :interval int - increment interval in seconds\n",
    "    \"\"\"\n",
    "    start, stop = spark.createDataFrame(\n",
    "        [(start, stop)], (\"start\", \"stop\")\n",
    "    ).select(\n",
    "        [col(c).cast(\"timestamp\").cast(\"long\") for c in (\"start\", \"stop\")\n",
    "    ]).first()\n",
    "    # Create range with increments and cast to timestamp\n",
    "    return spark.range(start, stop, interval).select(\n",
    "        col(\"id\").cast(\"timestamp\").alias(\"timestamp\")\n",
    "    )"
   ]
  },
  {
   "cell_type": "code",
   "execution_count": 169,
   "id": "3a82184e",
   "metadata": {},
   "outputs": [
    {
     "data": {
      "application/vnd.jupyter.widget-view+json": {
       "model_id": "",
       "version_major": 2,
       "version_minor": 0
      },
      "text/plain": [
       "FloatProgress(value=0.0, bar_style='info', description='Progress:', layout=Layout(height='25px', width='50%'),…"
      ]
     },
     "metadata": {},
     "output_type": "display_data"
    }
   ],
   "source": [
    "# we will multiply by 60*60 to change the timestamp to hour\n",
    "timestamp_df=generate_series(\"2021-01-01\", \"2022-01-01\", 60 * 60)"
   ]
  },
  {
   "cell_type": "markdown",
   "id": "faa4b761",
   "metadata": {},
   "source": [
    "__We will change the generated timestamp to the same format in `hourly_aggregated`__"
   ]
  },
  {
   "cell_type": "code",
   "execution_count": 170,
   "id": "eb3a74e3",
   "metadata": {},
   "outputs": [
    {
     "data": {
      "application/vnd.jupyter.widget-view+json": {
       "model_id": "",
       "version_major": 2,
       "version_minor": 0
      },
      "text/plain": [
       "FloatProgress(value=0.0, bar_style='info', description='Progress:', layout=Layout(height='25px', width='50%'),…"
      ]
     },
     "metadata": {},
     "output_type": "display_data"
    }
   ],
   "source": [
    "timestamp_df=timestamp_df.withColumn(\"hourly_timestamp\", date_format(col(\"timestamp\").cast(\"timestamp\"), \"yyyy-MM-dd HH:00\"))"
   ]
  },
  {
   "cell_type": "code",
   "execution_count": 171,
   "id": "7afaedbd",
   "metadata": {},
   "outputs": [
    {
     "data": {
      "application/vnd.jupyter.widget-view+json": {
       "model_id": "",
       "version_major": 2,
       "version_minor": 0
      },
      "text/plain": [
       "FloatProgress(value=0.0, bar_style='info', description='Progress:', layout=Layout(height='25px', width='50%'),…"
      ]
     },
     "metadata": {},
     "output_type": "display_data"
    },
    {
     "name": "stdout",
     "output_type": "stream",
     "text": [
      "root\n",
      " |-- timestamp: timestamp (nullable = false)\n",
      " |-- hourly_timestamp: string (nullable = false)"
     ]
    }
   ],
   "source": [
    "timestamp_df.printSchema()"
   ]
  },
  {
   "cell_type": "code",
   "execution_count": 172,
   "id": "045e66ad",
   "metadata": {},
   "outputs": [
    {
     "data": {
      "application/vnd.jupyter.widget-view+json": {
       "model_id": "",
       "version_major": 2,
       "version_minor": 0
      },
      "text/plain": [
       "FloatProgress(value=0.0, bar_style='info', description='Progress:', layout=Layout(height='25px', width='50%'),…"
      ]
     },
     "metadata": {},
     "output_type": "display_data"
    },
    {
     "name": "stdout",
     "output_type": "stream",
     "text": [
      "8760"
     ]
    }
   ],
   "source": [
    "timestamp_df.count()"
   ]
  },
  {
   "cell_type": "markdown",
   "id": "06bb2924",
   "metadata": {},
   "source": [
    "__Now this dataframe contain hourly timestamp for 2021. so we need to create the same rows for each location ID exist in `hourly_aggregated`__\n",
    "\n",
    "Lets extract the location ID from the hourly_aggregated and save them into list"
   ]
  },
  {
   "cell_type": "code",
   "execution_count": 173,
   "id": "b6ef2ec6",
   "metadata": {},
   "outputs": [
    {
     "data": {
      "application/vnd.jupyter.widget-view+json": {
       "model_id": "",
       "version_major": 2,
       "version_minor": 0
      },
      "text/plain": [
       "FloatProgress(value=0.0, bar_style='info', description='Progress:', layout=Layout(height='25px', width='50%'),…"
      ]
     },
     "metadata": {},
     "output_type": "display_data"
    }
   ],
   "source": [
    "# extract the pickup location id from the dataset and save it in list\n",
    "Pick_up_LocationID = df_new_final.select(collect_set('PULocationID').alias('locationID_list')).first()['locationID_list']"
   ]
  },
  {
   "cell_type": "markdown",
   "id": "7ec6d949",
   "metadata": {},
   "source": [
    "__We have 262 location ID, we will aggregate the trips in hourly basis. so we should have `365 X 24 X 262 = 2295120 rows`.__\n",
    "\n",
    "we need to iterate generated timestamp for each locationID (for loop) and append the result to an empty spark dataframe. in this case, we will have 2 columns and 2295120 rows."
   ]
  },
  {
   "cell_type": "markdown",
   "id": "f7b8fff4",
   "metadata": {},
   "source": [
    "__Define function that will help us to add the location ID column to the generated timestamp__"
   ]
  },
  {
   "cell_type": "code",
   "execution_count": 174,
   "id": "a7df4100",
   "metadata": {},
   "outputs": [
    {
     "data": {
      "application/vnd.jupyter.widget-view+json": {
       "model_id": "",
       "version_major": 2,
       "version_minor": 0
      },
      "text/plain": [
       "FloatProgress(value=0.0, bar_style='info', description='Progress:', layout=Layout(height='25px', width='50%'),…"
      ]
     },
     "metadata": {},
     "output_type": "display_data"
    }
   ],
   "source": [
    "def locations_timestampGenerator(dataframe,locationID):\n",
    "    dataframe=dataframe.withColumn(\"locationID\", lit(locationID))\n",
    "    return dataframe"
   ]
  },
  {
   "cell_type": "markdown",
   "id": "7f9366e4",
   "metadata": {},
   "source": [
    "__Now lets create an empty spark dataframe contains two columns `timestamp` and `locationID`__"
   ]
  },
  {
   "cell_type": "code",
   "execution_count": 175,
   "id": "9012217b",
   "metadata": {},
   "outputs": [
    {
     "data": {
      "application/vnd.jupyter.widget-view+json": {
       "model_id": "",
       "version_major": 2,
       "version_minor": 0
      },
      "text/plain": [
       "FloatProgress(value=0.0, bar_style='info', description='Progress:', layout=Layout(height='25px', width='50%'),…"
      ]
     },
     "metadata": {},
     "output_type": "display_data"
    }
   ],
   "source": [
    "data_schema = [StructField(\"timestamp\",TimestampType(), True),StructField(\"hourly_timestamp\", StringType(), True),\n",
    "               StructField(\"locationID\", IntegerType(), True)]"
   ]
  },
  {
   "cell_type": "code",
   "execution_count": 176,
   "id": "b6eb9c7e",
   "metadata": {},
   "outputs": [
    {
     "data": {
      "application/vnd.jupyter.widget-view+json": {
       "model_id": "",
       "version_major": 2,
       "version_minor": 0
      },
      "text/plain": [
       "FloatProgress(value=0.0, bar_style='info', description='Progress:', layout=Layout(height='25px', width='50%'),…"
      ]
     },
     "metadata": {},
     "output_type": "display_data"
    }
   ],
   "source": [
    "final_struct = StructType(fields=data_schema)"
   ]
  },
  {
   "cell_type": "code",
   "execution_count": 177,
   "id": "b4fff3de",
   "metadata": {},
   "outputs": [
    {
     "data": {
      "application/vnd.jupyter.widget-view+json": {
       "model_id": "",
       "version_major": 2,
       "version_minor": 0
      },
      "text/plain": [
       "FloatProgress(value=0.0, bar_style='info', description='Progress:', layout=Layout(height='25px', width='50%'),…"
      ]
     },
     "metadata": {},
     "output_type": "display_data"
    }
   ],
   "source": [
    "ID_plus_timestamp = spark.createDataFrame([], schema=final_struct)"
   ]
  },
  {
   "cell_type": "code",
   "execution_count": 178,
   "id": "28753001",
   "metadata": {},
   "outputs": [
    {
     "data": {
      "application/vnd.jupyter.widget-view+json": {
       "model_id": "",
       "version_major": 2,
       "version_minor": 0
      },
      "text/plain": [
       "FloatProgress(value=0.0, bar_style='info', description='Progress:', layout=Layout(height='25px', width='50%'),…"
      ]
     },
     "metadata": {},
     "output_type": "display_data"
    }
   ],
   "source": [
    "# iterate generated timestamp for each locationID (for loop) \n",
    "for i in Pick_up_LocationID:\n",
    "    dataframe=locations_timestampGenerator(timestamp_df,i)\n",
    "    ID_plus_timestamp = ID_plus_timestamp.union(dataframe)"
   ]
  },
  {
   "cell_type": "code",
   "execution_count": 179,
   "id": "29d2b3bd",
   "metadata": {},
   "outputs": [
    {
     "data": {
      "application/vnd.jupyter.widget-view+json": {
       "model_id": "",
       "version_major": 2,
       "version_minor": 0
      },
      "text/plain": [
       "FloatProgress(value=0.0, bar_style='info', description='Progress:', layout=Layout(height='25px', width='50%'),…"
      ]
     },
     "metadata": {},
     "output_type": "display_data"
    },
    {
     "name": "stdout",
     "output_type": "stream",
     "text": [
      "2295120"
     ]
    }
   ],
   "source": [
    "ID_plus_timestamp.count()"
   ]
  },
  {
   "cell_type": "markdown",
   "id": "1bcee131",
   "metadata": {},
   "source": [
    "__Now lets make sure that all the locationID created by the `for loop` is matching the existing locationID in the original aggregated dataset__\n",
    "\n",
    "We will extract the distinct location ID from `ID_plus_timestamp` and check with the location ID in `Hourly_aggregated`"
   ]
  },
  {
   "cell_type": "code",
   "execution_count": 180,
   "id": "46d7bbce",
   "metadata": {},
   "outputs": [
    {
     "data": {
      "application/vnd.jupyter.widget-view+json": {
       "model_id": "",
       "version_major": 2,
       "version_minor": 0
      },
      "text/plain": [
       "FloatProgress(value=0.0, bar_style='info', description='Progress:', layout=Layout(height='25px', width='50%'),…"
      ]
     },
     "metadata": {},
     "output_type": "display_data"
    }
   ],
   "source": [
    "location_ID_list2=ID_plus_timestamp.select(collect_set('locationID').alias('locationID_list')).first()['locationID_list']"
   ]
  },
  {
   "cell_type": "markdown",
   "id": "24ea5095",
   "metadata": {},
   "source": [
    "__Remember we already extracted the location ID from Hourly_aggregated `Pick_up_LocationID`, so we dont need to do it again__\n",
    "\n",
    "now if there is any location ID in `ID_plus_timestamp`dataframe not exist in `Hourly_aggregated` it will append it to the empty list"
   ]
  },
  {
   "cell_type": "code",
   "execution_count": 181,
   "id": "7c891cdd",
   "metadata": {},
   "outputs": [
    {
     "data": {
      "application/vnd.jupyter.widget-view+json": {
       "model_id": "",
       "version_major": 2,
       "version_minor": 0
      },
      "text/plain": [
       "FloatProgress(value=0.0, bar_style='info', description='Progress:', layout=Layout(height='25px', width='50%'),…"
      ]
     },
     "metadata": {},
     "output_type": "display_data"
    }
   ],
   "source": [
    "unique_list = []\n",
    " \n",
    "for item in location_ID_list2: \n",
    "    if item not in Pick_up_LocationID: \n",
    "        unique_list.append(item)"
   ]
  },
  {
   "cell_type": "code",
   "execution_count": 182,
   "id": "5aaef6e0",
   "metadata": {},
   "outputs": [
    {
     "data": {
      "application/vnd.jupyter.widget-view+json": {
       "model_id": "",
       "version_major": 2,
       "version_minor": 0
      },
      "text/plain": [
       "FloatProgress(value=0.0, bar_style='info', description='Progress:', layout=Layout(height='25px', width='50%'),…"
      ]
     },
     "metadata": {},
     "output_type": "display_data"
    },
    {
     "name": "stdout",
     "output_type": "stream",
     "text": [
      "[]"
     ]
    }
   ],
   "source": [
    "# Should be empty\n",
    "unique_list"
   ]
  },
  {
   "cell_type": "markdown",
   "id": "baba5fd2",
   "metadata": {},
   "source": [
    "#### Last step, We will need to create unique column that contain the __timestamp plus the locationID__ in `ID_plus_timestamp` so we can join it to `hourly_aggregated`."
   ]
  },
  {
   "cell_type": "code",
   "execution_count": 183,
   "id": "91c9e9da",
   "metadata": {},
   "outputs": [
    {
     "data": {
      "application/vnd.jupyter.widget-view+json": {
       "model_id": "",
       "version_major": 2,
       "version_minor": 0
      },
      "text/plain": [
       "FloatProgress(value=0.0, bar_style='info', description='Progress:', layout=Layout(height='25px', width='50%'),…"
      ]
     },
     "metadata": {},
     "output_type": "display_data"
    }
   ],
   "source": [
    "# Change the location ID from integer to string\n",
    "ID_plus_timestamp= ID_plus_timestamp.withColumn(\"locationID_string\", ID_plus_timestamp[\"locationID\"].cast(StringType()))"
   ]
  },
  {
   "cell_type": "code",
   "execution_count": 184,
   "id": "d3cac92f",
   "metadata": {},
   "outputs": [
    {
     "data": {
      "application/vnd.jupyter.widget-view+json": {
       "model_id": "",
       "version_major": 2,
       "version_minor": 0
      },
      "text/plain": [
       "FloatProgress(value=0.0, bar_style='info', description='Progress:', layout=Layout(height='25px', width='50%'),…"
      ]
     },
     "metadata": {},
     "output_type": "display_data"
    }
   ],
   "source": [
    "# Create the unique column using concat_ws\n",
    "ID_plus_timestamp=ID_plus_timestamp.select(concat_ws('_',ID_plus_timestamp.hourly_timestamp,\n",
    "                                   ID_plus_timestamp.locationID_string).alias(\"UniqueColumn_G\"),\"timestamp\",\"hourly_timestamp\",\"locationID\")"
   ]
  },
  {
   "cell_type": "code",
   "execution_count": 185,
   "id": "f592737d",
   "metadata": {},
   "outputs": [
    {
     "data": {
      "application/vnd.jupyter.widget-view+json": {
       "model_id": "",
       "version_major": 2,
       "version_minor": 0
      },
      "text/plain": [
       "FloatProgress(value=0.0, bar_style='info', description='Progress:', layout=Layout(height='25px', width='50%'),…"
      ]
     },
     "metadata": {},
     "output_type": "display_data"
    },
    {
     "name": "stdout",
     "output_type": "stream",
     "text": [
      "+--------------------+-------------------+----------------+----------+\n",
      "|      UniqueColumn_G|          timestamp|hourly_timestamp|locationID|\n",
      "+--------------------+-------------------+----------------+----------+\n",
      "|2021-01-01 00:00_256|2021-01-01 00:00:00|2021-01-01 00:00|       256|\n",
      "|2021-01-01 01:00_256|2021-01-01 01:00:00|2021-01-01 01:00|       256|\n",
      "|2021-01-01 02:00_256|2021-01-01 02:00:00|2021-01-01 02:00|       256|\n",
      "+--------------------+-------------------+----------------+----------+\n",
      "only showing top 3 rows"
     ]
    }
   ],
   "source": [
    "ID_plus_timestamp.show(3)"
   ]
  },
  {
   "cell_type": "markdown",
   "id": "d8633c14",
   "metadata": {},
   "source": [
    "#### Now joining both dataframes using the `unique column`"
   ]
  },
  {
   "cell_type": "code",
   "execution_count": 186,
   "id": "0d6e996c",
   "metadata": {},
   "outputs": [
    {
     "data": {
      "application/vnd.jupyter.widget-view+json": {
       "model_id": "",
       "version_major": 2,
       "version_minor": 0
      },
      "text/plain": [
       "FloatProgress(value=0.0, bar_style='info', description='Progress:', layout=Layout(height='25px', width='50%'),…"
      ]
     },
     "metadata": {},
     "output_type": "display_data"
    }
   ],
   "source": [
    "# join both dataframes using the unique column\n",
    "Pick_aggregated=hourly_aggregated.join(ID_plus_timestamp,hourly_aggregated.UniqueColumn ==  ID_plus_timestamp.UniqueColumn_G,\"right\")"
   ]
  },
  {
   "cell_type": "markdown",
   "id": "f223d569",
   "metadata": {},
   "source": [
    "__Now after we joined the dataframes, we will need to replace null values in PULocationID and count(Trip_count) columns of dataframe hourly_aggregated_final with 0.__\n",
    "\n",
    "Assume  PULocationID of missing data to be 0"
   ]
  },
  {
   "cell_type": "code",
   "execution_count": 187,
   "id": "b1b80390",
   "metadata": {},
   "outputs": [
    {
     "data": {
      "application/vnd.jupyter.widget-view+json": {
       "model_id": "",
       "version_major": 2,
       "version_minor": 0
      },
      "text/plain": [
       "FloatProgress(value=0.0, bar_style='info', description='Progress:', layout=Layout(height='25px', width='50%'),…"
      ]
     },
     "metadata": {},
     "output_type": "display_data"
    }
   ],
   "source": [
    "Pick_aggregated=Pick_aggregated.na.fill(0,subset=[\"PULocationID\"])"
   ]
  },
  {
   "cell_type": "code",
   "execution_count": 188,
   "id": "ecebec5c",
   "metadata": {},
   "outputs": [
    {
     "data": {
      "application/vnd.jupyter.widget-view+json": {
       "model_id": "",
       "version_major": 2,
       "version_minor": 0
      },
      "text/plain": [
       "FloatProgress(value=0.0, bar_style='info', description='Progress:', layout=Layout(height='25px', width='50%'),…"
      ]
     },
     "metadata": {},
     "output_type": "display_data"
    }
   ],
   "source": [
    "Pick_aggregated=Pick_aggregated.na.fill(0,subset=[\"Trips_count\"])"
   ]
  },
  {
   "cell_type": "markdown",
   "id": "ea95326a",
   "metadata": {},
   "source": [
    "#### Now lets select the columns we need : `timestamp`, `locationID` ,` Trips_count` and the `UniqueColumn_G`\n",
    "I have selected `UniqueColumn_G` to be the unique identifier and to join it with the dropped aggregated dataframe"
   ]
  },
  {
   "cell_type": "code",
   "execution_count": 189,
   "id": "31c87d67",
   "metadata": {},
   "outputs": [
    {
     "data": {
      "application/vnd.jupyter.widget-view+json": {
       "model_id": "",
       "version_major": 2,
       "version_minor": 0
      },
      "text/plain": [
       "FloatProgress(value=0.0, bar_style='info', description='Progress:', layout=Layout(height='25px', width='50%'),…"
      ]
     },
     "metadata": {},
     "output_type": "display_data"
    }
   ],
   "source": [
    "Pick_aggregated=Pick_aggregated.select(['timestamp','hourly_timestamp','locationID','Trips_count','UniqueColumn_G'])"
   ]
  },
  {
   "cell_type": "code",
   "execution_count": 190,
   "id": "e00c9ef4",
   "metadata": {},
   "outputs": [
    {
     "data": {
      "application/vnd.jupyter.widget-view+json": {
       "model_id": "",
       "version_major": 2,
       "version_minor": 0
      },
      "text/plain": [
       "FloatProgress(value=0.0, bar_style='info', description='Progress:', layout=Layout(height='25px', width='50%'),…"
      ]
     },
     "metadata": {},
     "output_type": "display_data"
    },
    {
     "name": "stdout",
     "output_type": "stream",
     "text": [
      "+-------------------+----------------+----------+-----------+--------------------+\n",
      "|          timestamp|hourly_timestamp|locationID|Trips_count|      UniqueColumn_G|\n",
      "+-------------------+----------------+----------+-----------+--------------------+\n",
      "|2021-01-01 00:00:00|2021-01-01 00:00|         1|          0|  2021-01-01 00:00_1|\n",
      "|2021-01-01 00:00:00|2021-01-01 00:00|       165|          0|2021-01-01 00:00_165|\n",
      "|2021-01-01 00:00:00|2021-01-01 00:00|       187|          0|2021-01-01 00:00_187|\n",
      "|2021-01-01 00:00:00|2021-01-01 00:00|       195|          0|2021-01-01 00:00_195|\n",
      "|2021-01-01 00:00:00|2021-01-01 00:00|       243|          0|2021-01-01 00:00_243|\n",
      "|2021-01-01 00:00:00|2021-01-01 00:00|       251|          0|2021-01-01 00:00_251|\n",
      "|2021-01-01 00:00:00|2021-01-01 00:00|        45|          3| 2021-01-01 00:00_45|\n",
      "|2021-01-01 00:00:00|2021-01-01 00:00|        67|          0| 2021-01-01 00:00_67|\n",
      "|2021-01-01 00:00:00|2021-01-01 00:00|        71|          0| 2021-01-01 00:00_71|\n",
      "|2021-01-01 01:00:00|2021-01-01 01:00|       101|          0|2021-01-01 01:00_101|\n",
      "|2021-01-01 01:00:00|2021-01-01 01:00|       156|          0|2021-01-01 01:00_156|\n",
      "|2021-01-01 01:00:00|2021-01-01 01:00|       198|          1|2021-01-01 01:00_198|\n",
      "|2021-01-01 01:00:00|2021-01-01 01:00|        23|          0| 2021-01-01 01:00_23|\n",
      "|2021-01-01 01:00:00|2021-01-01 01:00|        33|          0| 2021-01-01 01:00_33|\n",
      "|2021-01-01 01:00:00|2021-01-01 01:00|        39|          1| 2021-01-01 01:00_39|\n",
      "|2021-01-01 01:00:00|2021-01-01 01:00|        49|          2| 2021-01-01 01:00_49|\n",
      "|2021-01-01 01:00:00|2021-01-01 01:00|        66|          2| 2021-01-01 01:00_66|\n",
      "|2021-01-01 01:00:00|2021-01-01 01:00|        85|          1| 2021-01-01 01:00_85|\n",
      "|2021-01-01 02:00:00|2021-01-01 02:00|       122|          0|2021-01-01 02:00_122|\n",
      "|2021-01-01 02:00:00|2021-01-01 02:00|       124|          0|2021-01-01 02:00_124|\n",
      "+-------------------+----------------+----------+-----------+--------------------+\n",
      "only showing top 20 rows"
     ]
    }
   ],
   "source": [
    "Pick_aggregated.show()"
   ]
  },
  {
   "cell_type": "markdown",
   "id": "1d4d7920",
   "metadata": {},
   "source": [
    "## Aggregating the drop trips per location ID in hourly basis\n",
    "\n",
    "- We will follow the same steps how we aggregate the pick-up trips above, but now for the drop-off so we will have hourly count per location ID for the pick-up trips and drop-off trips"
   ]
  },
  {
   "cell_type": "code",
   "execution_count": 191,
   "id": "ad41eb21",
   "metadata": {},
   "outputs": [
    {
     "data": {
      "application/vnd.jupyter.widget-view+json": {
       "model_id": "",
       "version_major": 2,
       "version_minor": 0
      },
      "text/plain": [
       "FloatProgress(value=0.0, bar_style='info', description='Progress:', layout=Layout(height='25px', width='50%'),…"
      ]
     },
     "metadata": {},
     "output_type": "display_data"
    },
    {
     "name": "stdout",
     "output_type": "stream",
     "text": [
      "+----------------------------+\n",
      "|count(DISTINCT DOLocationID)|\n",
      "+----------------------------+\n",
      "|                         261|\n",
      "+----------------------------+"
     ]
    }
   ],
   "source": [
    "df_new_final.select(countDistinct(\"DOLocationID\")).show()"
   ]
  },
  {
   "cell_type": "markdown",
   "id": "100fffc7",
   "metadata": {},
   "source": [
    "__We have 261 drop location ID, and we have 262 pick-up location ID__"
   ]
  },
  {
   "cell_type": "code",
   "execution_count": 192,
   "id": "3f67c2e7",
   "metadata": {},
   "outputs": [
    {
     "data": {
      "application/vnd.jupyter.widget-view+json": {
       "model_id": "",
       "version_major": 2,
       "version_minor": 0
      },
      "text/plain": [
       "FloatProgress(value=0.0, bar_style='info', description='Progress:', layout=Layout(height='25px', width='50%'),…"
      ]
     },
     "metadata": {},
     "output_type": "display_data"
    }
   ],
   "source": [
    "# extract the drop location id from the dataset and save it in list\n",
    "Drop_LocationID = df_new_final.select(collect_set('DOLocationID').alias('DOLocationID')).first()['DOLocationID']"
   ]
  },
  {
   "cell_type": "code",
   "execution_count": 193,
   "id": "386232b8",
   "metadata": {},
   "outputs": [
    {
     "data": {
      "application/vnd.jupyter.widget-view+json": {
       "model_id": "",
       "version_major": 2,
       "version_minor": 0
      },
      "text/plain": [
       "FloatProgress(value=0.0, bar_style='info', description='Progress:', layout=Layout(height='25px', width='50%'),…"
      ]
     },
     "metadata": {},
     "output_type": "display_data"
    }
   ],
   "source": [
    "unique_list = []\n",
    " \n",
    "for item in Pick_up_LocationID: \n",
    "    if item not in Drop_LocationID: \n",
    "        unique_list.append(item)"
   ]
  },
  {
   "cell_type": "code",
   "execution_count": 194,
   "id": "27284703",
   "metadata": {},
   "outputs": [
    {
     "data": {
      "application/vnd.jupyter.widget-view+json": {
       "model_id": "",
       "version_major": 2,
       "version_minor": 0
      },
      "text/plain": [
       "FloatProgress(value=0.0, bar_style='info', description='Progress:', layout=Layout(height='25px', width='50%'),…"
      ]
     },
     "metadata": {},
     "output_type": "display_data"
    },
    {
     "name": "stdout",
     "output_type": "stream",
     "text": [
      "[199]"
     ]
    }
   ],
   "source": [
    "unique_list"
   ]
  },
  {
   "cell_type": "markdown",
   "id": "546761f0",
   "metadata": {},
   "source": [
    "#### Now we are going to aggregate the data based on hourly drop count per locationID.\n",
    "We will change the timestamp to this format `\"yyyy-MM-dd HH:00\"` to be able to group the trips hourly"
   ]
  },
  {
   "cell_type": "code",
   "execution_count": 196,
   "id": "faf1a28f",
   "metadata": {},
   "outputs": [
    {
     "data": {
      "application/vnd.jupyter.widget-view+json": {
       "model_id": "",
       "version_major": 2,
       "version_minor": 0
      },
      "text/plain": [
       "FloatProgress(value=0.0, bar_style='info', description='Progress:', layout=Layout(height='25px', width='50%'),…"
      ]
     },
     "metadata": {},
     "output_type": "display_data"
    }
   ],
   "source": [
    "Drop_df=df_new_final.withColumn(\"Drop_datetime_hourly\", date_format(col(\"tpep_dropoff_datetime\").cast(\"timestamp\"), \"yyyy-MM-dd HH:00\"))"
   ]
  },
  {
   "cell_type": "code",
   "execution_count": 197,
   "id": "3b89862c",
   "metadata": {},
   "outputs": [
    {
     "data": {
      "application/vnd.jupyter.widget-view+json": {
       "model_id": "",
       "version_major": 2,
       "version_minor": 0
      },
      "text/plain": [
       "FloatProgress(value=0.0, bar_style='info', description='Progress:', layout=Layout(height='25px', width='50%'),…"
      ]
     },
     "metadata": {},
     "output_type": "display_data"
    }
   ],
   "source": [
    "# Grouping and aggregating the dropped trips\n",
    "drop_aggregated = Drop_df.groupby(['Drop_datetime_hourly','DOLocationID']).agg({'Trip_count':'count'})\\\n",
    ".withColumnRenamed(\"count(Trip_count)\", \"Drop_Trips_count\")"
   ]
  },
  {
   "cell_type": "code",
   "execution_count": 198,
   "id": "d7b49990",
   "metadata": {},
   "outputs": [
    {
     "data": {
      "application/vnd.jupyter.widget-view+json": {
       "model_id": "",
       "version_major": 2,
       "version_minor": 0
      },
      "text/plain": [
       "FloatProgress(value=0.0, bar_style='info', description='Progress:', layout=Layout(height='25px', width='50%'),…"
      ]
     },
     "metadata": {},
     "output_type": "display_data"
    },
    {
     "name": "stdout",
     "output_type": "stream",
     "text": [
      "+--------------------+------------+----------------+\n",
      "|Drop_datetime_hourly|DOLocationID|Drop_Trips_count|\n",
      "+--------------------+------------+----------------+\n",
      "|    2021-11-01 09:00|         174|               2|\n",
      "|    2021-11-01 12:00|         158|              57|\n",
      "|    2021-11-02 00:00|         215|               1|\n",
      "|    2021-11-02 07:00|         138|              59|\n",
      "|    2021-11-03 00:00|         235|               2|\n",
      "|    2021-11-03 11:00|         255|               9|\n",
      "|    2021-11-03 12:00|         126|               2|\n",
      "|    2021-11-03 16:00|         130|               3|\n",
      "|    2021-11-04 00:00|         257|               2|\n",
      "|    2021-11-04 03:00|         113|               3|\n",
      "|    2021-11-04 06:00|          28|               1|\n",
      "|    2021-11-04 13:00|         261|              21|\n",
      "|    2021-11-04 14:00|          13|              53|\n",
      "|    2021-11-05 02:00|          43|               5|\n",
      "|    2021-11-05 02:00|          26|               1|\n",
      "|    2021-11-05 09:00|         263|             106|\n",
      "|    2021-11-05 17:00|         164|             185|\n",
      "|    2021-11-05 18:00|         216|               4|\n",
      "|    2021-11-06 12:00|          49|               6|\n",
      "|    2021-11-08 16:00|         216|               3|\n",
      "+--------------------+------------+----------------+\n",
      "only showing top 20 rows"
     ]
    }
   ],
   "source": [
    "drop_aggregated.show()"
   ]
  },
  {
   "cell_type": "markdown",
   "id": "3cd583fe",
   "metadata": {},
   "source": [
    "__Create unique column that contain the timestamp plus the locationID in ID_plus_timestamp so we can join it to Pick_aggregated__\n",
    "\n",
    "Convert the DOLocationID to string type"
   ]
  },
  {
   "cell_type": "code",
   "execution_count": 201,
   "id": "c047347a",
   "metadata": {},
   "outputs": [
    {
     "data": {
      "application/vnd.jupyter.widget-view+json": {
       "model_id": "",
       "version_major": 2,
       "version_minor": 0
      },
      "text/plain": [
       "FloatProgress(value=0.0, bar_style='info', description='Progress:', layout=Layout(height='25px', width='50%'),…"
      ]
     },
     "metadata": {},
     "output_type": "display_data"
    },
    {
     "name": "stdout",
     "output_type": "stream",
     "text": [
      "1398669"
     ]
    }
   ],
   "source": [
    "drop_aggregated.count()"
   ]
  },
  {
   "cell_type": "code",
   "execution_count": 203,
   "id": "0cc039d0",
   "metadata": {},
   "outputs": [
    {
     "data": {
      "application/vnd.jupyter.widget-view+json": {
       "model_id": "",
       "version_major": 2,
       "version_minor": 0
      },
      "text/plain": [
       "FloatProgress(value=0.0, bar_style='info', description='Progress:', layout=Layout(height='25px', width='50%'),…"
      ]
     },
     "metadata": {},
     "output_type": "display_data"
    }
   ],
   "source": [
    "drop_aggregated=drop_aggregated.withColumn(\"DOLocationID_string\", drop_aggregated[\"DOLocationID\"].cast(StringType()))"
   ]
  },
  {
   "cell_type": "code",
   "execution_count": 204,
   "id": "44c385f0",
   "metadata": {},
   "outputs": [
    {
     "data": {
      "application/vnd.jupyter.widget-view+json": {
       "model_id": "",
       "version_major": 2,
       "version_minor": 0
      },
      "text/plain": [
       "FloatProgress(value=0.0, bar_style='info', description='Progress:', layout=Layout(height='25px', width='50%'),…"
      ]
     },
     "metadata": {},
     "output_type": "display_data"
    }
   ],
   "source": [
    "# Create the unique column using `concat_ws`\n",
    "drop_aggregated=drop_aggregated.select(concat_ws('_',drop_aggregated.Drop_datetime_hourly,\n",
    "                                   drop_aggregated.DOLocationID_string).alias(\"UniqueColumn\"),\"Drop_datetime_hourly\",\"Drop_datetime_hourly\",\"DOLocationID\",\"Drop_Trips_count\")"
   ]
  },
  {
   "cell_type": "markdown",
   "id": "3ae44b13",
   "metadata": {},
   "source": [
    "### Joining Pick_aggregated & drop_aggregated dataframes using the UniqueColumn"
   ]
  },
  {
   "cell_type": "code",
   "execution_count": 205,
   "id": "75b45123",
   "metadata": {},
   "outputs": [
    {
     "data": {
      "application/vnd.jupyter.widget-view+json": {
       "model_id": "",
       "version_major": 2,
       "version_minor": 0
      },
      "text/plain": [
       "FloatProgress(value=0.0, bar_style='info', description='Progress:', layout=Layout(height='25px', width='50%'),…"
      ]
     },
     "metadata": {},
     "output_type": "display_data"
    }
   ],
   "source": [
    "final_df=drop_aggregated.join(Pick_aggregated,drop_aggregated.UniqueColumn == Pick_aggregated.UniqueColumn_G,\"right\")"
   ]
  },
  {
   "cell_type": "code",
   "execution_count": 206,
   "id": "6e491c6d",
   "metadata": {},
   "outputs": [
    {
     "data": {
      "application/vnd.jupyter.widget-view+json": {
       "model_id": "",
       "version_major": 2,
       "version_minor": 0
      },
      "text/plain": [
       "FloatProgress(value=0.0, bar_style='info', description='Progress:', layout=Layout(height='25px', width='50%'),…"
      ]
     },
     "metadata": {},
     "output_type": "display_data"
    }
   ],
   "source": [
    "# Filling the null Drop_Trips_count with zero\n",
    "final_df=final_df.na.fill(0,subset=[\"Drop_Trips_count\"])"
   ]
  },
  {
   "cell_type": "markdown",
   "id": "6a82eef3",
   "metadata": {},
   "source": [
    "### Now we will just select the columns we  want:\n",
    "\n",
    "`hourly timestamp`, `locationID`, `Pick_Trips_count` and `Drop_Trips_count`"
   ]
  },
  {
   "cell_type": "code",
   "execution_count": 207,
   "id": "49c8d236",
   "metadata": {},
   "outputs": [
    {
     "data": {
      "application/vnd.jupyter.widget-view+json": {
       "model_id": "",
       "version_major": 2,
       "version_minor": 0
      },
      "text/plain": [
       "FloatProgress(value=0.0, bar_style='info', description='Progress:', layout=Layout(height='25px', width='50%'),…"
      ]
     },
     "metadata": {},
     "output_type": "display_data"
    }
   ],
   "source": [
    "final_df=final_df.select(['timestamp','hourly_timestamp','locationID','Trips_count','Drop_Trips_count'])"
   ]
  },
  {
   "cell_type": "code",
   "execution_count": 208,
   "id": "0570c957",
   "metadata": {},
   "outputs": [
    {
     "data": {
      "application/vnd.jupyter.widget-view+json": {
       "model_id": "",
       "version_major": 2,
       "version_minor": 0
      },
      "text/plain": [
       "FloatProgress(value=0.0, bar_style='info', description='Progress:', layout=Layout(height='25px', width='50%'),…"
      ]
     },
     "metadata": {},
     "output_type": "display_data"
    }
   ],
   "source": [
    "final_df=final_df.withColumnRenamed('Trips_count','Pick_Trips_count')"
   ]
  },
  {
   "cell_type": "code",
   "execution_count": 209,
   "id": "a02e7432",
   "metadata": {},
   "outputs": [
    {
     "data": {
      "application/vnd.jupyter.widget-view+json": {
       "model_id": "",
       "version_major": 2,
       "version_minor": 0
      },
      "text/plain": [
       "FloatProgress(value=0.0, bar_style='info', description='Progress:', layout=Layout(height='25px', width='50%'),…"
      ]
     },
     "metadata": {},
     "output_type": "display_data"
    },
    {
     "name": "stdout",
     "output_type": "stream",
     "text": [
      "+-------------------+----------------+----------+----------------+----------------+\n",
      "|          timestamp|hourly_timestamp|locationID|Pick_Trips_count|Drop_Trips_count|\n",
      "+-------------------+----------------+----------+----------------+----------------+\n",
      "|2021-01-01 00:00:00|2021-01-01 00:00|         1|               0|               0|\n",
      "|2021-01-01 00:00:00|2021-01-01 00:00|       165|               0|               1|\n",
      "|2021-01-01 00:00:00|2021-01-01 00:00|       187|               0|               0|\n",
      "|2021-01-01 00:00:00|2021-01-01 00:00|       195|               0|               0|\n",
      "|2021-01-01 00:00:00|2021-01-01 00:00|       243|               0|               1|\n",
      "|2021-01-01 00:00:00|2021-01-01 00:00|       251|               0|               0|\n",
      "|2021-01-01 00:00:00|2021-01-01 00:00|        45|               3|               1|\n",
      "|2021-01-01 00:00:00|2021-01-01 00:00|        67|               0|               0|\n",
      "|2021-01-01 00:00:00|2021-01-01 00:00|        71|               0|               0|\n",
      "|2021-01-01 01:00:00|2021-01-01 01:00|       101|               0|               0|\n",
      "|2021-01-01 01:00:00|2021-01-01 01:00|       156|               0|               0|\n",
      "|2021-01-01 01:00:00|2021-01-01 01:00|       198|               1|               0|\n",
      "|2021-01-01 01:00:00|2021-01-01 01:00|        23|               0|               0|\n",
      "|2021-01-01 01:00:00|2021-01-01 01:00|        33|               0|               4|\n",
      "|2021-01-01 01:00:00|2021-01-01 01:00|        39|               1|               0|\n",
      "|2021-01-01 01:00:00|2021-01-01 01:00|        49|               2|               4|\n",
      "|2021-01-01 01:00:00|2021-01-01 01:00|        66|               2|               1|\n",
      "|2021-01-01 01:00:00|2021-01-01 01:00|        85|               1|               3|\n",
      "|2021-01-01 02:00:00|2021-01-01 02:00|       122|               0|               1|\n",
      "|2021-01-01 02:00:00|2021-01-01 02:00|       124|               0|               0|\n",
      "+-------------------+----------------+----------+----------------+----------------+\n",
      "only showing top 20 rows"
     ]
    }
   ],
   "source": [
    "final_df.show()"
   ]
  },
  {
   "cell_type": "markdown",
   "id": "5c6f3e3d",
   "metadata": {},
   "source": [
    "# Feature Engineering\n",
    "\n",
    "Now the dataframe is ready for modeling, final step is just to create some features such as month, day, year, hour and dayofweek\n"
   ]
  },
  {
   "cell_type": "code",
   "execution_count": 210,
   "id": "4e22db68",
   "metadata": {},
   "outputs": [
    {
     "data": {
      "application/vnd.jupyter.widget-view+json": {
       "model_id": "",
       "version_major": 2,
       "version_minor": 0
      },
      "text/plain": [
       "FloatProgress(value=0.0, bar_style='info', description='Progress:', layout=Layout(height='25px', width='50%'),…"
      ]
     },
     "metadata": {},
     "output_type": "display_data"
    }
   ],
   "source": [
    "# Create Year column\n",
    "final_df=final_df.withColumn('Year',year(final_df['timestamp']))"
   ]
  },
  {
   "cell_type": "code",
   "execution_count": 211,
   "id": "03e0450f",
   "metadata": {},
   "outputs": [
    {
     "data": {
      "application/vnd.jupyter.widget-view+json": {
       "model_id": "",
       "version_major": 2,
       "version_minor": 0
      },
      "text/plain": [
       "FloatProgress(value=0.0, bar_style='info', description='Progress:', layout=Layout(height='25px', width='50%'),…"
      ]
     },
     "metadata": {},
     "output_type": "display_data"
    }
   ],
   "source": [
    "# Create Month column\n",
    "final_df=final_df.withColumn('Month',month(final_df['timestamp']))"
   ]
  },
  {
   "cell_type": "code",
   "execution_count": 212,
   "id": "0b6c446a",
   "metadata": {},
   "outputs": [
    {
     "data": {
      "application/vnd.jupyter.widget-view+json": {
       "model_id": "",
       "version_major": 2,
       "version_minor": 0
      },
      "text/plain": [
       "FloatProgress(value=0.0, bar_style='info', description='Progress:', layout=Layout(height='25px', width='50%'),…"
      ]
     },
     "metadata": {},
     "output_type": "display_data"
    }
   ],
   "source": [
    "# create day of month column\n",
    "final_df=final_df.withColumn('DayOfMonth',dayofmonth(final_df['timestamp']))"
   ]
  },
  {
   "cell_type": "code",
   "execution_count": 213,
   "id": "f9106b61",
   "metadata": {},
   "outputs": [
    {
     "data": {
      "application/vnd.jupyter.widget-view+json": {
       "model_id": "",
       "version_major": 2,
       "version_minor": 0
      },
      "text/plain": [
       "FloatProgress(value=0.0, bar_style='info', description='Progress:', layout=Layout(height='25px', width='50%'),…"
      ]
     },
     "metadata": {},
     "output_type": "display_data"
    }
   ],
   "source": [
    "# Create hour column\n",
    "final_df=final_df.withColumn('Hour',hour(final_df['timestamp']))"
   ]
  },
  {
   "cell_type": "code",
   "execution_count": 214,
   "id": "b41fe1e5",
   "metadata": {},
   "outputs": [
    {
     "data": {
      "application/vnd.jupyter.widget-view+json": {
       "model_id": "",
       "version_major": 2,
       "version_minor": 0
      },
      "text/plain": [
       "FloatProgress(value=0.0, bar_style='info', description='Progress:', layout=Layout(height='25px', width='50%'),…"
      ]
     },
     "metadata": {},
     "output_type": "display_data"
    }
   ],
   "source": [
    "# Create Day of week column\n",
    "final_df=final_df.withColumn(\"dayofweek\", dayofweek(col(\"timestamp\")))"
   ]
  },
  {
   "cell_type": "code",
   "execution_count": 215,
   "id": "f553d81b",
   "metadata": {},
   "outputs": [
    {
     "data": {
      "application/vnd.jupyter.widget-view+json": {
       "model_id": "",
       "version_major": 2,
       "version_minor": 0
      },
      "text/plain": [
       "FloatProgress(value=0.0, bar_style='info', description='Progress:', layout=Layout(height='25px', width='50%'),…"
      ]
     },
     "metadata": {},
     "output_type": "display_data"
    },
    {
     "name": "stdout",
     "output_type": "stream",
     "text": [
      "+-------------------+----------------+----------+----------------+----------------+----+-----+----------+----+---------+\n",
      "|          timestamp|hourly_timestamp|locationID|Pick_Trips_count|Drop_Trips_count|Year|Month|DayOfMonth|Hour|dayofweek|\n",
      "+-------------------+----------------+----------+----------------+----------------+----+-----+----------+----+---------+\n",
      "|2021-01-01 00:00:00|2021-01-01 00:00|         1|               0|               0|2021|    1|         1|   0|        6|\n",
      "|2021-01-01 00:00:00|2021-01-01 00:00|       165|               0|               1|2021|    1|         1|   0|        6|\n",
      "|2021-01-01 00:00:00|2021-01-01 00:00|       187|               0|               0|2021|    1|         1|   0|        6|\n",
      "|2021-01-01 00:00:00|2021-01-01 00:00|       195|               0|               0|2021|    1|         1|   0|        6|\n",
      "|2021-01-01 00:00:00|2021-01-01 00:00|       243|               0|               1|2021|    1|         1|   0|        6|\n",
      "|2021-01-01 00:00:00|2021-01-01 00:00|       251|               0|               0|2021|    1|         1|   0|        6|\n",
      "|2021-01-01 00:00:00|2021-01-01 00:00|        45|               3|               1|2021|    1|         1|   0|        6|\n",
      "|2021-01-01 00:00:00|2021-01-01 00:00|        67|               0|               0|2021|    1|         1|   0|        6|\n",
      "|2021-01-01 00:00:00|2021-01-01 00:00|        71|               0|               0|2021|    1|         1|   0|        6|\n",
      "|2021-01-01 01:00:00|2021-01-01 01:00|       101|               0|               0|2021|    1|         1|   1|        6|\n",
      "|2021-01-01 01:00:00|2021-01-01 01:00|       156|               0|               0|2021|    1|         1|   1|        6|\n",
      "|2021-01-01 01:00:00|2021-01-01 01:00|       198|               1|               0|2021|    1|         1|   1|        6|\n",
      "|2021-01-01 01:00:00|2021-01-01 01:00|        23|               0|               0|2021|    1|         1|   1|        6|\n",
      "|2021-01-01 01:00:00|2021-01-01 01:00|        33|               0|               4|2021|    1|         1|   1|        6|\n",
      "|2021-01-01 01:00:00|2021-01-01 01:00|        39|               1|               0|2021|    1|         1|   1|        6|\n",
      "|2021-01-01 01:00:00|2021-01-01 01:00|        49|               2|               4|2021|    1|         1|   1|        6|\n",
      "|2021-01-01 01:00:00|2021-01-01 01:00|        66|               2|               1|2021|    1|         1|   1|        6|\n",
      "|2021-01-01 01:00:00|2021-01-01 01:00|        85|               1|               3|2021|    1|         1|   1|        6|\n",
      "|2021-01-01 02:00:00|2021-01-01 02:00|       122|               0|               1|2021|    1|         1|   2|        6|\n",
      "|2021-01-01 02:00:00|2021-01-01 02:00|       124|               0|               0|2021|    1|         1|   2|        6|\n",
      "+-------------------+----------------+----------+----------------+----------------+----+-----+----------+----+---------+\n",
      "only showing top 20 rows"
     ]
    }
   ],
   "source": [
    "final_df.show()"
   ]
  },
  {
   "cell_type": "code",
   "execution_count": 216,
   "id": "b011d46c",
   "metadata": {},
   "outputs": [
    {
     "data": {
      "application/vnd.jupyter.widget-view+json": {
       "model_id": "",
       "version_major": 2,
       "version_minor": 0
      },
      "text/plain": [
       "FloatProgress(value=0.0, bar_style='info', description='Progress:', layout=Layout(height='25px', width='50%'),…"
      ]
     },
     "metadata": {},
     "output_type": "display_data"
    },
    {
     "name": "stdout",
     "output_type": "stream",
     "text": [
      "2295120"
     ]
    }
   ],
   "source": [
    "final_df.count()"
   ]
  },
  {
   "cell_type": "markdown",
   "id": "67e1b29d",
   "metadata": {},
   "source": [
    "### Save the final dataframe as parquet file in S3\n",
    "\n",
    "__Now we will save this spark dataframe to S3 bucket inside `EMR-project folder`__"
   ]
  },
  {
   "cell_type": "code",
   "execution_count": 217,
   "id": "a508302d",
   "metadata": {},
   "outputs": [
    {
     "data": {
      "application/vnd.jupyter.widget-view+json": {
       "model_id": "",
       "version_major": 2,
       "version_minor": 0
      },
      "text/plain": [
       "FloatProgress(value=0.0, bar_style='info', description='Progress:', layout=Layout(height='25px', width='50%'),…"
      ]
     },
     "metadata": {},
     "output_type": "display_data"
    }
   ],
   "source": [
    "final_df.coalesce(1).write.parquet(\"s3://taxi-project-thesis/EMR-project/final_2021\")"
   ]
  },
  {
   "cell_type": "code",
   "execution_count": 218,
   "id": "bf75c325",
   "metadata": {},
   "outputs": [
    {
     "data": {
      "application/vnd.jupyter.widget-view+json": {
       "model_id": "",
       "version_major": 2,
       "version_minor": 0
      },
      "text/plain": [
       "FloatProgress(value=0.0, bar_style='info', description='Progress:', layout=Layout(height='25px', width='50%'),…"
      ]
     },
     "metadata": {},
     "output_type": "display_data"
    }
   ],
   "source": [
    "### Load the final dataframe from S3\n",
    "df_taxi=spark.read.parquet(\"s3://taxi-project-thesis/EMR-project/final_2021/part-00000-c3dd72a6-fb35-475b-8b46-032b980bc5b1-c000.snappy.parquet\")"
   ]
  },
  {
   "cell_type": "code",
   "execution_count": 219,
   "id": "9556d87e",
   "metadata": {},
   "outputs": [
    {
     "data": {
      "application/vnd.jupyter.widget-view+json": {
       "model_id": "",
       "version_major": 2,
       "version_minor": 0
      },
      "text/plain": [
       "FloatProgress(value=0.0, bar_style='info', description='Progress:', layout=Layout(height='25px', width='50%'),…"
      ]
     },
     "metadata": {},
     "output_type": "display_data"
    },
    {
     "name": "stdout",
     "output_type": "stream",
     "text": [
      "+-------------------+----------------+----------+----------------+----------------+----+-----+----------+----+---------+\n",
      "|          timestamp|hourly_timestamp|locationID|Pick_Trips_count|Drop_Trips_count|Year|Month|DayOfMonth|Hour|dayofweek|\n",
      "+-------------------+----------------+----------+----------------+----------------+----+-----+----------+----+---------+\n",
      "|2021-01-01 00:00:00|2021-01-01 00:00|         1|               0|               0|2021|    1|         1|   0|        6|\n",
      "|2021-01-01 00:00:00|2021-01-01 00:00|       165|               0|               1|2021|    1|         1|   0|        6|\n",
      "|2021-01-01 00:00:00|2021-01-01 00:00|       187|               0|               0|2021|    1|         1|   0|        6|\n",
      "|2021-01-01 00:00:00|2021-01-01 00:00|       195|               0|               0|2021|    1|         1|   0|        6|\n",
      "|2021-01-01 00:00:00|2021-01-01 00:00|       243|               0|               1|2021|    1|         1|   0|        6|\n",
      "+-------------------+----------------+----------+----------------+----------------+----+-----+----------+----+---------+\n",
      "only showing top 5 rows"
     ]
    }
   ],
   "source": [
    "df_taxi.show(5)"
   ]
  },
  {
   "cell_type": "code",
   "execution_count": 220,
   "id": "ae6c4c20",
   "metadata": {},
   "outputs": [
    {
     "data": {
      "application/vnd.jupyter.widget-view+json": {
       "model_id": "",
       "version_major": 2,
       "version_minor": 0
      },
      "text/plain": [
       "FloatProgress(value=0.0, bar_style='info', description='Progress:', layout=Layout(height='25px', width='50%'),…"
      ]
     },
     "metadata": {},
     "output_type": "display_data"
    },
    {
     "name": "stdout",
     "output_type": "stream",
     "text": [
      "2295120"
     ]
    }
   ],
   "source": [
    "df_taxi.count()"
   ]
  },
  {
   "cell_type": "markdown",
   "id": "be1e658d",
   "metadata": {},
   "source": [
    "DONE !"
   ]
  },
  {
   "cell_type": "code",
   "execution_count": null,
   "id": "941b7e51",
   "metadata": {},
   "outputs": [],
   "source": []
  }
 ],
 "metadata": {
  "kernelspec": {
   "display_name": "Python 3 (ipykernel)",
   "language": "python",
   "name": "python3"
  },
  "language_info": {
   "codemirror_mode": {
    "name": "ipython",
    "version": 3
   },
   "file_extension": ".py",
   "mimetype": "text/x-python",
   "name": "python",
   "nbconvert_exporter": "python",
   "pygments_lexer": "ipython3",
   "version": "3.9.7"
  }
 },
 "nbformat": 4,
 "nbformat_minor": 5
}
