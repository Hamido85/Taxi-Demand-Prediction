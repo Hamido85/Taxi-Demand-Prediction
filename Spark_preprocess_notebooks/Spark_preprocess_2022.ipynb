{
 "cells": [
  {
   "cell_type": "markdown",
   "id": "11b0afe4",
   "metadata": {},
   "source": [
    "# We Will follow the same steps we did in the 2020 taxi data. If you want to understand the steps please review `Spark_preprocess_2020`"
   ]
  },
  {
   "cell_type": "markdown",
   "id": "0ee35b9f",
   "metadata": {},
   "source": [
    "# Preprocessing Stage\n",
    "### Processing 2022 Taxi data "
   ]
  },
  {
   "cell_type": "markdown",
   "id": "1bad65dd",
   "metadata": {},
   "source": [
    "__This will include the following process:__\n",
    "\n",
    "1- Reading the Taxi data stored in AWS S3 bucket.\n",
    "\n",
    "2- Analyzing the data and cleaning the data.\n",
    "\n",
    "3- Grouping the data in Hourly basis and Make it ready for Modeling\n",
    "\n",
    "4- Saving the transformed data in S3 bucket\n",
    "\n",
    "\n",
    "\n",
    "===============================================================================================\n",
    "\n",
    "\n"
   ]
  },
  {
   "cell_type": "markdown",
   "id": "c703bbfd",
   "metadata": {},
   "source": [
    "# 1- Loading the data"
   ]
  },
  {
   "cell_type": "code",
   "execution_count": 1,
   "id": "6e935470",
   "metadata": {},
   "outputs": [
    {
     "name": "stdout",
     "output_type": "stream",
     "text": [
      "Starting Spark application\n"
     ]
    },
    {
     "data": {
      "text/html": [
       "<table>\n",
       "<tr><th>ID</th><th>YARN Application ID</th><th>Kind</th><th>State</th><th>Spark UI</th><th>Driver log</th><th>User</th><th>Current session?</th></tr><tr><td>2</td><td>application_1662022518326_0003</td><td>pyspark</td><td>idle</td><td><a target=\"_blank\" href=\"http://ip-172-31-31-125.ec2.internal:20888/proxy/application_1662022518326_0003/\">Link</a></td><td><a target=\"_blank\" href=\"http://ip-172-31-31-212.ec2.internal:8042/node/containerlogs/container_1662022518326_0003_01_000001/livy\">Link</a></td><td>None</td><td>✔</td></tr></table>"
      ],
      "text/plain": [
       "<IPython.core.display.HTML object>"
      ]
     },
     "metadata": {},
     "output_type": "display_data"
    },
    {
     "data": {
      "application/vnd.jupyter.widget-view+json": {
       "model_id": "",
       "version_major": 2,
       "version_minor": 0
      },
      "text/plain": [
       "FloatProgress(value=0.0, bar_style='info', description='Progress:', layout=Layout(height='25px', width='50%'),…"
      ]
     },
     "metadata": {},
     "output_type": "display_data"
    },
    {
     "name": "stdout",
     "output_type": "stream",
     "text": [
      "SparkSession available as 'spark'.\n"
     ]
    },
    {
     "data": {
      "application/vnd.jupyter.widget-view+json": {
       "model_id": "",
       "version_major": 2,
       "version_minor": 0
      },
      "text/plain": [
       "FloatProgress(value=0.0, bar_style='info', description='Progress:', layout=Layout(height='25px', width='50%'),…"
      ]
     },
     "metadata": {},
     "output_type": "display_data"
    }
   ],
   "source": [
    "from pyspark.sql import SparkSession"
   ]
  },
  {
   "cell_type": "code",
   "execution_count": 2,
   "id": "8d545a06",
   "metadata": {},
   "outputs": [
    {
     "data": {
      "application/vnd.jupyter.widget-view+json": {
       "model_id": "",
       "version_major": 2,
       "version_minor": 0
      },
      "text/plain": [
       "FloatProgress(value=0.0, bar_style='info', description='Progress:', layout=Layout(height='25px', width='50%'),…"
      ]
     },
     "metadata": {},
     "output_type": "display_data"
    }
   ],
   "source": [
    "spark = SparkSession.builder.appName('cleaning').getOrCreate()"
   ]
  },
  {
   "cell_type": "markdown",
   "id": "363ec5b4",
   "metadata": {},
   "source": [
    "* __2022 taxi consist of 4 parquet files, each file contain a month taxi records data. The files are uploaded in `taxi-project-thesis` AWS Bucket inside `taxi2022` folder. To read all the 4 parquet files together we will use `.coalesce(1)` function in pyspark__"
   ]
  },
  {
   "cell_type": "code",
   "execution_count": 3,
   "id": "f8d44225",
   "metadata": {},
   "outputs": [
    {
     "data": {
      "application/vnd.jupyter.widget-view+json": {
       "model_id": "",
       "version_major": 2,
       "version_minor": 0
      },
      "text/plain": [
       "FloatProgress(value=0.0, bar_style='info', description='Progress:', layout=Layout(height='25px', width='50%'),…"
      ]
     },
     "metadata": {},
     "output_type": "display_data"
    }
   ],
   "source": [
    "df=spark.read.parquet(\"s3://taxi-project-thesis/taxi2022/*\").coalesce(1)"
   ]
  },
  {
   "cell_type": "code",
   "execution_count": 4,
   "id": "8bc2805e",
   "metadata": {},
   "outputs": [
    {
     "data": {
      "application/vnd.jupyter.widget-view+json": {
       "model_id": "",
       "version_major": 2,
       "version_minor": 0
      },
      "text/plain": [
       "FloatProgress(value=0.0, bar_style='info', description='Progress:', layout=Layout(height='25px', width='50%'),…"
      ]
     },
     "metadata": {},
     "output_type": "display_data"
    },
    {
     "name": "stdout",
     "output_type": "stream",
     "text": [
      "12671164"
     ]
    }
   ],
   "source": [
    "df.count()"
   ]
  },
  {
   "cell_type": "markdown",
   "id": "9c2520b4",
   "metadata": {},
   "source": [
    "__The dataframe contains `12671164` taxi trips. Lets analyze these trips.__"
   ]
  },
  {
   "cell_type": "code",
   "execution_count": 5,
   "id": "04b517d8",
   "metadata": {},
   "outputs": [
    {
     "data": {
      "application/vnd.jupyter.widget-view+json": {
       "model_id": "",
       "version_major": 2,
       "version_minor": 0
      },
      "text/plain": [
       "FloatProgress(value=0.0, bar_style='info', description='Progress:', layout=Layout(height='25px', width='50%'),…"
      ]
     },
     "metadata": {},
     "output_type": "display_data"
    }
   ],
   "source": [
    "from pyspark.sql.functions import *"
   ]
  },
  {
   "cell_type": "markdown",
   "id": "a2d25091",
   "metadata": {},
   "source": [
    "# 2- Analyzing  and cleaning the data\n",
    "## 2.1 Cleaning incorrect trips using pickup_datetime and dropoff_datetime"
   ]
  },
  {
   "cell_type": "markdown",
   "id": "bdb6b834",
   "metadata": {},
   "source": [
    "### Cleaning the trips using the pick-up year\n",
    "* We need to extract the unique pick year to see if there are trips available in the dataframe which belong to incorrect years"
   ]
  },
  {
   "cell_type": "code",
   "execution_count": 6,
   "id": "e3f2fb76",
   "metadata": {},
   "outputs": [
    {
     "data": {
      "application/vnd.jupyter.widget-view+json": {
       "model_id": "",
       "version_major": 2,
       "version_minor": 0
      },
      "text/plain": [
       "FloatProgress(value=0.0, bar_style='info', description='Progress:', layout=Layout(height='25px', width='50%'),…"
      ]
     },
     "metadata": {},
     "output_type": "display_data"
    }
   ],
   "source": [
    "# adding the pick up year\n",
    "df_new=df.withColumn('Pick_Year',year(df['tpep_pickup_datetime']))"
   ]
  },
  {
   "cell_type": "code",
   "execution_count": 7,
   "id": "a83df80b",
   "metadata": {},
   "outputs": [
    {
     "data": {
      "application/vnd.jupyter.widget-view+json": {
       "model_id": "",
       "version_major": 2,
       "version_minor": 0
      },
      "text/plain": [
       "FloatProgress(value=0.0, bar_style='info', description='Progress:', layout=Layout(height='25px', width='50%'),…"
      ]
     },
     "metadata": {},
     "output_type": "display_data"
    }
   ],
   "source": [
    "# adding the drop up year\n",
    "df_new=df_new.withColumn('Drop_Year',year(df_new['tpep_dropoff_datetime']))"
   ]
  },
  {
   "cell_type": "code",
   "execution_count": 8,
   "id": "7cb14292",
   "metadata": {},
   "outputs": [
    {
     "data": {
      "application/vnd.jupyter.widget-view+json": {
       "model_id": "",
       "version_major": 2,
       "version_minor": 0
      },
      "text/plain": [
       "FloatProgress(value=0.0, bar_style='info', description='Progress:', layout=Layout(height='25px', width='50%'),…"
      ]
     },
     "metadata": {},
     "output_type": "display_data"
    },
    {
     "name": "stdout",
     "output_type": "stream",
     "text": [
      "[Row(Pick_Year=2022), Row(Pick_Year=2021), Row(Pick_Year=2008), Row(Pick_Year=2009), Row(Pick_Year=2003), Row(Pick_Year=2012)]"
     ]
    }
   ],
   "source": [
    "# check the pick-up year\n",
    "df_new.select('Pick_Year').distinct().collect()"
   ]
  },
  {
   "cell_type": "code",
   "execution_count": 9,
   "id": "4c0de9b2",
   "metadata": {},
   "outputs": [
    {
     "data": {
      "application/vnd.jupyter.widget-view+json": {
       "model_id": "",
       "version_major": 2,
       "version_minor": 0
      },
      "text/plain": [
       "FloatProgress(value=0.0, bar_style='info', description='Progress:', layout=Layout(height='25px', width='50%'),…"
      ]
     },
     "metadata": {},
     "output_type": "display_data"
    }
   ],
   "source": [
    "# adding pick up month\n",
    "df_new=df_new.withColumn('Pick_month',month(df_new['tpep_pickup_datetime']))"
   ]
  },
  {
   "cell_type": "code",
   "execution_count": 10,
   "id": "58c236fd",
   "metadata": {},
   "outputs": [
    {
     "data": {
      "application/vnd.jupyter.widget-view+json": {
       "model_id": "",
       "version_major": 2,
       "version_minor": 0
      },
      "text/plain": [
       "FloatProgress(value=0.0, bar_style='info', description='Progress:', layout=Layout(height='25px', width='50%'),…"
      ]
     },
     "metadata": {},
     "output_type": "display_data"
    }
   ],
   "source": [
    "# adding drop month\n",
    "df_new=df_new.withColumn('drop_month',month(df_new['tpep_dropoff_datetime']))"
   ]
  },
  {
   "cell_type": "code",
   "execution_count": 11,
   "id": "11941236",
   "metadata": {},
   "outputs": [
    {
     "data": {
      "application/vnd.jupyter.widget-view+json": {
       "model_id": "",
       "version_major": 2,
       "version_minor": 0
      },
      "text/plain": [
       "FloatProgress(value=0.0, bar_style='info', description='Progress:', layout=Layout(height='25px', width='50%'),…"
      ]
     },
     "metadata": {},
     "output_type": "display_data"
    }
   ],
   "source": [
    "#We need to extract the pick year to see if there are incorrect years\n",
    "pick_year = df_new.select(collect_set('Pick_Year').alias('Pick_Year')).first()['Pick_Year']"
   ]
  },
  {
   "cell_type": "code",
   "execution_count": 12,
   "id": "8edca138",
   "metadata": {},
   "outputs": [
    {
     "data": {
      "application/vnd.jupyter.widget-view+json": {
       "model_id": "",
       "version_major": 2,
       "version_minor": 0
      },
      "text/plain": [
       "FloatProgress(value=0.0, bar_style='info', description='Progress:', layout=Layout(height='25px', width='50%'),…"
      ]
     },
     "metadata": {},
     "output_type": "display_data"
    },
    {
     "name": "stdout",
     "output_type": "stream",
     "text": [
      "year  2022 12671100\n",
      "year  2008 13\n",
      "year  2009 24\n",
      "year  2021 24\n",
      "year  2003 2\n",
      "year  2012 1"
     ]
    }
   ],
   "source": [
    "for i in (pick_year):\n",
    "    print('year ',i,df_new.filter(df_new['Pick_Year']==i).count())"
   ]
  },
  {
   "cell_type": "code",
   "execution_count": 13,
   "id": "1d0c2439",
   "metadata": {},
   "outputs": [
    {
     "data": {
      "application/vnd.jupyter.widget-view+json": {
       "model_id": "",
       "version_major": 2,
       "version_minor": 0
      },
      "text/plain": [
       "FloatProgress(value=0.0, bar_style='info', description='Progress:', layout=Layout(height='25px', width='50%'),…"
      ]
     },
     "metadata": {},
     "output_type": "display_data"
    }
   ],
   "source": [
    "# we will filter out the year 2021 and 2022\n",
    "year_list=[2021,2022]"
   ]
  },
  {
   "cell_type": "code",
   "execution_count": 14,
   "id": "4d624c4d",
   "metadata": {},
   "outputs": [
    {
     "data": {
      "application/vnd.jupyter.widget-view+json": {
       "model_id": "",
       "version_major": 2,
       "version_minor": 0
      },
      "text/plain": [
       "FloatProgress(value=0.0, bar_style='info', description='Progress:', layout=Layout(height='25px', width='50%'),…"
      ]
     },
     "metadata": {},
     "output_type": "display_data"
    }
   ],
   "source": [
    "df_new=df_new.filter(df_new.Pick_Year.isin(year_list))"
   ]
  },
  {
   "cell_type": "code",
   "execution_count": 15,
   "id": "848b9486",
   "metadata": {},
   "outputs": [
    {
     "data": {
      "application/vnd.jupyter.widget-view+json": {
       "model_id": "",
       "version_major": 2,
       "version_minor": 0
      },
      "text/plain": [
       "FloatProgress(value=0.0, bar_style='info', description='Progress:', layout=Layout(height='25px', width='50%'),…"
      ]
     },
     "metadata": {},
     "output_type": "display_data"
    },
    {
     "name": "stdout",
     "output_type": "stream",
     "text": [
      "40"
     ]
    }
   ],
   "source": [
    "df.count()-df_new.count()"
   ]
  },
  {
   "cell_type": "code",
   "execution_count": 16,
   "id": "01f69e49",
   "metadata": {},
   "outputs": [
    {
     "data": {
      "application/vnd.jupyter.widget-view+json": {
       "model_id": "",
       "version_major": 2,
       "version_minor": 0
      },
      "text/plain": [
       "FloatProgress(value=0.0, bar_style='info', description='Progress:', layout=Layout(height='25px', width='50%'),…"
      ]
     },
     "metadata": {},
     "output_type": "display_data"
    },
    {
     "name": "stdout",
     "output_type": "stream",
     "text": [
      "[Row(Pick_Year=2022), Row(Pick_Year=2021)]"
     ]
    }
   ],
   "source": [
    "# to check the pick up year in our dataframe\n",
    "df_new.select('Pick_Year').distinct().collect()"
   ]
  },
  {
   "cell_type": "markdown",
   "id": "ccdba4b5",
   "metadata": {},
   "source": [
    "### Cleaning the trips using the drop-off year\n",
    "\n",
    "* We need to extract the unique drop year to see if there are incorrect years"
   ]
  },
  {
   "cell_type": "code",
   "execution_count": 17,
   "id": "e5e561da",
   "metadata": {},
   "outputs": [
    {
     "data": {
      "application/vnd.jupyter.widget-view+json": {
       "model_id": "",
       "version_major": 2,
       "version_minor": 0
      },
      "text/plain": [
       "FloatProgress(value=0.0, bar_style='info', description='Progress:', layout=Layout(height='25px', width='50%'),…"
      ]
     },
     "metadata": {},
     "output_type": "display_data"
    },
    {
     "name": "stdout",
     "output_type": "stream",
     "text": [
      "[Row(Drop_Year=2022), Row(Drop_Year=2021)]"
     ]
    }
   ],
   "source": [
    "df_new.select('Drop_Year').distinct().collect()"
   ]
  },
  {
   "cell_type": "markdown",
   "id": "8988242f",
   "metadata": {},
   "source": [
    "We have drop year in 2021 should be removed"
   ]
  },
  {
   "cell_type": "code",
   "execution_count": 18,
   "id": "c3ad21d5",
   "metadata": {},
   "outputs": [
    {
     "data": {
      "application/vnd.jupyter.widget-view+json": {
       "model_id": "",
       "version_major": 2,
       "version_minor": 0
      },
      "text/plain": [
       "FloatProgress(value=0.0, bar_style='info', description='Progress:', layout=Layout(height='25px', width='50%'),…"
      ]
     },
     "metadata": {},
     "output_type": "display_data"
    },
    {
     "name": "stdout",
     "output_type": "stream",
     "text": [
      "12"
     ]
    }
   ],
   "source": [
    "# we will remove the rows which the drop year in 2021\n",
    "df_new.filter(df_new['Drop_Year']==2021).count()"
   ]
  },
  {
   "cell_type": "code",
   "execution_count": 19,
   "id": "c39e2ef8",
   "metadata": {},
   "outputs": [
    {
     "data": {
      "application/vnd.jupyter.widget-view+json": {
       "model_id": "",
       "version_major": 2,
       "version_minor": 0
      },
      "text/plain": [
       "FloatProgress(value=0.0, bar_style='info', description='Progress:', layout=Layout(height='25px', width='50%'),…"
      ]
     },
     "metadata": {},
     "output_type": "display_data"
    }
   ],
   "source": [
    "df_new= df_new.filter('Drop_Year=2022')"
   ]
  },
  {
   "cell_type": "code",
   "execution_count": 20,
   "id": "9b4b9187",
   "metadata": {},
   "outputs": [
    {
     "data": {
      "application/vnd.jupyter.widget-view+json": {
       "model_id": "",
       "version_major": 2,
       "version_minor": 0
      },
      "text/plain": [
       "FloatProgress(value=0.0, bar_style='info', description='Progress:', layout=Layout(height='25px', width='50%'),…"
      ]
     },
     "metadata": {},
     "output_type": "display_data"
    },
    {
     "name": "stdout",
     "output_type": "stream",
     "text": [
      "[Row(Drop_Year=2022)]"
     ]
    }
   ],
   "source": [
    "df_new.select('Drop_Year').distinct().collect()"
   ]
  },
  {
   "cell_type": "markdown",
   "id": "431ed0ad",
   "metadata": {},
   "source": [
    "## 2.2 Analyzing and cleaning the trip distance"
   ]
  },
  {
   "cell_type": "code",
   "execution_count": 22,
   "id": "087368d4",
   "metadata": {},
   "outputs": [
    {
     "data": {
      "application/vnd.jupyter.widget-view+json": {
       "model_id": "",
       "version_major": 2,
       "version_minor": 0
      },
      "text/plain": [
       "FloatProgress(value=0.0, bar_style='info', description='Progress:', layout=Layout(height='25px', width='50%'),…"
      ]
     },
     "metadata": {},
     "output_type": "display_data"
    }
   ],
   "source": [
    "zero_distance=df_new.filter(df_new['trip_distance']==0)"
   ]
  },
  {
   "cell_type": "code",
   "execution_count": 23,
   "id": "b2343b82",
   "metadata": {},
   "outputs": [
    {
     "data": {
      "application/vnd.jupyter.widget-view+json": {
       "model_id": "",
       "version_major": 2,
       "version_minor": 0
      },
      "text/plain": [
       "FloatProgress(value=0.0, bar_style='info', description='Progress:', layout=Layout(height='25px', width='50%'),…"
      ]
     },
     "metadata": {},
     "output_type": "display_data"
    },
    {
     "name": "stdout",
     "output_type": "stream",
     "text": [
      "Number of trips with zero trip distance  144066  trips"
     ]
    }
   ],
   "source": [
    "print('Number of trips with zero trip distance ',zero_distance.count(),' trips')"
   ]
  },
  {
   "cell_type": "code",
   "execution_count": 24,
   "id": "319f2e6c",
   "metadata": {},
   "outputs": [
    {
     "data": {
      "application/vnd.jupyter.widget-view+json": {
       "model_id": "",
       "version_major": 2,
       "version_minor": 0
      },
      "text/plain": [
       "FloatProgress(value=0.0, bar_style='info', description='Progress:', layout=Layout(height='25px', width='50%'),…"
      ]
     },
     "metadata": {},
     "output_type": "display_data"
    },
    {
     "name": "stdout",
     "output_type": "stream",
     "text": [
      "90980"
     ]
    }
   ],
   "source": [
    "# trips which have zero distance and pick location is similir to drop location\n",
    "zero_distance.filter(zero_distance['PULocationID']==zero_distance['DOLocationID']).count()"
   ]
  },
  {
   "cell_type": "markdown",
   "id": "75dd80b0",
   "metadata": {},
   "source": [
    "__So we will try to remove the trips which have zero trip distance and is pick location is different than drop location__"
   ]
  },
  {
   "cell_type": "code",
   "execution_count": 25,
   "id": "d2a23753",
   "metadata": {},
   "outputs": [
    {
     "data": {
      "application/vnd.jupyter.widget-view+json": {
       "model_id": "",
       "version_major": 2,
       "version_minor": 0
      },
      "text/plain": [
       "FloatProgress(value=0.0, bar_style='info', description='Progress:', layout=Layout(height='25px', width='50%'),…"
      ]
     },
     "metadata": {},
     "output_type": "display_data"
    },
    {
     "name": "stdout",
     "output_type": "stream",
     "text": [
      "53086"
     ]
    }
   ],
   "source": [
    "# trips which have zero distance and pick location is different than drop location\n",
    "zero_distance.filter(zero_distance['PULocationID']!=zero_distance['DOLocationID']).count()"
   ]
  },
  {
   "cell_type": "code",
   "execution_count": 26,
   "id": "f1127667",
   "metadata": {},
   "outputs": [
    {
     "data": {
      "application/vnd.jupyter.widget-view+json": {
       "model_id": "",
       "version_major": 2,
       "version_minor": 0
      },
      "text/plain": [
       "FloatProgress(value=0.0, bar_style='info', description='Progress:', layout=Layout(height='25px', width='50%'),…"
      ]
     },
     "metadata": {},
     "output_type": "display_data"
    },
    {
     "name": "stdout",
     "output_type": "stream",
     "text": [
      "12618026"
     ]
    }
   ],
   "source": [
    "# our dataset should have this count\n",
    "df_new.count() - 53086"
   ]
  },
  {
   "cell_type": "markdown",
   "id": "cb74e703",
   "metadata": {},
   "source": [
    "### Steps:\n",
    "\n",
    "* We will create data having zero distance trips (already done above).\n",
    "\n",
    "* We will create dataframe that dont have zero distance trips.(`no_zero_distance`)\n",
    "\n",
    "\n",
    "* We will filter out the trips that have zero distance and the pick up location is different than the drop locations from the zero dataframe.\n",
    "\n",
    "* Then we will merge the zero dataframe with the non-zero-distance dataframe"
   ]
  },
  {
   "cell_type": "code",
   "execution_count": 27,
   "id": "f1c5b7aa",
   "metadata": {},
   "outputs": [
    {
     "data": {
      "application/vnd.jupyter.widget-view+json": {
       "model_id": "",
       "version_major": 2,
       "version_minor": 0
      },
      "text/plain": [
       "FloatProgress(value=0.0, bar_style='info', description='Progress:', layout=Layout(height='25px', width='50%'),…"
      ]
     },
     "metadata": {},
     "output_type": "display_data"
    }
   ],
   "source": [
    "# 1- we will remove the trips contains zero\n",
    "no_zero_distance=df_new.filter(df_new['trip_distance']!=0)"
   ]
  },
  {
   "cell_type": "code",
   "execution_count": 29,
   "id": "9789f357",
   "metadata": {},
   "outputs": [
    {
     "data": {
      "application/vnd.jupyter.widget-view+json": {
       "model_id": "",
       "version_major": 2,
       "version_minor": 0
      },
      "text/plain": [
       "FloatProgress(value=0.0, bar_style='info', description='Progress:', layout=Layout(height='25px', width='50%'),…"
      ]
     },
     "metadata": {},
     "output_type": "display_data"
    },
    {
     "name": "stdout",
     "output_type": "stream",
     "text": [
      "144066"
     ]
    }
   ],
   "source": [
    "# we will create data having zero which we already created before\n",
    "zero_distance.count()"
   ]
  },
  {
   "cell_type": "code",
   "execution_count": 30,
   "id": "6ece57ec",
   "metadata": {},
   "outputs": [
    {
     "data": {
      "application/vnd.jupyter.widget-view+json": {
       "model_id": "",
       "version_major": 2,
       "version_minor": 0
      },
      "text/plain": [
       "FloatProgress(value=0.0, bar_style='info', description='Progress:', layout=Layout(height='25px', width='50%'),…"
      ]
     },
     "metadata": {},
     "output_type": "display_data"
    }
   ],
   "source": [
    "#3 - we will filter out the trips that have zero and different pick and drop locations\n",
    "# here we will filter only the trips with similar pick and drop location\n",
    "Zero_distance_cleared=zero_distance.filter(zero_distance['PULocationID']==zero_distance['DOLocationID'])"
   ]
  },
  {
   "cell_type": "code",
   "execution_count": 31,
   "id": "6df2c18d",
   "metadata": {},
   "outputs": [
    {
     "data": {
      "application/vnd.jupyter.widget-view+json": {
       "model_id": "",
       "version_major": 2,
       "version_minor": 0
      },
      "text/plain": [
       "FloatProgress(value=0.0, bar_style='info', description='Progress:', layout=Layout(height='25px', width='50%'),…"
      ]
     },
     "metadata": {},
     "output_type": "display_data"
    },
    {
     "name": "stdout",
     "output_type": "stream",
     "text": [
      "12618026"
     ]
    }
   ],
   "source": [
    "# to varify the correct number\n",
    "no_zero_distance.count() +Zero_distance_cleared.count()"
   ]
  },
  {
   "cell_type": "code",
   "execution_count": 32,
   "id": "13e0c36b",
   "metadata": {},
   "outputs": [
    {
     "data": {
      "application/vnd.jupyter.widget-view+json": {
       "model_id": "",
       "version_major": 2,
       "version_minor": 0
      },
      "text/plain": [
       "FloatProgress(value=0.0, bar_style='info', description='Progress:', layout=Layout(height='25px', width='50%'),…"
      ]
     },
     "metadata": {},
     "output_type": "display_data"
    }
   ],
   "source": [
    "# we will merge the trips that have no zero distance with the trips that have zero distance and simlar pick and drop locations\n",
    "df_new_1 = no_zero_distance.union(Zero_distance_cleared)"
   ]
  },
  {
   "cell_type": "code",
   "execution_count": 33,
   "id": "38825fd0",
   "metadata": {},
   "outputs": [
    {
     "data": {
      "application/vnd.jupyter.widget-view+json": {
       "model_id": "",
       "version_major": 2,
       "version_minor": 0
      },
      "text/plain": [
       "FloatProgress(value=0.0, bar_style='info', description='Progress:', layout=Layout(height='25px', width='50%'),…"
      ]
     },
     "metadata": {},
     "output_type": "display_data"
    },
    {
     "name": "stdout",
     "output_type": "stream",
     "text": [
      "12618026"
     ]
    }
   ],
   "source": [
    "# this dataset contain all the observation except with zero distance and drop location is different than pick location\n",
    "df_new_1.count()"
   ]
  },
  {
   "cell_type": "code",
   "execution_count": 34,
   "id": "43a02b70",
   "metadata": {},
   "outputs": [
    {
     "data": {
      "application/vnd.jupyter.widget-view+json": {
       "model_id": "",
       "version_major": 2,
       "version_minor": 0
      },
      "text/plain": [
       "FloatProgress(value=0.0, bar_style='info', description='Progress:', layout=Layout(height='25px', width='50%'),…"
      ]
     },
     "metadata": {},
     "output_type": "display_data"
    },
    {
     "name": "stdout",
     "output_type": "stream",
     "text": [
      "0"
     ]
    }
   ],
   "source": [
    "#Check if we have trips with zero distance and diffrent drop and pick locations\n",
    "df_new_1.filter((df_new_1['trip_distance']==0) & (df_new_1['PULocationID']!=df_new_1['DOLocationID'])).count()"
   ]
  },
  {
   "cell_type": "code",
   "execution_count": 35,
   "id": "4eb27826",
   "metadata": {},
   "outputs": [
    {
     "data": {
      "application/vnd.jupyter.widget-view+json": {
       "model_id": "",
       "version_major": 2,
       "version_minor": 0
      },
      "text/plain": [
       "FloatProgress(value=0.0, bar_style='info', description='Progress:', layout=Layout(height='25px', width='50%'),…"
      ]
     },
     "metadata": {},
     "output_type": "display_data"
    },
    {
     "name": "stdout",
     "output_type": "stream",
     "text": [
      "+-------+-----------------+\n",
      "|summary|    trip_distance|\n",
      "+-------+-----------------+\n",
      "|  count|         12618026|\n",
      "|   mean|5.704783304457681|\n",
      "| stddev|584.8984083034265|\n",
      "|    min|              0.0|\n",
      "|    max|        348798.53|\n",
      "+-------+-----------------+"
     ]
    }
   ],
   "source": [
    "df_new_1.select('trip_distance').describe().show()"
   ]
  },
  {
   "cell_type": "markdown",
   "id": "c387eddc",
   "metadata": {},
   "source": [
    "__we will just try to remove the unrealistic trips by removing any trip above 1000 mile__"
   ]
  },
  {
   "cell_type": "code",
   "execution_count": 36,
   "id": "e5c3b215",
   "metadata": {},
   "outputs": [
    {
     "data": {
      "application/vnd.jupyter.widget-view+json": {
       "model_id": "",
       "version_major": 2,
       "version_minor": 0
      },
      "text/plain": [
       "FloatProgress(value=0.0, bar_style='info', description='Progress:', layout=Layout(height='25px', width='50%'),…"
      ]
     },
     "metadata": {},
     "output_type": "display_data"
    },
    {
     "name": "stdout",
     "output_type": "stream",
     "text": [
      "334"
     ]
    }
   ],
   "source": [
    "# Number of trips above or equal 1000 miles\n",
    "df_new_1.filter(df_new_1['trip_distance']>=1000).count()"
   ]
  },
  {
   "cell_type": "code",
   "execution_count": 37,
   "id": "92510edb",
   "metadata": {},
   "outputs": [
    {
     "data": {
      "application/vnd.jupyter.widget-view+json": {
       "model_id": "",
       "version_major": 2,
       "version_minor": 0
      },
      "text/plain": [
       "FloatProgress(value=0.0, bar_style='info', description='Progress:', layout=Layout(height='25px', width='50%'),…"
      ]
     },
     "metadata": {},
     "output_type": "display_data"
    }
   ],
   "source": [
    "df_new_1=df_new_1.filter(df_new_1['trip_distance']<1000)"
   ]
  },
  {
   "cell_type": "markdown",
   "id": "6b5941fc",
   "metadata": {},
   "source": [
    "## 2.3 Fare amount\n",
    "As per https://www1.nyc.gov/site/tlc/passengers/taxi-fare.page the min fare amount is $2.50 initial charge. so we will analyze the fare amount"
   ]
  },
  {
   "cell_type": "code",
   "execution_count": 38,
   "id": "764b55f3",
   "metadata": {},
   "outputs": [
    {
     "data": {
      "application/vnd.jupyter.widget-view+json": {
       "model_id": "",
       "version_major": 2,
       "version_minor": 0
      },
      "text/plain": [
       "FloatProgress(value=0.0, bar_style='info', description='Progress:', layout=Layout(height='25px', width='50%'),…"
      ]
     },
     "metadata": {},
     "output_type": "display_data"
    }
   ],
   "source": [
    "#removing the trips that have fare amount less than 2.5\n",
    "df_new_1=df_new_1.filter(df_new_1['fare_amount']>=2.5)"
   ]
  },
  {
   "cell_type": "code",
   "execution_count": 39,
   "id": "622d4bfd",
   "metadata": {},
   "outputs": [
    {
     "data": {
      "application/vnd.jupyter.widget-view+json": {
       "model_id": "",
       "version_major": 2,
       "version_minor": 0
      },
      "text/plain": [
       "FloatProgress(value=0.0, bar_style='info', description='Progress:', layout=Layout(height='25px', width='50%'),…"
      ]
     },
     "metadata": {},
     "output_type": "display_data"
    }
   ],
   "source": [
    "# we will remove the trips above 500 dollars since its not realistic in my point of view and only 113 trips which will not affect our data\n",
    "df_new_1=df_new_1.filter(df_new_1['fare_amount']<=500)"
   ]
  },
  {
   "cell_type": "code",
   "execution_count": 40,
   "id": "58ea4e9f",
   "metadata": {},
   "outputs": [
    {
     "data": {
      "application/vnd.jupyter.widget-view+json": {
       "model_id": "",
       "version_major": 2,
       "version_minor": 0
      },
      "text/plain": [
       "FloatProgress(value=0.0, bar_style='info', description='Progress:', layout=Layout(height='25px', width='50%'),…"
      ]
     },
     "metadata": {},
     "output_type": "display_data"
    },
    {
     "name": "stdout",
     "output_type": "stream",
     "text": [
      "12544947"
     ]
    }
   ],
   "source": [
    "df_new_1.count()"
   ]
  },
  {
   "cell_type": "markdown",
   "id": "4fd195b1",
   "metadata": {},
   "source": [
    "## 2.4 Trip duration\n",
    "As per NYC Taxi & Limousine Commision Regulations, the maximum duration taxi driver can drive per day is 12 hours, so we will assume that the max trip duration could be 12 hours and remove and records axceed 12 hours\n",
    "\n",
    "Steps to remove the trips above 12 hours:\n",
    "\n",
    "* We will create new column that contain the trip duration by second `trip_duration_seconds` (just subtract the UNIX pickup time from the UNIX drop time)\n",
    "\n",
    "* We will create trip_duration in hours from the newly created `trip_duration_seconds`\n",
    "\n",
    "* Then filterout and remove any trip above 12 hours"
   ]
  },
  {
   "cell_type": "code",
   "execution_count": 41,
   "id": "b0ff257e",
   "metadata": {},
   "outputs": [
    {
     "data": {
      "application/vnd.jupyter.widget-view+json": {
       "model_id": "",
       "version_major": 2,
       "version_minor": 0
      },
      "text/plain": [
       "FloatProgress(value=0.0, bar_style='info', description='Progress:', layout=Layout(height='25px', width='50%'),…"
      ]
     },
     "metadata": {},
     "output_type": "display_data"
    }
   ],
   "source": [
    "df_new_1=df_new_1.withColumn('trip_duration_seconds',unix_timestamp(\"tpep_dropoff_datetime\") - unix_timestamp('tpep_pickup_datetime'))"
   ]
  },
  {
   "cell_type": "code",
   "execution_count": 42,
   "id": "c5292a15",
   "metadata": {},
   "outputs": [
    {
     "data": {
      "application/vnd.jupyter.widget-view+json": {
       "model_id": "",
       "version_major": 2,
       "version_minor": 0
      },
      "text/plain": [
       "FloatProgress(value=0.0, bar_style='info', description='Progress:', layout=Layout(height='25px', width='50%'),…"
      ]
     },
     "metadata": {},
     "output_type": "display_data"
    }
   ],
   "source": [
    "# We will create trip duration in hour which is the `trip_duration_seconds / 3600`\n",
    "df_new_1=df_new_1.withColumn('duration_In_Hours',round(col('trip_duration_seconds')/3600,1))"
   ]
  },
  {
   "cell_type": "code",
   "execution_count": 43,
   "id": "88f2da43",
   "metadata": {},
   "outputs": [
    {
     "data": {
      "application/vnd.jupyter.widget-view+json": {
       "model_id": "",
       "version_major": 2,
       "version_minor": 0
      },
      "text/plain": [
       "FloatProgress(value=0.0, bar_style='info', description='Progress:', layout=Layout(height='25px', width='50%'),…"
      ]
     },
     "metadata": {},
     "output_type": "display_data"
    }
   ],
   "source": [
    "df_new_1=df_new_1.filter(df_new_1['duration_In_Hours']<=12)"
   ]
  },
  {
   "cell_type": "code",
   "execution_count": 44,
   "id": "2cfb0d7d",
   "metadata": {},
   "outputs": [
    {
     "data": {
      "application/vnd.jupyter.widget-view+json": {
       "model_id": "",
       "version_major": 2,
       "version_minor": 0
      },
      "text/plain": [
       "FloatProgress(value=0.0, bar_style='info', description='Progress:', layout=Layout(height='25px', width='50%'),…"
      ]
     },
     "metadata": {},
     "output_type": "display_data"
    },
    {
     "name": "stdout",
     "output_type": "stream",
     "text": [
      "0"
     ]
    }
   ],
   "source": [
    "df_new_1.filter(df_new_1['duration_In_Hours']>12).count()"
   ]
  },
  {
   "cell_type": "markdown",
   "id": "49ffab1e",
   "metadata": {},
   "source": [
    "## 2.5 Check the trips in each month\n",
    "\n",
    "The trips in each month shpuld be dropped in the same month and some trips in the next month. for example january trips will have pick-up trips occurred in january and the drop of these trips must be in january and some of them will be dropped in february, following the assumption that some trips have been picked during the last hour in 31-Jan and it might been dropped in the first hour during the february first."
   ]
  },
  {
   "cell_type": "code",
   "execution_count": 45,
   "id": "3929eac8",
   "metadata": {},
   "outputs": [
    {
     "data": {
      "application/vnd.jupyter.widget-view+json": {
       "model_id": "",
       "version_major": 2,
       "version_minor": 0
      },
      "text/plain": [
       "FloatProgress(value=0.0, bar_style='info', description='Progress:', layout=Layout(height='25px', width='50%'),…"
      ]
     },
     "metadata": {},
     "output_type": "display_data"
    },
    {
     "name": "stdout",
     "output_type": "stream",
     "text": [
      "Pick up month  1 [Row(drop_month=1), Row(drop_month=2)]\n",
      "Pick up month  2 [Row(drop_month=3), Row(drop_month=2)]\n",
      "Pick up month  3 [Row(drop_month=1), Row(drop_month=3), Row(drop_month=4)]\n",
      "Pick up month  4 [Row(drop_month=4), Row(drop_month=5)]"
     ]
    }
   ],
   "source": [
    "for i in range(1,5):\n",
    "    print('Pick up month ',i,df_new_1.filter(df_new_1['Pick_month']==i).select('drop_month').distinct().collect())"
   ]
  },
  {
   "cell_type": "markdown",
   "id": "417f7030",
   "metadata": {},
   "source": [
    "__We notice that in March trips we have trips dropped in in January which is incorrect.__"
   ]
  },
  {
   "cell_type": "code",
   "execution_count": 46,
   "id": "9afb7073",
   "metadata": {},
   "outputs": [
    {
     "data": {
      "application/vnd.jupyter.widget-view+json": {
       "model_id": "",
       "version_major": 2,
       "version_minor": 0
      },
      "text/plain": [
       "FloatProgress(value=0.0, bar_style='info', description='Progress:', layout=Layout(height='25px', width='50%'),…"
      ]
     },
     "metadata": {},
     "output_type": "display_data"
    },
    {
     "name": "stdout",
     "output_type": "stream",
     "text": [
      "+--------------------+---------------------+\n",
      "|tpep_pickup_datetime|tpep_dropoff_datetime|\n",
      "+--------------------+---------------------+\n",
      "| 2022-03-18 07:53:14|  2022-01-27 11:53:18|\n",
      "+--------------------+---------------------+"
     ]
    }
   ],
   "source": [
    "df_new_1.filter((df_new_1['Pick_month']==3) & (df_new_1['drop_month']==1)).select(['tpep_pickup_datetime','tpep_dropoff_datetime']).show()"
   ]
  },
  {
   "cell_type": "markdown",
   "id": "8750dce7",
   "metadata": {},
   "source": [
    "its wrong trip which should be removed"
   ]
  },
  {
   "cell_type": "markdown",
   "id": "96f436b6",
   "metadata": {},
   "source": [
    "__Steps to remove this trip:__\n",
    "\n",
    "\n",
    "* Create dataset without March\n",
    "\n",
    "* create dataframe only for March trips\n",
    "\n",
    "* filter out this row and union the two dataframe"
   ]
  },
  {
   "cell_type": "code",
   "execution_count": 48,
   "id": "9ee794c9",
   "metadata": {},
   "outputs": [
    {
     "data": {
      "application/vnd.jupyter.widget-view+json": {
       "model_id": "",
       "version_major": 2,
       "version_minor": 0
      },
      "text/plain": [
       "FloatProgress(value=0.0, bar_style='info', description='Progress:', layout=Layout(height='25px', width='50%'),…"
      ]
     },
     "metadata": {},
     "output_type": "display_data"
    }
   ],
   "source": [
    "# create mar_df\n",
    "mar_df=df_new_1.filter(df_new_1['Pick_month']==3)"
   ]
  },
  {
   "cell_type": "code",
   "execution_count": 50,
   "id": "c1ee57cf",
   "metadata": {},
   "outputs": [
    {
     "data": {
      "application/vnd.jupyter.widget-view+json": {
       "model_id": "",
       "version_major": 2,
       "version_minor": 0
      },
      "text/plain": [
       "FloatProgress(value=0.0, bar_style='info', description='Progress:', layout=Layout(height='25px', width='50%'),…"
      ]
     },
     "metadata": {},
     "output_type": "display_data"
    }
   ],
   "source": [
    "# create no_mar_df\n",
    "no_mar_df = df_new_1.filter(df_new_1['Pick_month']!=3)"
   ]
  },
  {
   "cell_type": "code",
   "execution_count": 51,
   "id": "bfe129b9",
   "metadata": {},
   "outputs": [
    {
     "data": {
      "application/vnd.jupyter.widget-view+json": {
       "model_id": "",
       "version_major": 2,
       "version_minor": 0
      },
      "text/plain": [
       "FloatProgress(value=0.0, bar_style='info', description='Progress:', layout=Layout(height='25px', width='50%'),…"
      ]
     },
     "metadata": {},
     "output_type": "display_data"
    }
   ],
   "source": [
    "# filter out the feb drop row\n",
    "mar_df=mar_df.filter(mar_df['drop_month']!=1)"
   ]
  },
  {
   "cell_type": "code",
   "execution_count": 52,
   "id": "b13ae063",
   "metadata": {},
   "outputs": [
    {
     "data": {
      "application/vnd.jupyter.widget-view+json": {
       "model_id": "",
       "version_major": 2,
       "version_minor": 0
      },
      "text/plain": [
       "FloatProgress(value=0.0, bar_style='info', description='Progress:', layout=Layout(height='25px', width='50%'),…"
      ]
     },
     "metadata": {},
     "output_type": "display_data"
    },
    {
     "name": "stdout",
     "output_type": "stream",
     "text": [
      "[Row(drop_month=3), Row(drop_month=4)]"
     ]
    }
   ],
   "source": [
    "mar_df.select('drop_month').distinct().collect()"
   ]
  },
  {
   "cell_type": "code",
   "execution_count": 53,
   "id": "a1ca2751",
   "metadata": {},
   "outputs": [
    {
     "data": {
      "application/vnd.jupyter.widget-view+json": {
       "model_id": "",
       "version_major": 2,
       "version_minor": 0
      },
      "text/plain": [
       "FloatProgress(value=0.0, bar_style='info', description='Progress:', layout=Layout(height='25px', width='50%'),…"
      ]
     },
     "metadata": {},
     "output_type": "display_data"
    }
   ],
   "source": [
    "df_new_final = mar_df.union(no_mar_df)"
   ]
  },
  {
   "cell_type": "code",
   "execution_count": 54,
   "id": "e304bfe6",
   "metadata": {},
   "outputs": [
    {
     "data": {
      "application/vnd.jupyter.widget-view+json": {
       "model_id": "",
       "version_major": 2,
       "version_minor": 0
      },
      "text/plain": [
       "FloatProgress(value=0.0, bar_style='info', description='Progress:', layout=Layout(height='25px', width='50%'),…"
      ]
     },
     "metadata": {},
     "output_type": "display_data"
    },
    {
     "name": "stdout",
     "output_type": "stream",
     "text": [
      "12530988"
     ]
    }
   ],
   "source": [
    "df_new_final.count()"
   ]
  },
  {
   "cell_type": "markdown",
   "id": "2da24440",
   "metadata": {},
   "source": [
    "# 3- Grouping the data per location ID in Hourly basis and Make it ready for Modeling"
   ]
  },
  {
   "cell_type": "code",
   "execution_count": 55,
   "id": "e1f387ae",
   "metadata": {},
   "outputs": [
    {
     "data": {
      "application/vnd.jupyter.widget-view+json": {
       "model_id": "",
       "version_major": 2,
       "version_minor": 0
      },
      "text/plain": [
       "FloatProgress(value=0.0, bar_style='info', description='Progress:', layout=Layout(height='25px', width='50%'),…"
      ]
     },
     "metadata": {},
     "output_type": "display_data"
    },
    {
     "name": "stdout",
     "output_type": "stream",
     "text": [
      "+----------------------------+\n",
      "|count(DISTINCT PULocationID)|\n",
      "+----------------------------+\n",
      "|                         261|\n",
      "+----------------------------+"
     ]
    }
   ],
   "source": [
    "df_new_final.select(countDistinct(\"PULocationID\")).show()"
   ]
  },
  {
   "cell_type": "code",
   "execution_count": 56,
   "id": "855e1a56",
   "metadata": {},
   "outputs": [
    {
     "data": {
      "application/vnd.jupyter.widget-view+json": {
       "model_id": "",
       "version_major": 2,
       "version_minor": 0
      },
      "text/plain": [
       "FloatProgress(value=0.0, bar_style='info', description='Progress:', layout=Layout(height='25px', width='50%'),…"
      ]
     },
     "metadata": {},
     "output_type": "display_data"
    }
   ],
   "source": [
    "LocationID2022 = df_new_final.select(collect_set('PULocationID').alias('locationID_list')).first()['locationID_list']"
   ]
  },
  {
   "cell_type": "markdown",
   "id": "ec88e12a",
   "metadata": {},
   "source": [
    "We have 261 location ID, we will aggregate the trips in hourly basis. so we should have 120 X 24 X 261 = 751680 rows"
   ]
  },
  {
   "cell_type": "markdown",
   "id": "c1333894",
   "metadata": {},
   "source": [
    "### Steps:\n",
    "We will change the timestamp to this format `\"yyyy-MM-dd HH:00\"` to be able to group the trips hourly"
   ]
  },
  {
   "cell_type": "code",
   "execution_count": 61,
   "id": "6c0115a1",
   "metadata": {},
   "outputs": [
    {
     "data": {
      "application/vnd.jupyter.widget-view+json": {
       "model_id": "",
       "version_major": 2,
       "version_minor": 0
      },
      "text/plain": [
       "FloatProgress(value=0.0, bar_style='info', description='Progress:', layout=Layout(height='25px', width='50%'),…"
      ]
     },
     "metadata": {},
     "output_type": "display_data"
    }
   ],
   "source": [
    "df_new_final=df_new_final.withColumn(\"Pickup_datetime_hourly\", date_format(col(\"tpep_pickup_datetime\").cast(\"timestamp\"), \"yyyy-MM-dd HH:00\"))"
   ]
  },
  {
   "cell_type": "code",
   "execution_count": 62,
   "id": "4e1a22ed",
   "metadata": {},
   "outputs": [
    {
     "data": {
      "application/vnd.jupyter.widget-view+json": {
       "model_id": "",
       "version_major": 2,
       "version_minor": 0
      },
      "text/plain": [
       "FloatProgress(value=0.0, bar_style='info', description='Progress:', layout=Layout(height='25px', width='50%'),…"
      ]
     },
     "metadata": {},
     "output_type": "display_data"
    }
   ],
   "source": [
    "# we will create trip count column\n",
    "df_new_final=df_new_final.withColumn(\"Trip_count\", lit(1))"
   ]
  },
  {
   "cell_type": "code",
   "execution_count": 66,
   "id": "6ba73c8c",
   "metadata": {},
   "outputs": [
    {
     "data": {
      "application/vnd.jupyter.widget-view+json": {
       "model_id": "",
       "version_major": 2,
       "version_minor": 0
      },
      "text/plain": [
       "FloatProgress(value=0.0, bar_style='info', description='Progress:', layout=Layout(height='25px', width='50%'),…"
      ]
     },
     "metadata": {},
     "output_type": "display_data"
    }
   ],
   "source": [
    "hourly_aggregated=df_new_final.groupby(['Pickup_datetime_hourly','PULocationID']).agg({'Trip_count':'count'})\\\n",
    ".withColumnRenamed(\"count(Trip_count)\", \"Trips_count\")"
   ]
  },
  {
   "cell_type": "code",
   "execution_count": 67,
   "id": "0f03a5cd",
   "metadata": {},
   "outputs": [
    {
     "data": {
      "application/vnd.jupyter.widget-view+json": {
       "model_id": "",
       "version_major": 2,
       "version_minor": 0
      },
      "text/plain": [
       "FloatProgress(value=0.0, bar_style='info', description='Progress:', layout=Layout(height='25px', width='50%'),…"
      ]
     },
     "metadata": {},
     "output_type": "display_data"
    },
    {
     "name": "stdout",
     "output_type": "stream",
     "text": [
      "+----------------------+------------+-----------+\n",
      "|Pickup_datetime_hourly|PULocationID|Trips_count|\n",
      "+----------------------+------------+-----------+\n",
      "|      2022-03-01 14:00|         233|         71|\n",
      "|      2022-03-01 16:00|          10|          7|\n",
      "|      2022-03-02 12:00|          50|         43|\n",
      "|      2022-03-02 13:00|         237|        479|\n",
      "|      2022-03-03 22:00|         189|          5|\n",
      "|      2022-03-04 13:00|         158|         32|\n",
      "|      2022-03-04 23:00|         113|        111|\n",
      "|      2022-03-05 04:00|         231|         31|\n",
      "|      2022-03-06 10:00|          82|          1|\n",
      "|      2022-03-07 11:00|         138|        192|\n",
      "|      2022-03-08 13:00|          65|         10|\n",
      "|      2022-03-10 11:00|         144|         29|\n",
      "|      2022-03-10 18:00|          75|         63|\n",
      "|      2022-03-11 18:00|         231|        148|\n",
      "|      2022-03-13 03:00|          68|        103|\n",
      "|      2022-03-13 16:00|         236|        258|\n",
      "|      2022-03-13 19:00|          24|         27|\n",
      "|      2022-03-14 12:00|         263|        109|\n",
      "|      2022-03-17 11:00|         193|          5|\n",
      "|      2022-03-17 12:00|         246|         60|\n",
      "+----------------------+------------+-----------+\n",
      "only showing top 20 rows"
     ]
    }
   ],
   "source": [
    "hourly_aggregated.show()"
   ]
  },
  {
   "cell_type": "code",
   "execution_count": 68,
   "id": "af4a6846",
   "metadata": {},
   "outputs": [
    {
     "data": {
      "application/vnd.jupyter.widget-view+json": {
       "model_id": "",
       "version_major": 2,
       "version_minor": 0
      },
      "text/plain": [
       "FloatProgress(value=0.0, bar_style='info', description='Progress:', layout=Layout(height='25px', width='50%'),…"
      ]
     },
     "metadata": {},
     "output_type": "display_data"
    },
    {
     "name": "stdout",
     "output_type": "stream",
     "text": [
      "267126"
     ]
    }
   ],
   "source": [
    "hourly_aggregated.count()"
   ]
  },
  {
   "cell_type": "markdown",
   "id": "0d308cb0",
   "metadata": {},
   "source": [
    "The aggregated trips have 267126 rows and it should be 751680, and I think the issue is there are no pick-up records in certain hours. So when I aggregate the data, it will not show the missing hours. \n",
    "\n",
    "#### To solve this problem:\n",
    "- we need to create dataframe with timestamp started from 1-1-2022 till 1-5-2022. (2880 rows).\n",
    "- generate dataframe for each locationID and merge all of them. (751680)\n",
    "- Create unique column that contain the __timestamp plus the locationID__ in both of them so we can join them.\n",
    "- left join the generated dataframe with our hourly aggregated dataframe."
   ]
  },
  {
   "cell_type": "markdown",
   "id": "71778cde",
   "metadata": {},
   "source": [
    "### 1- Creating unique coloum in hourly_aggregated\n",
    "The unique column will merge the timestamp with the locationID. we need to convert the locationID from integer to string then we will use `concat_ws` to merge the string values together"
   ]
  },
  {
   "cell_type": "code",
   "execution_count": 70,
   "id": "7807e70a",
   "metadata": {},
   "outputs": [
    {
     "data": {
      "application/vnd.jupyter.widget-view+json": {
       "model_id": "",
       "version_major": 2,
       "version_minor": 0
      },
      "text/plain": [
       "FloatProgress(value=0.0, bar_style='info', description='Progress:', layout=Layout(height='25px', width='50%'),…"
      ]
     },
     "metadata": {},
     "output_type": "display_data"
    },
    {
     "name": "stdout",
     "output_type": "stream",
     "text": [
      "root\n",
      " |-- Pickup_datetime_hourly: string (nullable = true)\n",
      " |-- PULocationID: long (nullable = true)\n",
      " |-- Trips_count: long (nullable = false)"
     ]
    }
   ],
   "source": [
    "hourly_aggregated.printSchema()"
   ]
  },
  {
   "cell_type": "code",
   "execution_count": 71,
   "id": "9dc05860",
   "metadata": {},
   "outputs": [
    {
     "data": {
      "application/vnd.jupyter.widget-view+json": {
       "model_id": "",
       "version_major": 2,
       "version_minor": 0
      },
      "text/plain": [
       "FloatProgress(value=0.0, bar_style='info', description='Progress:', layout=Layout(height='25px', width='50%'),…"
      ]
     },
     "metadata": {},
     "output_type": "display_data"
    }
   ],
   "source": [
    "from pyspark.sql.types import TimestampType,StructField,StringType,IntegerType,StructType"
   ]
  },
  {
   "cell_type": "code",
   "execution_count": 72,
   "id": "51fe8418",
   "metadata": {},
   "outputs": [
    {
     "data": {
      "application/vnd.jupyter.widget-view+json": {
       "model_id": "",
       "version_major": 2,
       "version_minor": 0
      },
      "text/plain": [
       "FloatProgress(value=0.0, bar_style='info', description='Progress:', layout=Layout(height='25px', width='50%'),…"
      ]
     },
     "metadata": {},
     "output_type": "display_data"
    }
   ],
   "source": [
    "#Create new column which convert the location ID to string\n",
    "hourly_aggregated= hourly_aggregated.withColumn(\"PULocationID_string\", hourly_aggregated[\"PULocationID\"].cast(StringType()))"
   ]
  },
  {
   "cell_type": "code",
   "execution_count": 73,
   "id": "bfd5e8fd",
   "metadata": {},
   "outputs": [
    {
     "data": {
      "application/vnd.jupyter.widget-view+json": {
       "model_id": "",
       "version_major": 2,
       "version_minor": 0
      },
      "text/plain": [
       "FloatProgress(value=0.0, bar_style='info', description='Progress:', layout=Layout(height='25px', width='50%'),…"
      ]
     },
     "metadata": {},
     "output_type": "display_data"
    }
   ],
   "source": [
    "#Create the unique column using concat_ws\n",
    "hourly_aggregated=hourly_aggregated.select(concat_ws('_',hourly_aggregated.Pickup_datetime_hourly,\n",
    "                                   hourly_aggregated.PULocationID_string).alias(\"UniqueColumn\"),\"Pickup_datetime_hourly\",\"PULocationID\",\"Trips_count\")"
   ]
  },
  {
   "cell_type": "code",
   "execution_count": 74,
   "id": "920fff43",
   "metadata": {},
   "outputs": [
    {
     "data": {
      "application/vnd.jupyter.widget-view+json": {
       "model_id": "",
       "version_major": 2,
       "version_minor": 0
      },
      "text/plain": [
       "FloatProgress(value=0.0, bar_style='info', description='Progress:', layout=Layout(height='25px', width='50%'),…"
      ]
     },
     "metadata": {},
     "output_type": "display_data"
    },
    {
     "name": "stdout",
     "output_type": "stream",
     "text": [
      "+--------------------+----------------------+------------+-----------+\n",
      "|        UniqueColumn|Pickup_datetime_hourly|PULocationID|Trips_count|\n",
      "+--------------------+----------------------+------------+-----------+\n",
      "|2022-03-01 14:00_233|      2022-03-01 14:00|         233|         71|\n",
      "| 2022-03-01 16:00_10|      2022-03-01 16:00|          10|          7|\n",
      "| 2022-03-02 12:00_50|      2022-03-02 12:00|          50|         43|\n",
      "|2022-03-02 13:00_237|      2022-03-02 13:00|         237|        479|\n",
      "|2022-03-03 22:00_189|      2022-03-03 22:00|         189|          5|\n",
      "+--------------------+----------------------+------------+-----------+\n",
      "only showing top 5 rows"
     ]
    }
   ],
   "source": [
    "hourly_aggregated.show(5)"
   ]
  },
  {
   "cell_type": "code",
   "execution_count": 75,
   "id": "3202db0b",
   "metadata": {},
   "outputs": [
    {
     "data": {
      "application/vnd.jupyter.widget-view+json": {
       "model_id": "",
       "version_major": 2,
       "version_minor": 0
      },
      "text/plain": [
       "FloatProgress(value=0.0, bar_style='info', description='Progress:', layout=Layout(height='25px', width='50%'),…"
      ]
     },
     "metadata": {},
     "output_type": "display_data"
    },
    {
     "name": "stdout",
     "output_type": "stream",
     "text": [
      "root\n",
      " |-- UniqueColumn: string (nullable = false)\n",
      " |-- Pickup_datetime_hourly: string (nullable = true)\n",
      " |-- PULocationID: long (nullable = true)\n",
      " |-- Trips_count: long (nullable = false)"
     ]
    }
   ],
   "source": [
    "hourly_aggregated.printSchema()"
   ]
  },
  {
   "cell_type": "markdown",
   "id": "381db662",
   "metadata": {},
   "source": [
    "### Generate timestamp dataframe from 1-1-2022 till 1-5-2022\n",
    "The below function will generate timestamp spark dataframe"
   ]
  },
  {
   "cell_type": "code",
   "execution_count": 76,
   "id": "84198f91",
   "metadata": {},
   "outputs": [
    {
     "data": {
      "application/vnd.jupyter.widget-view+json": {
       "model_id": "",
       "version_major": 2,
       "version_minor": 0
      },
      "text/plain": [
       "FloatProgress(value=0.0, bar_style='info', description='Progress:', layout=Layout(height='25px', width='50%'),…"
      ]
     },
     "metadata": {},
     "output_type": "display_data"
    }
   ],
   "source": [
    "def generate_series(start, stop, interval):\n",
    "    \"\"\"\n",
    "    :param start  - lower bound, inclusive\n",
    "    :param stop   - upper bound, exclusive\n",
    "    :interval int - increment interval in seconds\n",
    "    \"\"\"\n",
    "    start, stop = spark.createDataFrame(\n",
    "        [(start, stop)], (\"start\", \"stop\")\n",
    "    ).select(\n",
    "        [col(c).cast(\"timestamp\").cast(\"long\") for c in (\"start\", \"stop\")\n",
    "    ]).first()\n",
    "    # Create range with increments and cast to timestamp\n",
    "    return spark.range(start, stop, interval).select(\n",
    "        col(\"id\").cast(\"timestamp\").alias(\"timestamp\")\n",
    "    )"
   ]
  },
  {
   "cell_type": "code",
   "execution_count": 77,
   "id": "72e607a7",
   "metadata": {},
   "outputs": [
    {
     "data": {
      "application/vnd.jupyter.widget-view+json": {
       "model_id": "",
       "version_major": 2,
       "version_minor": 0
      },
      "text/plain": [
       "FloatProgress(value=0.0, bar_style='info', description='Progress:', layout=Layout(height='25px', width='50%'),…"
      ]
     },
     "metadata": {},
     "output_type": "display_data"
    }
   ],
   "source": [
    "# we will multiply by 60*60 to change the timestamp to hour\n",
    "timestamp_df=generate_series(\"2022-01-01\", \"2022-05-01\", 60 * 60)"
   ]
  },
  {
   "cell_type": "markdown",
   "id": "20e39aa1",
   "metadata": {},
   "source": [
    "We will change the timestamp generated to the same format in `hourly_aggregated`"
   ]
  },
  {
   "cell_type": "code",
   "execution_count": 78,
   "id": "06f42d77",
   "metadata": {},
   "outputs": [
    {
     "data": {
      "application/vnd.jupyter.widget-view+json": {
       "model_id": "",
       "version_major": 2,
       "version_minor": 0
      },
      "text/plain": [
       "FloatProgress(value=0.0, bar_style='info', description='Progress:', layout=Layout(height='25px', width='50%'),…"
      ]
     },
     "metadata": {},
     "output_type": "display_data"
    }
   ],
   "source": [
    "timestamp_df=timestamp_df.withColumn(\"hourly_timestamp\", date_format(col(\"timestamp\").cast(\"timestamp\"), \"yyyy-MM-dd HH:00\"))"
   ]
  },
  {
   "cell_type": "code",
   "execution_count": 79,
   "id": "3df5c5d0",
   "metadata": {},
   "outputs": [
    {
     "data": {
      "application/vnd.jupyter.widget-view+json": {
       "model_id": "",
       "version_major": 2,
       "version_minor": 0
      },
      "text/plain": [
       "FloatProgress(value=0.0, bar_style='info', description='Progress:', layout=Layout(height='25px', width='50%'),…"
      ]
     },
     "metadata": {},
     "output_type": "display_data"
    },
    {
     "name": "stdout",
     "output_type": "stream",
     "text": [
      "root\n",
      " |-- timestamp: timestamp (nullable = false)\n",
      " |-- hourly_timestamp: string (nullable = false)"
     ]
    }
   ],
   "source": [
    "timestamp_df.printSchema()"
   ]
  },
  {
   "cell_type": "code",
   "execution_count": 80,
   "id": "150f9db2",
   "metadata": {},
   "outputs": [
    {
     "data": {
      "application/vnd.jupyter.widget-view+json": {
       "model_id": "",
       "version_major": 2,
       "version_minor": 0
      },
      "text/plain": [
       "FloatProgress(value=0.0, bar_style='info', description='Progress:', layout=Layout(height='25px', width='50%'),…"
      ]
     },
     "metadata": {},
     "output_type": "display_data"
    },
    {
     "name": "stdout",
     "output_type": "stream",
     "text": [
      "2880"
     ]
    }
   ],
   "source": [
    "timestamp_df.count()"
   ]
  },
  {
   "cell_type": "markdown",
   "id": "3bf8a9bd",
   "metadata": {},
   "source": [
    "Now this dataframe contain hourly timestamp for 2021. so we need to create the same rows for each location ID exist in `hourly_aggregated`"
   ]
  },
  {
   "cell_type": "code",
   "execution_count": 81,
   "id": "fdea390d",
   "metadata": {},
   "outputs": [
    {
     "data": {
      "application/vnd.jupyter.widget-view+json": {
       "model_id": "",
       "version_major": 2,
       "version_minor": 0
      },
      "text/plain": [
       "FloatProgress(value=0.0, bar_style='info', description='Progress:', layout=Layout(height='25px', width='50%'),…"
      ]
     },
     "metadata": {},
     "output_type": "display_data"
    }
   ],
   "source": [
    "# extract the pickup location id from the dataset and save it in list\n",
    "Pick_up_LocationID = df_new_final.select(collect_set('PULocationID').alias('locationID_list')).first()['locationID_list']"
   ]
  },
  {
   "cell_type": "markdown",
   "id": "425b70d1",
   "metadata": {},
   "source": [
    "We have 261 location ID, we will aggregate the trips in hourly basis. so we should have 120 X 24 X 261 = 751680 rows.\n",
    "\n",
    "To do so, we need to iterate generated timestamp for each locationID and merge all of them by rows"
   ]
  },
  {
   "cell_type": "markdown",
   "id": "401c3c05",
   "metadata": {},
   "source": [
    "__Define function that add the location ID to the generated timestamp__"
   ]
  },
  {
   "cell_type": "code",
   "execution_count": 83,
   "id": "dc187b9c",
   "metadata": {},
   "outputs": [
    {
     "data": {
      "application/vnd.jupyter.widget-view+json": {
       "model_id": "",
       "version_major": 2,
       "version_minor": 0
      },
      "text/plain": [
       "FloatProgress(value=0.0, bar_style='info', description='Progress:', layout=Layout(height='25px', width='50%'),…"
      ]
     },
     "metadata": {},
     "output_type": "display_data"
    }
   ],
   "source": [
    "def locations_timestampGenerator(dataframe,locationID):\n",
    "    dataframe=dataframe.withColumn(\"locationID\", lit(locationID))\n",
    "    return dataframe"
   ]
  },
  {
   "cell_type": "code",
   "execution_count": 84,
   "id": "55013fdd",
   "metadata": {},
   "outputs": [
    {
     "data": {
      "application/vnd.jupyter.widget-view+json": {
       "model_id": "",
       "version_major": 2,
       "version_minor": 0
      },
      "text/plain": [
       "FloatProgress(value=0.0, bar_style='info', description='Progress:', layout=Layout(height='25px', width='50%'),…"
      ]
     },
     "metadata": {},
     "output_type": "display_data"
    }
   ],
   "source": [
    "data_schema = [StructField(\"timestamp\",TimestampType(), True),StructField(\"hourly_timestamp\", StringType(), True),\n",
    "               StructField(\"locationID\", IntegerType(), True)]"
   ]
  },
  {
   "cell_type": "code",
   "execution_count": 85,
   "id": "74630877",
   "metadata": {},
   "outputs": [
    {
     "data": {
      "application/vnd.jupyter.widget-view+json": {
       "model_id": "",
       "version_major": 2,
       "version_minor": 0
      },
      "text/plain": [
       "FloatProgress(value=0.0, bar_style='info', description='Progress:', layout=Layout(height='25px', width='50%'),…"
      ]
     },
     "metadata": {},
     "output_type": "display_data"
    }
   ],
   "source": [
    "final_struct = StructType(fields=data_schema)"
   ]
  },
  {
   "cell_type": "code",
   "execution_count": 86,
   "id": "23f1a03a",
   "metadata": {},
   "outputs": [
    {
     "data": {
      "application/vnd.jupyter.widget-view+json": {
       "model_id": "",
       "version_major": 2,
       "version_minor": 0
      },
      "text/plain": [
       "FloatProgress(value=0.0, bar_style='info', description='Progress:', layout=Layout(height='25px', width='50%'),…"
      ]
     },
     "metadata": {},
     "output_type": "display_data"
    }
   ],
   "source": [
    "ID_plus_timestamp = spark.createDataFrame([], schema=final_struct)"
   ]
  },
  {
   "cell_type": "code",
   "execution_count": 87,
   "id": "fb39bb7e",
   "metadata": {},
   "outputs": [
    {
     "data": {
      "application/vnd.jupyter.widget-view+json": {
       "model_id": "",
       "version_major": 2,
       "version_minor": 0
      },
      "text/plain": [
       "FloatProgress(value=0.0, bar_style='info', description='Progress:', layout=Layout(height='25px', width='50%'),…"
      ]
     },
     "metadata": {},
     "output_type": "display_data"
    }
   ],
   "source": [
    "for i in Pick_up_LocationID:\n",
    "    dataframe=locations_timestampGenerator(timestamp_df,i)\n",
    "    ID_plus_timestamp = ID_plus_timestamp.union(dataframe)"
   ]
  },
  {
   "cell_type": "code",
   "execution_count": 88,
   "id": "1a6c578d",
   "metadata": {},
   "outputs": [
    {
     "data": {
      "application/vnd.jupyter.widget-view+json": {
       "model_id": "",
       "version_major": 2,
       "version_minor": 0
      },
      "text/plain": [
       "FloatProgress(value=0.0, bar_style='info', description='Progress:', layout=Layout(height='25px', width='50%'),…"
      ]
     },
     "metadata": {},
     "output_type": "display_data"
    },
    {
     "name": "stdout",
     "output_type": "stream",
     "text": [
      "751680"
     ]
    }
   ],
   "source": [
    "ID_plus_timestamp.count()"
   ]
  },
  {
   "cell_type": "markdown",
   "id": "0fafa5ce",
   "metadata": {},
   "source": [
    "#### Create unique column that contain the __timestamp plus the locationID__ in `ID_plus_timestamp` so we can join it to `hourly_aggregated`."
   ]
  },
  {
   "cell_type": "code",
   "execution_count": 89,
   "id": "cec6335d",
   "metadata": {},
   "outputs": [
    {
     "data": {
      "application/vnd.jupyter.widget-view+json": {
       "model_id": "",
       "version_major": 2,
       "version_minor": 0
      },
      "text/plain": [
       "FloatProgress(value=0.0, bar_style='info', description='Progress:', layout=Layout(height='25px', width='50%'),…"
      ]
     },
     "metadata": {},
     "output_type": "display_data"
    }
   ],
   "source": [
    "# Change the location ID from integer to string\n",
    "ID_plus_timestamp= ID_plus_timestamp.withColumn(\"locationID_string\", ID_plus_timestamp[\"locationID\"].cast(StringType()))"
   ]
  },
  {
   "cell_type": "code",
   "execution_count": 90,
   "id": "b3e988a2",
   "metadata": {},
   "outputs": [
    {
     "data": {
      "application/vnd.jupyter.widget-view+json": {
       "model_id": "",
       "version_major": 2,
       "version_minor": 0
      },
      "text/plain": [
       "FloatProgress(value=0.0, bar_style='info', description='Progress:', layout=Layout(height='25px', width='50%'),…"
      ]
     },
     "metadata": {},
     "output_type": "display_data"
    }
   ],
   "source": [
    "# Create the unique column using concat_ws\n",
    "ID_plus_timestamp=ID_plus_timestamp.select(concat_ws('_',ID_plus_timestamp.hourly_timestamp,\n",
    "                                   ID_plus_timestamp.locationID_string).alias(\"UniqueColumn_G\"),\"timestamp\",\"hourly_timestamp\",\"locationID\")"
   ]
  },
  {
   "cell_type": "code",
   "execution_count": 91,
   "id": "82d49601",
   "metadata": {},
   "outputs": [
    {
     "data": {
      "application/vnd.jupyter.widget-view+json": {
       "model_id": "",
       "version_major": 2,
       "version_minor": 0
      },
      "text/plain": [
       "FloatProgress(value=0.0, bar_style='info', description='Progress:', layout=Layout(height='25px', width='50%'),…"
      ]
     },
     "metadata": {},
     "output_type": "display_data"
    },
    {
     "name": "stdout",
     "output_type": "stream",
     "text": [
      "+--------------------+-------------------+----------------+----------+\n",
      "|      UniqueColumn_G|          timestamp|hourly_timestamp|locationID|\n",
      "+--------------------+-------------------+----------------+----------+\n",
      "|2022-01-01 00:00_256|2022-01-01 00:00:00|2022-01-01 00:00|       256|\n",
      "|2022-01-01 01:00_256|2022-01-01 01:00:00|2022-01-01 01:00|       256|\n",
      "|2022-01-01 02:00_256|2022-01-01 02:00:00|2022-01-01 02:00|       256|\n",
      "+--------------------+-------------------+----------------+----------+\n",
      "only showing top 3 rows"
     ]
    }
   ],
   "source": [
    "ID_plus_timestamp.show(3)"
   ]
  },
  {
   "cell_type": "markdown",
   "id": "442ab2fc",
   "metadata": {},
   "source": [
    "#### Join both dataframes using the unique column"
   ]
  },
  {
   "cell_type": "code",
   "execution_count": 92,
   "id": "9dfbad1e",
   "metadata": {},
   "outputs": [
    {
     "data": {
      "application/vnd.jupyter.widget-view+json": {
       "model_id": "",
       "version_major": 2,
       "version_minor": 0
      },
      "text/plain": [
       "FloatProgress(value=0.0, bar_style='info', description='Progress:', layout=Layout(height='25px', width='50%'),…"
      ]
     },
     "metadata": {},
     "output_type": "display_data"
    }
   ],
   "source": [
    "# join both dataframes using the unique column\n",
    "Pick_aggregated=hourly_aggregated.join(ID_plus_timestamp,hourly_aggregated.UniqueColumn ==  ID_plus_timestamp.UniqueColumn_G,\"right\")"
   ]
  },
  {
   "cell_type": "markdown",
   "id": "1b31a9ab",
   "metadata": {},
   "source": [
    "Replace null values in PULocationID and count(Trip_count) columns of dataframe hourly_aggregated_final with 0.\n",
    "\n",
    "Assume  PULocationID of missing data to be 0"
   ]
  },
  {
   "cell_type": "code",
   "execution_count": 93,
   "id": "e7068eb8",
   "metadata": {},
   "outputs": [
    {
     "data": {
      "application/vnd.jupyter.widget-view+json": {
       "model_id": "",
       "version_major": 2,
       "version_minor": 0
      },
      "text/plain": [
       "FloatProgress(value=0.0, bar_style='info', description='Progress:', layout=Layout(height='25px', width='50%'),…"
      ]
     },
     "metadata": {},
     "output_type": "display_data"
    }
   ],
   "source": [
    "Pick_aggregated=Pick_aggregated.na.fill(0,subset=[\"PULocationID\"])"
   ]
  },
  {
   "cell_type": "code",
   "execution_count": 94,
   "id": "2e5b4b43",
   "metadata": {},
   "outputs": [
    {
     "data": {
      "application/vnd.jupyter.widget-view+json": {
       "model_id": "",
       "version_major": 2,
       "version_minor": 0
      },
      "text/plain": [
       "FloatProgress(value=0.0, bar_style='info', description='Progress:', layout=Layout(height='25px', width='50%'),…"
      ]
     },
     "metadata": {},
     "output_type": "display_data"
    }
   ],
   "source": [
    "Pick_aggregated=Pick_aggregated.na.fill(0,subset=[\"Trips_count\"])"
   ]
  },
  {
   "cell_type": "markdown",
   "id": "1c4ac5c8",
   "metadata": {},
   "source": [
    "#### Select the columns we need : timestamp, locationID , Trips_count and the UniqueColumn_G\n",
    "I have selected `UniqueColumn_G` to be the unique identifier and to join it with the dropped aggregated dataframe"
   ]
  },
  {
   "cell_type": "code",
   "execution_count": 95,
   "id": "6d4cb85e",
   "metadata": {},
   "outputs": [
    {
     "data": {
      "application/vnd.jupyter.widget-view+json": {
       "model_id": "",
       "version_major": 2,
       "version_minor": 0
      },
      "text/plain": [
       "FloatProgress(value=0.0, bar_style='info', description='Progress:', layout=Layout(height='25px', width='50%'),…"
      ]
     },
     "metadata": {},
     "output_type": "display_data"
    }
   ],
   "source": [
    "Pick_aggregated=Pick_aggregated.select(['timestamp','hourly_timestamp','locationID','Trips_count','UniqueColumn_G'])"
   ]
  },
  {
   "cell_type": "code",
   "execution_count": 96,
   "id": "95c16bed",
   "metadata": {},
   "outputs": [
    {
     "data": {
      "application/vnd.jupyter.widget-view+json": {
       "model_id": "",
       "version_major": 2,
       "version_minor": 0
      },
      "text/plain": [
       "FloatProgress(value=0.0, bar_style='info', description='Progress:', layout=Layout(height='25px', width='50%'),…"
      ]
     },
     "metadata": {},
     "output_type": "display_data"
    },
    {
     "name": "stdout",
     "output_type": "stream",
     "text": [
      "+-------------------+----------------+----------+-----------+--------------------+\n",
      "|          timestamp|hourly_timestamp|locationID|Trips_count|      UniqueColumn_G|\n",
      "+-------------------+----------------+----------+-----------+--------------------+\n",
      "|2022-01-01 00:00:00|2022-01-01 00:00|       120|          0|2022-01-01 00:00_120|\n",
      "|2022-01-01 00:00:00|2022-01-01 00:00|       133|          0|2022-01-01 00:00_133|\n",
      "|2022-01-01 00:00:00|2022-01-01 00:00|       137|         59|2022-01-01 00:00_137|\n",
      "|2022-01-01 00:00:00|2022-01-01 00:00|       160|          0|2022-01-01 00:00_160|\n",
      "|2022-01-01 00:00:00|2022-01-01 00:00|       166|         11|2022-01-01 00:00_166|\n",
      "|2022-01-01 00:00:00|2022-01-01 00:00|       178|          0|2022-01-01 00:00_178|\n",
      "|2022-01-01 00:00:00|2022-01-01 00:00|       179|          0|2022-01-01 00:00_179|\n",
      "|2022-01-01 00:00:00|2022-01-01 00:00|       186|         37|2022-01-01 00:00_186|\n",
      "|2022-01-01 00:00:00|2022-01-01 00:00|       249|        159|2022-01-01 00:00_249|\n",
      "|2022-01-01 00:00:00|2022-01-01 00:00|        46|          0| 2022-01-01 00:00_46|\n",
      "|2022-01-01 00:00:00|2022-01-01 00:00|        58|          0| 2022-01-01 00:00_58|\n",
      "|2022-01-01 01:00:00|2022-01-01 01:00|       122|          0|2022-01-01 01:00_122|\n",
      "|2022-01-01 01:00:00|2022-01-01 01:00|       156|          0|2022-01-01 01:00_156|\n",
      "|2022-01-01 01:00:00|2022-01-01 01:00|       173|          0|2022-01-01 01:00_173|\n",
      "|2022-01-01 01:00:00|2022-01-01 01:00|       177|          0|2022-01-01 01:00_177|\n",
      "|2022-01-01 01:00:00|2022-01-01 01:00|       181|          9|2022-01-01 01:00_181|\n",
      "|2022-01-01 01:00:00|2022-01-01 01:00|       225|          0|2022-01-01 01:00_225|\n",
      "|2022-01-01 01:00:00|2022-01-01 01:00|        40|          4| 2022-01-01 01:00_40|\n",
      "|2022-01-01 01:00:00|2022-01-01 01:00|        68|        129| 2022-01-01 01:00_68|\n",
      "|2022-01-01 01:00:00|2022-01-01 01:00|        83|          0| 2022-01-01 01:00_83|\n",
      "+-------------------+----------------+----------+-----------+--------------------+\n",
      "only showing top 20 rows"
     ]
    }
   ],
   "source": [
    "Pick_aggregated.show()"
   ]
  },
  {
   "cell_type": "markdown",
   "id": "337e5da7",
   "metadata": {},
   "source": [
    "## Aggregating the drop trips per location ID in hourly basis\n",
    "\n",
    "- We will follow the same steps how we aggregate the pick-up trips above, but now for the drop-off so we will have hourly count per location ID for the pick-up trips and drop-off trips"
   ]
  },
  {
   "cell_type": "code",
   "execution_count": 97,
   "id": "56674f62",
   "metadata": {},
   "outputs": [
    {
     "data": {
      "application/vnd.jupyter.widget-view+json": {
       "model_id": "",
       "version_major": 2,
       "version_minor": 0
      },
      "text/plain": [
       "FloatProgress(value=0.0, bar_style='info', description='Progress:', layout=Layout(height='25px', width='50%'),…"
      ]
     },
     "metadata": {},
     "output_type": "display_data"
    },
    {
     "name": "stdout",
     "output_type": "stream",
     "text": [
      "+----------------------------+\n",
      "|count(DISTINCT DOLocationID)|\n",
      "+----------------------------+\n",
      "|                         261|\n",
      "+----------------------------+"
     ]
    }
   ],
   "source": [
    "df_new_final.select(countDistinct(\"DOLocationID\")).show()"
   ]
  },
  {
   "cell_type": "markdown",
   "id": "ee8b38b8",
   "metadata": {},
   "source": [
    "__We have 261 drop location ID, and we have 261 pick-up location ID, we will make sure these are the same location ID__"
   ]
  },
  {
   "cell_type": "code",
   "execution_count": 98,
   "id": "8ea2c863",
   "metadata": {},
   "outputs": [
    {
     "data": {
      "application/vnd.jupyter.widget-view+json": {
       "model_id": "",
       "version_major": 2,
       "version_minor": 0
      },
      "text/plain": [
       "FloatProgress(value=0.0, bar_style='info', description='Progress:', layout=Layout(height='25px', width='50%'),…"
      ]
     },
     "metadata": {},
     "output_type": "display_data"
    }
   ],
   "source": [
    "# extract the drop location id from the dataset and save it in list\n",
    "Drop_LocationID = df_new_final.select(collect_set('DOLocationID').alias('DOLocationID')).first()['DOLocationID']"
   ]
  },
  {
   "cell_type": "code",
   "execution_count": 99,
   "id": "84548f3f",
   "metadata": {},
   "outputs": [
    {
     "data": {
      "application/vnd.jupyter.widget-view+json": {
       "model_id": "",
       "version_major": 2,
       "version_minor": 0
      },
      "text/plain": [
       "FloatProgress(value=0.0, bar_style='info', description='Progress:', layout=Layout(height='25px', width='50%'),…"
      ]
     },
     "metadata": {},
     "output_type": "display_data"
    }
   ],
   "source": [
    "unique_list = []\n",
    " \n",
    "for item in Pick_up_LocationID: \n",
    "    if item not in Drop_LocationID: \n",
    "        unique_list.append(item)"
   ]
  },
  {
   "cell_type": "code",
   "execution_count": 100,
   "id": "0c05c1ce",
   "metadata": {},
   "outputs": [
    {
     "data": {
      "application/vnd.jupyter.widget-view+json": {
       "model_id": "",
       "version_major": 2,
       "version_minor": 0
      },
      "text/plain": [
       "FloatProgress(value=0.0, bar_style='info', description='Progress:', layout=Layout(height='25px', width='50%'),…"
      ]
     },
     "metadata": {},
     "output_type": "display_data"
    },
    {
     "name": "stdout",
     "output_type": "stream",
     "text": [
      "[]"
     ]
    }
   ],
   "source": [
    "unique_list"
   ]
  },
  {
   "cell_type": "markdown",
   "id": "6e6a8924",
   "metadata": {},
   "source": [
    "#### Now we are going to aggregate the data based on hourly drop count per locationID.\n",
    "We will change the timestamp to this format `\"yyyy-MM-dd HH:00\"` to be able to group the trips hourly"
   ]
  },
  {
   "cell_type": "code",
   "execution_count": 101,
   "id": "7542f2eb",
   "metadata": {},
   "outputs": [
    {
     "data": {
      "application/vnd.jupyter.widget-view+json": {
       "model_id": "",
       "version_major": 2,
       "version_minor": 0
      },
      "text/plain": [
       "FloatProgress(value=0.0, bar_style='info', description='Progress:', layout=Layout(height='25px', width='50%'),…"
      ]
     },
     "metadata": {},
     "output_type": "display_data"
    }
   ],
   "source": [
    "Drop_df=df_new_final.withColumn(\"Drop_datetime_hourly\", date_format(col(\"tpep_dropoff_datetime\").cast(\"timestamp\"), \"yyyy-MM-dd HH:00\"))"
   ]
  },
  {
   "cell_type": "code",
   "execution_count": 102,
   "id": "e0246ea2",
   "metadata": {},
   "outputs": [
    {
     "data": {
      "application/vnd.jupyter.widget-view+json": {
       "model_id": "",
       "version_major": 2,
       "version_minor": 0
      },
      "text/plain": [
       "FloatProgress(value=0.0, bar_style='info', description='Progress:', layout=Layout(height='25px', width='50%'),…"
      ]
     },
     "metadata": {},
     "output_type": "display_data"
    }
   ],
   "source": [
    "# Grouping and aggregating the dropped trips\n",
    "drop_aggregated = Drop_df.groupby(['Drop_datetime_hourly','DOLocationID']).agg({'Trip_count':'count'})\\\n",
    ".withColumnRenamed(\"count(Trip_count)\", \"Drop_Trips_count\")"
   ]
  },
  {
   "cell_type": "code",
   "execution_count": 103,
   "id": "40f6f3a4",
   "metadata": {},
   "outputs": [
    {
     "data": {
      "application/vnd.jupyter.widget-view+json": {
       "model_id": "",
       "version_major": 2,
       "version_minor": 0
      },
      "text/plain": [
       "FloatProgress(value=0.0, bar_style='info', description='Progress:', layout=Layout(height='25px', width='50%'),…"
      ]
     },
     "metadata": {},
     "output_type": "display_data"
    },
    {
     "name": "stdout",
     "output_type": "stream",
     "text": [
      "+--------------------+------------+----------------+\n",
      "|Drop_datetime_hourly|DOLocationID|Drop_Trips_count|\n",
      "+--------------------+------------+----------------+\n",
      "|    2022-01-01 03:00|         225|              17|\n",
      "|    2022-01-01 03:00|         144|              24|\n",
      "|    2022-01-01 03:00|         192|               1|\n",
      "|    2022-01-01 06:00|         249|               5|\n",
      "|    2022-01-01 15:00|         164|              86|\n",
      "|    2022-01-03 05:00|         170|              12|\n",
      "|    2022-01-03 12:00|         189|               4|\n",
      "|    2022-01-04 21:00|         140|              55|\n",
      "|    2022-01-05 12:00|         142|             128|\n",
      "|    2022-01-05 14:00|         210|               2|\n",
      "|    2022-01-07 01:00|          74|               9|\n",
      "|    2022-01-08 16:00|          49|               5|\n",
      "|    2022-01-08 22:00|          93|               1|\n",
      "|    2022-01-09 06:00|         237|              11|\n",
      "|    2022-01-09 16:00|         254|               1|\n",
      "|    2022-01-09 20:00|          33|              15|\n",
      "|    2022-01-09 20:00|          30|               1|\n",
      "|    2022-01-10 04:00|         263|               3|\n",
      "|    2022-01-10 09:00|          48|              73|\n",
      "|    2022-01-10 15:00|          14|               4|\n",
      "+--------------------+------------+----------------+\n",
      "only showing top 20 rows"
     ]
    }
   ],
   "source": [
    "drop_aggregated.show()"
   ]
  },
  {
   "cell_type": "code",
   "execution_count": 106,
   "id": "898122ba",
   "metadata": {},
   "outputs": [
    {
     "data": {
      "application/vnd.jupyter.widget-view+json": {
       "model_id": "",
       "version_major": 2,
       "version_minor": 0
      },
      "text/plain": [
       "FloatProgress(value=0.0, bar_style='info', description='Progress:', layout=Layout(height='25px', width='50%'),…"
      ]
     },
     "metadata": {},
     "output_type": "display_data"
    },
    {
     "name": "stdout",
     "output_type": "stream",
     "text": [
      "449482"
     ]
    }
   ],
   "source": [
    "drop_aggregated.count()"
   ]
  },
  {
   "cell_type": "markdown",
   "id": "e902edfa",
   "metadata": {},
   "source": [
    "__Create unique column that contain the timestamp plus the locationID in ID_plus_timestamp so we can join it to Pick_aggregated__\n",
    "\n",
    "Convert the DOLocationID to string type"
   ]
  },
  {
   "cell_type": "code",
   "execution_count": 107,
   "id": "2a15a00a",
   "metadata": {},
   "outputs": [
    {
     "data": {
      "application/vnd.jupyter.widget-view+json": {
       "model_id": "",
       "version_major": 2,
       "version_minor": 0
      },
      "text/plain": [
       "FloatProgress(value=0.0, bar_style='info', description='Progress:', layout=Layout(height='25px', width='50%'),…"
      ]
     },
     "metadata": {},
     "output_type": "display_data"
    }
   ],
   "source": [
    "drop_aggregated=drop_aggregated.withColumn(\"DOLocationID_string\", drop_aggregated[\"DOLocationID\"].cast(StringType()))"
   ]
  },
  {
   "cell_type": "code",
   "execution_count": 108,
   "id": "6f665554",
   "metadata": {},
   "outputs": [
    {
     "data": {
      "application/vnd.jupyter.widget-view+json": {
       "model_id": "",
       "version_major": 2,
       "version_minor": 0
      },
      "text/plain": [
       "FloatProgress(value=0.0, bar_style='info', description='Progress:', layout=Layout(height='25px', width='50%'),…"
      ]
     },
     "metadata": {},
     "output_type": "display_data"
    }
   ],
   "source": [
    "# Create the unique column using `concat_ws`\n",
    "drop_aggregated=drop_aggregated.select(concat_ws('_',drop_aggregated.Drop_datetime_hourly,\n",
    "                                   drop_aggregated.DOLocationID_string).alias(\"UniqueColumn\"),\"Drop_datetime_hourly\",\"Drop_datetime_hourly\",\"DOLocationID\",\"Drop_Trips_count\")"
   ]
  },
  {
   "cell_type": "markdown",
   "id": "d7f58ddd",
   "metadata": {},
   "source": [
    "### Joining Pick_aggregated & drop_aggregated dataframes using the UniqueColumn"
   ]
  },
  {
   "cell_type": "code",
   "execution_count": 109,
   "id": "d06ed74c",
   "metadata": {},
   "outputs": [
    {
     "data": {
      "application/vnd.jupyter.widget-view+json": {
       "model_id": "",
       "version_major": 2,
       "version_minor": 0
      },
      "text/plain": [
       "FloatProgress(value=0.0, bar_style='info', description='Progress:', layout=Layout(height='25px', width='50%'),…"
      ]
     },
     "metadata": {},
     "output_type": "display_data"
    }
   ],
   "source": [
    "final_df=drop_aggregated.join(Pick_aggregated,drop_aggregated.UniqueColumn == Pick_aggregated.UniqueColumn_G,\"right\")"
   ]
  },
  {
   "cell_type": "code",
   "execution_count": 110,
   "id": "6206d0bc",
   "metadata": {},
   "outputs": [
    {
     "data": {
      "application/vnd.jupyter.widget-view+json": {
       "model_id": "",
       "version_major": 2,
       "version_minor": 0
      },
      "text/plain": [
       "FloatProgress(value=0.0, bar_style='info', description='Progress:', layout=Layout(height='25px', width='50%'),…"
      ]
     },
     "metadata": {},
     "output_type": "display_data"
    }
   ],
   "source": [
    "# Filling the null Drop_Trips_count with zero\n",
    "final_df=final_df.na.fill(0,subset=[\"Drop_Trips_count\"])"
   ]
  },
  {
   "cell_type": "markdown",
   "id": "41faeefa",
   "metadata": {},
   "source": [
    "### Now we will just select the columns we  want:\n",
    "\n",
    "`hourly timestamp`, `locationID`, `Pick_Trips_count` and `Drop_Trips_count`"
   ]
  },
  {
   "cell_type": "code",
   "execution_count": 111,
   "id": "0b39687c",
   "metadata": {},
   "outputs": [
    {
     "data": {
      "application/vnd.jupyter.widget-view+json": {
       "model_id": "",
       "version_major": 2,
       "version_minor": 0
      },
      "text/plain": [
       "FloatProgress(value=0.0, bar_style='info', description='Progress:', layout=Layout(height='25px', width='50%'),…"
      ]
     },
     "metadata": {},
     "output_type": "display_data"
    }
   ],
   "source": [
    "final_df=final_df.select(['timestamp','hourly_timestamp','locationID','Trips_count','Drop_Trips_count'])"
   ]
  },
  {
   "cell_type": "code",
   "execution_count": 112,
   "id": "f34dfd7c",
   "metadata": {},
   "outputs": [
    {
     "data": {
      "application/vnd.jupyter.widget-view+json": {
       "model_id": "",
       "version_major": 2,
       "version_minor": 0
      },
      "text/plain": [
       "FloatProgress(value=0.0, bar_style='info', description='Progress:', layout=Layout(height='25px', width='50%'),…"
      ]
     },
     "metadata": {},
     "output_type": "display_data"
    }
   ],
   "source": [
    "final_df=final_df.withColumnRenamed('Trips_count','Pick_Trips_count')"
   ]
  },
  {
   "cell_type": "code",
   "execution_count": 113,
   "id": "36566a70",
   "metadata": {},
   "outputs": [
    {
     "data": {
      "application/vnd.jupyter.widget-view+json": {
       "model_id": "",
       "version_major": 2,
       "version_minor": 0
      },
      "text/plain": [
       "FloatProgress(value=0.0, bar_style='info', description='Progress:', layout=Layout(height='25px', width='50%'),…"
      ]
     },
     "metadata": {},
     "output_type": "display_data"
    },
    {
     "name": "stdout",
     "output_type": "stream",
     "text": [
      "+-------------------+----------------+----------+----------------+----------------+\n",
      "|          timestamp|hourly_timestamp|locationID|Pick_Trips_count|Drop_Trips_count|\n",
      "+-------------------+----------------+----------+----------------+----------------+\n",
      "|2022-01-01 00:00:00|2022-01-01 00:00|       120|               0|               1|\n",
      "|2022-01-01 00:00:00|2022-01-01 00:00|       133|               0|               0|\n",
      "|2022-01-01 00:00:00|2022-01-01 00:00|       137|              59|              65|\n",
      "|2022-01-01 00:00:00|2022-01-01 00:00|       160|               0|               0|\n",
      "|2022-01-01 00:00:00|2022-01-01 00:00|       166|              11|              22|\n",
      "|2022-01-01 00:00:00|2022-01-01 00:00|       178|               0|               1|\n",
      "|2022-01-01 00:00:00|2022-01-01 00:00|       179|               0|               8|\n",
      "|2022-01-01 00:00:00|2022-01-01 00:00|       186|              37|              33|\n",
      "|2022-01-01 00:00:00|2022-01-01 00:00|       249|             159|              65|\n",
      "|2022-01-01 00:00:00|2022-01-01 00:00|        46|               0|               0|\n",
      "|2022-01-01 00:00:00|2022-01-01 00:00|        58|               0|               0|\n",
      "|2022-01-01 01:00:00|2022-01-01 01:00|       122|               0|               0|\n",
      "|2022-01-01 01:00:00|2022-01-01 01:00|       156|               0|               0|\n",
      "|2022-01-01 01:00:00|2022-01-01 01:00|       173|               0|               1|\n",
      "|2022-01-01 01:00:00|2022-01-01 01:00|       177|               0|               2|\n",
      "|2022-01-01 01:00:00|2022-01-01 01:00|       181|               9|              18|\n",
      "|2022-01-01 01:00:00|2022-01-01 01:00|       225|               0|               6|\n",
      "|2022-01-01 01:00:00|2022-01-01 01:00|        40|               4|               6|\n",
      "|2022-01-01 01:00:00|2022-01-01 01:00|        68|             129|             130|\n",
      "|2022-01-01 01:00:00|2022-01-01 01:00|        83|               0|               2|\n",
      "+-------------------+----------------+----------+----------------+----------------+\n",
      "only showing top 20 rows"
     ]
    }
   ],
   "source": [
    "final_df.show()"
   ]
  },
  {
   "cell_type": "markdown",
   "id": "4b08ec10",
   "metadata": {},
   "source": [
    "# Feature Engineering\n",
    "\n",
    "Now the dataframe is ready for modeling, final step is just to create some features such as month, day, year, hour and dayofweek\n"
   ]
  },
  {
   "cell_type": "code",
   "execution_count": 114,
   "id": "f42df5cd",
   "metadata": {},
   "outputs": [
    {
     "data": {
      "application/vnd.jupyter.widget-view+json": {
       "model_id": "",
       "version_major": 2,
       "version_minor": 0
      },
      "text/plain": [
       "FloatProgress(value=0.0, bar_style='info', description='Progress:', layout=Layout(height='25px', width='50%'),…"
      ]
     },
     "metadata": {},
     "output_type": "display_data"
    }
   ],
   "source": [
    "# Create Year column\n",
    "final_df=final_df.withColumn('Year',year(final_df['timestamp']))"
   ]
  },
  {
   "cell_type": "code",
   "execution_count": 115,
   "id": "7b8c6324",
   "metadata": {},
   "outputs": [
    {
     "data": {
      "application/vnd.jupyter.widget-view+json": {
       "model_id": "",
       "version_major": 2,
       "version_minor": 0
      },
      "text/plain": [
       "FloatProgress(value=0.0, bar_style='info', description='Progress:', layout=Layout(height='25px', width='50%'),…"
      ]
     },
     "metadata": {},
     "output_type": "display_data"
    }
   ],
   "source": [
    "# Create Month column\n",
    "final_df=final_df.withColumn('Month',month(final_df['timestamp']))"
   ]
  },
  {
   "cell_type": "code",
   "execution_count": 116,
   "id": "5c807de9",
   "metadata": {},
   "outputs": [
    {
     "data": {
      "application/vnd.jupyter.widget-view+json": {
       "model_id": "",
       "version_major": 2,
       "version_minor": 0
      },
      "text/plain": [
       "FloatProgress(value=0.0, bar_style='info', description='Progress:', layout=Layout(height='25px', width='50%'),…"
      ]
     },
     "metadata": {},
     "output_type": "display_data"
    }
   ],
   "source": [
    "# create day of month column\n",
    "final_df=final_df.withColumn('DayOfMonth',dayofmonth(final_df['timestamp']))"
   ]
  },
  {
   "cell_type": "code",
   "execution_count": 117,
   "id": "c9ffda17",
   "metadata": {},
   "outputs": [
    {
     "data": {
      "application/vnd.jupyter.widget-view+json": {
       "model_id": "",
       "version_major": 2,
       "version_minor": 0
      },
      "text/plain": [
       "FloatProgress(value=0.0, bar_style='info', description='Progress:', layout=Layout(height='25px', width='50%'),…"
      ]
     },
     "metadata": {},
     "output_type": "display_data"
    }
   ],
   "source": [
    "# Create hour column\n",
    "final_df=final_df.withColumn('Hour',hour(final_df['timestamp']))"
   ]
  },
  {
   "cell_type": "code",
   "execution_count": 118,
   "id": "e8149959",
   "metadata": {},
   "outputs": [
    {
     "data": {
      "application/vnd.jupyter.widget-view+json": {
       "model_id": "",
       "version_major": 2,
       "version_minor": 0
      },
      "text/plain": [
       "FloatProgress(value=0.0, bar_style='info', description='Progress:', layout=Layout(height='25px', width='50%'),…"
      ]
     },
     "metadata": {},
     "output_type": "display_data"
    }
   ],
   "source": [
    "# Create Day of week column\n",
    "final_df=final_df.withColumn(\"dayofweek\", dayofweek(col(\"timestamp\")))"
   ]
  },
  {
   "cell_type": "code",
   "execution_count": 119,
   "id": "e295d52c",
   "metadata": {},
   "outputs": [
    {
     "data": {
      "application/vnd.jupyter.widget-view+json": {
       "model_id": "",
       "version_major": 2,
       "version_minor": 0
      },
      "text/plain": [
       "FloatProgress(value=0.0, bar_style='info', description='Progress:', layout=Layout(height='25px', width='50%'),…"
      ]
     },
     "metadata": {},
     "output_type": "display_data"
    },
    {
     "name": "stdout",
     "output_type": "stream",
     "text": [
      "+-------------------+----------------+----------+----------------+----------------+----+-----+----------+----+---------+\n",
      "|          timestamp|hourly_timestamp|locationID|Pick_Trips_count|Drop_Trips_count|Year|Month|DayOfMonth|Hour|dayofweek|\n",
      "+-------------------+----------------+----------+----------------+----------------+----+-----+----------+----+---------+\n",
      "|2022-01-01 00:00:00|2022-01-01 00:00|       120|               0|               1|2022|    1|         1|   0|        7|\n",
      "|2022-01-01 00:00:00|2022-01-01 00:00|       133|               0|               0|2022|    1|         1|   0|        7|\n",
      "|2022-01-01 00:00:00|2022-01-01 00:00|       137|              59|              65|2022|    1|         1|   0|        7|\n",
      "|2022-01-01 00:00:00|2022-01-01 00:00|       160|               0|               0|2022|    1|         1|   0|        7|\n",
      "|2022-01-01 00:00:00|2022-01-01 00:00|       166|              11|              22|2022|    1|         1|   0|        7|\n",
      "|2022-01-01 00:00:00|2022-01-01 00:00|       178|               0|               1|2022|    1|         1|   0|        7|\n",
      "|2022-01-01 00:00:00|2022-01-01 00:00|       179|               0|               8|2022|    1|         1|   0|        7|\n",
      "|2022-01-01 00:00:00|2022-01-01 00:00|       186|              37|              33|2022|    1|         1|   0|        7|\n",
      "|2022-01-01 00:00:00|2022-01-01 00:00|       249|             159|              65|2022|    1|         1|   0|        7|\n",
      "|2022-01-01 00:00:00|2022-01-01 00:00|        46|               0|               0|2022|    1|         1|   0|        7|\n",
      "|2022-01-01 00:00:00|2022-01-01 00:00|        58|               0|               0|2022|    1|         1|   0|        7|\n",
      "|2022-01-01 01:00:00|2022-01-01 01:00|       122|               0|               0|2022|    1|         1|   1|        7|\n",
      "|2022-01-01 01:00:00|2022-01-01 01:00|       156|               0|               0|2022|    1|         1|   1|        7|\n",
      "|2022-01-01 01:00:00|2022-01-01 01:00|       173|               0|               1|2022|    1|         1|   1|        7|\n",
      "|2022-01-01 01:00:00|2022-01-01 01:00|       177|               0|               2|2022|    1|         1|   1|        7|\n",
      "|2022-01-01 01:00:00|2022-01-01 01:00|       181|               9|              18|2022|    1|         1|   1|        7|\n",
      "|2022-01-01 01:00:00|2022-01-01 01:00|       225|               0|               6|2022|    1|         1|   1|        7|\n",
      "|2022-01-01 01:00:00|2022-01-01 01:00|        40|               4|               6|2022|    1|         1|   1|        7|\n",
      "|2022-01-01 01:00:00|2022-01-01 01:00|        68|             129|             130|2022|    1|         1|   1|        7|\n",
      "|2022-01-01 01:00:00|2022-01-01 01:00|        83|               0|               2|2022|    1|         1|   1|        7|\n",
      "+-------------------+----------------+----------+----------------+----------------+----+-----+----------+----+---------+\n",
      "only showing top 20 rows"
     ]
    }
   ],
   "source": [
    "final_df.show()"
   ]
  },
  {
   "cell_type": "code",
   "execution_count": 120,
   "id": "7cf03156",
   "metadata": {},
   "outputs": [
    {
     "data": {
      "application/vnd.jupyter.widget-view+json": {
       "model_id": "",
       "version_major": 2,
       "version_minor": 0
      },
      "text/plain": [
       "FloatProgress(value=0.0, bar_style='info', description='Progress:', layout=Layout(height='25px', width='50%'),…"
      ]
     },
     "metadata": {},
     "output_type": "display_data"
    },
    {
     "name": "stdout",
     "output_type": "stream",
     "text": [
      "751680"
     ]
    }
   ],
   "source": [
    "final_df.count()"
   ]
  },
  {
   "cell_type": "markdown",
   "id": "47329b28",
   "metadata": {},
   "source": [
    "### Save the final dataframe as parquet file in S3\n",
    "\n",
    "__Now we will save this spark dataframe to S3 bucket inside `EMR-project folder`__"
   ]
  },
  {
   "cell_type": "code",
   "execution_count": 121,
   "id": "f3773bef",
   "metadata": {},
   "outputs": [
    {
     "data": {
      "application/vnd.jupyter.widget-view+json": {
       "model_id": "",
       "version_major": 2,
       "version_minor": 0
      },
      "text/plain": [
       "FloatProgress(value=0.0, bar_style='info', description='Progress:', layout=Layout(height='25px', width='50%'),…"
      ]
     },
     "metadata": {},
     "output_type": "display_data"
    }
   ],
   "source": [
    "final_df.coalesce(1).write.parquet(\"s3://taxi-project-thesis/EMR-project/final_2022\")"
   ]
  },
  {
   "cell_type": "code",
   "execution_count": 122,
   "id": "62958bd3",
   "metadata": {},
   "outputs": [
    {
     "data": {
      "application/vnd.jupyter.widget-view+json": {
       "model_id": "",
       "version_major": 2,
       "version_minor": 0
      },
      "text/plain": [
       "FloatProgress(value=0.0, bar_style='info', description='Progress:', layout=Layout(height='25px', width='50%'),…"
      ]
     },
     "metadata": {},
     "output_type": "display_data"
    }
   ],
   "source": [
    "### Load the final dataframe from S3\n",
    "df_taxi=spark.read.parquet(\"s3://taxi-project-thesis/EMR-project/final_2022/part-00000-61fc92be-6c6d-48fa-8f41-be9b0951fc17-c000.snappy.parquet\")"
   ]
  },
  {
   "cell_type": "code",
   "execution_count": 123,
   "id": "318b684c",
   "metadata": {},
   "outputs": [
    {
     "data": {
      "application/vnd.jupyter.widget-view+json": {
       "model_id": "",
       "version_major": 2,
       "version_minor": 0
      },
      "text/plain": [
       "FloatProgress(value=0.0, bar_style='info', description='Progress:', layout=Layout(height='25px', width='50%'),…"
      ]
     },
     "metadata": {},
     "output_type": "display_data"
    },
    {
     "name": "stdout",
     "output_type": "stream",
     "text": [
      "+-------------------+----------------+----------+----------------+----------------+----+-----+----------+----+---------+\n",
      "|          timestamp|hourly_timestamp|locationID|Pick_Trips_count|Drop_Trips_count|Year|Month|DayOfMonth|Hour|dayofweek|\n",
      "+-------------------+----------------+----------+----------------+----------------+----+-----+----------+----+---------+\n",
      "|2022-01-01 00:00:00|2022-01-01 00:00|       120|               0|               1|2022|    1|         1|   0|        7|\n",
      "|2022-01-01 00:00:00|2022-01-01 00:00|       133|               0|               0|2022|    1|         1|   0|        7|\n",
      "|2022-01-01 00:00:00|2022-01-01 00:00|       137|              59|              65|2022|    1|         1|   0|        7|\n",
      "|2022-01-01 00:00:00|2022-01-01 00:00|       160|               0|               0|2022|    1|         1|   0|        7|\n",
      "|2022-01-01 00:00:00|2022-01-01 00:00|       166|              11|              22|2022|    1|         1|   0|        7|\n",
      "+-------------------+----------------+----------+----------------+----------------+----+-----+----------+----+---------+\n",
      "only showing top 5 rows"
     ]
    }
   ],
   "source": [
    "df_taxi.show(5)"
   ]
  },
  {
   "cell_type": "code",
   "execution_count": 124,
   "id": "03c104a8",
   "metadata": {},
   "outputs": [
    {
     "data": {
      "application/vnd.jupyter.widget-view+json": {
       "model_id": "",
       "version_major": 2,
       "version_minor": 0
      },
      "text/plain": [
       "FloatProgress(value=0.0, bar_style='info', description='Progress:', layout=Layout(height='25px', width='50%'),…"
      ]
     },
     "metadata": {},
     "output_type": "display_data"
    },
    {
     "name": "stdout",
     "output_type": "stream",
     "text": [
      "751680"
     ]
    }
   ],
   "source": [
    "df_taxi.count()"
   ]
  },
  {
   "cell_type": "markdown",
   "id": "40a92f8b",
   "metadata": {},
   "source": [
    "DONE !"
   ]
  },
  {
   "cell_type": "code",
   "execution_count": null,
   "id": "ba32ea2e",
   "metadata": {},
   "outputs": [],
   "source": []
  }
 ],
 "metadata": {
  "kernelspec": {
   "display_name": "Python 3 (ipykernel)",
   "language": "python",
   "name": "python3"
  },
  "language_info": {
   "codemirror_mode": {
    "name": "ipython",
    "version": 3
   },
   "file_extension": ".py",
   "mimetype": "text/x-python",
   "name": "python",
   "nbconvert_exporter": "python",
   "pygments_lexer": "ipython3",
   "version": "3.9.7"
  }
 },
 "nbformat": 4,
 "nbformat_minor": 5
}
