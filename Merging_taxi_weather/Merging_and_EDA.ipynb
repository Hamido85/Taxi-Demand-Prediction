{
 "cells": [
  {
   "cell_type": "code",
   "execution_count": 2,
   "id": "c8a72f12",
   "metadata": {},
   "outputs": [],
   "source": [
    "import pandas as pd\n",
    "import numpy as np\n",
    "import datetime\n",
    "import seaborn as sns\n",
    "import matplotlib.pyplot as plt\n",
    "import squarify\n",
    "import holidays\n",
    "import geopandas as gpd"
   ]
  },
  {
   "cell_type": "markdown",
   "id": "14ee6e7c",
   "metadata": {},
   "source": [
    "# In this Notebook we will do with the following:\n",
    "\n",
    "- Merge the Taxi Data with `NY_taxi_zones`. (The NY_taxi_zones csv file contain description about the Location ID Borough and Zone)\n",
    "\n",
    "- Merge the Taxi Data with `Weather dataframe`. ( weather information for New York City - Data taken from Visual Crossing.com)\n",
    "\n",
    "- Merge the Taxi Data with `Holiday Dataframe`. ( New York holidays information)\n",
    "\n",
    "- perform exploratory data analysis\n",
    "\n"
   ]
  },
  {
   "cell_type": "markdown",
   "id": "5924ae50",
   "metadata": {},
   "source": [
    "## 1- Load the taxi data\n",
    "\n",
    "__We will load the hourly aggregated taxi data we got from Spark preprocessing stage__\n",
    "\n",
    "Note all the 3 parquet files are in `all_together` folder, we will read them combined"
   ]
  },
  {
   "cell_type": "code",
   "execution_count": 3,
   "id": "92ed295f",
   "metadata": {},
   "outputs": [],
   "source": [
    "files_directory=r\"C:\\Users\\agssh\\Desktop\\simple_project\\Thesis files\\all_together\""
   ]
  },
  {
   "cell_type": "code",
   "execution_count": 4,
   "id": "f0bd1af2",
   "metadata": {},
   "outputs": [],
   "source": [
    "df=pd.read_parquet(files_directory,engine='auto')"
   ]
  },
  {
   "cell_type": "code",
   "execution_count": 5,
   "id": "3c8dbc0a",
   "metadata": {},
   "outputs": [
    {
     "data": {
      "text/html": [
       "<div>\n",
       "<style scoped>\n",
       "    .dataframe tbody tr th:only-of-type {\n",
       "        vertical-align: middle;\n",
       "    }\n",
       "\n",
       "    .dataframe tbody tr th {\n",
       "        vertical-align: top;\n",
       "    }\n",
       "\n",
       "    .dataframe thead th {\n",
       "        text-align: right;\n",
       "    }\n",
       "</style>\n",
       "<table border=\"1\" class=\"dataframe\">\n",
       "  <thead>\n",
       "    <tr style=\"text-align: right;\">\n",
       "      <th></th>\n",
       "      <th>timestamp</th>\n",
       "      <th>hourly_timestamp</th>\n",
       "      <th>locationID</th>\n",
       "      <th>Pick_Trips_count</th>\n",
       "      <th>Drop_Trips_count</th>\n",
       "      <th>Year</th>\n",
       "      <th>Month</th>\n",
       "      <th>DayOfMonth</th>\n",
       "      <th>Hour</th>\n",
       "      <th>dayofweek</th>\n",
       "    </tr>\n",
       "  </thead>\n",
       "  <tbody>\n",
       "    <tr>\n",
       "      <th>0</th>\n",
       "      <td>2022-01-01</td>\n",
       "      <td>2022-01-01 00:00</td>\n",
       "      <td>120</td>\n",
       "      <td>0</td>\n",
       "      <td>1</td>\n",
       "      <td>2022</td>\n",
       "      <td>1</td>\n",
       "      <td>1</td>\n",
       "      <td>0</td>\n",
       "      <td>7</td>\n",
       "    </tr>\n",
       "    <tr>\n",
       "      <th>1</th>\n",
       "      <td>2022-01-01</td>\n",
       "      <td>2022-01-01 00:00</td>\n",
       "      <td>133</td>\n",
       "      <td>0</td>\n",
       "      <td>0</td>\n",
       "      <td>2022</td>\n",
       "      <td>1</td>\n",
       "      <td>1</td>\n",
       "      <td>0</td>\n",
       "      <td>7</td>\n",
       "    </tr>\n",
       "    <tr>\n",
       "      <th>2</th>\n",
       "      <td>2022-01-01</td>\n",
       "      <td>2022-01-01 00:00</td>\n",
       "      <td>137</td>\n",
       "      <td>59</td>\n",
       "      <td>65</td>\n",
       "      <td>2022</td>\n",
       "      <td>1</td>\n",
       "      <td>1</td>\n",
       "      <td>0</td>\n",
       "      <td>7</td>\n",
       "    </tr>\n",
       "    <tr>\n",
       "      <th>3</th>\n",
       "      <td>2022-01-01</td>\n",
       "      <td>2022-01-01 00:00</td>\n",
       "      <td>160</td>\n",
       "      <td>0</td>\n",
       "      <td>0</td>\n",
       "      <td>2022</td>\n",
       "      <td>1</td>\n",
       "      <td>1</td>\n",
       "      <td>0</td>\n",
       "      <td>7</td>\n",
       "    </tr>\n",
       "    <tr>\n",
       "      <th>4</th>\n",
       "      <td>2022-01-01</td>\n",
       "      <td>2022-01-01 00:00</td>\n",
       "      <td>166</td>\n",
       "      <td>11</td>\n",
       "      <td>22</td>\n",
       "      <td>2022</td>\n",
       "      <td>1</td>\n",
       "      <td>1</td>\n",
       "      <td>0</td>\n",
       "      <td>7</td>\n",
       "    </tr>\n",
       "  </tbody>\n",
       "</table>\n",
       "</div>"
      ],
      "text/plain": [
       "   timestamp  hourly_timestamp  locationID  Pick_Trips_count  \\\n",
       "0 2022-01-01  2022-01-01 00:00         120                 0   \n",
       "1 2022-01-01  2022-01-01 00:00         133                 0   \n",
       "2 2022-01-01  2022-01-01 00:00         137                59   \n",
       "3 2022-01-01  2022-01-01 00:00         160                 0   \n",
       "4 2022-01-01  2022-01-01 00:00         166                11   \n",
       "\n",
       "   Drop_Trips_count  Year  Month  DayOfMonth  Hour  dayofweek  \n",
       "0                 1  2022      1           1     0          7  \n",
       "1                 0  2022      1           1     0          7  \n",
       "2                65  2022      1           1     0          7  \n",
       "3                 0  2022      1           1     0          7  \n",
       "4                22  2022      1           1     0          7  "
      ]
     },
     "execution_count": 5,
     "metadata": {},
     "output_type": "execute_result"
    }
   ],
   "source": [
    "df.head()"
   ]
  },
  {
   "cell_type": "code",
   "execution_count": 6,
   "id": "cdbaabc9",
   "metadata": {},
   "outputs": [],
   "source": [
    "# Sort the dataframe based on timestamp\n",
    "df.sort_values(by=['timestamp', 'locationID'], ascending = [True, False], inplace=True)"
   ]
  },
  {
   "cell_type": "code",
   "execution_count": 7,
   "id": "62b64de6",
   "metadata": {},
   "outputs": [],
   "source": [
    "df = df.reset_index(drop=True)"
   ]
  },
  {
   "cell_type": "code",
   "execution_count": 8,
   "id": "f14eb92e",
   "metadata": {},
   "outputs": [],
   "source": [
    "df.drop(['hourly_timestamp'],axis=1, inplace=True)"
   ]
  },
  {
   "cell_type": "code",
   "execution_count": 9,
   "id": "634e8a71",
   "metadata": {},
   "outputs": [
    {
     "data": {
      "text/html": [
       "<div>\n",
       "<style scoped>\n",
       "    .dataframe tbody tr th:only-of-type {\n",
       "        vertical-align: middle;\n",
       "    }\n",
       "\n",
       "    .dataframe tbody tr th {\n",
       "        vertical-align: top;\n",
       "    }\n",
       "\n",
       "    .dataframe thead th {\n",
       "        text-align: right;\n",
       "    }\n",
       "</style>\n",
       "<table border=\"1\" class=\"dataframe\">\n",
       "  <thead>\n",
       "    <tr style=\"text-align: right;\">\n",
       "      <th></th>\n",
       "      <th>timestamp</th>\n",
       "      <th>locationID</th>\n",
       "      <th>Pick_Trips_count</th>\n",
       "      <th>Drop_Trips_count</th>\n",
       "      <th>Year</th>\n",
       "      <th>Month</th>\n",
       "      <th>DayOfMonth</th>\n",
       "      <th>Hour</th>\n",
       "      <th>dayofweek</th>\n",
       "    </tr>\n",
       "  </thead>\n",
       "  <tbody>\n",
       "    <tr>\n",
       "      <th>0</th>\n",
       "      <td>2020-01-01</td>\n",
       "      <td>265</td>\n",
       "      <td>12</td>\n",
       "      <td>36</td>\n",
       "      <td>2020</td>\n",
       "      <td>1</td>\n",
       "      <td>1</td>\n",
       "      <td>0</td>\n",
       "      <td>4</td>\n",
       "    </tr>\n",
       "    <tr>\n",
       "      <th>1</th>\n",
       "      <td>2020-01-01</td>\n",
       "      <td>264</td>\n",
       "      <td>73</td>\n",
       "      <td>44</td>\n",
       "      <td>2020</td>\n",
       "      <td>1</td>\n",
       "      <td>1</td>\n",
       "      <td>0</td>\n",
       "      <td>4</td>\n",
       "    </tr>\n",
       "    <tr>\n",
       "      <th>2</th>\n",
       "      <td>2020-01-01</td>\n",
       "      <td>263</td>\n",
       "      <td>390</td>\n",
       "      <td>301</td>\n",
       "      <td>2020</td>\n",
       "      <td>1</td>\n",
       "      <td>1</td>\n",
       "      <td>0</td>\n",
       "      <td>4</td>\n",
       "    </tr>\n",
       "    <tr>\n",
       "      <th>3</th>\n",
       "      <td>2020-01-01</td>\n",
       "      <td>262</td>\n",
       "      <td>149</td>\n",
       "      <td>236</td>\n",
       "      <td>2020</td>\n",
       "      <td>1</td>\n",
       "      <td>1</td>\n",
       "      <td>0</td>\n",
       "      <td>4</td>\n",
       "    </tr>\n",
       "    <tr>\n",
       "      <th>4</th>\n",
       "      <td>2020-01-01</td>\n",
       "      <td>261</td>\n",
       "      <td>51</td>\n",
       "      <td>62</td>\n",
       "      <td>2020</td>\n",
       "      <td>1</td>\n",
       "      <td>1</td>\n",
       "      <td>0</td>\n",
       "      <td>4</td>\n",
       "    </tr>\n",
       "  </tbody>\n",
       "</table>\n",
       "</div>"
      ],
      "text/plain": [
       "   timestamp  locationID  Pick_Trips_count  Drop_Trips_count  Year  Month  \\\n",
       "0 2020-01-01         265                12                36  2020      1   \n",
       "1 2020-01-01         264                73                44  2020      1   \n",
       "2 2020-01-01         263               390               301  2020      1   \n",
       "3 2020-01-01         262               149               236  2020      1   \n",
       "4 2020-01-01         261                51                62  2020      1   \n",
       "\n",
       "   DayOfMonth  Hour  dayofweek  \n",
       "0           1     0          4  \n",
       "1           1     0          4  \n",
       "2           1     0          4  \n",
       "3           1     0          4  \n",
       "4           1     0          4  "
      ]
     },
     "execution_count": 9,
     "metadata": {},
     "output_type": "execute_result"
    }
   ],
   "source": [
    "df.head()"
   ]
  },
  {
   "cell_type": "code",
   "execution_count": 10,
   "id": "661e3af9",
   "metadata": {},
   "outputs": [],
   "source": [
    "#rename location ID\n",
    "df.rename(columns = {'locationID':'LocationID'}, inplace = True)"
   ]
  },
  {
   "cell_type": "code",
   "execution_count": 11,
   "id": "3811519a",
   "metadata": {},
   "outputs": [
    {
     "data": {
      "text/plain": [
       "timestamp           5348208\n",
       "LocationID          5348208\n",
       "Pick_Trips_count    5348208\n",
       "Drop_Trips_count    5348208\n",
       "Year                5348208\n",
       "Month               5348208\n",
       "DayOfMonth          5348208\n",
       "Hour                5348208\n",
       "dayofweek           5348208\n",
       "dtype: int64"
      ]
     },
     "execution_count": 11,
     "metadata": {},
     "output_type": "execute_result"
    }
   ],
   "source": [
    "df.count()"
   ]
  },
  {
   "cell_type": "code",
   "execution_count": 12,
   "id": "26cccabf",
   "metadata": {},
   "outputs": [
    {
     "data": {
      "text/plain": [
       "5348208"
      ]
     },
     "execution_count": 12,
     "metadata": {},
     "output_type": "execute_result"
    }
   ],
   "source": [
    "len(df)"
   ]
  },
  {
   "cell_type": "markdown",
   "id": "8609ac3b",
   "metadata": {},
   "source": [
    "## 2- Get Zone Name and attach to Taxi data\n",
    "In order to get the zone name, we will use `NY_taxi_zones` csv file and join it with taxi data"
   ]
  },
  {
   "cell_type": "markdown",
   "id": "70cccd62",
   "metadata": {},
   "source": [
    "__Now we will Load the `NY_taxi_zones` csv file to join it with df__"
   ]
  },
  {
   "cell_type": "code",
   "execution_count": 13,
   "id": "54a49035",
   "metadata": {},
   "outputs": [],
   "source": [
    "# 1. Import Location and Borough columns form NY TAXI ZONES dataset\n",
    "dfzones = pd.read_csv('NY_taxi_zones.csv', sep=',',usecols=['LocationID', 'Borough', 'Zone'])"
   ]
  },
  {
   "cell_type": "code",
   "execution_count": 14,
   "id": "a123644a",
   "metadata": {},
   "outputs": [
    {
     "data": {
      "text/html": [
       "<div>\n",
       "<style scoped>\n",
       "    .dataframe tbody tr th:only-of-type {\n",
       "        vertical-align: middle;\n",
       "    }\n",
       "\n",
       "    .dataframe tbody tr th {\n",
       "        vertical-align: top;\n",
       "    }\n",
       "\n",
       "    .dataframe thead th {\n",
       "        text-align: right;\n",
       "    }\n",
       "</style>\n",
       "<table border=\"1\" class=\"dataframe\">\n",
       "  <thead>\n",
       "    <tr style=\"text-align: right;\">\n",
       "      <th></th>\n",
       "      <th>LocationID</th>\n",
       "      <th>Borough</th>\n",
       "      <th>Zone</th>\n",
       "    </tr>\n",
       "  </thead>\n",
       "  <tbody>\n",
       "    <tr>\n",
       "      <th>0</th>\n",
       "      <td>1</td>\n",
       "      <td>EWR</td>\n",
       "      <td>Newark Airport</td>\n",
       "    </tr>\n",
       "    <tr>\n",
       "      <th>1</th>\n",
       "      <td>2</td>\n",
       "      <td>Queens</td>\n",
       "      <td>Jamaica Bay</td>\n",
       "    </tr>\n",
       "    <tr>\n",
       "      <th>2</th>\n",
       "      <td>3</td>\n",
       "      <td>Bronx</td>\n",
       "      <td>Allerton/Pelham Gardens</td>\n",
       "    </tr>\n",
       "    <tr>\n",
       "      <th>3</th>\n",
       "      <td>4</td>\n",
       "      <td>Manhattan</td>\n",
       "      <td>Alphabet City</td>\n",
       "    </tr>\n",
       "    <tr>\n",
       "      <th>4</th>\n",
       "      <td>5</td>\n",
       "      <td>Staten Island</td>\n",
       "      <td>Arden Heights</td>\n",
       "    </tr>\n",
       "  </tbody>\n",
       "</table>\n",
       "</div>"
      ],
      "text/plain": [
       "   LocationID        Borough                     Zone\n",
       "0           1            EWR           Newark Airport\n",
       "1           2         Queens              Jamaica Bay\n",
       "2           3          Bronx  Allerton/Pelham Gardens\n",
       "3           4      Manhattan            Alphabet City\n",
       "4           5  Staten Island            Arden Heights"
      ]
     },
     "execution_count": 14,
     "metadata": {},
     "output_type": "execute_result"
    }
   ],
   "source": [
    "dfzones.head()"
   ]
  },
  {
   "cell_type": "code",
   "execution_count": 15,
   "id": "3957fab1",
   "metadata": {},
   "outputs": [],
   "source": [
    "df =df.merge(dfzones, on='LocationID', how='left')"
   ]
  },
  {
   "cell_type": "markdown",
   "id": "c28c8e01",
   "metadata": {},
   "source": [
    "__Now we will create string column from the timestamp to make it easier to join it with the weather dataframe__"
   ]
  },
  {
   "cell_type": "code",
   "execution_count": 16,
   "id": "011f4105",
   "metadata": {},
   "outputs": [],
   "source": [
    "df['String_datetime'] = df['timestamp'].dt.strftime('%Y-%m-%d%-H%M')"
   ]
  },
  {
   "cell_type": "code",
   "execution_count": 17,
   "id": "f7033791",
   "metadata": {},
   "outputs": [
    {
     "data": {
      "text/html": [
       "<div>\n",
       "<style scoped>\n",
       "    .dataframe tbody tr th:only-of-type {\n",
       "        vertical-align: middle;\n",
       "    }\n",
       "\n",
       "    .dataframe tbody tr th {\n",
       "        vertical-align: top;\n",
       "    }\n",
       "\n",
       "    .dataframe thead th {\n",
       "        text-align: right;\n",
       "    }\n",
       "</style>\n",
       "<table border=\"1\" class=\"dataframe\">\n",
       "  <thead>\n",
       "    <tr style=\"text-align: right;\">\n",
       "      <th></th>\n",
       "      <th>timestamp</th>\n",
       "      <th>LocationID</th>\n",
       "      <th>Pick_Trips_count</th>\n",
       "      <th>Drop_Trips_count</th>\n",
       "      <th>Year</th>\n",
       "      <th>Month</th>\n",
       "      <th>DayOfMonth</th>\n",
       "      <th>Hour</th>\n",
       "      <th>dayofweek</th>\n",
       "      <th>Borough</th>\n",
       "      <th>Zone</th>\n",
       "      <th>String_datetime</th>\n",
       "    </tr>\n",
       "  </thead>\n",
       "  <tbody>\n",
       "    <tr>\n",
       "      <th>0</th>\n",
       "      <td>2020-01-01</td>\n",
       "      <td>265</td>\n",
       "      <td>12</td>\n",
       "      <td>36</td>\n",
       "      <td>2020</td>\n",
       "      <td>1</td>\n",
       "      <td>1</td>\n",
       "      <td>0</td>\n",
       "      <td>4</td>\n",
       "      <td>Unknown</td>\n",
       "      <td>NaN</td>\n",
       "      <td>2020-01-01 00:00:00</td>\n",
       "    </tr>\n",
       "    <tr>\n",
       "      <th>1</th>\n",
       "      <td>2020-01-01</td>\n",
       "      <td>264</td>\n",
       "      <td>73</td>\n",
       "      <td>44</td>\n",
       "      <td>2020</td>\n",
       "      <td>1</td>\n",
       "      <td>1</td>\n",
       "      <td>0</td>\n",
       "      <td>4</td>\n",
       "      <td>Unknown</td>\n",
       "      <td>NV</td>\n",
       "      <td>2020-01-01 00:00:00</td>\n",
       "    </tr>\n",
       "    <tr>\n",
       "      <th>2</th>\n",
       "      <td>2020-01-01</td>\n",
       "      <td>263</td>\n",
       "      <td>390</td>\n",
       "      <td>301</td>\n",
       "      <td>2020</td>\n",
       "      <td>1</td>\n",
       "      <td>1</td>\n",
       "      <td>0</td>\n",
       "      <td>4</td>\n",
       "      <td>Manhattan</td>\n",
       "      <td>Yorkville West</td>\n",
       "      <td>2020-01-01 00:00:00</td>\n",
       "    </tr>\n",
       "    <tr>\n",
       "      <th>3</th>\n",
       "      <td>2020-01-01</td>\n",
       "      <td>262</td>\n",
       "      <td>149</td>\n",
       "      <td>236</td>\n",
       "      <td>2020</td>\n",
       "      <td>1</td>\n",
       "      <td>1</td>\n",
       "      <td>0</td>\n",
       "      <td>4</td>\n",
       "      <td>Manhattan</td>\n",
       "      <td>Yorkville East</td>\n",
       "      <td>2020-01-01 00:00:00</td>\n",
       "    </tr>\n",
       "    <tr>\n",
       "      <th>4</th>\n",
       "      <td>2020-01-01</td>\n",
       "      <td>261</td>\n",
       "      <td>51</td>\n",
       "      <td>62</td>\n",
       "      <td>2020</td>\n",
       "      <td>1</td>\n",
       "      <td>1</td>\n",
       "      <td>0</td>\n",
       "      <td>4</td>\n",
       "      <td>Manhattan</td>\n",
       "      <td>World Trade Center</td>\n",
       "      <td>2020-01-01 00:00:00</td>\n",
       "    </tr>\n",
       "  </tbody>\n",
       "</table>\n",
       "</div>"
      ],
      "text/plain": [
       "   timestamp  LocationID  Pick_Trips_count  Drop_Trips_count  Year  Month  \\\n",
       "0 2020-01-01         265                12                36  2020      1   \n",
       "1 2020-01-01         264                73                44  2020      1   \n",
       "2 2020-01-01         263               390               301  2020      1   \n",
       "3 2020-01-01         262               149               236  2020      1   \n",
       "4 2020-01-01         261                51                62  2020      1   \n",
       "\n",
       "   DayOfMonth  Hour  dayofweek    Borough                Zone  \\\n",
       "0           1     0          4    Unknown                 NaN   \n",
       "1           1     0          4    Unknown                  NV   \n",
       "2           1     0          4  Manhattan      Yorkville West   \n",
       "3           1     0          4  Manhattan      Yorkville East   \n",
       "4           1     0          4  Manhattan  World Trade Center   \n",
       "\n",
       "       String_datetime  \n",
       "0  2020-01-01 00:00:00  \n",
       "1  2020-01-01 00:00:00  \n",
       "2  2020-01-01 00:00:00  \n",
       "3  2020-01-01 00:00:00  \n",
       "4  2020-01-01 00:00:00  "
      ]
     },
     "execution_count": 17,
     "metadata": {},
     "output_type": "execute_result"
    }
   ],
   "source": [
    "df.head()"
   ]
  },
  {
   "cell_type": "code",
   "execution_count": 18,
   "id": "1013fb2e",
   "metadata": {},
   "outputs": [
    {
     "name": "stdout",
     "output_type": "stream",
     "text": [
      "<class 'pandas.core.frame.DataFrame'>\n",
      "Int64Index: 5348208 entries, 0 to 5348207\n",
      "Data columns (total 12 columns):\n",
      " #   Column            Dtype         \n",
      "---  ------            -----         \n",
      " 0   timestamp         datetime64[ns]\n",
      " 1   LocationID        int32         \n",
      " 2   Pick_Trips_count  int64         \n",
      " 3   Drop_Trips_count  int64         \n",
      " 4   Year              int32         \n",
      " 5   Month             int32         \n",
      " 6   DayOfMonth        int32         \n",
      " 7   Hour              int32         \n",
      " 8   dayofweek         int32         \n",
      " 9   Borough           object        \n",
      " 10  Zone              object        \n",
      " 11  String_datetime   object        \n",
      "dtypes: datetime64[ns](1), int32(6), int64(2), object(3)\n",
      "memory usage: 408.0+ MB\n"
     ]
    }
   ],
   "source": [
    "df.info()"
   ]
  },
  {
   "cell_type": "markdown",
   "id": "6a2a1a89",
   "metadata": {},
   "source": [
    "## 3- Join taxi data with weather data\n",
    "\n",
    "The weather dataframe used here from Visual Crossing website for New York City."
   ]
  },
  {
   "cell_type": "markdown",
   "id": "28a3c8b1",
   "metadata": {},
   "source": [
    "#### Loading the weather data"
   ]
  },
  {
   "cell_type": "markdown",
   "id": "15220e56",
   "metadata": {},
   "source": [
    "We will choose the following weather informations: `temp`,`humidity`,`precip`,`snow`,`windspeed`"
   ]
  },
  {
   "cell_type": "code",
   "execution_count": 19,
   "id": "fe4fa796",
   "metadata": {},
   "outputs": [],
   "source": [
    "df_temp=pd.read_csv('new york_weather.csv',usecols=['datetime','temp','humidity','precip','snow','windspeed'])"
   ]
  },
  {
   "cell_type": "code",
   "execution_count": 20,
   "id": "7a2733b4",
   "metadata": {},
   "outputs": [
    {
     "data": {
      "text/html": [
       "<div>\n",
       "<style scoped>\n",
       "    .dataframe tbody tr th:only-of-type {\n",
       "        vertical-align: middle;\n",
       "    }\n",
       "\n",
       "    .dataframe tbody tr th {\n",
       "        vertical-align: top;\n",
       "    }\n",
       "\n",
       "    .dataframe thead th {\n",
       "        text-align: right;\n",
       "    }\n",
       "</style>\n",
       "<table border=\"1\" class=\"dataframe\">\n",
       "  <thead>\n",
       "    <tr style=\"text-align: right;\">\n",
       "      <th></th>\n",
       "      <th>datetime</th>\n",
       "      <th>temp</th>\n",
       "      <th>humidity</th>\n",
       "      <th>precip</th>\n",
       "      <th>snow</th>\n",
       "      <th>windspeed</th>\n",
       "    </tr>\n",
       "  </thead>\n",
       "  <tbody>\n",
       "    <tr>\n",
       "      <th>0</th>\n",
       "      <td>2020-01-01T00:00:00</td>\n",
       "      <td>5.1</td>\n",
       "      <td>58.68</td>\n",
       "      <td>0.0</td>\n",
       "      <td>0.0</td>\n",
       "      <td>19.6</td>\n",
       "    </tr>\n",
       "    <tr>\n",
       "      <th>1</th>\n",
       "      <td>2020-01-01T01:00:00</td>\n",
       "      <td>4.4</td>\n",
       "      <td>57.83</td>\n",
       "      <td>0.0</td>\n",
       "      <td>0.0</td>\n",
       "      <td>16.6</td>\n",
       "    </tr>\n",
       "    <tr>\n",
       "      <th>2</th>\n",
       "      <td>2020-01-01T02:00:00</td>\n",
       "      <td>4.0</td>\n",
       "      <td>61.40</td>\n",
       "      <td>0.0</td>\n",
       "      <td>0.0</td>\n",
       "      <td>17.8</td>\n",
       "    </tr>\n",
       "    <tr>\n",
       "      <th>3</th>\n",
       "      <td>2020-01-01T03:00:00</td>\n",
       "      <td>4.0</td>\n",
       "      <td>59.42</td>\n",
       "      <td>0.0</td>\n",
       "      <td>0.0</td>\n",
       "      <td>22.2</td>\n",
       "    </tr>\n",
       "    <tr>\n",
       "      <th>4</th>\n",
       "      <td>2020-01-01T04:00:00</td>\n",
       "      <td>3.9</td>\n",
       "      <td>55.18</td>\n",
       "      <td>0.0</td>\n",
       "      <td>0.0</td>\n",
       "      <td>20.1</td>\n",
       "    </tr>\n",
       "  </tbody>\n",
       "</table>\n",
       "</div>"
      ],
      "text/plain": [
       "              datetime  temp  humidity  precip  snow  windspeed\n",
       "0  2020-01-01T00:00:00   5.1     58.68     0.0   0.0       19.6\n",
       "1  2020-01-01T01:00:00   4.4     57.83     0.0   0.0       16.6\n",
       "2  2020-01-01T02:00:00   4.0     61.40     0.0   0.0       17.8\n",
       "3  2020-01-01T03:00:00   4.0     59.42     0.0   0.0       22.2\n",
       "4  2020-01-01T04:00:00   3.9     55.18     0.0   0.0       20.1"
      ]
     },
     "execution_count": 20,
     "metadata": {},
     "output_type": "execute_result"
    }
   ],
   "source": [
    "df_temp.head()"
   ]
  },
  {
   "cell_type": "code",
   "execution_count": 21,
   "id": "185ac90d",
   "metadata": {},
   "outputs": [],
   "source": [
    "# converting the datetime to datetime64[ns]\n",
    "df_temp['datetime']= df_temp['datetime'].astype('datetime64[ns]')"
   ]
  },
  {
   "cell_type": "code",
   "execution_count": 22,
   "id": "f53eccdc",
   "metadata": {},
   "outputs": [],
   "source": [
    "# Creating String_datetime to join it with taxi data String_datetime column\n",
    "df_temp['String_datetime'] = df_temp['datetime'].dt.strftime('%Y-%m-%d%-H%M')"
   ]
  },
  {
   "cell_type": "markdown",
   "id": "6d85d7a8",
   "metadata": {},
   "source": [
    "__Since the taxi data contain trips from 1-Jan-2020 until 30-Apr-2022, then we will choose the same period from the weather dataframe__"
   ]
  },
  {
   "cell_type": "code",
   "execution_count": 23,
   "id": "3761583d",
   "metadata": {},
   "outputs": [],
   "source": [
    "df_temp=df_temp[(df_temp['datetime'] < '2022-05-01')]"
   ]
  },
  {
   "cell_type": "code",
   "execution_count": 24,
   "id": "ca48158f",
   "metadata": {},
   "outputs": [
    {
     "data": {
      "text/html": [
       "<div>\n",
       "<style scoped>\n",
       "    .dataframe tbody tr th:only-of-type {\n",
       "        vertical-align: middle;\n",
       "    }\n",
       "\n",
       "    .dataframe tbody tr th {\n",
       "        vertical-align: top;\n",
       "    }\n",
       "\n",
       "    .dataframe thead th {\n",
       "        text-align: right;\n",
       "    }\n",
       "</style>\n",
       "<table border=\"1\" class=\"dataframe\">\n",
       "  <thead>\n",
       "    <tr style=\"text-align: right;\">\n",
       "      <th></th>\n",
       "      <th>datetime</th>\n",
       "      <th>temp</th>\n",
       "      <th>humidity</th>\n",
       "      <th>precip</th>\n",
       "      <th>snow</th>\n",
       "      <th>windspeed</th>\n",
       "      <th>String_datetime</th>\n",
       "    </tr>\n",
       "  </thead>\n",
       "  <tbody>\n",
       "    <tr>\n",
       "      <th>0</th>\n",
       "      <td>2020-01-01 00:00:00</td>\n",
       "      <td>5.1</td>\n",
       "      <td>58.68</td>\n",
       "      <td>0.0</td>\n",
       "      <td>0.0</td>\n",
       "      <td>19.6</td>\n",
       "      <td>2020-01-01 00:00:00</td>\n",
       "    </tr>\n",
       "    <tr>\n",
       "      <th>1</th>\n",
       "      <td>2020-01-01 01:00:00</td>\n",
       "      <td>4.4</td>\n",
       "      <td>57.83</td>\n",
       "      <td>0.0</td>\n",
       "      <td>0.0</td>\n",
       "      <td>16.6</td>\n",
       "      <td>2020-01-01 01:00:00</td>\n",
       "    </tr>\n",
       "    <tr>\n",
       "      <th>2</th>\n",
       "      <td>2020-01-01 02:00:00</td>\n",
       "      <td>4.0</td>\n",
       "      <td>61.40</td>\n",
       "      <td>0.0</td>\n",
       "      <td>0.0</td>\n",
       "      <td>17.8</td>\n",
       "      <td>2020-01-01 02:00:00</td>\n",
       "    </tr>\n",
       "    <tr>\n",
       "      <th>3</th>\n",
       "      <td>2020-01-01 03:00:00</td>\n",
       "      <td>4.0</td>\n",
       "      <td>59.42</td>\n",
       "      <td>0.0</td>\n",
       "      <td>0.0</td>\n",
       "      <td>22.2</td>\n",
       "      <td>2020-01-01 03:00:00</td>\n",
       "    </tr>\n",
       "    <tr>\n",
       "      <th>4</th>\n",
       "      <td>2020-01-01 04:00:00</td>\n",
       "      <td>3.9</td>\n",
       "      <td>55.18</td>\n",
       "      <td>0.0</td>\n",
       "      <td>0.0</td>\n",
       "      <td>20.1</td>\n",
       "      <td>2020-01-01 04:00:00</td>\n",
       "    </tr>\n",
       "    <tr>\n",
       "      <th>...</th>\n",
       "      <td>...</td>\n",
       "      <td>...</td>\n",
       "      <td>...</td>\n",
       "      <td>...</td>\n",
       "      <td>...</td>\n",
       "      <td>...</td>\n",
       "      <td>...</td>\n",
       "    </tr>\n",
       "    <tr>\n",
       "      <th>20419</th>\n",
       "      <td>2022-04-30 19:00:00</td>\n",
       "      <td>16.3</td>\n",
       "      <td>24.38</td>\n",
       "      <td>0.0</td>\n",
       "      <td>0.0</td>\n",
       "      <td>9.4</td>\n",
       "      <td>2022-04-30 19:00:00</td>\n",
       "    </tr>\n",
       "    <tr>\n",
       "      <th>20420</th>\n",
       "      <td>2022-04-30 20:00:00</td>\n",
       "      <td>14.6</td>\n",
       "      <td>24.35</td>\n",
       "      <td>0.0</td>\n",
       "      <td>0.0</td>\n",
       "      <td>8.3</td>\n",
       "      <td>2022-04-30 20:00:00</td>\n",
       "    </tr>\n",
       "    <tr>\n",
       "      <th>20421</th>\n",
       "      <td>2022-04-30 21:00:00</td>\n",
       "      <td>14.1</td>\n",
       "      <td>25.06</td>\n",
       "      <td>0.0</td>\n",
       "      <td>0.0</td>\n",
       "      <td>3.4</td>\n",
       "      <td>2022-04-30 21:00:00</td>\n",
       "    </tr>\n",
       "    <tr>\n",
       "      <th>20422</th>\n",
       "      <td>2022-04-30 22:00:00</td>\n",
       "      <td>13.8</td>\n",
       "      <td>27.55</td>\n",
       "      <td>0.0</td>\n",
       "      <td>0.0</td>\n",
       "      <td>4.1</td>\n",
       "      <td>2022-04-30 22:00:00</td>\n",
       "    </tr>\n",
       "    <tr>\n",
       "      <th>20423</th>\n",
       "      <td>2022-04-30 23:00:00</td>\n",
       "      <td>13.0</td>\n",
       "      <td>30.87</td>\n",
       "      <td>0.0</td>\n",
       "      <td>0.0</td>\n",
       "      <td>2.1</td>\n",
       "      <td>2022-04-30 23:00:00</td>\n",
       "    </tr>\n",
       "  </tbody>\n",
       "</table>\n",
       "<p>20424 rows × 7 columns</p>\n",
       "</div>"
      ],
      "text/plain": [
       "                 datetime  temp  humidity  precip  snow  windspeed  \\\n",
       "0     2020-01-01 00:00:00   5.1     58.68     0.0   0.0       19.6   \n",
       "1     2020-01-01 01:00:00   4.4     57.83     0.0   0.0       16.6   \n",
       "2     2020-01-01 02:00:00   4.0     61.40     0.0   0.0       17.8   \n",
       "3     2020-01-01 03:00:00   4.0     59.42     0.0   0.0       22.2   \n",
       "4     2020-01-01 04:00:00   3.9     55.18     0.0   0.0       20.1   \n",
       "...                   ...   ...       ...     ...   ...        ...   \n",
       "20419 2022-04-30 19:00:00  16.3     24.38     0.0   0.0        9.4   \n",
       "20420 2022-04-30 20:00:00  14.6     24.35     0.0   0.0        8.3   \n",
       "20421 2022-04-30 21:00:00  14.1     25.06     0.0   0.0        3.4   \n",
       "20422 2022-04-30 22:00:00  13.8     27.55     0.0   0.0        4.1   \n",
       "20423 2022-04-30 23:00:00  13.0     30.87     0.0   0.0        2.1   \n",
       "\n",
       "           String_datetime  \n",
       "0      2020-01-01 00:00:00  \n",
       "1      2020-01-01 01:00:00  \n",
       "2      2020-01-01 02:00:00  \n",
       "3      2020-01-01 03:00:00  \n",
       "4      2020-01-01 04:00:00  \n",
       "...                    ...  \n",
       "20419  2022-04-30 19:00:00  \n",
       "20420  2022-04-30 20:00:00  \n",
       "20421  2022-04-30 21:00:00  \n",
       "20422  2022-04-30 22:00:00  \n",
       "20423  2022-04-30 23:00:00  \n",
       "\n",
       "[20424 rows x 7 columns]"
      ]
     },
     "execution_count": 24,
     "metadata": {},
     "output_type": "execute_result"
    }
   ],
   "source": [
    "df_temp"
   ]
  },
  {
   "cell_type": "markdown",
   "id": "3005c791",
   "metadata": {},
   "source": [
    "__Now Merging the taxi dataframe with  weather dataframe__"
   ]
  },
  {
   "cell_type": "code",
   "execution_count": 51,
   "id": "bd202502",
   "metadata": {},
   "outputs": [],
   "source": [
    "df_final=df.merge(df_temp, on='String_datetime', how='left')"
   ]
  },
  {
   "cell_type": "code",
   "execution_count": 52,
   "id": "b3d0d888",
   "metadata": {},
   "outputs": [
    {
     "data": {
      "text/html": [
       "<div>\n",
       "<style scoped>\n",
       "    .dataframe tbody tr th:only-of-type {\n",
       "        vertical-align: middle;\n",
       "    }\n",
       "\n",
       "    .dataframe tbody tr th {\n",
       "        vertical-align: top;\n",
       "    }\n",
       "\n",
       "    .dataframe thead th {\n",
       "        text-align: right;\n",
       "    }\n",
       "</style>\n",
       "<table border=\"1\" class=\"dataframe\">\n",
       "  <thead>\n",
       "    <tr style=\"text-align: right;\">\n",
       "      <th></th>\n",
       "      <th>timestamp</th>\n",
       "      <th>LocationID</th>\n",
       "      <th>Pick_Trips_count</th>\n",
       "      <th>Drop_Trips_count</th>\n",
       "      <th>Year</th>\n",
       "      <th>Month</th>\n",
       "      <th>DayOfMonth</th>\n",
       "      <th>Hour</th>\n",
       "      <th>dayofweek</th>\n",
       "      <th>Borough</th>\n",
       "      <th>Zone</th>\n",
       "      <th>String_datetime</th>\n",
       "      <th>datetime</th>\n",
       "      <th>temp</th>\n",
       "      <th>humidity</th>\n",
       "      <th>precip</th>\n",
       "      <th>snow</th>\n",
       "      <th>windspeed</th>\n",
       "    </tr>\n",
       "  </thead>\n",
       "  <tbody>\n",
       "    <tr>\n",
       "      <th>0</th>\n",
       "      <td>2020-01-01</td>\n",
       "      <td>265</td>\n",
       "      <td>12</td>\n",
       "      <td>36</td>\n",
       "      <td>2020</td>\n",
       "      <td>1</td>\n",
       "      <td>1</td>\n",
       "      <td>0</td>\n",
       "      <td>4</td>\n",
       "      <td>Unknown</td>\n",
       "      <td>NaN</td>\n",
       "      <td>2020-01-01 00:00:00</td>\n",
       "      <td>2020-01-01</td>\n",
       "      <td>5.1</td>\n",
       "      <td>58.68</td>\n",
       "      <td>0.0</td>\n",
       "      <td>0.0</td>\n",
       "      <td>19.6</td>\n",
       "    </tr>\n",
       "    <tr>\n",
       "      <th>1</th>\n",
       "      <td>2020-01-01</td>\n",
       "      <td>264</td>\n",
       "      <td>73</td>\n",
       "      <td>44</td>\n",
       "      <td>2020</td>\n",
       "      <td>1</td>\n",
       "      <td>1</td>\n",
       "      <td>0</td>\n",
       "      <td>4</td>\n",
       "      <td>Unknown</td>\n",
       "      <td>NV</td>\n",
       "      <td>2020-01-01 00:00:00</td>\n",
       "      <td>2020-01-01</td>\n",
       "      <td>5.1</td>\n",
       "      <td>58.68</td>\n",
       "      <td>0.0</td>\n",
       "      <td>0.0</td>\n",
       "      <td>19.6</td>\n",
       "    </tr>\n",
       "    <tr>\n",
       "      <th>2</th>\n",
       "      <td>2020-01-01</td>\n",
       "      <td>263</td>\n",
       "      <td>390</td>\n",
       "      <td>301</td>\n",
       "      <td>2020</td>\n",
       "      <td>1</td>\n",
       "      <td>1</td>\n",
       "      <td>0</td>\n",
       "      <td>4</td>\n",
       "      <td>Manhattan</td>\n",
       "      <td>Yorkville West</td>\n",
       "      <td>2020-01-01 00:00:00</td>\n",
       "      <td>2020-01-01</td>\n",
       "      <td>5.1</td>\n",
       "      <td>58.68</td>\n",
       "      <td>0.0</td>\n",
       "      <td>0.0</td>\n",
       "      <td>19.6</td>\n",
       "    </tr>\n",
       "    <tr>\n",
       "      <th>3</th>\n",
       "      <td>2020-01-01</td>\n",
       "      <td>262</td>\n",
       "      <td>149</td>\n",
       "      <td>236</td>\n",
       "      <td>2020</td>\n",
       "      <td>1</td>\n",
       "      <td>1</td>\n",
       "      <td>0</td>\n",
       "      <td>4</td>\n",
       "      <td>Manhattan</td>\n",
       "      <td>Yorkville East</td>\n",
       "      <td>2020-01-01 00:00:00</td>\n",
       "      <td>2020-01-01</td>\n",
       "      <td>5.1</td>\n",
       "      <td>58.68</td>\n",
       "      <td>0.0</td>\n",
       "      <td>0.0</td>\n",
       "      <td>19.6</td>\n",
       "    </tr>\n",
       "    <tr>\n",
       "      <th>4</th>\n",
       "      <td>2020-01-01</td>\n",
       "      <td>261</td>\n",
       "      <td>51</td>\n",
       "      <td>62</td>\n",
       "      <td>2020</td>\n",
       "      <td>1</td>\n",
       "      <td>1</td>\n",
       "      <td>0</td>\n",
       "      <td>4</td>\n",
       "      <td>Manhattan</td>\n",
       "      <td>World Trade Center</td>\n",
       "      <td>2020-01-01 00:00:00</td>\n",
       "      <td>2020-01-01</td>\n",
       "      <td>5.1</td>\n",
       "      <td>58.68</td>\n",
       "      <td>0.0</td>\n",
       "      <td>0.0</td>\n",
       "      <td>19.6</td>\n",
       "    </tr>\n",
       "  </tbody>\n",
       "</table>\n",
       "</div>"
      ],
      "text/plain": [
       "   timestamp  LocationID  Pick_Trips_count  Drop_Trips_count  Year  Month  \\\n",
       "0 2020-01-01         265                12                36  2020      1   \n",
       "1 2020-01-01         264                73                44  2020      1   \n",
       "2 2020-01-01         263               390               301  2020      1   \n",
       "3 2020-01-01         262               149               236  2020      1   \n",
       "4 2020-01-01         261                51                62  2020      1   \n",
       "\n",
       "   DayOfMonth  Hour  dayofweek    Borough                Zone  \\\n",
       "0           1     0          4    Unknown                 NaN   \n",
       "1           1     0          4    Unknown                  NV   \n",
       "2           1     0          4  Manhattan      Yorkville West   \n",
       "3           1     0          4  Manhattan      Yorkville East   \n",
       "4           1     0          4  Manhattan  World Trade Center   \n",
       "\n",
       "       String_datetime   datetime  temp  humidity  precip  snow  windspeed  \n",
       "0  2020-01-01 00:00:00 2020-01-01   5.1     58.68     0.0   0.0       19.6  \n",
       "1  2020-01-01 00:00:00 2020-01-01   5.1     58.68     0.0   0.0       19.6  \n",
       "2  2020-01-01 00:00:00 2020-01-01   5.1     58.68     0.0   0.0       19.6  \n",
       "3  2020-01-01 00:00:00 2020-01-01   5.1     58.68     0.0   0.0       19.6  \n",
       "4  2020-01-01 00:00:00 2020-01-01   5.1     58.68     0.0   0.0       19.6  "
      ]
     },
     "execution_count": 52,
     "metadata": {},
     "output_type": "execute_result"
    }
   ],
   "source": [
    "df_final.head()"
   ]
  },
  {
   "cell_type": "code",
   "execution_count": 53,
   "id": "8feea1a5",
   "metadata": {},
   "outputs": [
    {
     "data": {
      "text/plain": [
       "5348208"
      ]
     },
     "execution_count": 53,
     "metadata": {},
     "output_type": "execute_result"
    }
   ],
   "source": [
    "len(df_final)"
   ]
  },
  {
   "cell_type": "code",
   "execution_count": 54,
   "id": "310c84a2",
   "metadata": {},
   "outputs": [
    {
     "data": {
      "text/plain": [
       "timestamp               0\n",
       "LocationID              0\n",
       "Pick_Trips_count        0\n",
       "Drop_Trips_count        0\n",
       "Year                    0\n",
       "Month                   0\n",
       "DayOfMonth              0\n",
       "Hour                    0\n",
       "dayofweek               0\n",
       "Borough                 0\n",
       "Zone                20424\n",
       "String_datetime         0\n",
       "datetime                0\n",
       "temp                    0\n",
       "humidity                0\n",
       "precip                  0\n",
       "snow                    0\n",
       "windspeed               0\n",
       "dtype: int64"
      ]
     },
     "execution_count": 54,
     "metadata": {},
     "output_type": "execute_result"
    }
   ],
   "source": [
    "# Checking if there are null values\n",
    "df_final.isnull().sum()"
   ]
  },
  {
   "cell_type": "markdown",
   "id": "d3254594",
   "metadata": {},
   "source": [
    "Zone have null values since in the original `NY_taxi_zones.csv` we have some zones names are missing."
   ]
  },
  {
   "cell_type": "markdown",
   "id": "5ed88e2c",
   "metadata": {},
   "source": [
    "__We dont need `String_datetime`,`datetime` since its dublicated so we will drop them__"
   ]
  },
  {
   "cell_type": "code",
   "execution_count": 55,
   "id": "3127a5f6",
   "metadata": {},
   "outputs": [],
   "source": [
    "drop_columns=['String_datetime','datetime']"
   ]
  },
  {
   "cell_type": "code",
   "execution_count": 56,
   "id": "cdefedc1",
   "metadata": {},
   "outputs": [],
   "source": [
    "df_final.drop(drop_columns, inplace=True, axis=1)"
   ]
  },
  {
   "cell_type": "markdown",
   "id": "18bb604a",
   "metadata": {},
   "source": [
    "## 4- Join taxi data with holidays\n",
    "\n",
    "The holiday package will be used in python to create the  holiday dataframe that will contain the holiday name and date.\n",
    "To merge holiday dataframe with taxi dataframe, we will need to create a new column in taxi dataframe that only contains the date since the taxi dataframe contain hourly timestamp"
   ]
  },
  {
   "cell_type": "code",
   "execution_count": 57,
   "id": "35af1203",
   "metadata": {},
   "outputs": [],
   "source": [
    "# Creating date string column in taxi dataframe in this format DDMMYYYY\n",
    "df_final['date']=df_final['timestamp'].apply(lambda x: x.strftime('%d%m%Y'))"
   ]
  },
  {
   "cell_type": "code",
   "execution_count": 58,
   "id": "ae584c8a",
   "metadata": {},
   "outputs": [
    {
     "data": {
      "text/html": [
       "<div>\n",
       "<style scoped>\n",
       "    .dataframe tbody tr th:only-of-type {\n",
       "        vertical-align: middle;\n",
       "    }\n",
       "\n",
       "    .dataframe tbody tr th {\n",
       "        vertical-align: top;\n",
       "    }\n",
       "\n",
       "    .dataframe thead th {\n",
       "        text-align: right;\n",
       "    }\n",
       "</style>\n",
       "<table border=\"1\" class=\"dataframe\">\n",
       "  <thead>\n",
       "    <tr style=\"text-align: right;\">\n",
       "      <th></th>\n",
       "      <th>timestamp</th>\n",
       "      <th>LocationID</th>\n",
       "      <th>Pick_Trips_count</th>\n",
       "      <th>Drop_Trips_count</th>\n",
       "      <th>Year</th>\n",
       "      <th>Month</th>\n",
       "      <th>DayOfMonth</th>\n",
       "      <th>Hour</th>\n",
       "      <th>dayofweek</th>\n",
       "      <th>Borough</th>\n",
       "      <th>Zone</th>\n",
       "      <th>temp</th>\n",
       "      <th>humidity</th>\n",
       "      <th>precip</th>\n",
       "      <th>snow</th>\n",
       "      <th>windspeed</th>\n",
       "      <th>date</th>\n",
       "    </tr>\n",
       "  </thead>\n",
       "  <tbody>\n",
       "    <tr>\n",
       "      <th>0</th>\n",
       "      <td>2020-01-01</td>\n",
       "      <td>265</td>\n",
       "      <td>12</td>\n",
       "      <td>36</td>\n",
       "      <td>2020</td>\n",
       "      <td>1</td>\n",
       "      <td>1</td>\n",
       "      <td>0</td>\n",
       "      <td>4</td>\n",
       "      <td>Unknown</td>\n",
       "      <td>NaN</td>\n",
       "      <td>5.1</td>\n",
       "      <td>58.68</td>\n",
       "      <td>0.0</td>\n",
       "      <td>0.0</td>\n",
       "      <td>19.6</td>\n",
       "      <td>01012020</td>\n",
       "    </tr>\n",
       "    <tr>\n",
       "      <th>1</th>\n",
       "      <td>2020-01-01</td>\n",
       "      <td>264</td>\n",
       "      <td>73</td>\n",
       "      <td>44</td>\n",
       "      <td>2020</td>\n",
       "      <td>1</td>\n",
       "      <td>1</td>\n",
       "      <td>0</td>\n",
       "      <td>4</td>\n",
       "      <td>Unknown</td>\n",
       "      <td>NV</td>\n",
       "      <td>5.1</td>\n",
       "      <td>58.68</td>\n",
       "      <td>0.0</td>\n",
       "      <td>0.0</td>\n",
       "      <td>19.6</td>\n",
       "      <td>01012020</td>\n",
       "    </tr>\n",
       "    <tr>\n",
       "      <th>2</th>\n",
       "      <td>2020-01-01</td>\n",
       "      <td>263</td>\n",
       "      <td>390</td>\n",
       "      <td>301</td>\n",
       "      <td>2020</td>\n",
       "      <td>1</td>\n",
       "      <td>1</td>\n",
       "      <td>0</td>\n",
       "      <td>4</td>\n",
       "      <td>Manhattan</td>\n",
       "      <td>Yorkville West</td>\n",
       "      <td>5.1</td>\n",
       "      <td>58.68</td>\n",
       "      <td>0.0</td>\n",
       "      <td>0.0</td>\n",
       "      <td>19.6</td>\n",
       "      <td>01012020</td>\n",
       "    </tr>\n",
       "    <tr>\n",
       "      <th>3</th>\n",
       "      <td>2020-01-01</td>\n",
       "      <td>262</td>\n",
       "      <td>149</td>\n",
       "      <td>236</td>\n",
       "      <td>2020</td>\n",
       "      <td>1</td>\n",
       "      <td>1</td>\n",
       "      <td>0</td>\n",
       "      <td>4</td>\n",
       "      <td>Manhattan</td>\n",
       "      <td>Yorkville East</td>\n",
       "      <td>5.1</td>\n",
       "      <td>58.68</td>\n",
       "      <td>0.0</td>\n",
       "      <td>0.0</td>\n",
       "      <td>19.6</td>\n",
       "      <td>01012020</td>\n",
       "    </tr>\n",
       "    <tr>\n",
       "      <th>4</th>\n",
       "      <td>2020-01-01</td>\n",
       "      <td>261</td>\n",
       "      <td>51</td>\n",
       "      <td>62</td>\n",
       "      <td>2020</td>\n",
       "      <td>1</td>\n",
       "      <td>1</td>\n",
       "      <td>0</td>\n",
       "      <td>4</td>\n",
       "      <td>Manhattan</td>\n",
       "      <td>World Trade Center</td>\n",
       "      <td>5.1</td>\n",
       "      <td>58.68</td>\n",
       "      <td>0.0</td>\n",
       "      <td>0.0</td>\n",
       "      <td>19.6</td>\n",
       "      <td>01012020</td>\n",
       "    </tr>\n",
       "  </tbody>\n",
       "</table>\n",
       "</div>"
      ],
      "text/plain": [
       "   timestamp  LocationID  Pick_Trips_count  Drop_Trips_count  Year  Month  \\\n",
       "0 2020-01-01         265                12                36  2020      1   \n",
       "1 2020-01-01         264                73                44  2020      1   \n",
       "2 2020-01-01         263               390               301  2020      1   \n",
       "3 2020-01-01         262               149               236  2020      1   \n",
       "4 2020-01-01         261                51                62  2020      1   \n",
       "\n",
       "   DayOfMonth  Hour  dayofweek    Borough                Zone  temp  humidity  \\\n",
       "0           1     0          4    Unknown                 NaN   5.1     58.68   \n",
       "1           1     0          4    Unknown                  NV   5.1     58.68   \n",
       "2           1     0          4  Manhattan      Yorkville West   5.1     58.68   \n",
       "3           1     0          4  Manhattan      Yorkville East   5.1     58.68   \n",
       "4           1     0          4  Manhattan  World Trade Center   5.1     58.68   \n",
       "\n",
       "   precip  snow  windspeed      date  \n",
       "0     0.0   0.0       19.6  01012020  \n",
       "1     0.0   0.0       19.6  01012020  \n",
       "2     0.0   0.0       19.6  01012020  \n",
       "3     0.0   0.0       19.6  01012020  \n",
       "4     0.0   0.0       19.6  01012020  "
      ]
     },
     "execution_count": 58,
     "metadata": {},
     "output_type": "execute_result"
    }
   ],
   "source": [
    "df_final.head()"
   ]
  },
  {
   "cell_type": "markdown",
   "id": "30aa5733",
   "metadata": {},
   "source": [
    "__Now we will import holiday information for `2020,2021,2022` using holiday package__"
   ]
  },
  {
   "cell_type": "code",
   "execution_count": 59,
   "id": "4de76e04",
   "metadata": {},
   "outputs": [
    {
     "data": {
      "text/html": [
       "<div>\n",
       "<style scoped>\n",
       "    .dataframe tbody tr th:only-of-type {\n",
       "        vertical-align: middle;\n",
       "    }\n",
       "\n",
       "    .dataframe tbody tr th {\n",
       "        vertical-align: top;\n",
       "    }\n",
       "\n",
       "    .dataframe thead th {\n",
       "        text-align: right;\n",
       "    }\n",
       "</style>\n",
       "<table border=\"1\" class=\"dataframe\">\n",
       "  <thead>\n",
       "    <tr style=\"text-align: right;\">\n",
       "      <th></th>\n",
       "      <th>date</th>\n",
       "      <th>holiday</th>\n",
       "    </tr>\n",
       "  </thead>\n",
       "  <tbody>\n",
       "    <tr>\n",
       "      <th>0</th>\n",
       "      <td>2020-01-01</td>\n",
       "      <td>New Year's Day</td>\n",
       "    </tr>\n",
       "    <tr>\n",
       "      <th>1</th>\n",
       "      <td>2020-01-20</td>\n",
       "      <td>Martin Luther King Jr. Day</td>\n",
       "    </tr>\n",
       "    <tr>\n",
       "      <th>2</th>\n",
       "      <td>2020-02-17</td>\n",
       "      <td>Washington's Birthday</td>\n",
       "    </tr>\n",
       "    <tr>\n",
       "      <th>3</th>\n",
       "      <td>2020-05-25</td>\n",
       "      <td>Memorial Day</td>\n",
       "    </tr>\n",
       "    <tr>\n",
       "      <th>4</th>\n",
       "      <td>2020-07-04</td>\n",
       "      <td>Independence Day</td>\n",
       "    </tr>\n",
       "  </tbody>\n",
       "</table>\n",
       "</div>"
      ],
      "text/plain": [
       "         date                     holiday\n",
       "0  2020-01-01              New Year's Day\n",
       "1  2020-01-20  Martin Luther King Jr. Day\n",
       "2  2020-02-17       Washington's Birthday\n",
       "3  2020-05-25                Memorial Day\n",
       "4  2020-07-04            Independence Day"
      ]
     },
     "execution_count": 59,
     "metadata": {},
     "output_type": "execute_result"
    }
   ],
   "source": [
    "# creating holidays dataset based on United states\n",
    "\n",
    "holiday_list = []\n",
    "for holiday in holidays.UnitedStates(years=[2020, 2021,2022]).items():\n",
    "    holiday_list.append(holiday)\n",
    "\n",
    "holidays_df = pd.DataFrame(holiday_list, columns=[\"date\", \"holiday\"])\n",
    "holidays_df.head()"
   ]
  },
  {
   "cell_type": "code",
   "execution_count": 60,
   "id": "39e53bb3",
   "metadata": {},
   "outputs": [],
   "source": [
    "# Creating date string column in taxi dataframe in this format DDMMYYYY\n",
    "holidays_df['date']=holidays_df['date'].apply(lambda x: x.strftime('%d%m%Y'))"
   ]
  },
  {
   "cell_type": "code",
   "execution_count": 61,
   "id": "8b93afb4",
   "metadata": {},
   "outputs": [],
   "source": [
    "# Creating new column contain 1 for the holiday\n",
    "holidays_df['Holiday']=1"
   ]
  },
  {
   "cell_type": "code",
   "execution_count": 62,
   "id": "c727d4ab",
   "metadata": {},
   "outputs": [
    {
     "data": {
      "text/html": [
       "<div>\n",
       "<style scoped>\n",
       "    .dataframe tbody tr th:only-of-type {\n",
       "        vertical-align: middle;\n",
       "    }\n",
       "\n",
       "    .dataframe tbody tr th {\n",
       "        vertical-align: top;\n",
       "    }\n",
       "\n",
       "    .dataframe thead th {\n",
       "        text-align: right;\n",
       "    }\n",
       "</style>\n",
       "<table border=\"1\" class=\"dataframe\">\n",
       "  <thead>\n",
       "    <tr style=\"text-align: right;\">\n",
       "      <th></th>\n",
       "      <th>date</th>\n",
       "      <th>holiday</th>\n",
       "      <th>Holiday</th>\n",
       "    </tr>\n",
       "  </thead>\n",
       "  <tbody>\n",
       "    <tr>\n",
       "      <th>0</th>\n",
       "      <td>01012020</td>\n",
       "      <td>New Year's Day</td>\n",
       "      <td>1</td>\n",
       "    </tr>\n",
       "    <tr>\n",
       "      <th>1</th>\n",
       "      <td>20012020</td>\n",
       "      <td>Martin Luther King Jr. Day</td>\n",
       "      <td>1</td>\n",
       "    </tr>\n",
       "    <tr>\n",
       "      <th>2</th>\n",
       "      <td>17022020</td>\n",
       "      <td>Washington's Birthday</td>\n",
       "      <td>1</td>\n",
       "    </tr>\n",
       "    <tr>\n",
       "      <th>3</th>\n",
       "      <td>25052020</td>\n",
       "      <td>Memorial Day</td>\n",
       "      <td>1</td>\n",
       "    </tr>\n",
       "    <tr>\n",
       "      <th>4</th>\n",
       "      <td>04072020</td>\n",
       "      <td>Independence Day</td>\n",
       "      <td>1</td>\n",
       "    </tr>\n",
       "  </tbody>\n",
       "</table>\n",
       "</div>"
      ],
      "text/plain": [
       "       date                     holiday  Holiday\n",
       "0  01012020              New Year's Day        1\n",
       "1  20012020  Martin Luther King Jr. Day        1\n",
       "2  17022020       Washington's Birthday        1\n",
       "3  25052020                Memorial Day        1\n",
       "4  04072020            Independence Day        1"
      ]
     },
     "execution_count": 62,
     "metadata": {},
     "output_type": "execute_result"
    }
   ],
   "source": [
    "holidays_df.head()"
   ]
  },
  {
   "cell_type": "code",
   "execution_count": 63,
   "id": "0cfc0e95",
   "metadata": {},
   "outputs": [],
   "source": [
    "df_final=df_final.merge(holidays_df, on='date', how='left')"
   ]
  },
  {
   "cell_type": "code",
   "execution_count": 64,
   "id": "273f7727",
   "metadata": {},
   "outputs": [
    {
     "data": {
      "text/plain": [
       "5348208"
      ]
     },
     "execution_count": 64,
     "metadata": {},
     "output_type": "execute_result"
    }
   ],
   "source": [
    "len(df_final)"
   ]
  },
  {
   "cell_type": "code",
   "execution_count": 65,
   "id": "6e962bbf",
   "metadata": {},
   "outputs": [
    {
     "data": {
      "text/plain": [
       "timestamp                 0\n",
       "LocationID                0\n",
       "Pick_Trips_count          0\n",
       "Drop_Trips_count          0\n",
       "Year                      0\n",
       "Month                     0\n",
       "DayOfMonth                0\n",
       "Hour                      0\n",
       "dayofweek                 0\n",
       "Borough                   0\n",
       "Zone                  20424\n",
       "temp                      0\n",
       "humidity                  0\n",
       "precip                    0\n",
       "snow                      0\n",
       "windspeed                 0\n",
       "date                      0\n",
       "holiday             5165928\n",
       "Holiday             5165928\n",
       "dtype: int64"
      ]
     },
     "execution_count": 65,
     "metadata": {},
     "output_type": "execute_result"
    }
   ],
   "source": [
    "df_final.isnull().sum()"
   ]
  },
  {
   "cell_type": "markdown",
   "id": "fc620860",
   "metadata": {},
   "source": [
    "Its logical to have missing values in holidays since not all the days in the year are holidays. we will deal with this missing values later."
   ]
  },
  {
   "cell_type": "markdown",
   "id": "c9fa3e16",
   "metadata": {},
   "source": [
    "__Create Is weekend column__"
   ]
  },
  {
   "cell_type": "code",
   "execution_count": 66,
   "id": "c9af6446",
   "metadata": {},
   "outputs": [],
   "source": [
    "# Create Is weekend column\n",
    "\n",
    "df_final[\"IsWeekend\"] = df_final[\"dayofweek\"] >= 5"
   ]
  },
  {
   "cell_type": "code",
   "execution_count": 67,
   "id": "47576473",
   "metadata": {},
   "outputs": [],
   "source": [
    "df_final['IsWeekend'].replace({True:1,False:0}, inplace=True)"
   ]
  },
  {
   "cell_type": "code",
   "execution_count": 68,
   "id": "5e74b1f0",
   "metadata": {},
   "outputs": [],
   "source": [
    "# we will drop the holiday name and the string date\n",
    "drop_columns=['holiday','date']"
   ]
  },
  {
   "cell_type": "code",
   "execution_count": 69,
   "id": "425f7e86",
   "metadata": {},
   "outputs": [],
   "source": [
    "df_final.drop(drop_columns, inplace=True, axis=1)"
   ]
  },
  {
   "cell_type": "code",
   "execution_count": 70,
   "id": "ef8da57b",
   "metadata": {},
   "outputs": [
    {
     "data": {
      "text/html": [
       "<div>\n",
       "<style scoped>\n",
       "    .dataframe tbody tr th:only-of-type {\n",
       "        vertical-align: middle;\n",
       "    }\n",
       "\n",
       "    .dataframe tbody tr th {\n",
       "        vertical-align: top;\n",
       "    }\n",
       "\n",
       "    .dataframe thead th {\n",
       "        text-align: right;\n",
       "    }\n",
       "</style>\n",
       "<table border=\"1\" class=\"dataframe\">\n",
       "  <thead>\n",
       "    <tr style=\"text-align: right;\">\n",
       "      <th></th>\n",
       "      <th>timestamp</th>\n",
       "      <th>LocationID</th>\n",
       "      <th>Pick_Trips_count</th>\n",
       "      <th>Drop_Trips_count</th>\n",
       "      <th>Year</th>\n",
       "      <th>Month</th>\n",
       "      <th>DayOfMonth</th>\n",
       "      <th>Hour</th>\n",
       "      <th>dayofweek</th>\n",
       "      <th>Borough</th>\n",
       "      <th>Zone</th>\n",
       "      <th>temp</th>\n",
       "      <th>humidity</th>\n",
       "      <th>precip</th>\n",
       "      <th>snow</th>\n",
       "      <th>windspeed</th>\n",
       "      <th>Holiday</th>\n",
       "      <th>IsWeekend</th>\n",
       "    </tr>\n",
       "  </thead>\n",
       "  <tbody>\n",
       "    <tr>\n",
       "      <th>0</th>\n",
       "      <td>2020-01-01</td>\n",
       "      <td>265</td>\n",
       "      <td>12</td>\n",
       "      <td>36</td>\n",
       "      <td>2020</td>\n",
       "      <td>1</td>\n",
       "      <td>1</td>\n",
       "      <td>0</td>\n",
       "      <td>4</td>\n",
       "      <td>Unknown</td>\n",
       "      <td>NaN</td>\n",
       "      <td>5.1</td>\n",
       "      <td>58.68</td>\n",
       "      <td>0.0</td>\n",
       "      <td>0.0</td>\n",
       "      <td>19.6</td>\n",
       "      <td>1.0</td>\n",
       "      <td>0</td>\n",
       "    </tr>\n",
       "    <tr>\n",
       "      <th>1</th>\n",
       "      <td>2020-01-01</td>\n",
       "      <td>264</td>\n",
       "      <td>73</td>\n",
       "      <td>44</td>\n",
       "      <td>2020</td>\n",
       "      <td>1</td>\n",
       "      <td>1</td>\n",
       "      <td>0</td>\n",
       "      <td>4</td>\n",
       "      <td>Unknown</td>\n",
       "      <td>NV</td>\n",
       "      <td>5.1</td>\n",
       "      <td>58.68</td>\n",
       "      <td>0.0</td>\n",
       "      <td>0.0</td>\n",
       "      <td>19.6</td>\n",
       "      <td>1.0</td>\n",
       "      <td>0</td>\n",
       "    </tr>\n",
       "    <tr>\n",
       "      <th>2</th>\n",
       "      <td>2020-01-01</td>\n",
       "      <td>263</td>\n",
       "      <td>390</td>\n",
       "      <td>301</td>\n",
       "      <td>2020</td>\n",
       "      <td>1</td>\n",
       "      <td>1</td>\n",
       "      <td>0</td>\n",
       "      <td>4</td>\n",
       "      <td>Manhattan</td>\n",
       "      <td>Yorkville West</td>\n",
       "      <td>5.1</td>\n",
       "      <td>58.68</td>\n",
       "      <td>0.0</td>\n",
       "      <td>0.0</td>\n",
       "      <td>19.6</td>\n",
       "      <td>1.0</td>\n",
       "      <td>0</td>\n",
       "    </tr>\n",
       "    <tr>\n",
       "      <th>3</th>\n",
       "      <td>2020-01-01</td>\n",
       "      <td>262</td>\n",
       "      <td>149</td>\n",
       "      <td>236</td>\n",
       "      <td>2020</td>\n",
       "      <td>1</td>\n",
       "      <td>1</td>\n",
       "      <td>0</td>\n",
       "      <td>4</td>\n",
       "      <td>Manhattan</td>\n",
       "      <td>Yorkville East</td>\n",
       "      <td>5.1</td>\n",
       "      <td>58.68</td>\n",
       "      <td>0.0</td>\n",
       "      <td>0.0</td>\n",
       "      <td>19.6</td>\n",
       "      <td>1.0</td>\n",
       "      <td>0</td>\n",
       "    </tr>\n",
       "    <tr>\n",
       "      <th>4</th>\n",
       "      <td>2020-01-01</td>\n",
       "      <td>261</td>\n",
       "      <td>51</td>\n",
       "      <td>62</td>\n",
       "      <td>2020</td>\n",
       "      <td>1</td>\n",
       "      <td>1</td>\n",
       "      <td>0</td>\n",
       "      <td>4</td>\n",
       "      <td>Manhattan</td>\n",
       "      <td>World Trade Center</td>\n",
       "      <td>5.1</td>\n",
       "      <td>58.68</td>\n",
       "      <td>0.0</td>\n",
       "      <td>0.0</td>\n",
       "      <td>19.6</td>\n",
       "      <td>1.0</td>\n",
       "      <td>0</td>\n",
       "    </tr>\n",
       "  </tbody>\n",
       "</table>\n",
       "</div>"
      ],
      "text/plain": [
       "   timestamp  LocationID  Pick_Trips_count  Drop_Trips_count  Year  Month  \\\n",
       "0 2020-01-01         265                12                36  2020      1   \n",
       "1 2020-01-01         264                73                44  2020      1   \n",
       "2 2020-01-01         263               390               301  2020      1   \n",
       "3 2020-01-01         262               149               236  2020      1   \n",
       "4 2020-01-01         261                51                62  2020      1   \n",
       "\n",
       "   DayOfMonth  Hour  dayofweek    Borough                Zone  temp  humidity  \\\n",
       "0           1     0          4    Unknown                 NaN   5.1     58.68   \n",
       "1           1     0          4    Unknown                  NV   5.1     58.68   \n",
       "2           1     0          4  Manhattan      Yorkville West   5.1     58.68   \n",
       "3           1     0          4  Manhattan      Yorkville East   5.1     58.68   \n",
       "4           1     0          4  Manhattan  World Trade Center   5.1     58.68   \n",
       "\n",
       "   precip  snow  windspeed  Holiday  IsWeekend  \n",
       "0     0.0   0.0       19.6      1.0          0  \n",
       "1     0.0   0.0       19.6      1.0          0  \n",
       "2     0.0   0.0       19.6      1.0          0  \n",
       "3     0.0   0.0       19.6      1.0          0  \n",
       "4     0.0   0.0       19.6      1.0          0  "
      ]
     },
     "execution_count": 70,
     "metadata": {},
     "output_type": "execute_result"
    }
   ],
   "source": [
    "df_final.head()"
   ]
  },
  {
   "cell_type": "markdown",
   "id": "3a5ef7da",
   "metadata": {},
   "source": [
    "## 5- Exploratory Data Analysis"
   ]
  },
  {
   "cell_type": "markdown",
   "id": "48026d9b",
   "metadata": {},
   "source": [
    "### 5.1 Pick-up trips per borough"
   ]
  },
  {
   "cell_type": "markdown",
   "id": "3c59b4f3",
   "metadata": {},
   "source": [
    "__We want to see which borough have the highest pick-up trips count__"
   ]
  },
  {
   "cell_type": "code",
   "execution_count": 71,
   "id": "04dc394f",
   "metadata": {},
   "outputs": [],
   "source": [
    "pick_trips_by_borough = df_final.groupby(\"Borough\")[\"Pick_Trips_count\"].sum().sort_values(ascending=False)"
   ]
  },
  {
   "cell_type": "code",
   "execution_count": 72,
   "id": "bf06139a",
   "metadata": {},
   "outputs": [
    {
     "data": {
      "text/plain": [
       "Borough\n",
       "Manhattan        61145433\n",
       "Queens            4387143\n",
       "Brooklyn           787787\n",
       "Unknown            740263\n",
       "Bronx              265635\n",
       "Staten Island        7771\n",
       "EWR                  6313\n",
       "Name: Pick_Trips_count, dtype: int64"
      ]
     },
     "execution_count": 72,
     "metadata": {},
     "output_type": "execute_result"
    }
   ],
   "source": [
    "pick_trips_by_borough"
   ]
  },
  {
   "cell_type": "markdown",
   "id": "dac1c065",
   "metadata": {},
   "source": [
    "__The top Borough in percentage__"
   ]
  },
  {
   "cell_type": "code",
   "execution_count": 73,
   "id": "715a9de7",
   "metadata": {},
   "outputs": [],
   "source": [
    "pick_percent_borough = (pick_trips_by_borough * 100 / df_final[\"Pick_Trips_count\"].sum())"
   ]
  },
  {
   "cell_type": "code",
   "execution_count": 74,
   "id": "d508bd69",
   "metadata": {},
   "outputs": [
    {
     "data": {
      "text/plain": [
       "Borough\n",
       "Manhattan        90.800594\n",
       "Queens            6.514880\n",
       "Brooklyn          1.169859\n",
       "Unknown           1.099286\n",
       "Bronx             0.394466\n",
       "Staten Island     0.011540\n",
       "EWR               0.009375\n",
       "Name: Pick_Trips_count, dtype: float64"
      ]
     },
     "execution_count": 74,
     "metadata": {},
     "output_type": "execute_result"
    }
   ],
   "source": [
    "pick_percent_borough"
   ]
  },
  {
   "cell_type": "markdown",
   "id": "53906a7b",
   "metadata": {},
   "source": [
    "__As we can see, 90.8% of the New York taxi trips are originated from Manhattan__"
   ]
  },
  {
   "cell_type": "code",
   "execution_count": 75,
   "id": "9fb2c8cb",
   "metadata": {},
   "outputs": [],
   "source": [
    "pick_count_indices = list(pick_percent_borough.index)"
   ]
  },
  {
   "cell_type": "code",
   "execution_count": 76,
   "id": "cbec117e",
   "metadata": {},
   "outputs": [],
   "source": [
    "#converting it to dataframe\n",
    "pick_percentage_trips=pd.DataFrame({'Borough':pick_count_indices,'Percent':pick_percent_borough.values})"
   ]
  },
  {
   "cell_type": "markdown",
   "id": "60e24218",
   "metadata": {},
   "source": [
    "### 5.2 Drop-off trips per borough"
   ]
  },
  {
   "cell_type": "markdown",
   "id": "5b700b63",
   "metadata": {},
   "source": [
    "__We want to see which borough have the highest drop-off trips count__"
   ]
  },
  {
   "cell_type": "code",
   "execution_count": 77,
   "id": "030087a5",
   "metadata": {},
   "outputs": [],
   "source": [
    "drop_trips_by_borough = df_final.groupby(\"Borough\")[\"Drop_Trips_count\"].sum().sort_values(ascending=False)"
   ]
  },
  {
   "cell_type": "code",
   "execution_count": 78,
   "id": "2909b0dc",
   "metadata": {},
   "outputs": [],
   "source": [
    "Drop_percentage_borough = (drop_trips_by_borough * 100 / df_final[\"Drop_Trips_count\"].sum())"
   ]
  },
  {
   "cell_type": "code",
   "execution_count": 79,
   "id": "cc9bd9b9",
   "metadata": {},
   "outputs": [
    {
     "data": {
      "text/plain": [
       "Borough\n",
       "Manhattan        89.024220\n",
       "Queens            4.773318\n",
       "Brooklyn          4.110249\n",
       "Bronx             1.066167\n",
       "Unknown           0.819606\n",
       "EWR               0.172478\n",
       "Staten Island     0.033961\n",
       "Name: Drop_Trips_count, dtype: float64"
      ]
     },
     "execution_count": 79,
     "metadata": {},
     "output_type": "execute_result"
    }
   ],
   "source": [
    "Drop_percentage_borough"
   ]
  },
  {
   "cell_type": "markdown",
   "id": "30b391ad",
   "metadata": {},
   "source": [
    "__As we can see, 89% of the New York taxi trips are dropped in Manhattan__"
   ]
  },
  {
   "cell_type": "code",
   "execution_count": 80,
   "id": "42397d87",
   "metadata": {},
   "outputs": [],
   "source": [
    "#converting it to dataframe\n",
    "drop_percentage_trips=pd.DataFrame({'Borough':Drop_percentage_borough.index,'Percent':Drop_percentage_borough.values})"
   ]
  },
  {
   "cell_type": "code",
   "execution_count": 85,
   "id": "53e6dece",
   "metadata": {},
   "outputs": [
    {
     "data": {
      "image/png": "[encoded data removed]",
      "text/plain": [
       "<Figure size 1152x720 with 2 Axes>"
      ]
     },
     "metadata": {
      "needs_background": "light"
     },
     "output_type": "display_data"
    }
   ],
   "source": [
    "fig, (ax1,ax2) = plt.subplots(1,2, figsize=(16,10))\n",
    "ax1.set_title(\"pick-up borough trips\")\n",
    "ax1.get_xaxis().set_visible(False)\n",
    "ax1.get_yaxis().set_visible(False)\n",
    "squarify.plot(sizes=pick_percentage_trips['Percent'], label=pick_percentage_trips['Borough'], alpha=.7, ax=ax1)\n",
    "\n",
    "ax2.set_title(\"Drop-off borough trips\")\n",
    "ax2.get_xaxis().set_visible(False)\n",
    "ax2.get_yaxis().set_visible(False)\n",
    "squarify.plot(sizes=drop_percentage_trips['Percent'], label=drop_percentage_trips['Borough'], alpha=.7, ax=ax2)\n",
    "plt.show()"
   ]
  },
  {
   "cell_type": "markdown",
   "id": "a8c1228f",
   "metadata": {},
   "source": [
    "__Based on the previous analysis, I have decided to choose only Manhattan Borough for the modeling part.__ "
   ]
  },
  {
   "cell_type": "code",
   "execution_count": 81,
   "id": "f13f6510",
   "metadata": {},
   "outputs": [],
   "source": [
    "Manhattan=df_final[df_final['Borough']=='Manhattan']"
   ]
  },
  {
   "cell_type": "code",
   "execution_count": 82,
   "id": "15ab9113",
   "metadata": {},
   "outputs": [
    {
     "data": {
      "text/html": [
       "<div>\n",
       "<style scoped>\n",
       "    .dataframe tbody tr th:only-of-type {\n",
       "        vertical-align: middle;\n",
       "    }\n",
       "\n",
       "    .dataframe tbody tr th {\n",
       "        vertical-align: top;\n",
       "    }\n",
       "\n",
       "    .dataframe thead th {\n",
       "        text-align: right;\n",
       "    }\n",
       "</style>\n",
       "<table border=\"1\" class=\"dataframe\">\n",
       "  <thead>\n",
       "    <tr style=\"text-align: right;\">\n",
       "      <th></th>\n",
       "      <th>timestamp</th>\n",
       "      <th>LocationID</th>\n",
       "      <th>Pick_Trips_count</th>\n",
       "      <th>Drop_Trips_count</th>\n",
       "      <th>Year</th>\n",
       "      <th>Month</th>\n",
       "      <th>DayOfMonth</th>\n",
       "      <th>Hour</th>\n",
       "      <th>dayofweek</th>\n",
       "      <th>Borough</th>\n",
       "      <th>Zone</th>\n",
       "      <th>temp</th>\n",
       "      <th>humidity</th>\n",
       "      <th>precip</th>\n",
       "      <th>snow</th>\n",
       "      <th>windspeed</th>\n",
       "      <th>Holiday</th>\n",
       "      <th>IsWeekend</th>\n",
       "    </tr>\n",
       "  </thead>\n",
       "  <tbody>\n",
       "    <tr>\n",
       "      <th>2</th>\n",
       "      <td>2020-01-01</td>\n",
       "      <td>263</td>\n",
       "      <td>390</td>\n",
       "      <td>301</td>\n",
       "      <td>2020</td>\n",
       "      <td>1</td>\n",
       "      <td>1</td>\n",
       "      <td>0</td>\n",
       "      <td>4</td>\n",
       "      <td>Manhattan</td>\n",
       "      <td>Yorkville West</td>\n",
       "      <td>5.1</td>\n",
       "      <td>58.68</td>\n",
       "      <td>0.0</td>\n",
       "      <td>0.0</td>\n",
       "      <td>19.6</td>\n",
       "      <td>1.0</td>\n",
       "      <td>0</td>\n",
       "    </tr>\n",
       "    <tr>\n",
       "      <th>3</th>\n",
       "      <td>2020-01-01</td>\n",
       "      <td>262</td>\n",
       "      <td>149</td>\n",
       "      <td>236</td>\n",
       "      <td>2020</td>\n",
       "      <td>1</td>\n",
       "      <td>1</td>\n",
       "      <td>0</td>\n",
       "      <td>4</td>\n",
       "      <td>Manhattan</td>\n",
       "      <td>Yorkville East</td>\n",
       "      <td>5.1</td>\n",
       "      <td>58.68</td>\n",
       "      <td>0.0</td>\n",
       "      <td>0.0</td>\n",
       "      <td>19.6</td>\n",
       "      <td>1.0</td>\n",
       "      <td>0</td>\n",
       "    </tr>\n",
       "    <tr>\n",
       "      <th>4</th>\n",
       "      <td>2020-01-01</td>\n",
       "      <td>261</td>\n",
       "      <td>51</td>\n",
       "      <td>62</td>\n",
       "      <td>2020</td>\n",
       "      <td>1</td>\n",
       "      <td>1</td>\n",
       "      <td>0</td>\n",
       "      <td>4</td>\n",
       "      <td>Manhattan</td>\n",
       "      <td>World Trade Center</td>\n",
       "      <td>5.1</td>\n",
       "      <td>58.68</td>\n",
       "      <td>0.0</td>\n",
       "      <td>0.0</td>\n",
       "      <td>19.6</td>\n",
       "      <td>1.0</td>\n",
       "      <td>0</td>\n",
       "    </tr>\n",
       "    <tr>\n",
       "      <th>16</th>\n",
       "      <td>2020-01-01</td>\n",
       "      <td>249</td>\n",
       "      <td>419</td>\n",
       "      <td>173</td>\n",
       "      <td>2020</td>\n",
       "      <td>1</td>\n",
       "      <td>1</td>\n",
       "      <td>0</td>\n",
       "      <td>4</td>\n",
       "      <td>Manhattan</td>\n",
       "      <td>West Village</td>\n",
       "      <td>5.1</td>\n",
       "      <td>58.68</td>\n",
       "      <td>0.0</td>\n",
       "      <td>0.0</td>\n",
       "      <td>19.6</td>\n",
       "      <td>1.0</td>\n",
       "      <td>0</td>\n",
       "    </tr>\n",
       "    <tr>\n",
       "      <th>19</th>\n",
       "      <td>2020-01-01</td>\n",
       "      <td>246</td>\n",
       "      <td>214</td>\n",
       "      <td>152</td>\n",
       "      <td>2020</td>\n",
       "      <td>1</td>\n",
       "      <td>1</td>\n",
       "      <td>0</td>\n",
       "      <td>4</td>\n",
       "      <td>Manhattan</td>\n",
       "      <td>West Chelsea/Hudson Yards</td>\n",
       "      <td>5.1</td>\n",
       "      <td>58.68</td>\n",
       "      <td>0.0</td>\n",
       "      <td>0.0</td>\n",
       "      <td>19.6</td>\n",
       "      <td>1.0</td>\n",
       "      <td>0</td>\n",
       "    </tr>\n",
       "  </tbody>\n",
       "</table>\n",
       "</div>"
      ],
      "text/plain": [
       "    timestamp  LocationID  Pick_Trips_count  Drop_Trips_count  Year  Month  \\\n",
       "2  2020-01-01         263               390               301  2020      1   \n",
       "3  2020-01-01         262               149               236  2020      1   \n",
       "4  2020-01-01         261                51                62  2020      1   \n",
       "16 2020-01-01         249               419               173  2020      1   \n",
       "19 2020-01-01         246               214               152  2020      1   \n",
       "\n",
       "    DayOfMonth  Hour  dayofweek    Borough                       Zone  temp  \\\n",
       "2            1     0          4  Manhattan             Yorkville West   5.1   \n",
       "3            1     0          4  Manhattan             Yorkville East   5.1   \n",
       "4            1     0          4  Manhattan         World Trade Center   5.1   \n",
       "16           1     0          4  Manhattan               West Village   5.1   \n",
       "19           1     0          4  Manhattan  West Chelsea/Hudson Yards   5.1   \n",
       "\n",
       "    humidity  precip  snow  windspeed  Holiday  IsWeekend  \n",
       "2      58.68     0.0   0.0       19.6      1.0          0  \n",
       "3      58.68     0.0   0.0       19.6      1.0          0  \n",
       "4      58.68     0.0   0.0       19.6      1.0          0  \n",
       "16     58.68     0.0   0.0       19.6      1.0          0  \n",
       "19     58.68     0.0   0.0       19.6      1.0          0  "
      ]
     },
     "execution_count": 82,
     "metadata": {},
     "output_type": "execute_result"
    }
   ],
   "source": [
    "Manhattan.head()"
   ]
  },
  {
   "cell_type": "code",
   "execution_count": 83,
   "id": "2754ee18",
   "metadata": {},
   "outputs": [
    {
     "name": "stdout",
     "output_type": "stream",
     "text": [
      "<class 'pandas.core.frame.DataFrame'>\n",
      "Int64Index: 1368408 entries, 2 to 5348204\n",
      "Data columns (total 18 columns):\n",
      " #   Column            Non-Null Count    Dtype         \n",
      "---  ------            --------------    -----         \n",
      " 0   timestamp         1368408 non-null  datetime64[ns]\n",
      " 1   LocationID        1368408 non-null  int32         \n",
      " 2   Pick_Trips_count  1368408 non-null  int64         \n",
      " 3   Drop_Trips_count  1368408 non-null  int64         \n",
      " 4   Year              1368408 non-null  int32         \n",
      " 5   Month             1368408 non-null  int32         \n",
      " 6   DayOfMonth        1368408 non-null  int32         \n",
      " 7   Hour              1368408 non-null  int32         \n",
      " 8   dayofweek         1368408 non-null  int32         \n",
      " 9   Borough           1368408 non-null  object        \n",
      " 10  Zone              1368408 non-null  object        \n",
      " 11  temp              1368408 non-null  float64       \n",
      " 12  humidity          1368408 non-null  float64       \n",
      " 13  precip            1368408 non-null  float64       \n",
      " 14  snow              1368408 non-null  float64       \n",
      " 15  windspeed         1368408 non-null  float64       \n",
      " 16  Holiday           46632 non-null    float64       \n",
      " 17  IsWeekend         1368408 non-null  int64         \n",
      "dtypes: datetime64[ns](1), float64(6), int32(6), int64(3), object(2)\n",
      "memory usage: 167.0+ MB\n"
     ]
    }
   ],
   "source": [
    "Manhattan.info()"
   ]
  },
  {
   "cell_type": "markdown",
   "id": "c0bdc72a",
   "metadata": {},
   "source": [
    "__We have nan values in Holiday column, since any holiday date will be represented by 1, and if there is no holiday it should be zero__ so we will vill this nan values with zero."
   ]
  },
  {
   "cell_type": "code",
   "execution_count": 84,
   "id": "240984cf",
   "metadata": {},
   "outputs": [
    {
     "name": "stderr",
     "output_type": "stream",
     "text": [
      "C:\\Users\\agssh\\AppData\\Local\\Temp\\ipykernel_16628\\1426039132.py:1: SettingWithCopyWarning: \n",
      "A value is trying to be set on a copy of a slice from a DataFrame.\n",
      "Try using .loc[row_indexer,col_indexer] = value instead\n",
      "\n",
      "See the caveats in the documentation: https://pandas.pydata.org/pandas-docs/stable/user_guide/indexing.html#returning-a-view-versus-a-copy\n",
      "  Manhattan['Holiday']=Manhattan['Holiday'].fillna(0)\n"
     ]
    }
   ],
   "source": [
    "Manhattan['Holiday']=Manhattan['Holiday'].fillna(0)"
   ]
  },
  {
   "cell_type": "markdown",
   "id": "31cfbe6f",
   "metadata": {},
   "source": [
    "## Save Manhattan dataframe"
   ]
  },
  {
   "cell_type": "code",
   "execution_count": 91,
   "id": "b064f9f8",
   "metadata": {},
   "outputs": [],
   "source": [
    "Manhattan = Manhattan.reset_index(drop=True)"
   ]
  },
  {
   "cell_type": "code",
   "execution_count": null,
   "id": "ca161811",
   "metadata": {},
   "outputs": [],
   "source": [
    "Manhattan.to_csv('Manhattan.csv')"
   ]
  },
  {
   "cell_type": "code",
   "execution_count": 85,
   "id": "2a70f3e7",
   "metadata": {},
   "outputs": [
    {
     "name": "stdout",
     "output_type": "stream",
     "text": [
      "number of locations in Manhattan : 67\n"
     ]
    }
   ],
   "source": [
    "print('number of locations in Manhattan :',Manhattan['Zone'].nunique())"
   ]
  },
  {
   "cell_type": "markdown",
   "id": "6d44b929",
   "metadata": {},
   "source": [
    "__So we should have `1368408` rows :(365 X 24 X 67) rows for 2020, (366 X 24 X 67) rows for 2021, (120 X 24 X 67) rows for the first 4 months of 2022__"
   ]
  },
  {
   "cell_type": "code",
   "execution_count": 86,
   "id": "39c72114",
   "metadata": {},
   "outputs": [
    {
     "data": {
      "text/plain": [
       "1368408"
      ]
     },
     "execution_count": 86,
     "metadata": {},
     "output_type": "execute_result"
    }
   ],
   "source": [
    "len(Manhattan)"
   ]
  },
  {
   "cell_type": "markdown",
   "id": "fed4f86a",
   "metadata": {},
   "source": [
    "## Correlation analysis\n",
    "\n",
    "__In this step, we will see which features are highly correlated with the pick-up trips__"
   ]
  },
  {
   "cell_type": "code",
   "execution_count": 69,
   "id": "244198ee",
   "metadata": {},
   "outputs": [
    {
     "data": {
      "text/plain": [
       "<AxesSubplot:>"
      ]
     },
     "execution_count": 69,
     "metadata": {},
     "output_type": "execute_result"
    },
    {
     "data": {
      "image/png": "[encoded data removed]",
      "text/plain": [
       "<Figure size 1000x600 with 1 Axes>"
      ]
     },
     "metadata": {},
     "output_type": "display_data"
    }
   ],
   "source": [
    "Manhattan.corr()['Pick_Trips_count'].sort_values().drop('Pick_Trips_count').plot(kind='bar',figsize=(10,6))"
   ]
  },
  {
   "cell_type": "code",
   "execution_count": 70,
   "id": "d4961e86",
   "metadata": {},
   "outputs": [
    {
     "data": {
      "text/plain": [
       "<AxesSubplot:>"
      ]
     },
     "execution_count": 70,
     "metadata": {},
     "output_type": "execute_result"
    },
    {
     "data": {
      "image/png": "[encoded data removed]",
      "text/plain": [
       "<Figure size 600x600 with 2 Axes>"
      ]
     },
     "metadata": {},
     "output_type": "display_data"
    }
   ],
   "source": [
    "plt.figure(figsize=(6, 6))\n",
    "\n",
    "sns.heatmap(Manhattan.corr(), linewidth=0.3, linecolor='black', cmap=\"YlGnBu\")"
   ]
  },
  {
   "cell_type": "markdown",
   "id": "e335c744",
   "metadata": {},
   "source": [
    "## Ploting the top location on map"
   ]
  },
  {
   "cell_type": "markdown",
   "id": "18fed3e8",
   "metadata": {},
   "source": [
    "__We will plot The plot Manhattan zones ordered by their average number of pickups over the year__\n",
    "\n",
    "In order to do that we will need to load taxi zone shp file and merge it the average zone trips count"
   ]
  },
  {
   "cell_type": "code",
   "execution_count": 87,
   "id": "b8e606cb",
   "metadata": {},
   "outputs": [],
   "source": [
    "# reading the shp file which contain the geometry of New York city\n",
    "df_shape = gpd.read_file('taxi_zones/taxi_zones.shp').to_crs(epsg=3785)"
   ]
  },
  {
   "cell_type": "code",
   "execution_count": 88,
   "id": "1017ce50",
   "metadata": {},
   "outputs": [],
   "source": [
    "# Dropping the unnecessary columns\n",
    "df_shape = df_shape.drop(['Shape_Area', 'Shape_Leng', 'OBJECTID'], axis=1)\n",
    "# filtering Manhatten area\n",
    "df_shape = df_shape[df_shape['borough'] == 'Manhattan']"
   ]
  },
  {
   "cell_type": "code",
   "execution_count": 89,
   "id": "f212a74f",
   "metadata": {},
   "outputs": [],
   "source": [
    "# Get the average 'pickups' by 'LocationID' and cast the number to integer\n",
    "Manhattan_counts= Manhattan[['LocationID','Pick_Trips_count','Drop_Trips_count']]"
   ]
  },
  {
   "cell_type": "code",
   "execution_count": 90,
   "id": "2bd3b5ed",
   "metadata": {},
   "outputs": [],
   "source": [
    "# Average Pick-up location\n",
    "average_pick_location= Manhattan_counts.groupby(\"LocationID\")[\"Pick_Trips_count\"].mean().sort_values(ascending=False).reset_index()"
   ]
  },
  {
   "cell_type": "code",
   "execution_count": 91,
   "id": "d8b4b0f5",
   "metadata": {},
   "outputs": [],
   "source": [
    "# Rounding the average to integer\n",
    "average_pick_location=average_pick_location.astype({\"Pick_Trips_count\": int})"
   ]
  },
  {
   "cell_type": "code",
   "execution_count": 92,
   "id": "99654cd1",
   "metadata": {},
   "outputs": [],
   "source": [
    "# Average Drop_off location\n",
    "average_drop_location= Manhattan_counts.groupby(\"LocationID\")[\"Drop_Trips_count\"].mean().sort_values(ascending=False).reset_index()"
   ]
  },
  {
   "cell_type": "code",
   "execution_count": 93,
   "id": "0c9f7d23",
   "metadata": {},
   "outputs": [],
   "source": [
    "# Rounding the average to integer\n",
    "average_drop_location=average_drop_location.astype({\"Drop_Trips_count\": int})"
   ]
  },
  {
   "cell_type": "code",
   "execution_count": 94,
   "id": "8a5e11c8",
   "metadata": {},
   "outputs": [],
   "source": [
    "Average_trips=average_pick_location.merge(average_drop_location, on='LocationID', how='left')"
   ]
  },
  {
   "cell_type": "code",
   "execution_count": 95,
   "id": "7e0e3905",
   "metadata": {},
   "outputs": [
    {
     "data": {
      "text/html": [
       "<div>\n",
       "<style scoped>\n",
       "    .dataframe tbody tr th:only-of-type {\n",
       "        vertical-align: middle;\n",
       "    }\n",
       "\n",
       "    .dataframe tbody tr th {\n",
       "        vertical-align: top;\n",
       "    }\n",
       "\n",
       "    .dataframe thead th {\n",
       "        text-align: right;\n",
       "    }\n",
       "</style>\n",
       "<table border=\"1\" class=\"dataframe\">\n",
       "  <thead>\n",
       "    <tr style=\"text-align: right;\">\n",
       "      <th></th>\n",
       "      <th>LocationID</th>\n",
       "      <th>Pick_Trips_count</th>\n",
       "      <th>Drop_Trips_count</th>\n",
       "    </tr>\n",
       "  </thead>\n",
       "  <tbody>\n",
       "    <tr>\n",
       "      <th>0</th>\n",
       "      <td>237</td>\n",
       "      <td>160</td>\n",
       "      <td>140</td>\n",
       "    </tr>\n",
       "    <tr>\n",
       "      <th>1</th>\n",
       "      <td>236</td>\n",
       "      <td>149</td>\n",
       "      <td>152</td>\n",
       "    </tr>\n",
       "    <tr>\n",
       "      <th>2</th>\n",
       "      <td>161</td>\n",
       "      <td>122</td>\n",
       "      <td>110</td>\n",
       "    </tr>\n",
       "    <tr>\n",
       "      <th>3</th>\n",
       "      <td>186</td>\n",
       "      <td>111</td>\n",
       "      <td>72</td>\n",
       "    </tr>\n",
       "    <tr>\n",
       "      <th>4</th>\n",
       "      <td>162</td>\n",
       "      <td>106</td>\n",
       "      <td>85</td>\n",
       "    </tr>\n",
       "    <tr>\n",
       "      <th>...</th>\n",
       "      <td>...</td>\n",
       "      <td>...</td>\n",
       "      <td>...</td>\n",
       "    </tr>\n",
       "    <tr>\n",
       "      <th>62</th>\n",
       "      <td>202</td>\n",
       "      <td>0</td>\n",
       "      <td>1</td>\n",
       "    </tr>\n",
       "    <tr>\n",
       "      <th>63</th>\n",
       "      <td>153</td>\n",
       "      <td>0</td>\n",
       "      <td>0</td>\n",
       "    </tr>\n",
       "    <tr>\n",
       "      <th>64</th>\n",
       "      <td>128</td>\n",
       "      <td>0</td>\n",
       "      <td>0</td>\n",
       "    </tr>\n",
       "    <tr>\n",
       "      <th>65</th>\n",
       "      <td>120</td>\n",
       "      <td>0</td>\n",
       "      <td>0</td>\n",
       "    </tr>\n",
       "    <tr>\n",
       "      <th>66</th>\n",
       "      <td>105</td>\n",
       "      <td>0</td>\n",
       "      <td>0</td>\n",
       "    </tr>\n",
       "  </tbody>\n",
       "</table>\n",
       "<p>67 rows × 3 columns</p>\n",
       "</div>"
      ],
      "text/plain": [
       "    LocationID  Pick_Trips_count  Drop_Trips_count\n",
       "0          237               160               140\n",
       "1          236               149               152\n",
       "2          161               122               110\n",
       "3          186               111                72\n",
       "4          162               106                85\n",
       "..         ...               ...               ...\n",
       "62         202                 0                 1\n",
       "63         153                 0                 0\n",
       "64         128                 0                 0\n",
       "65         120                 0                 0\n",
       "66         105                 0                 0\n",
       "\n",
       "[67 rows x 3 columns]"
      ]
     },
     "execution_count": 95,
     "metadata": {},
     "output_type": "execute_result"
    }
   ],
   "source": [
    "Average_trips"
   ]
  },
  {
   "cell_type": "code",
   "execution_count": 96,
   "id": "a1f5203c",
   "metadata": {},
   "outputs": [],
   "source": [
    "# Merge 'pickups' with geometry\n",
    "df_shape_merged = Average_trips.merge(df_shape, left_on='LocationID', right_on='LocationID')"
   ]
  },
  {
   "cell_type": "code",
   "execution_count": 97,
   "id": "0f599658",
   "metadata": {},
   "outputs": [
    {
     "data": {
      "text/html": [
       "<div>\n",
       "<style scoped>\n",
       "    .dataframe tbody tr th:only-of-type {\n",
       "        vertical-align: middle;\n",
       "    }\n",
       "\n",
       "    .dataframe tbody tr th {\n",
       "        vertical-align: top;\n",
       "    }\n",
       "\n",
       "    .dataframe thead th {\n",
       "        text-align: right;\n",
       "    }\n",
       "</style>\n",
       "<table border=\"1\" class=\"dataframe\">\n",
       "  <thead>\n",
       "    <tr style=\"text-align: right;\">\n",
       "      <th></th>\n",
       "      <th>LocationID</th>\n",
       "      <th>Pick_Trips_count</th>\n",
       "      <th>Drop_Trips_count</th>\n",
       "      <th>zone</th>\n",
       "      <th>borough</th>\n",
       "      <th>geometry</th>\n",
       "    </tr>\n",
       "  </thead>\n",
       "  <tbody>\n",
       "    <tr>\n",
       "      <th>0</th>\n",
       "      <td>237</td>\n",
       "      <td>160</td>\n",
       "      <td>140</td>\n",
       "      <td>Upper East Side South</td>\n",
       "      <td>Manhattan</td>\n",
       "      <td>POLYGON ((-8233871.646 4977326.198, -8233922.3...</td>\n",
       "    </tr>\n",
       "    <tr>\n",
       "      <th>1</th>\n",
       "      <td>236</td>\n",
       "      <td>149</td>\n",
       "      <td>152</td>\n",
       "      <td>Upper East Side North</td>\n",
       "      <td>Manhattan</td>\n",
       "      <td>POLYGON ((-8232943.947 4979004.836, -8232995.3...</td>\n",
       "    </tr>\n",
       "    <tr>\n",
       "      <th>2</th>\n",
       "      <td>161</td>\n",
       "      <td>122</td>\n",
       "      <td>110</td>\n",
       "      <td>Midtown Center</td>\n",
       "      <td>Manhattan</td>\n",
       "      <td>POLYGON ((-8234897.601 4976315.150, -8234949.2...</td>\n",
       "    </tr>\n",
       "    <tr>\n",
       "      <th>3</th>\n",
       "      <td>186</td>\n",
       "      <td>111</td>\n",
       "      <td>72</td>\n",
       "      <td>Penn Station/Madison Sq West</td>\n",
       "      <td>Manhattan</td>\n",
       "      <td>POLYGON ((-8236636.918 4974863.512, -8236687.0...</td>\n",
       "    </tr>\n",
       "    <tr>\n",
       "      <th>4</th>\n",
       "      <td>162</td>\n",
       "      <td>106</td>\n",
       "      <td>85</td>\n",
       "      <td>Midtown East</td>\n",
       "      <td>Manhattan</td>\n",
       "      <td>POLYGON ((-8234438.215 4976299.518, -8234489.4...</td>\n",
       "    </tr>\n",
       "    <tr>\n",
       "      <th>...</th>\n",
       "      <td>...</td>\n",
       "      <td>...</td>\n",
       "      <td>...</td>\n",
       "      <td>...</td>\n",
       "      <td>...</td>\n",
       "      <td>...</td>\n",
       "    </tr>\n",
       "    <tr>\n",
       "      <th>61</th>\n",
       "      <td>194</td>\n",
       "      <td>0</td>\n",
       "      <td>0</td>\n",
       "      <td>Randalls Island</td>\n",
       "      <td>Manhattan</td>\n",
       "      <td>POLYGON ((-8228335.846 4982545.868, -8228230.7...</td>\n",
       "    </tr>\n",
       "    <tr>\n",
       "      <th>62</th>\n",
       "      <td>202</td>\n",
       "      <td>0</td>\n",
       "      <td>1</td>\n",
       "      <td>Roosevelt Island</td>\n",
       "      <td>Manhattan</td>\n",
       "      <td>POLYGON ((-8231163.561 4978335.590, -8231249.0...</td>\n",
       "    </tr>\n",
       "    <tr>\n",
       "      <th>63</th>\n",
       "      <td>153</td>\n",
       "      <td>0</td>\n",
       "      <td>0</td>\n",
       "      <td>Marble Hill</td>\n",
       "      <td>Manhattan</td>\n",
       "      <td>POLYGON ((-8227252.349 4994026.992, -8227281.2...</td>\n",
       "    </tr>\n",
       "    <tr>\n",
       "      <th>64</th>\n",
       "      <td>128</td>\n",
       "      <td>0</td>\n",
       "      <td>0</td>\n",
       "      <td>Inwood Hill Park</td>\n",
       "      <td>Manhattan</td>\n",
       "      <td>MULTIPOLYGON (((-8229137.222 4994495.628, -822...</td>\n",
       "    </tr>\n",
       "    <tr>\n",
       "      <th>65</th>\n",
       "      <td>120</td>\n",
       "      <td>0</td>\n",
       "      <td>0</td>\n",
       "      <td>Highbridge Park</td>\n",
       "      <td>Manhattan</td>\n",
       "      <td>POLYGON ((-8229065.652 4991544.423, -8229051.6...</td>\n",
       "    </tr>\n",
       "  </tbody>\n",
       "</table>\n",
       "<p>66 rows × 6 columns</p>\n",
       "</div>"
      ],
      "text/plain": [
       "    LocationID  Pick_Trips_count  Drop_Trips_count  \\\n",
       "0          237               160               140   \n",
       "1          236               149               152   \n",
       "2          161               122               110   \n",
       "3          186               111                72   \n",
       "4          162               106                85   \n",
       "..         ...               ...               ...   \n",
       "61         194                 0                 0   \n",
       "62         202                 0                 1   \n",
       "63         153                 0                 0   \n",
       "64         128                 0                 0   \n",
       "65         120                 0                 0   \n",
       "\n",
       "                            zone    borough  \\\n",
       "0          Upper East Side South  Manhattan   \n",
       "1          Upper East Side North  Manhattan   \n",
       "2                 Midtown Center  Manhattan   \n",
       "3   Penn Station/Madison Sq West  Manhattan   \n",
       "4                   Midtown East  Manhattan   \n",
       "..                           ...        ...   \n",
       "61               Randalls Island  Manhattan   \n",
       "62              Roosevelt Island  Manhattan   \n",
       "63                   Marble Hill  Manhattan   \n",
       "64              Inwood Hill Park  Manhattan   \n",
       "65               Highbridge Park  Manhattan   \n",
       "\n",
       "                                             geometry  \n",
       "0   POLYGON ((-8233871.646 4977326.198, -8233922.3...  \n",
       "1   POLYGON ((-8232943.947 4979004.836, -8232995.3...  \n",
       "2   POLYGON ((-8234897.601 4976315.150, -8234949.2...  \n",
       "3   POLYGON ((-8236636.918 4974863.512, -8236687.0...  \n",
       "4   POLYGON ((-8234438.215 4976299.518, -8234489.4...  \n",
       "..                                                ...  \n",
       "61  POLYGON ((-8228335.846 4982545.868, -8228230.7...  \n",
       "62  POLYGON ((-8231163.561 4978335.590, -8231249.0...  \n",
       "63  POLYGON ((-8227252.349 4994026.992, -8227281.2...  \n",
       "64  MULTIPOLYGON (((-8229137.222 4994495.628, -822...  \n",
       "65  POLYGON ((-8229065.652 4991544.423, -8229051.6...  \n",
       "\n",
       "[66 rows x 6 columns]"
      ]
     },
     "execution_count": 97,
     "metadata": {},
     "output_type": "execute_result"
    }
   ],
   "source": [
    "df_shape_merged"
   ]
  },
  {
   "cell_type": "markdown",
   "id": "dc481718",
   "metadata": {},
   "source": [
    "### Top 10 zones per average trips bar chart"
   ]
  },
  {
   "cell_type": "code",
   "execution_count": 103,
   "id": "f7cc50ec",
   "metadata": {},
   "outputs": [
    {
     "name": "stderr",
     "output_type": "stream",
     "text": [
      "C:\\Users\\agssh\\AppData\\Local\\Temp\\ipykernel_16628\\1629287722.py:16: MatplotlibDeprecationWarning: The 'b' parameter of grid() has been renamed 'visible' since Matplotlib 3.5; support for the old name will be dropped two minor releases later.\n",
      "  ax.grid(b = True, color ='grey',\n"
     ]
    },
    {
     "data": {
      "image/png": "[encoded data removed]",
      "text/plain": [
       "<Figure size 1600x900 with 1 Axes>"
      ]
     },
     "metadata": {},
     "output_type": "display_data"
    }
   ],
   "source": [
    "fig, ax = plt.subplots(figsize =(16, 9))\n",
    "ax.barh(df_shape_merged['zone'][0:10], df_shape_merged['Pick_Trips_count'][0:10])\n",
    "\n",
    "# Remove axes splines\n",
    "for s in ['top', 'bottom', 'left', 'right']:\n",
    "    ax.spines[s].set_visible(False)\n",
    " \n",
    "# Remove x, y Ticks\n",
    "ax.xaxis.set_ticks_position('none')\n",
    "ax.yaxis.set_ticks_position('none')\n",
    "# Add padding between axes and labels\n",
    "ax.xaxis.set_tick_params(pad = 5)\n",
    "ax.yaxis.set_tick_params(pad = 10)\n",
    " \n",
    "# Add x, y gridlines\n",
    "ax.grid(b = True, color ='grey',\n",
    "        linestyle ='-.', linewidth = 0.5,\n",
    "        alpha = 0.2)\n",
    "\n",
    "# Show top values\n",
    "ax.invert_yaxis()\n",
    " \n",
    "# Add annotation to bars\n",
    "for i in ax.patches:\n",
    "    plt.text(i.get_width()+0.2, i.get_y()+0.5,\n",
    "             str(round((i.get_width()), 2)),\n",
    "             fontsize = 10, fontweight ='bold',\n",
    "             color ='grey')\n",
    " \n",
    "# Add Plot Title\n",
    "ax.set_title('Top 10 Zones per average Pick_Trips_count',\n",
    "             loc ='left', )\n",
    "\n",
    " \n",
    "# Show Plot\n",
    "plt.show()"
   ]
  },
  {
   "cell_type": "code",
   "execution_count": 104,
   "id": "c655aa83",
   "metadata": {},
   "outputs": [],
   "source": [
    "# creating Geo-Pandas dataframe\n",
    "df=gpd.GeoDataFrame(df_shape_merged, geometry=df_shape_merged['geometry'], crs=\"EPSG:4326\")"
   ]
  },
  {
   "cell_type": "markdown",
   "id": "15f596ca",
   "metadata": {},
   "source": [
    "### Ploting the Top zones per average trips on Map"
   ]
  },
  {
   "cell_type": "code",
   "execution_count": 105,
   "id": "decc99e8",
   "metadata": {},
   "outputs": [
    {
     "data": {
      "image/png": "[encoded data removed]",
      "text/plain": [
       "<Figure size 800x800 with 4 Axes>"
      ]
     },
     "metadata": {},
     "output_type": "display_data"
    }
   ],
   "source": [
    "fig, (ax1,ax2) = plt.subplots(1,2, figsize=(8,8))\n",
    "ax1.set_title(\"Average Pick-up locations\")\n",
    "df.plot(column='Pick_Trips_count', ax=ax1, legend=True)\n",
    "ax1.set_axis_off()\n",
    "\n",
    "ax2.set_title(\"Average Drop-off locations\")\n",
    "df.plot(column='Drop_Trips_count', ax=ax2, legend=True)\n",
    "ax2.set_axis_off()"
   ]
  },
  {
   "cell_type": "code",
   "execution_count": null,
   "id": "6b3acf82",
   "metadata": {},
   "outputs": [],
   "source": []
  }
 ],
 "metadata": {
  "kernelspec": {
   "display_name": "Python 3 (ipykernel)",
   "language": "python",
   "name": "python3"
  },
  "language_info": {
   "codemirror_mode": {
    "name": "ipython",
    "version": 3
   },
   "file_extension": ".py",
   "mimetype": "text/x-python",
   "name": "python",
   "nbconvert_exporter": "python",
   "pygments_lexer": "ipython3",
   "version": "3.10.6"
  }
 },
 "nbformat": 4,
 "nbformat_minor": 5
}
